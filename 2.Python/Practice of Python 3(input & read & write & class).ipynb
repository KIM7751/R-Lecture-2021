{
 "cells": [
  {
   "cell_type": "code",
   "execution_count": 13,
   "id": "89573f77",
   "metadata": {},
   "outputs": [
    {
     "name": "stdout",
     "output_type": "stream",
     "text": [
      "['오늘\\n', '점심\\n', '뭐먹지\\n', '너무배고픈데\\n', '국수?\\n', '모르겠다']\n"
     ]
    }
   ],
   "source": [
    "### \"r\" 읽기모드\n",
    "## readlines(해당 파일의 모든 줄을 읽어 리스트 처리함)\n",
    "f = open(\"c:/workspace/r/2.python/테스트폴더/복습.txt\",\"r\")\n",
    "# python은 ansi 코드를 호환하기 때문에 1. 메모장 코딩을 ansi로 바꾸거나 2. open시에 \"utf-8\"을 넣어서 열어준다\n",
    "lines = f.readlines()\n",
    "f.close()              # 열고 닫고는 잘해야함.\n",
    "print(lines)"
   ]
  },
  {
   "cell_type": "code",
   "execution_count": 14,
   "id": "3e4a2d22",
   "metadata": {},
   "outputs": [
    {
     "name": "stdout",
     "output_type": "stream",
     "text": [
      "['오늘 ', '점심 ', '뭐먹지 ', '너무배고픈데 ', '국수? ', '모르겠다']\n"
     ]
    }
   ],
   "source": [
    "# 줄바꿈 없애기 및 리스트 처리\n",
    "list1=[]                                # 반복문 for 사용을 위한 빈 리스트\n",
    "for item in lines:                      # 반복할 횟수는 리스트안의 요소만큼\n",
    "    list1.append(item.replace(\"\\n\",\" \"))# 리스트에.추가할거야(요소를.바꿀거야(\"\\n\"에서\"\" 공백으로))\n",
    "print(list1)"
   ]
  },
  {
   "cell_type": "code",
   "execution_count": 18,
   "id": "f5f2d723",
   "metadata": {},
   "outputs": [
    {
     "name": "stdout",
     "output_type": "stream",
     "text": [
      "오늘\n",
      "점심\n",
      "뭐먹지\n",
      "너무배고픈데\n",
      "국수?\n",
      "모르겠다\n"
     ]
    }
   ],
   "source": [
    "## read\n",
    "f = open(\"c:/workspace/r/2.python/테스트폴더/복습.txt\",\"r\")\n",
    "page = f.read()\n",
    "f.close()\n",
    "print(page)                              # 담백하게 요소들만 추출"
   ]
  },
  {
   "cell_type": "code",
   "execution_count": 21,
   "id": "00dd4647",
   "metadata": {},
   "outputs": [
    {
     "name": "stdout",
     "output_type": "stream",
     "text": [
      "['오늘', '점심', '뭐먹지', '너무배고픈데', '국수?', '모르겠다']\n"
     ]
    }
   ],
   "source": [
    "# read 요소들 리스트 처리하기\n",
    "read_list = page.split(\"\\n\")  #split은 문자열을 나눠주는 역할인데 \"리스트 처리\"를 해서 나눠줌\n",
    "print(read_list)"
   ]
  },
  {
   "cell_type": "code",
   "execution_count": 32,
   "id": "bd3142f8",
   "metadata": {},
   "outputs": [],
   "source": [
    "### \"w\" 쓰기모드 (기존에 있던 파일들의 내용을 지우고 새로운 내용을 담음)\n",
    "f = open(\"c:/workspace/r/2.python/테스트폴더/복습.txt\",\"w\")\n",
    "f.write(\"조금 있으면 밥먹는다\")\n",
    "f.close()"
   ]
  },
  {
   "cell_type": "code",
   "execution_count": 36,
   "id": "118c899c",
   "metadata": {},
   "outputs": [],
   "source": [
    "### \"a\" 추가모드 (기존에 있던 파일에 내용을 추가하는 것)\n",
    "f = open(\"c:/workspace/r/2.python/테스트폴더/복습.txt\",\"a\")\n",
    "f.write(\"\\n국수 먹으러 가자\")\n",
    "f.close()"
   ]
  },
  {
   "cell_type": "code",
   "execution_count": 49,
   "id": "3eb646ff",
   "metadata": {},
   "outputs": [
    {
     "name": "stdout",
     "output_type": "stream",
     "text": [
      "첫 번째 숫자를 넣어주세요 5\n",
      "두 번째 숫자를 넣어주세요 5\n",
      "두 수의 총합은 10 입니다\n"
     ]
    }
   ],
   "source": [
    "# P179 연습문제 input~\n",
    "# 3. 다음은 숫자 두 개를 입력하면 더해주는 프로그램이다.\n",
    "input1 = input(\"첫 번째 숫자를 넣어주세요 \")\n",
    "input2 = input(\"두 번째 숫자를 넣어주세요 \")\n",
    "total = int(input1) + int(input2)            # input()을 쓰는 순간부터 문자열이기 때문에  \n",
    "                                             # int()를 사용해 숫자로 바꿔줘야함.\n",
    "print(\"두 수의 총합은 %d 입니다\" % total)    # %s 문자열 / %d 정수"
   ]
  },
  {
   "cell_type": "code",
   "execution_count": 59,
   "id": "4c86fadd",
   "metadata": {},
   "outputs": [
    {
     "name": "stdout",
     "output_type": "stream",
     "text": [
      "youneedpython\n",
      "youneedpython\n",
      "you need python\n",
      "youneedpython\n",
      "you need python\n"
     ]
    }
   ],
   "source": [
    "# 4. 출력결과가 다른 것\n",
    "print('you' 'need' 'python') # 쉼표 없이 띄어쓰기만 진행\n",
    "print('you'+'need'+'python') # 쉼표 없이 더하기로 진행\n",
    "print('you','need','python') ### 쉼표가 사용했을때 비로소 띄어쓰기가 됨.\n",
    "print(\"\".join(['you','need','python'])) # 리스트 안에 원소들을 공백없이 묶는다.\n",
    "print(\" \".join(['you','need','python'])) # 리스트 안에 원소들을 공백으로 묶는다."
   ]
  },
  {
   "cell_type": "code",
   "execution_count": 65,
   "id": "cf63c71d",
   "metadata": {},
   "outputs": [
    {
     "name": "stdout",
     "output_type": "stream",
     "text": [
      "저장할 내용을 입력하세요 just do it\n"
     ]
    }
   ],
   "source": [
    "# 6\n",
    "user_input = input(\"저장할 내용을 입력하세요 \")              # input값을 만들어줘\n",
    "f = open(\"c:/workspace/r/2.python/테스트폴더/복습.txt\", \"a\") # 기존에 있던 파일을 지우지 않고 추가하기위해 \"a\"\n",
    "f.write(user_input)                                          # 위에 만든 input을 넣어\n",
    "f.write(\"\\n\")                                                # 줄바꿈도 넣자\n",
    "f.close()"
   ]
  },
  {
   "cell_type": "code",
   "execution_count": 103,
   "id": "2b071929",
   "metadata": {},
   "outputs": [
    {
     "name": "stdout",
     "output_type": "stream",
     "text": [
      "life is too short\n",
      "yoy need python\n"
     ]
    }
   ],
   "source": [
    "# 7 문자열 내용 바꾸기\n",
    "f = open(\"c:/workspace/r/2.python/테스트폴더/복습.txt\",\"r\") # 우선 파일 내용을 보기위해서 열어보자\n",
    "body = f.read()\n",
    "f.close()\n",
    "print(body)\n",
    "\n",
    "body = \"life is too short\\nyoy need python\"\n",
    "\n",
    "f = open(\"c:/workspace/r/2.python/테스트폴더/복습.txt\",\"w\") # read는 오직 읽기 모드에서만!\n",
    "f.write(body)\n",
    "f.close()\n"
   ]
  },
  {
   "cell_type": "code",
   "execution_count": 104,
   "id": "8f5676a0",
   "metadata": {},
   "outputs": [],
   "source": [
    "# 객체에 대해서 알아보기\n",
    "a = \"egoing\"             # 1. 문자열이라는 데이터 타입 2. \"문자열\"임과 동시에 \"객체\"\n",
    "b = [\"egoing\",\"k8890\"]   # 1. 배열이라는   데이터 타입 2. \"배열\"  임과 동시에 \"객체\" \n",
    "\n",
    "# 생성자 = class로 부터 instans가 생성될 때 자동으로 실행되도록 약속된 메소드(=함수)\n",
    "# 메소드의 이름은 약속 돼있음.\n",
    "# 다시 말해 instans가 \"생성\"될 때 자동으로 \"__init__\"가 실행되고 우리는 instans가 \"실행\" 될 때 이를 기대하는 코드를\n",
    "# 바로 \"__init__\" 본체에 넣어두면 instans가 실행된다는 말."
   ]
  },
  {
   "cell_type": "code",
   "execution_count": 106,
   "id": "62e77401",
   "metadata": {},
   "outputs": [
    {
     "name": "stdout",
     "output_type": "stream",
     "text": [
      "10 10\n",
      "30 20\n"
     ]
    }
   ],
   "source": [
    "### class                                 # 클래스를 적어놓고 쓸 이름을 \"Cal\"로 지정\n",
    "                                          # 괄호를 해야하며 object 입력   \n",
    "class Cal(object):                        # 생성자 __init__을 놓고(self 매개변수, 인스턴스 변수 정의 입력)\n",
    "    def __init__(self, v1, v2):                       \n",
    "         print(v1, v2)\n",
    "    \n",
    "                         ## instans 만들기\n",
    "c1 = Cal(10,10)          # instans \"c1\"이라 지정 / class \"Cal\"을 복제한 instans / (연산 대상 = 변수 입력)    \n",
    "# print(c1.add())          # c1 instans에 함수 add를 사용해 c1 변수(=data)를 출력함. \n",
    "# print(c1.subtract())\n",
    "\n",
    "c2 = Cal(30,20)          # instans \"c1\"이라 지정 / class \"Cal\"을 복제한 instans / (연산 대상 = 변수 입력)\n",
    "# print(c2.add())\n",
    "# print(c2.subtract)     \n",
    "\n",
    "# 1. c1,c2가 각각 실행되면 \"Cal\"이라는 이름에 class가 실행이 되고\n",
    "# 2. 생성자 __init__의 메소드가 자동으로 실행이 되어 초기화를 시켜주고 \n",
    "# 3. 초기화를 할때 c1의 입력값을 10,10이  메소드의 2,3번째 매개변수에 적용이 되어 출력하는 형태"
   ]
  }
 ],
 "metadata": {
  "kernelspec": {
   "display_name": "Python 3",
   "language": "python",
   "name": "python3"
  },
  "language_info": {
   "codemirror_mode": {
    "name": "ipython",
    "version": 3
   },
   "file_extension": ".py",
   "mimetype": "text/x-python",
   "name": "python",
   "nbconvert_exporter": "python",
   "pygments_lexer": "ipython3",
   "version": "3.8.8"
  }
 },
 "nbformat": 4,
 "nbformat_minor": 5
}
