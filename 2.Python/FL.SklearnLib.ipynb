{
 "cells": [
  {
   "cell_type": "code",
   "execution_count": 1,
   "id": "c675776d",
   "metadata": {},
   "outputs": [],
   "source": [
    "import numpy as np\n",
    "import matplotlib.pyplot as plt\n",
    "plt.style.use(['seaborn-whitegrid'])"
   ]
  },
  {
   "cell_type": "code",
   "execution_count": 2,
   "id": "1e292680",
   "metadata": {},
   "outputs": [],
   "source": [
    "# API 사용 예제"
   ]
  },
  {
   "cell_type": "code",
   "execution_count": 3,
   "id": "81c5166f",
   "metadata": {},
   "outputs": [
    {
     "data": {
      "image/png": "[encoded data removed]",
      "text/plain": [
       "<Figure size 432x288 with 1 Axes>"
      ]
     },
     "metadata": {},
     "output_type": "display_data"
    }
   ],
   "source": [
    "x = 10 * np.random.rand(50)\n",
    "y = 2 * x + np.random.rand(50)\n",
    "plt.scatter(x,y)\n",
    "plt.show()"
   ]
  },
  {
   "cell_type": "code",
   "execution_count": 4,
   "id": "cc94b832",
   "metadata": {},
   "outputs": [],
   "source": [
    "# 1. Scikit-Learn으로부터 적절한 estimator 클래스를 임포트해서 모델의 클래스 선택\n",
    "from sklearn.linear_model import LinearRegression \n",
    "# linear_model 모듈에서 LinearRegression 클래스를 가져온 것"
   ]
  },
  {
   "cell_type": "code",
   "execution_count": 5,
   "id": "34285b05",
   "metadata": {},
   "outputs": [],
   "source": [
    "# 2. 클래스를 원하는 값으로 인스턴스화해서 모델의 하이퍼파라미터 선택\n",
    "model = LinearRegression(fit_intercept=True)\n",
    "# fit_intercept=True 라는 하이퍼파라미터 지정(상수)"
   ]
  },
  {
   "cell_type": "code",
   "execution_count": 6,
   "id": "b6fd9b75",
   "metadata": {},
   "outputs": [
    {
     "name": "stdout",
     "output_type": "stream",
     "text": [
      "(50,)\n",
      "(50, 1)\n"
     ]
    },
    {
     "data": {
      "text/plain": [
       "array([[7.86670382],\n",
       "       [5.61108388],\n",
       "       [3.36644797],\n",
       "       [8.31932346],\n",
       "       [1.85647335],\n",
       "       [2.83815678],\n",
       "       [6.45396718],\n",
       "       [9.7308446 ],\n",
       "       [6.22866551],\n",
       "       [3.50616124],\n",
       "       [6.35875123],\n",
       "       [3.35879965],\n",
       "       [1.93611819],\n",
       "       [2.28427586],\n",
       "       [5.7149662 ],\n",
       "       [3.11683393],\n",
       "       [6.31961136],\n",
       "       [0.23748034],\n",
       "       [4.55007955],\n",
       "       [0.95785871],\n",
       "       [4.49327878],\n",
       "       [0.47548332],\n",
       "       [4.40333208],\n",
       "       [3.12279974],\n",
       "       [6.67252727],\n",
       "       [3.41604163],\n",
       "       [8.84178696],\n",
       "       [1.19747872],\n",
       "       [1.6097994 ],\n",
       "       [2.16590942],\n",
       "       [2.63914777],\n",
       "       [3.45474086],\n",
       "       [9.25387056],\n",
       "       [1.56281863],\n",
       "       [4.91896448],\n",
       "       [8.95290395],\n",
       "       [1.50191323],\n",
       "       [2.69008605],\n",
       "       [9.96411   ],\n",
       "       [3.98763175],\n",
       "       [8.33640645],\n",
       "       [1.230038  ],\n",
       "       [6.06401198],\n",
       "       [4.549175  ],\n",
       "       [5.0342931 ],\n",
       "       [8.00840574],\n",
       "       [4.03367637],\n",
       "       [4.09367875],\n",
       "       [0.71818747],\n",
       "       [6.99129008]])"
      ]
     },
     "execution_count": 6,
     "metadata": {},
     "output_type": "execute_result"
    }
   ],
   "source": [
    "# 3. 데이터를 특징 배열과 대상 벡터로 배치\n",
    "print(x.shape)  # 기존의 x는 이러한 형태를 가지고 있다.\n",
    "X = x[:, np.newaxis] # 축을 하나 추가 시켜 2차원 배열로 만듦(차원을 늘림)\n",
    "print(X.shape)\n",
    "X"
   ]
  },
  {
   "cell_type": "code",
   "execution_count": 7,
   "id": "79614972",
   "metadata": {},
   "outputs": [
    {
     "data": {
      "text/plain": [
       "LinearRegression()"
      ]
     },
     "execution_count": 7,
     "metadata": {},
     "output_type": "execute_result"
    }
   ],
   "source": [
    "# 4. 모델 인스턴스의 fit() 메서드를 호출해 모델을 데이터에 적합\n",
    "model.fit(X, y)"
   ]
  },
  {
   "cell_type": "code",
   "execution_count": 8,
   "id": "5e48dc30",
   "metadata": {},
   "outputs": [
    {
     "data": {
      "text/plain": [
       "array([2.00096677])"
      ]
     },
     "execution_count": 8,
     "metadata": {},
     "output_type": "execute_result"
    }
   ],
   "source": [
    "model.coef_"
   ]
  },
  {
   "cell_type": "code",
   "execution_count": 9,
   "id": "6448b4c3",
   "metadata": {},
   "outputs": [
    {
     "data": {
      "text/plain": [
       "0.40456543250687993"
      ]
     },
     "execution_count": 9,
     "metadata": {},
     "output_type": "execute_result"
    }
   ],
   "source": [
    "model.intercept_"
   ]
  },
  {
   "cell_type": "code",
   "execution_count": 10,
   "id": "6b7b410c",
   "metadata": {
    "scrolled": true
   },
   "outputs": [
    {
     "name": "stdout",
     "output_type": "stream",
     "text": [
      "[-1.         -0.75510204 -0.51020408 -0.26530612 -0.02040816  0.2244898\n",
      "  0.46938776  0.71428571  0.95918367  1.20408163  1.44897959  1.69387755\n",
      "  1.93877551  2.18367347  2.42857143  2.67346939  2.91836735  3.16326531\n",
      "  3.40816327  3.65306122  3.89795918  4.14285714  4.3877551   4.63265306\n",
      "  4.87755102  5.12244898  5.36734694  5.6122449   5.85714286  6.10204082\n",
      "  6.34693878  6.59183673  6.83673469  7.08163265  7.32653061  7.57142857\n",
      "  7.81632653  8.06122449  8.30612245  8.55102041  8.79591837  9.04081633\n",
      "  9.28571429  9.53061224  9.7755102  10.02040816 10.26530612 10.51020408\n",
      " 10.75510204 11.        ]\n"
     ]
    }
   ],
   "source": [
    "# 5. 모델을 새 데이터에 대해서 적용\n",
    "xfit = np.linspace(-1, 11) # -1 ~ 11 까지의 기본값(50개)만큼 1차원 배열 생성 \n",
    "print(xfit)  # 새 데이터         \n",
    "Xfit = xfit[:, np.newaxis]  # 2차원 배열로 확대 \n",
    "yfit = model.predict(Xfit)  # 새로운 데이터 적용으로 예측"
   ]
  },
  {
   "cell_type": "code",
   "execution_count": 11,
   "id": "f9cdd2cc",
   "metadata": {},
   "outputs": [
    {
     "data": {
      "image/png": "[encoded data removed]",
      "text/plain": [
       "<Figure size 432x288 with 1 Axes>"
      ]
     },
     "metadata": {},
     "output_type": "display_data"
    }
   ],
   "source": [
    "plt.scatter(x,y)\n",
    "plt.plot(xfit, yfit, '--r'); # ; = plt.show()\n",
    "# 빨간선 예측 값"
   ]
  },
  {
   "cell_type": "code",
   "execution_count": 12,
   "id": "9050f8e9",
   "metadata": {},
   "outputs": [],
   "source": [
    "# 사이킷런 데이터 세트 불러오기\n",
    "from sklearn.datasets import load_diabetes # 당뇨"
   ]
  },
  {
   "cell_type": "code",
   "execution_count": 14,
   "id": "2fc80b24",
   "metadata": {},
   "outputs": [
    {
     "name": "stdout",
     "output_type": "stream",
     "text": [
      "dict_keys(['data', 'target', 'frame', 'DESCR', 'feature_names', 'data_filename', 'target_filename'])\n"
     ]
    }
   ],
   "source": [
    "diabetes = load_diabetes()\n",
    "print(diabetes.keys()) # 예제 데이터셋은 딕셔너리화 되어있음. "
   ]
  },
  {
   "cell_type": "code",
   "execution_count": 16,
   "id": "f37ba381",
   "metadata": {},
   "outputs": [
    {
     "name": "stdout",
     "output_type": "stream",
     "text": [
      "[[ 0.03807591  0.05068012  0.06169621 ... -0.00259226  0.01990842\n",
      "  -0.01764613]\n",
      " [-0.00188202 -0.04464164 -0.05147406 ... -0.03949338 -0.06832974\n",
      "  -0.09220405]\n",
      " [ 0.08529891  0.05068012  0.04445121 ... -0.00259226  0.00286377\n",
      "  -0.02593034]\n",
      " ...\n",
      " [ 0.04170844  0.05068012 -0.01590626 ... -0.01107952 -0.04687948\n",
      "   0.01549073]\n",
      " [-0.04547248 -0.04464164  0.03906215 ...  0.02655962  0.04452837\n",
      "  -0.02593034]\n",
      " [-0.04547248 -0.04464164 -0.0730303  ... -0.03949338 -0.00421986\n",
      "   0.00306441]]\n"
     ]
    }
   ],
   "source": [
    "print(diabetes.data) # 변수들에 데이터가 포함되어있음"
   ]
  },
  {
   "cell_type": "code",
   "execution_count": 30,
   "id": "2736a244",
   "metadata": {},
   "outputs": [
    {
     "name": "stdout",
     "output_type": "stream",
     "text": [
      "[151.  75. 141. 206. 135.  97. 138.  63. 110. 310. 101.  69. 179. 185.\n",
      " 118. 171. 166. 144.  97. 168.  68.  49.  68. 245. 184. 202. 137.  85.\n",
      " 131. 283. 129.  59. 341.  87.  65. 102. 265. 276. 252.  90. 100.  55.\n",
      "  61.  92. 259.  53. 190. 142.  75. 142. 155. 225.  59. 104. 182. 128.\n",
      "  52.  37. 170. 170.  61. 144.  52. 128.  71. 163. 150.  97. 160. 178.\n",
      "  48. 270. 202. 111.  85.  42. 170. 200. 252. 113. 143.  51.  52. 210.\n",
      "  65. 141.  55. 134.  42. 111.  98. 164.  48.  96.  90. 162. 150. 279.\n",
      "  92.  83. 128. 102. 302. 198.  95.  53. 134. 144. 232.  81. 104.  59.\n",
      " 246. 297. 258. 229. 275. 281. 179. 200. 200. 173. 180.  84. 121. 161.\n",
      "  99. 109. 115. 268. 274. 158. 107.  83. 103. 272.  85. 280. 336. 281.\n",
      " 118. 317. 235.  60. 174. 259. 178. 128.  96. 126. 288.  88. 292.  71.\n",
      " 197. 186.  25.  84.  96. 195.  53. 217. 172. 131. 214.  59.  70. 220.\n",
      " 268. 152.  47.  74. 295. 101. 151. 127. 237. 225.  81. 151. 107.  64.\n",
      " 138. 185. 265. 101. 137. 143. 141.  79. 292. 178.  91. 116.  86. 122.\n",
      "  72. 129. 142.  90. 158.  39. 196. 222. 277.  99. 196. 202. 155.  77.\n",
      " 191.  70.  73.  49.  65. 263. 248. 296. 214. 185.  78.  93. 252. 150.\n",
      "  77. 208.  77. 108. 160.  53. 220. 154. 259.  90. 246. 124.  67.  72.\n",
      " 257. 262. 275. 177.  71.  47. 187. 125.  78.  51. 258. 215. 303. 243.\n",
      "  91. 150. 310. 153. 346.  63.  89.  50.  39. 103. 308. 116. 145.  74.\n",
      "  45. 115. 264.  87. 202. 127. 182. 241.  66.  94. 283.  64. 102. 200.\n",
      " 265.  94. 230. 181. 156. 233.  60. 219.  80.  68. 332. 248.  84. 200.\n",
      "  55.  85.  89.  31. 129.  83. 275.  65. 198. 236. 253. 124.  44. 172.\n",
      " 114. 142. 109. 180. 144. 163. 147.  97. 220. 190. 109. 191. 122. 230.\n",
      " 242. 248. 249. 192. 131. 237.  78. 135. 244. 199. 270. 164.  72.  96.\n",
      " 306.  91. 214.  95. 216. 263. 178. 113. 200. 139. 139.  88. 148.  88.\n",
      " 243.  71.  77. 109. 272.  60.  54. 221.  90. 311. 281. 182. 321.  58.\n",
      " 262. 206. 233. 242. 123. 167.  63. 197.  71. 168. 140. 217. 121. 235.\n",
      " 245.  40.  52. 104. 132.  88.  69. 219.  72. 201. 110.  51. 277.  63.\n",
      " 118.  69. 273. 258.  43. 198. 242. 232. 175.  93. 168. 275. 293. 281.\n",
      "  72. 140. 189. 181. 209. 136. 261. 113. 131. 174. 257.  55.  84.  42.\n",
      " 146. 212. 233.  91. 111. 152. 120.  67. 310.  94. 183.  66. 173.  72.\n",
      "  49.  64.  48. 178. 104. 132. 220.  57.]\n"
     ]
    }
   ],
   "source": [
    "print(diabetes.target) # 레이블을 알 수 있음\n",
    "# 타겟은 사과 -> 1 배 -> 2 이런식으로 표현했다고 인식해보자"
   ]
  },
  {
   "cell_type": "code",
   "execution_count": 20,
   "id": "14178690",
   "metadata": {
    "scrolled": false
   },
   "outputs": [
    {
     "name": "stdout",
     "output_type": "stream",
     "text": [
      ".. _diabetes_dataset:\n",
      "\n",
      "Diabetes dataset\n",
      "----------------\n",
      "\n",
      "Ten baseline variables, age, sex, body mass index, average blood\n",
      "pressure, and six blood serum measurements were obtained for each of n =\n",
      "442 diabetes patients, as well as the response of interest, a\n",
      "quantitative measure of disease progression one year after baseline.\n",
      "\n",
      "**Data Set Characteristics:**\n",
      "\n",
      "  :Number of Instances: 442\n",
      "\n",
      "  :Number of Attributes: First 10 columns are numeric predictive values\n",
      "\n",
      "  :Target: Column 11 is a quantitative measure of disease progression one year after baseline\n",
      "\n",
      "  :Attribute Information:\n",
      "      - age     age in years\n",
      "      - sex\n",
      "      - bmi     body mass index\n",
      "      - bp      average blood pressure\n",
      "      - s1      tc, T-Cells (a type of white blood cells)\n",
      "      - s2      ldl, low-density lipoproteins\n",
      "      - s3      hdl, high-density lipoproteins\n",
      "      - s4      tch, thyroid stimulating hormone\n",
      "      - s5      ltg, lamotrigine\n",
      "      - s6      glu, blood sugar level\n",
      "\n",
      "Note: Each of these 10 feature variables have been mean centered and scaled by the standard deviation times `n_samples` (i.e. the sum of squares of each column totals 1).\n",
      "\n",
      "Source URL:\n",
      "https://www4.stat.ncsu.edu/~boos/var.select/diabetes.html\n",
      "\n",
      "For more information see:\n",
      "Bradley Efron, Trevor Hastie, Iain Johnstone and Robert Tibshirani (2004) \"Least Angle Regression,\" Annals of Statistics (with discussion), 407-499.\n",
      "(https://web.stanford.edu/~hastie/Papers/LARS/LeastAngle_2002.pdf)\n"
     ]
    }
   ],
   "source": [
    "print(diabetes.DESCR) # 자세한 정보, 출처 제공"
   ]
  },
  {
   "cell_type": "code",
   "execution_count": 23,
   "id": "cef6ae1f",
   "metadata": {},
   "outputs": [
    {
     "name": "stdout",
     "output_type": "stream",
     "text": [
      "['age', 'sex', 'bmi', 'bp', 's1', 's2', 's3', 's4', 's5', 's6']\n"
     ]
    }
   ],
   "source": [
    "print(diabetes.feature_names) # 변수 이름 표시(독립변수)"
   ]
  },
  {
   "cell_type": "code",
   "execution_count": 25,
   "id": "682faec1",
   "metadata": {},
   "outputs": [
    {
     "name": "stdout",
     "output_type": "stream",
     "text": [
      "C:\\ProgramData\\Anaconda3\\lib\\site-packages\\sklearn\\datasets\\data\\diabetes_data.csv.gz\n",
      "C:\\ProgramData\\Anaconda3\\lib\\site-packages\\sklearn\\datasets\\data\\diabetes_target.csv.gz\n"
     ]
    }
   ],
   "source": [
    "print(diabetes.data_filename)\n",
    "print(diabetes.target_filename) # 경로 위치 파악 가능"
   ]
  },
  {
   "cell_type": "code",
   "execution_count": 26,
   "id": "22e3ded1",
   "metadata": {},
   "outputs": [],
   "source": [
    "## model_selection 모듈\n",
    "# 학습용 데이터와 테스트 데이터로 분리\n",
    "# 교차 검증 분할 및 평가\n",
    "# Estimator의 하이퍼파라미터 튜닝을 위한 다양한 함수와 클래스 제공"
   ]
  },
  {
   "cell_type": "code",
   "execution_count": 27,
   "id": "1d4d2155",
   "metadata": {},
   "outputs": [],
   "source": [
    "# train_test_split() 학습/테스트 데이터 세트 분리"
   ]
  },
  {
   "cell_type": "code",
   "execution_count": 42,
   "id": "6a8d8d43",
   "metadata": {},
   "outputs": [],
   "source": [
    "from sklearn.linear_model import LinearRegression\n",
    "from sklearn.model_selection import train_test_split\n",
    "from sklearn.datasets import load_diabetes\n",
    "\n",
    "diabetes = load_diabetes()\n",
    "X_train, X_test, y_train, y_test = train_test_split(diabetes.data, diabetes.target, test_size=0.3)\n",
    "# 총 4개로 split 됨\n",
    "# X(여러개의 feature들을 하나로 나타냄, 매트릭스 2차원 대문자) 독립변수\n",
    "# y(타겟 즉, 레이블은 벡터 1차원이므로 소문자로 표현)          종속변수\n",
    "# test_size 최대 1(100%)\n",
    "# 비율은 유지 되지만 섞이는 값들은 달라짐"
   ]
  },
  {
   "cell_type": "code",
   "execution_count": 61,
   "id": "9445f8fc",
   "metadata": {},
   "outputs": [
    {
     "name": "stdout",
     "output_type": "stream",
     "text": [
      "(309, 10)\n",
      "(309,)\n",
      "(133, 10)\n",
      "(133,)\n"
     ]
    }
   ],
   "source": [
    "print(X_train.shape)\n",
    "print(y_train.shape)\n",
    "print(X_test.shape)\n",
    "print(y_test.shape)"
   ]
  },
  {
   "cell_type": "code",
   "execution_count": 44,
   "id": "f788c222",
   "metadata": {},
   "outputs": [
    {
     "name": "stdout",
     "output_type": "stream",
     "text": [
      "학습 데이터 점수: 0.5382056615144364\n",
      "평가 데이터 점수: 0.45189609181364965\n"
     ]
    }
   ],
   "source": [
    "model = LinearRegression()\n",
    "model.fit(X_train, y_train) # 학습용\n",
    "\n",
    "# 모델 점수 평가(1에 가까워야 하는데 한참 모자람)\n",
    "print(\"학습 데이터 점수: {}\".format(model.score(X_train,y_train)))\n",
    "print(\"평가 데이터 점수: {}\".format(model.score(X_test,y_test)))"
   ]
  },
  {
   "cell_type": "code",
   "execution_count": 66,
   "id": "d1e73efc",
   "metadata": {},
   "outputs": [
    {
     "data": {
      "image/png": "[encoded data removed]",
      "text/plain": [
       "<Figure size 576x288 with 1 Axes>"
      ]
     },
     "metadata": {},
     "output_type": "display_data"
    }
   ],
   "source": [
    "predicted = model.predict(X_test)\n",
    "expected = y_test\n",
    "plt.figure(figsize=(8, 4))\n",
    "plt.scatter(expected, predicted); \n",
    "plt.plot([30, 350], [30, 350], '--r');\n",
    "plt.tight_layout() # 여백에 관련된 파라미터 조절\n",
    "# 빨간선에 가까울수록 잘 맞춘거지만 넓게 분산되어있음\n",
    "# 잘 맞추기 위해서는 1. 모델을 다른 것 이용 2. 데이터 전처리"
   ]
  },
  {
   "cell_type": "code",
   "execution_count": 64,
   "id": "4d539c79",
   "metadata": {
    "scrolled": true
   },
   "outputs": [
    {
     "data": {
      "text/plain": [
       "array([136.48833147, 182.51711978, 126.62779429, 147.92816435,\n",
       "       206.81204303,  74.38799166, 156.20361552, 174.23412126,\n",
       "       189.75588242, 170.16139472, 190.22284171,  78.08501648,\n",
       "       151.77914218, 116.8921972 , 170.19214046, 175.67990976,\n",
       "       149.75940839, 253.0861972 , 251.33181275, 148.79654502,\n",
       "       151.86295036, 215.14455495,  69.72206123, 101.78236475,\n",
       "       105.19811519, 178.40165568, 120.80982773, 193.77509354,\n",
       "       204.0594428 , 238.55722705, 166.37409663, 111.38847436,\n",
       "        50.02586593, 230.05567785, 200.8809828 , 123.32255067,\n",
       "       182.08961737, 153.43803402, 208.58154756, 160.19690886,\n",
       "       210.39665788, 187.41342991, 146.36193077, 123.58197467,\n",
       "        86.44918768, 116.19316579,  25.72425133, 238.22509292,\n",
       "       126.47906906, 192.32275001, 187.9436606 , 146.66219739,\n",
       "       282.7148777 , 167.94461182,  86.68037659, 196.86762866,\n",
       "       110.29871415, 101.58264173, 126.98530831, 175.33277889,\n",
       "       131.57635007, 152.85237497, 154.42835806, 141.15291609,\n",
       "       163.88004614, 213.5702362 , 245.43019105, 119.58438143,\n",
       "       173.2907566 , 174.92870975, 190.93076285, 154.90155007,\n",
       "       237.39637454, 184.24196533, 130.69843615, 177.26091502,\n",
       "       192.66120988, 166.43450532, 172.76429917, 248.56391864,\n",
       "       184.686784  ,  99.42724897, 116.3711563 ,  90.73548551,\n",
       "       136.97110928, 137.73405319, 131.99277049, 118.48505177,\n",
       "       128.60524505, 224.27209217, 216.71770744, 111.66499429,\n",
       "       217.33633111, 157.82139211, 163.18205172, 170.73100346,\n",
       "       156.4866385 , 275.65083101, 193.74353889, 261.03130378,\n",
       "        87.19805827,  62.46081105,  97.30188825, 183.02474405,\n",
       "       173.85725075,  69.49093909, 138.09547016, 213.83621773,\n",
       "       116.35074914, 123.94725986, 188.4929354 , 123.3586973 ,\n",
       "        40.36747572,  56.60193969, 130.49568911, 120.95216022,\n",
       "       177.52343789,  84.93530476, 141.67054033,  95.13455282,\n",
       "       102.15103285, 220.15642324,  73.98686669, 118.45593003,\n",
       "       258.05463413, 149.07872703, 196.09085329, 259.78486559,\n",
       "       168.33617545, 157.45317354, 157.57520148, 162.94535423,\n",
       "       297.23345282])"
      ]
     },
     "execution_count": 64,
     "metadata": {},
     "output_type": "execute_result"
    }
   ],
   "source": []
  }
 ],
 "metadata": {
  "kernelspec": {
   "display_name": "Python 3",
   "language": "python",
   "name": "python3"
  },
  "language_info": {
   "codemirror_mode": {
    "name": "ipython",
    "version": 3
   },
   "file_extension": ".py",
   "mimetype": "text/x-python",
   "name": "python",
   "nbconvert_exporter": "python",
   "pygments_lexer": "ipython3",
   "version": "3.8.8"
  }
 },
 "nbformat": 4,
 "nbformat_minor": 5
}
