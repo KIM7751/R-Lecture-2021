{
 "cells": [
  {
   "cell_type": "code",
   "execution_count": 1,
   "id": "944428de",
   "metadata": {},
   "outputs": [],
   "source": [
    "# if 문은 점프문에 유래한다.\n",
    "# 들여쓰기 여부 확인하기\n",
    "# 탭키는 스페이스바 4개와 같은 값을 가진다. 단, 절대적이지 않다.\n",
    "# if / elif / else --> if & elif 조건을 가짐, else는 가지지 않음 / elif & else 단독 사용 X\n",
    "# 콜론(:) 사용과 더불어 들여쓰기 진행"
   ]
  },
  {
   "cell_type": "code",
   "execution_count": 2,
   "id": "c9016335",
   "metadata": {},
   "outputs": [
    {
     "data": {
      "text/plain": [
       "True"
      ]
     },
     "execution_count": 2,
     "metadata": {},
     "output_type": "execute_result"
    }
   ],
   "source": [
    "1 in [1, 2, 3]"
   ]
  },
  {
   "cell_type": "code",
   "execution_count": 3,
   "id": "c8cbe485",
   "metadata": {},
   "outputs": [
    {
     "data": {
      "text/plain": [
       "False"
      ]
     },
     "execution_count": 3,
     "metadata": {},
     "output_type": "execute_result"
    }
   ],
   "source": [
    "4 in [1, 2, 3]"
   ]
  },
  {
   "cell_type": "code",
   "execution_count": 4,
   "id": "f3e2789f",
   "metadata": {},
   "outputs": [
    {
     "data": {
      "text/plain": [
       "True"
      ]
     },
     "execution_count": 4,
     "metadata": {},
     "output_type": "execute_result"
    }
   ],
   "source": [
    "4 not in [1, 2, 3]"
   ]
  },
  {
   "cell_type": "code",
   "execution_count": 5,
   "id": "bfdd2ffb",
   "metadata": {},
   "outputs": [],
   "source": [
    "a = 1\n",
    "if a == 1:                # pass를 사용해 설정값을 나중에 지정해줄 수 있음 / 오류값x\n",
    "    pass"
   ]
  },
  {
   "cell_type": "code",
   "execution_count": 6,
   "id": "0777b6e8",
   "metadata": {},
   "outputs": [
    {
     "name": "stdout",
     "output_type": "stream",
     "text": [
      "a는 1\n"
     ]
    }
   ],
   "source": [
    "# 한 줄로 작성하기\n",
    "a =1\n",
    "if a == 1: print(\"a는 1\")                "
   ]
  },
  {
   "cell_type": "code",
   "execution_count": 7,
   "id": "13003734",
   "metadata": {},
   "outputs": [
    {
     "name": "stdout",
     "output_type": "stream",
     "text": [
      "a는 1\n",
      "good bye\n"
     ]
    }
   ],
   "source": [
    "a =1\n",
    "if a == 1: print(\"a는 1\")\n",
    "print(\"good bye\")            # 들여쓰기를 안하면 if와 별개의 커맨더가 됨"
   ]
  },
  {
   "cell_type": "code",
   "execution_count": 8,
   "id": "0ebfdfdd",
   "metadata": {},
   "outputs": [],
   "source": [
    "# while문 / 점프를 위로 올리면 반복문이 됨\n",
    "# 조건은 while 옆에"
   ]
  },
  {
   "cell_type": "code",
   "execution_count": 9,
   "id": "8a4fb861",
   "metadata": {},
   "outputs": [
    {
     "name": "stdout",
     "output_type": "stream",
     "text": [
      "나무를 1번 찍었습니다.\n",
      "나무를 2번 찍었습니다.\n",
      "나무를 3번 찍었습니다.\n",
      "나무를 4번 찍었습니다.\n",
      "나무를 5번 찍었습니다.\n",
      "나무를 6번 찍었습니다.\n",
      "나무를 7번 찍었습니다.\n",
      "나무를 8번 찍었습니다.\n",
      "나무를 9번 찍었습니다.\n"
     ]
    }
   ],
   "source": [
    "treeHit = 1  # 초기 값을 줘야함\n",
    "while treeHit < 10:\n",
    "    print(\"나무를 \" + str(treeHit) + \"번 찍었습니다.\")\n",
    "    treeHit = treeHit + 1"
   ]
  },
  {
   "cell_type": "code",
   "execution_count": 10,
   "id": "823c8155",
   "metadata": {},
   "outputs": [
    {
     "name": "stdout",
     "output_type": "stream",
     "text": [
      "나무를 1번 찍었습니다.\n",
      "나무를 2번 찍었습니다.\n",
      "나무를 3번 찍었습니다.\n",
      "나무를 4번 찍었습니다.\n",
      "나무를 5번 찍었습니다.\n",
      "나무를 6번 찍었습니다.\n",
      "나무를 7번 찍었습니다.\n",
      "나무를 8번 찍었습니다.\n",
      "나무를 9번 찍었습니다.\n",
      "나무 넘어갑니다\n"
     ]
    }
   ],
   "source": [
    "treeHit = 1  # 초기 값을 줘야함\n",
    "while treeHit < 10:\n",
    "    print(\"나무를 \" + str(treeHit) + \"번 찍었습니다.\")\n",
    "    if treeHit == 9 : print(\"나무 넘어갑니다\")\n",
    "    treeHit += 1 # treeHit = treeHit + 1"
   ]
  },
  {
   "cell_type": "code",
   "execution_count": 11,
   "id": "89be98c9",
   "metadata": {},
   "outputs": [
    {
     "name": "stdout",
     "output_type": "stream",
     "text": [
      "정수를 입력하세요5\n",
      "5\n"
     ]
    }
   ],
   "source": [
    "# input 입력할 수 있는 입력 안내 메시지가 출력\n",
    "a = input(\"정수를 입력하세요\")\n",
    "print(a)"
   ]
  },
  {
   "cell_type": "code",
   "execution_count": 12,
   "id": "8489ff6c",
   "metadata": {},
   "outputs": [
    {
     "name": "stdout",
     "output_type": "stream",
     "text": [
      "정수를 입력하세요55\n",
      "56\n"
     ]
    }
   ],
   "source": [
    "a = input(\"정수를 입력하세요\")\n",
    "a = int(a) + 1                  # int로 바꿔준 다음에 진행하면 오류메시지 X\n",
    "print(a)"
   ]
  },
  {
   "cell_type": "code",
   "execution_count": 13,
   "id": "978820d0",
   "metadata": {},
   "outputs": [
    {
     "name": "stdout",
     "output_type": "stream",
     "text": [
      "온도를 입력하세요45\n",
      "온도를 입력하세요54\n",
      "온도를 입력하세요54\n",
      "온도를 입력하세요45\n",
      "[45, 54, 54, 45]\n"
     ]
    }
   ],
   "source": [
    "list_a = []\n",
    "count = 0\n",
    "while count < 4:\n",
    "    recieved = input(\"온도를 입력하세요\")\n",
    "    recieved = int(recieved)            \n",
    "    list_a.append(recieved) # 리스트 원소 추가 함수 append P80\n",
    "    count += 1\n",
    "print(list_a)"
   ]
  },
  {
   "cell_type": "code",
   "execution_count": 14,
   "id": "69f693fd",
   "metadata": {},
   "outputs": [
    {
     "name": "stdout",
     "output_type": "stream",
     "text": [
      "온도를 입력하세요 단, 입력을 멈추려면 -500을 입력하세요\n",
      "온도를 입력하세요-500\n",
      "[]\n"
     ]
    }
   ],
   "source": [
    "# 계속 반복되는 경우가 필요할때\n",
    "list_a = []\n",
    "print(\"온도를 입력하세요 단, 입력을 멈추려면 -500을 입력하세요\")\n",
    "while True :                               # 조건이 모호할때 true 값을 넣어서 돌리면 편리함 / pass는 pass 이하 내용을 모두 무시\n",
    "    recieved = input(\"온도를 입력하세요\")\n",
    "    if recieved == \"-500\" : break # 밑에 int 값을 줘서 단순히 숫자가 아닌 문자형으로 표시해야함.\n",
    "    recieved = int(recieved)            \n",
    "    list_a.append(recieved) # 리스트 원소 추가 함수 append P80\n",
    "    count += 1\n",
    "print(list_a)"
   ]
  },
  {
   "cell_type": "code",
   "execution_count": 15,
   "id": "6cb78484",
   "metadata": {},
   "outputs": [
    {
     "name": "stdout",
     "output_type": "stream",
     "text": [
      "온도를 입력하세요 단, 입력을 멈추려면 -500을 입력하세요\n",
      "온도를 입력하세요-500\n",
      "[]\n"
     ]
    }
   ],
   "source": [
    "# 계속 반복되는 경우에 일정 조건 주기\n",
    "list_a = []\n",
    "print(\"온도를 입력하세요 단, 입력을 멈추려면 -500을 입력하세요\")\n",
    "while True :                               # 조건이 모호할때 true 값을 넣어서 돌리면 편리함 / pass는 pass 이하 내용을 모두 무시\n",
    "    recieved = input(\"온도를 입력하세요\")\n",
    "    recieved = int(recieved)\n",
    "    if recieved == -500 : break\n",
    "    if recieved > 50 or recieved < -40 : continue    \n",
    "    list_a.append(recieved) # 리스트 원소 추가 함수 append P80\n",
    "print(list_a)"
   ]
  },
  {
   "cell_type": "code",
   "execution_count": 16,
   "id": "3c6f2a34",
   "metadata": {},
   "outputs": [
    {
     "name": "stdout",
     "output_type": "stream",
     "text": [
      "range(0, 10)\n"
     ]
    }
   ],
   "source": [
    "# for문 range(범위만 나옴)\n",
    "a = range(10)\n",
    "print(a)"
   ]
  },
  {
   "cell_type": "code",
   "execution_count": 17,
   "id": "fe66373a",
   "metadata": {},
   "outputs": [
    {
     "name": "stdout",
     "output_type": "stream",
     "text": [
      "0 1 2 3 4 5 6 7 8 9 "
     ]
    }
   ],
   "source": [
    "for i in range(10):\n",
    "    print(i, end=\" \") # 기본으로 줄바꿈이 설정되어있어 end를 써서 가지런히 나열함"
   ]
  },
  {
   "cell_type": "code",
   "execution_count": 18,
   "id": "73a9b313",
   "metadata": {},
   "outputs": [
    {
     "name": "stdout",
     "output_type": "stream",
     "text": [
      "5 6 7 8 9 "
     ]
    }
   ],
   "source": [
    "for i in range(5, 10): \n",
    "    print(i, end=\" \") # 지정하고 싶은 숫자 지정하기"
   ]
  },
  {
   "cell_type": "code",
   "execution_count": 19,
   "id": "a2b8df63",
   "metadata": {},
   "outputs": [
    {
     "name": "stdout",
     "output_type": "stream",
     "text": [
      "5 8 "
     ]
    }
   ],
   "source": [
    "for i in range(5, 10, 3): \n",
    "    print(i, end=\" \") # 간격 주기"
   ]
  },
  {
   "cell_type": "code",
   "execution_count": 20,
   "id": "1e814e5d",
   "metadata": {},
   "outputs": [
    {
     "name": "stdout",
     "output_type": "stream",
     "text": [
      "10 9 8 7 6 5 4 3 2 1 "
     ]
    }
   ],
   "source": [
    "for i in range(10, 0, -1):\n",
    "    print(i, end=\" \")"
   ]
  },
  {
   "cell_type": "code",
   "execution_count": 21,
   "id": "38702c3f",
   "metadata": {},
   "outputs": [
    {
     "name": "stdout",
     "output_type": "stream",
     "text": [
      "5 8 "
     ]
    }
   ],
   "source": [
    "for i in [5, 8]: \n",
    "    print(i, end=\" \") "
   ]
  },
  {
   "cell_type": "code",
   "execution_count": 22,
   "id": "a5dee403",
   "metadata": {},
   "outputs": [
    {
     "name": "stdout",
     "output_type": "stream",
     "text": [
      "[3, 6, 9, 12] "
     ]
    }
   ],
   "source": [
    "# 풀어서 표현\n",
    "a = [1, 2, 3, 4]\n",
    "res = []\n",
    "for num in a: \n",
    "    res.append(num*3)\n",
    "print(res, end=\" \") "
   ]
  },
  {
   "cell_type": "code",
   "execution_count": 23,
   "id": "7e9de0f2",
   "metadata": {
    "scrolled": true
   },
   "outputs": [
    {
     "name": "stdout",
     "output_type": "stream",
     "text": [
      "[3, 6, 9, 12] "
     ]
    }
   ],
   "source": [
    "# 압축해서 표현\n",
    "a = [1, 2, 3, 4]\n",
    "res = [num*3 for num in a]\n",
    "print(res, end=\" \") "
   ]
  },
  {
   "cell_type": "code",
   "execution_count": 24,
   "id": "8e4ef905",
   "metadata": {},
   "outputs": [
    {
     "name": "stdout",
     "output_type": "stream",
     "text": [
      "[6, 12] "
     ]
    }
   ],
   "source": [
    "# 응용 풀어서 중요 매우매우\n",
    "a = [1, 2, 3, 4]\n",
    "res = []\n",
    "for num in a:\n",
    "    if num % 2 == 0:\n",
    "        res.append(num*3)\n",
    "print(res, end=\" \")"
   ]
  },
  {
   "cell_type": "code",
   "execution_count": 25,
   "id": "b446a4e1",
   "metadata": {},
   "outputs": [
    {
     "name": "stdout",
     "output_type": "stream",
     "text": [
      "[6, 12] "
     ]
    }
   ],
   "source": [
    "# 응용 압축 중요 매우매우\n",
    "a = [1, 2, 3, 4]\n",
    "res = [num*3 for num in a if num % 2 == 0] # 짝수일때만 이라는 조건을 하나 추가함.\n",
    "print(res, end=\" \") "
   ]
  },
  {
   "cell_type": "code",
   "execution_count": 26,
   "id": "c9993ecb",
   "metadata": {},
   "outputs": [
    {
     "name": "stdout",
     "output_type": "stream",
     "text": [
      "*\n",
      "**\n",
      "***\n",
      "****\n",
      "*****\n"
     ]
    }
   ],
   "source": [
    "# 연습문제3 P147\n",
    "i = 0                          # i는 줄의 개수이자 별의 갯수이다.\n",
    "\n",
    "while True:\n",
    "    i += 1\n",
    "    if i>5:break               # 들여쓰기가 동등한 관계이므로 해당 코드처럼 배치\n",
    "    print(\"*\"*i)    "
   ]
  },
  {
   "cell_type": "code",
   "execution_count": 27,
   "id": "b7a3aca9",
   "metadata": {},
   "outputs": [
    {
     "name": "stdout",
     "output_type": "stream",
     "text": [
      "*\n",
      "**\n",
      "***\n",
      "****\n",
      "*****\n"
     ]
    }
   ],
   "source": [
    "i = 0                          # 반복문을 하나 더 사용해서 바꿔보기\n",
    "\n",
    "while True:\n",
    "    i += 1\n",
    "    if i>5:break               \n",
    "    for j in range(i) :\n",
    "        print (\"*\", end=\"\")\n",
    "    print(\"\")"
   ]
  },
  {
   "cell_type": "code",
   "execution_count": 28,
   "id": "73192008",
   "metadata": {},
   "outputs": [
    {
     "name": "stdout",
     "output_type": "stream",
     "text": [
      "79.0\n"
     ]
    }
   ],
   "source": [
    "# 연습문제5 P148\n",
    "a = [70, 60, 55, 75, 95, 90, 80, 80, 85, 100]\n",
    "total = 0          \n",
    "for score in a:\n",
    "    total += score     # a의 점수 하나 하나\n",
    "average = total/len(a) \n",
    "print(average)"
   ]
  },
  {
   "cell_type": "code",
   "execution_count": 29,
   "id": "172afe48",
   "metadata": {
    "scrolled": true
   },
   "outputs": [
    {
     "name": "stdout",
     "output_type": "stream",
     "text": [
      "60 59 58 57 56 55 54 53 52 51 50 49 48 47 46 45 44 43 42 41 40 39 38 37 36 35 34 33 32 31 30 29 28 27 26 25 24 23 22 21 20 19 18 17 16 15 14 13 12 11 10 9 8 7 6 5 4 3 2 1 \n",
      "발사\n",
      "0 "
     ]
    }
   ],
   "source": [
    "# 내 답안 1\n",
    "for i in range(60, -1, -1):\n",
    "    if i == 0:\n",
    "        print(\"\\n발사\")  \n",
    "    print(i, end=\" \")"
   ]
  },
  {
   "cell_type": "code",
   "execution_count": 30,
   "id": "cbbf811f",
   "metadata": {},
   "outputs": [
    {
     "name": "stdout",
     "output_type": "stream",
     "text": [
      "60 59 58 57 56 55 54 53 52 51 50 49 48 47 46 45 44 43 42 41 40 39 38 37 36 35 34 33 32 31 30 29 28 27 26 25 24 23 22 21 20 19 18 17 16 15 14 13 12 11 10 9 8 7 6 5 4 3 2 1 0 \n",
      "발사\n"
     ]
    }
   ],
   "source": [
    "# 선생님 답안 1\n",
    "for i in range(60, -1, -1):\n",
    "    print(i, end=\" \")\n",
    "print()\n",
    "print(\"발사\")"
   ]
  },
  {
   "cell_type": "code",
   "execution_count": 31,
   "id": "62683a5b",
   "metadata": {},
   "outputs": [
    {
     "name": "stdout",
     "output_type": "stream",
     "text": [
      "60 59 58 57 56 55 54 53 52 51 50 49 48 47 46 45 44 43 42 41 40 39 38 37 36 35 34 33 32 31 30 29 28 27 26 25 24 23 22 21 20 19 18 17 16 15 14 13 12 11 10 9 8 7 6 5 4 3 2 1 0 발사\n"
     ]
    }
   ],
   "source": [
    "# 내 답안 2\n",
    "i=61\n",
    "while True:\n",
    "    i -= 1\n",
    "    if i == -1:break\n",
    "    print(i, end=\" \")\n",
    "    if i == 0:\n",
    "        print(\"발사\")"
   ]
  },
  {
   "cell_type": "code",
   "execution_count": 32,
   "id": "0ee10eed",
   "metadata": {},
   "outputs": [
    {
     "name": "stdout",
     "output_type": "stream",
     "text": [
      "60 59 58 57 56 55 54 53 52 51 50 49 48 47 46 45 44 43 42 41 40 39 38 37 36 35 34 33 32 31 30 29 28 27 26 25 24 23 22 21 20 19 18 17 16 15 14 13 12 11 10 9 8 7 6 5 4 3 2 1 0 \n",
      "발사\n"
     ]
    }
   ],
   "source": [
    "# 선생님 답안 2\n",
    "num = 60\n",
    "while num >=0:\n",
    "    print(num, end=\" \")\n",
    "    num -=1\n",
    "print(\"\")\n",
    "print(\"발사\")"
   ]
  },
  {
   "cell_type": "code",
   "execution_count": 33,
   "id": "076dd3a8",
   "metadata": {},
   "outputs": [
    {
     "name": "stdout",
     "output_type": "stream",
     "text": [
      "1 2 3 4 5 6 7 8 9 \n",
      "2 4 6 8 10 12 14 16 18 \n",
      "3 6 9 12 15 18 21 24 27 \n",
      "4 8 12 16 20 24 28 32 36 \n",
      "5 10 15 20 25 30 35 40 45 \n",
      "6 12 18 24 30 36 42 48 54 \n",
      "7 14 21 28 35 42 49 56 63 \n",
      "8 16 24 32 40 48 56 64 72 \n",
      "9 18 27 36 45 54 63 72 81 \n"
     ]
    }
   ],
   "source": [
    "A=[1,2,3,4,5,6,7,8,9]\n",
    "B=[1,2,3,4,5,6,7,8,9]\n",
    "for row in A:\n",
    "    for col in B:\n",
    "        print(row*col, end=\" \")\n",
    "    print(\"\")"
   ]
  },
  {
   "cell_type": "code",
   "execution_count": 34,
   "id": "988c47dd",
   "metadata": {},
   "outputs": [
    {
     "name": "stdout",
     "output_type": "stream",
     "text": [
      "1 2 3 4 5 6 7 8 9 \n",
      "2 4 6 8 10 12 14 16 18 \n",
      "3 6 9 12 15 18 21 24 27 \n",
      "4 8 12 16 20 24 28 32 36 \n",
      "5 10 15 20 25 30 35 40 45 \n",
      "6 12 18 24 30 36 42 48 54 \n",
      "7 14 21 28 35 42 49 56 63 \n",
      "8 16 24 32 40 48 56 64 72 \n",
      "9 18 27 36 45 54 63 72 81 \n"
     ]
    }
   ],
   "source": [
    "for row in range(1,10):\n",
    "    for col in range(1,10):\n",
    "        print(row*col, end= \" \")\n",
    "    print(\"\")"
   ]
  },
  {
   "cell_type": "code",
   "execution_count": 35,
   "id": "c948ce13",
   "metadata": {},
   "outputs": [
    {
     "name": "stdout",
     "output_type": "stream",
     "text": [
      "1 2 3 4 5 6 7 8 9 \n",
      "2 4 6 8 10 12 14 16 18 \n",
      "3 6 9 12 15 18 21 24 27 \n",
      "4 8 12 16 20 24 28 32 36 \n",
      "5 10 15 20 25 30 35 40 45 \n",
      "6 12 18 24 30 36 42 48 54 \n",
      "7 14 21 28 35 42 49 56 63 \n",
      "8 16 24 32 40 48 56 64 72 \n",
      "9 18 27 36 45 54 63 72 81 \n"
     ]
    }
   ],
   "source": [
    "row = 1\n",
    "while row <=9:\n",
    "    col = 1\n",
    "    while col <=9:\n",
    "        print(row*col, end= \" \")\n",
    "        col +=1\n",
    "    print(\"\")\n",
    "    row +=1"
   ]
  },
  {
   "cell_type": "code",
   "execution_count": 68,
   "id": "286d877d",
   "metadata": {},
   "outputs": [
    {
     "name": "stdout",
     "output_type": "stream",
     "text": [
      "1 * * * * * *  \n",
      "1 2 * * * * *  \n",
      "1 2 3 * * * *  \n",
      "1 2 3 4 * * *  \n",
      "1 2 3 4 5 * *  \n",
      "1 2 3 4 5 6 *  \n",
      "1 2 3 4 5 6 7  \n"
     ]
    }
   ],
   "source": [
    "for row in range(1,8):            # 행은 1~8행까지\n",
    "    for col in range(1,8):        # 열은 1~8열까지\n",
    "        if row >= col:            # 만약 행이 열보다 같거나 크면  숫자가 나올거야\n",
    "            print(col, end=\" \")   \n",
    "        else :                    # 근데 행이 열보다 작으면 별이 나올거야\n",
    "            print(\"*\", end=\" \")\n",
    "    print(\" \")\n",
    "    "
   ]
  },
  {
   "cell_type": "code",
   "execution_count": null,
   "id": "c8f100ec",
   "metadata": {},
   "outputs": [],
   "source": []
  }
 ],
 "metadata": {
  "kernelspec": {
   "display_name": "Python 3",
   "language": "python",
   "name": "python3"
  },
  "language_info": {
   "codemirror_mode": {
    "name": "ipython",
    "version": 3
   },
   "file_extension": ".py",
   "mimetype": "text/x-python",
   "name": "python",
   "nbconvert_exporter": "python",
   "pygments_lexer": "ipython3",
   "version": "3.8.8"
  }
 },
 "nbformat": 4,
 "nbformat_minor": 5
}
