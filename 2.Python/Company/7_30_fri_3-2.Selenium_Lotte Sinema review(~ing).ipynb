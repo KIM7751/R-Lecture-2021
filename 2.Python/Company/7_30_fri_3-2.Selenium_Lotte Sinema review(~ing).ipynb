{
 "cells": [
  {
   "cell_type": "markdown",
   "id": "5066513a",
   "metadata": {},
   "source": [
    "# 롯데시네마 영화 리뷰 스크래핑"
   ]
  },
  {
   "cell_type": "code",
   "execution_count": 29,
   "id": "00fa779a",
   "metadata": {},
   "outputs": [],
   "source": [
    "import selenium\n",
    "from selenium import webdriver\n",
    "chrome_options = webdriver.ChromeOptions()\n",
    "chrome_options.add_argument('--headless')\n",
    "chrome_options.add_argument('--no-sandbox')\n",
    "chrome_options.add_argument('--disable-dev-shm-usage')\n",
    "import time\n",
    "import pandas as pd"
   ]
  },
  {
   "cell_type": "code",
   "execution_count": 13,
   "id": "d4ab40ba",
   "metadata": {},
   "outputs": [],
   "source": [
    "def get_movie_reviews(url):\n",
    "    \n",
    "    wd = webdriver.Chrome('chromedriver', options=chrome_options)\n",
    "    wd.get(url)\n",
    "    review_page_button = wd.find_element_by_css_selector('#contents > ul > li:nth-child(2) > button')\n",
    "    review_page_button.click()\n",
    "    \n",
    "    writer_list = []\n",
    "    \n",
    "    writers = wd.find_elements_by_class_name('name_info')\n",
    "    writer_list += [writer.text for writer in writers:\n",
    "                   if ]\n",
    "    \n",
    "    print(writer_list)"
   ]
  },
  {
   "cell_type": "code",
   "execution_count": 14,
   "id": "8e6a3c0d",
   "metadata": {},
   "outputs": [
    {
     "name": "stdout",
     "output_type": "stream",
     "text": [
      "['김*우', '양*수', '엔딩보고일어나', '원*혜', '곽*수', '박*화', '기*희', '찰밥', '녕안', '이*진']\n"
     ]
    }
   ],
   "source": [
    "url = 'https://www.lottecinema.co.kr/NLCHS/Movie/MovieDetailView?movie=17616'\n",
    "\n",
    "get_movie_reviews(url)"
   ]
  },
  {
   "cell_type": "code",
   "execution_count": null,
   "id": "f043f354",
   "metadata": {},
   "outputs": [],
   "source": [
    "def get_movie_reviews(url):\n",
    "    \n",
    "    wd = webdriver.Chrome('chromedriver', options=chrome_options)\n",
    "    wd.get(url)\n",
    "    review_page_button = wd.find_element_by_css_selector('#contents > ul > li:nth-child(2) > button')\n",
    "    review_page_button.click()\n",
    "    \n",
    "    writer_list = []\n",
    "    \n",
    "    writers = wd.find_elements_by_class_name('name_info')\n",
    "    writer_list += [writer.text for writer in writers:\n",
    "                   if len(writer_list)]\n",
    "    \n",
    "    \n",
    "    \n",
    "    print(writer_list)"
   ]
  },
  {
   "cell_type": "code",
   "execution_count": null,
   "id": "c4e0ccfe",
   "metadata": {},
   "outputs": [],
   "source": [
    "len(get_movie_reviews(url))"
   ]
  }
 ],
 "metadata": {
  "kernelspec": {
   "display_name": "Python 3",
   "language": "python",
   "name": "python3"
  },
  "language_info": {
   "codemirror_mode": {
    "name": "ipython",
    "version": 3
   },
   "file_extension": ".py",
   "mimetype": "text/x-python",
   "name": "python",
   "nbconvert_exporter": "python",
   "pygments_lexer": "ipython3",
   "version": "3.8.8"
  }
 },
 "nbformat": 4,
 "nbformat_minor": 5
}
