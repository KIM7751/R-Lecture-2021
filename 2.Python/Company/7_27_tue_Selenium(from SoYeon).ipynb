{
 "cells": [
  {
   "cell_type": "markdown",
   "id": "069c0aa9",
   "metadata": {},
   "source": [
    "https://wikidocs.net/book/2965\n",
    "### 셀레니움 설치와 크롬 드라이버 자동 처리\n",
    "https://pythondocs.net/selenium/%EC%85%80%EB%A0%88%EB%8B%88%EC%9B%80-%EC%84%A4%EC%B9%98%EC%99%80-%ED%81%AC%EB%A1%AC-%EB%93%9C%EB%9D%BC%EC%9D%B4%EB%B2%84-%EC%9E%90%EB%8F%99-%EC%B2%98%EB%A6%AC/"
   ]
  },
  {
   "cell_type": "code",
   "execution_count": 3,
   "id": "28e98a4d",
   "metadata": {},
   "outputs": [
    {
     "name": "stdout",
     "output_type": "stream",
     "text": [
      "Collecting chromedriver-autoinstaller\n",
      "  Downloading chromedriver_autoinstaller-0.2.2-py3-none-any.whl (5.9 kB)\n",
      "Installing collected packages: chromedriver-autoinstaller\n",
      "Successfully installed chromedriver-autoinstaller-0.2.2\n"
     ]
    }
   ],
   "source": [
    "# !pip install selenium\n",
    "# 크롬 업데이트에 맞추어 크롬 드라이버도 자동으로 업데이트 해 주는 라이브러리.\n",
    "# !pip install chromedriver-autoinstaller"
   ]
  },
  {
   "cell_type": "code",
   "execution_count": 9,
   "id": "ce267767",
   "metadata": {},
   "outputs": [],
   "source": [
    "# 셀레니움 실행하는 코드. (크롬 드라이버 신경 안 써도 되게, 이거 항상 복붙 사용)\n",
    "\n",
    "from selenium import webdriver\n",
    "import chromedriver_autoinstaller\n",
    "\n",
    "# 크롬 버전 확인하는 코드.\n",
    "# 예를 들어 내 크롬 버전이 ‘87.0.4280.88’ 라고 가정한다면 앞에 일단 맨앞 87만 알면 된다.\n",
    "# 버전 맨 앞자리를 구하기 위해 . 으로 split 하고 리스트의 첫 인덱스만 가져온다.\n",
    "chrome_ver = chromedriver_autoinstaller.get_chrome_version().split('.')[0]  #크롬드라이버 버전 확인\n",
    "\n",
    "try:\n",
    "    driver = webdriver.Chrome(f'./{chrome_ver}/chromedriver.exe')   \n",
    "except:\n",
    "    # 크롬 드라이버를 설치하라는 코드.\n",
    "    # 괄호 안을 True 라고 적으면 현재 파이썬 파일이 있는 곳에 크롬 버전을 폴더 이름으로 하여 크롬드라이버가 그 안에 저장됨.\n",
    "    # 예를 들어 나의 크롬 브라우저 버전이 ‘87.0.4280.88′ 이라면 c:\\경로(path)/87/chromedriver.exe 가 생성이 되는 것이다. \n",
    "    chromedriver_autoinstaller.install(True)\n",
    "    driver = webdriver.Chrome(f'./{chrome_ver}/chromedriver.exe')\n",
    "\n",
    "    \n",
    "# 드라이버를 구동했을 때 기본적으로 써주어야 하는 코드(?-?)\n",
    "driver.implicitly_wait(10)"
   ]
  },
  {
   "cell_type": "code",
   "execution_count": 8,
   "id": "f3e9d673",
   "metadata": {},
   "outputs": [],
   "source": [
    "# 자동인스톨 안 하면 이걸로 크롬 드라이버 적용해주면 됨.\n",
    "# driver = webdriver.Chrome(\"chromedriver.exe\")"
   ]
  },
  {
   "cell_type": "code",
   "execution_count": null,
   "id": "879e0ca3",
   "metadata": {},
   "outputs": [],
   "source": [
    "# selenium 에서는 대체로 xpath로 경로를 계산하여 요소에 탐색.\n",
    "# 검색창 우클릭 => 검사 => 카피 => xpath 카피.\n",
    "# //*[@id=\"search\"]"
   ]
  },
  {
   "cell_type": "code",
   "execution_count": 58,
   "id": "e380f596",
   "metadata": {},
   "outputs": [],
   "source": [
    "import time\n",
    "from selenium.webdriver.common.keys import Keys\n",
    "from pprint import pprint\n",
    "from collections import Counter"
   ]
  },
  {
   "cell_type": "code",
   "execution_count": 20,
   "id": "16123bfd",
   "metadata": {},
   "outputs": [],
   "source": [
    "driver = webdriver.Chrome('chromedriver.exe')\n",
    "driver.get(\"https://www.youtube.com/\")\n",
    "\n",
    "time.sleep(3)\n",
    "\n",
    "search = driver.find_element_by_xpath('//*[@id=\"search\"]')\n",
    "\n",
    "search.send_keys('반원 코딩')\n",
    "time.sleep(1)\n",
    "\n",
    "search.send_keys(Keys.ENTER)"
   ]
  },
  {
   "cell_type": "markdown",
   "id": "8b75d4dd",
   "metadata": {},
   "source": [
    "엔터나 방향키같이 특수한 키는 다음과 같이 입력할 수 있습니다.\n",
    "1. from selenium.webdriver.common.keys import Keys 을 참조 2. search.send_keys(Keys.원하는키) 를 실행\n",
    "\n",
    "예를 들어 엔터(enter)를 전송하고 싶으면 Keys.Enter 입니다. 가능한 키는\n",
    "\n",
    "Keys.ARROW_DOWN , Keys.ARROW_LEFT , Keys.ARROW_RIGHT\n",
    "Keys.ARROW_UP , Keys.BACK_SPACE , Keys.CONTROL\n",
    "Keys.ALT , Keys.DELETE , Keys.ENTER , Keys.SHIFT\n",
    "Keys.SPACE , Keys.TAB , Keys.EQUALS , Keys.ESCAPE\n",
    "Keys.HOME , Keys.INSERT , PgUp Key  Keys.PAGE_UP\n",
    "Keys.PAGE_DOWN , Keys.F1 , Keys.F2 , Keys.F3 , Keys.F4\n",
    "Keys.F5 , Keys.F6 , Keys.F7 , Keys.F8 , Keys.F9 , Keys.F10\n",
    "Keys.F11 , Keys.F12"
   ]
  },
  {
   "cell_type": "markdown",
   "id": "fcbcec26",
   "metadata": {},
   "source": [
    "http://zzzscore.com/1to50/\n",
    "\n",
    "순발력 테스트 페이지 자동화"
   ]
  },
  {
   "cell_type": "code",
   "execution_count": 38,
   "id": "182931c9",
   "metadata": {
    "scrolled": true
   },
   "outputs": [],
   "source": [
    "# # 1*1 영역 xpath 복사.\n",
    "\n",
    "# //*[@id=\"grid\"]/div[1]\n",
    "\n",
    "# //*[@id=\"grid\"]/div[2]\n",
    "\n",
    "# //*[@id=\"grid\"]/div[3]\n",
    "\n",
    "# //*[@id=\"grid\"]/div[25]"
   ]
  },
  {
   "cell_type": "code",
   "execution_count": 39,
   "id": "e60daa54",
   "metadata": {},
   "outputs": [],
   "source": [
    "driver = webdriver.Chrome('chromedriver.exe')\n",
    "driver.get('http://zzzscore.com/1to50/')\n",
    "driver.implicitly_wait(300)\n",
    "\n",
    "btns = driver.find_elements_by_xpath('//*[@id=\"grid\"]/div[*]')\n",
    "# print(len(btns))\n",
    "# print(btns[0].text)   # 0번 요소의 텍스트\n",
    "# print()\n",
    "\n",
    "for btn in btns:\n",
    "    if btn.text == \"1\":\n",
    "        btn.click()"
   ]
  },
  {
   "cell_type": "code",
   "execution_count": 75,
   "id": "6896f48e",
   "metadata": {},
   "outputs": [],
   "source": [
    "driver = webdriver.Chrome('chromedriver.exe')\n",
    "driver.get('http://zzzscore.com/1to50/')\n",
    "driver.implicitly_wait(300)\n",
    "\n",
    "num = 1\n",
    "\n",
    "def clickBtn():\n",
    "    global num\n",
    "    btns = driver.find_elements_by_xpath('//*[@id=\"grid\"]/div[*]')\n",
    "    \n",
    "    for btn in btns:\n",
    "        if btn.text == str(num):\n",
    "            btn.click()\n",
    "            num += 1\n",
    "        \n",
    "while num <= 50:\n",
    "    clickBtn()"
   ]
  },
  {
   "cell_type": "markdown",
   "id": "7ad53e31",
   "metadata": {},
   "source": [
    "색맹테스트 봇\n",
    "\n",
    "http://zzzscore.com/color/"
   ]
  },
  {
   "cell_type": "code",
   "execution_count": null,
   "id": "47537da2",
   "metadata": {},
   "outputs": [],
   "source": [
    "//*[@id=\"grid\"]/div[5]\n",
    "\n",
    "//*[@id=\"grid\"]/div[6]"
   ]
  },
  {
   "cell_type": "markdown",
   "id": "b8326805",
   "metadata": {},
   "source": [
    "'*' 은 찾고자 하는 것에 내부요소가 있는 경우만 탐색합니다.\n",
    "그런데 이번에는 <div></div>로 태그 사이에 아무런 요소가 없습니다. 이 경우는 다음처럼 xpath를 탐색하겠습니다.\n",
    "\n",
    "//*[@id=\"grid\"]/div"
   ]
  },
  {
   "cell_type": "code",
   "execution_count": 44,
   "id": "7a17d309",
   "metadata": {},
   "outputs": [
    {
     "name": "stdout",
     "output_type": "stream",
     "text": [
      "230\n"
     ]
    }
   ],
   "source": [
    "driver = webdriver.Chrome('chromedriver.exe')\n",
    "driver.get('http://zzzscore.com/color/')\n",
    "driver.implicitly_wait(300)\n",
    "\n",
    "btns = driver.find_elements_by_xpath('//*[@id=\"grid\"]/div')\n",
    "print(len(btns))"
   ]
  },
  {
   "cell_type": "markdown",
   "id": "c9016875",
   "metadata": {},
   "source": [
    "정답을 구하기 위한 전략\n",
    "1. 각 div의 rgba값 추출\n",
    "2. 추출한 rgba 중 값 하나 다른 곳이 정답.\n",
    "\n",
    "selenium에서 추출한 요소는 value_of_css_property로 해당 요소의 css속성을 확인할 수 있습니다. css란 html 요소의 디자인 속성 정보입니다.\n",
    "\n",
    "모든 버튼에 대해 배경색상 정보를 추출하여 리스트에 저장합시다."
   ]
  },
  {
   "cell_type": "code",
   "execution_count": 59,
   "id": "1481afd4",
   "metadata": {
    "collapsed": true
   },
   "outputs": [
    {
     "name": "stdout",
     "output_type": "stream",
     "text": [
      "['rgba(202, 231, 156, 1)',\n",
      " 'rgba(235, 198, 189, 1)',\n",
      " 'rgba(235, 198, 189, 1)',\n",
      " 'rgba(235, 198, 189, 1)',\n",
      " 'rgba(255, 0, 0, 1)',\n",
      " 'rgba(255, 0, 0, 1)',\n",
      " 'rgba(255, 0, 0, 1)',\n",
      " 'rgba(255, 0, 0, 1)',\n",
      " 'rgba(255, 0, 0, 1)',\n",
      " 'rgba(255, 0, 0, 1)',\n",
      " 'rgba(255, 0, 0, 1)',\n",
      " 'rgba(255, 0, 0, 1)',\n",
      " 'rgba(255, 0, 0, 1)',\n",
      " 'rgba(255, 0, 0, 1)',\n",
      " 'rgba(255, 0, 0, 1)',\n",
      " 'rgba(255, 0, 0, 1)',\n",
      " 'rgba(255, 0, 0, 1)',\n",
      " 'rgba(255, 0, 0, 1)',\n",
      " 'rgba(255, 0, 0, 1)',\n",
      " 'rgba(255, 0, 0, 1)',\n",
      " 'rgba(255, 0, 0, 1)',\n",
      " 'rgba(255, 0, 0, 1)',\n",
      " 'rgba(255, 0, 0, 1)',\n",
      " 'rgba(255, 0, 0, 1)',\n",
      " 'rgba(255, 0, 0, 1)',\n",
      " 'rgba(255, 0, 0, 1)',\n",
      " 'rgba(255, 0, 0, 1)',\n",
      " 'rgba(255, 0, 0, 1)',\n",
      " 'rgba(255, 0, 0, 1)',\n",
      " 'rgba(255, 0, 0, 1)',\n",
      " 'rgba(255, 0, 0, 1)',\n",
      " 'rgba(255, 0, 0, 1)',\n",
      " 'rgba(255, 0, 0, 1)',\n",
      " 'rgba(255, 0, 0, 1)',\n",
      " 'rgba(255, 0, 0, 1)',\n",
      " 'rgba(255, 0, 0, 1)',\n",
      " 'rgba(255, 0, 0, 1)',\n",
      " 'rgba(255, 0, 0, 1)',\n",
      " 'rgba(255, 0, 0, 1)',\n",
      " 'rgba(255, 0, 0, 1)',\n",
      " 'rgba(255, 0, 0, 1)',\n",
      " 'rgba(255, 0, 0, 1)',\n",
      " 'rgba(255, 0, 0, 1)',\n",
      " 'rgba(255, 0, 0, 1)',\n",
      " 'rgba(255, 0, 0, 1)',\n",
      " 'rgba(255, 0, 0, 1)',\n",
      " 'rgba(255, 0, 0, 1)',\n",
      " 'rgba(255, 0, 0, 1)',\n",
      " 'rgba(255, 0, 0, 1)',\n",
      " 'rgba(255, 0, 0, 1)',\n",
      " 'rgba(255, 0, 0, 1)',\n",
      " 'rgba(255, 0, 0, 1)',\n",
      " 'rgba(255, 0, 0, 1)',\n",
      " 'rgba(255, 0, 0, 1)',\n",
      " 'rgba(255, 0, 0, 1)',\n",
      " 'rgba(255, 0, 0, 1)',\n",
      " 'rgba(255, 0, 0, 1)',\n",
      " 'rgba(255, 0, 0, 1)',\n",
      " 'rgba(255, 0, 0, 1)',\n",
      " 'rgba(255, 0, 0, 1)',\n",
      " 'rgba(255, 0, 0, 1)',\n",
      " 'rgba(255, 0, 0, 1)',\n",
      " 'rgba(255, 0, 0, 1)',\n",
      " 'rgba(255, 0, 0, 1)',\n",
      " 'rgba(255, 0, 0, 1)',\n",
      " 'rgba(255, 0, 0, 1)',\n",
      " 'rgba(255, 0, 0, 1)',\n",
      " 'rgba(255, 0, 0, 1)',\n",
      " 'rgba(255, 0, 0, 1)',\n",
      " 'rgba(255, 0, 0, 1)',\n",
      " 'rgba(255, 0, 0, 1)',\n",
      " 'rgba(255, 0, 0, 1)',\n",
      " 'rgba(255, 0, 0, 1)',\n",
      " 'rgba(255, 0, 0, 1)',\n",
      " 'rgba(255, 0, 0, 1)',\n",
      " 'rgba(255, 0, 0, 1)',\n",
      " 'rgba(255, 0, 0, 1)',\n",
      " 'rgba(255, 0, 0, 1)',\n",
      " 'rgba(255, 0, 0, 1)',\n",
      " 'rgba(255, 0, 0, 1)',\n",
      " 'rgba(255, 0, 0, 1)',\n",
      " 'rgba(255, 0, 0, 1)',\n",
      " 'rgba(255, 0, 0, 1)',\n",
      " 'rgba(255, 0, 0, 1)',\n",
      " 'rgba(255, 0, 0, 1)',\n",
      " 'rgba(255, 0, 0, 1)',\n",
      " 'rgba(255, 0, 0, 1)',\n",
      " 'rgba(255, 0, 0, 1)',\n",
      " 'rgba(255, 0, 0, 1)',\n",
      " 'rgba(255, 0, 0, 1)',\n",
      " 'rgba(255, 0, 0, 1)',\n",
      " 'rgba(255, 0, 0, 1)',\n",
      " 'rgba(255, 0, 0, 1)',\n",
      " 'rgba(255, 0, 0, 1)',\n",
      " 'rgba(255, 0, 0, 1)',\n",
      " 'rgba(255, 0, 0, 1)',\n",
      " 'rgba(255, 0, 0, 1)',\n",
      " 'rgba(255, 0, 0, 1)',\n",
      " 'rgba(255, 0, 0, 1)',\n",
      " 'rgba(255, 0, 0, 1)',\n",
      " 'rgba(255, 0, 0, 1)',\n",
      " 'rgba(255, 0, 0, 1)',\n",
      " 'rgba(255, 0, 0, 1)',\n",
      " 'rgba(255, 0, 0, 1)',\n",
      " 'rgba(255, 0, 0, 1)',\n",
      " 'rgba(255, 0, 0, 1)',\n",
      " 'rgba(255, 0, 0, 1)',\n",
      " 'rgba(255, 0, 0, 1)',\n",
      " 'rgba(255, 0, 0, 1)',\n",
      " 'rgba(255, 0, 0, 1)',\n",
      " 'rgba(255, 0, 0, 1)',\n",
      " 'rgba(255, 0, 0, 1)',\n",
      " 'rgba(255, 0, 0, 1)',\n",
      " 'rgba(255, 0, 0, 1)',\n",
      " 'rgba(255, 0, 0, 1)',\n",
      " 'rgba(255, 0, 0, 1)',\n",
      " 'rgba(255, 0, 0, 1)',\n",
      " 'rgba(255, 0, 0, 1)',\n",
      " 'rgba(255, 0, 0, 1)',\n",
      " 'rgba(255, 0, 0, 1)',\n",
      " 'rgba(255, 0, 0, 1)',\n",
      " 'rgba(255, 0, 0, 1)',\n",
      " 'rgba(255, 0, 0, 1)',\n",
      " 'rgba(255, 0, 0, 1)',\n",
      " 'rgba(255, 0, 0, 1)',\n",
      " 'rgba(255, 0, 0, 1)',\n",
      " 'rgba(255, 0, 0, 1)',\n",
      " 'rgba(255, 0, 0, 1)',\n",
      " 'rgba(255, 0, 0, 1)',\n",
      " 'rgba(255, 0, 0, 1)',\n",
      " 'rgba(255, 0, 0, 1)',\n",
      " 'rgba(255, 0, 0, 1)',\n",
      " 'rgba(255, 0, 0, 1)',\n",
      " 'rgba(255, 0, 0, 1)',\n",
      " 'rgba(255, 0, 0, 1)',\n",
      " 'rgba(255, 0, 0, 1)',\n",
      " 'rgba(255, 0, 0, 1)',\n",
      " 'rgba(255, 0, 0, 1)',\n",
      " 'rgba(255, 0, 0, 1)',\n",
      " 'rgba(255, 0, 0, 1)',\n",
      " 'rgba(255, 0, 0, 1)',\n",
      " 'rgba(255, 0, 0, 1)',\n",
      " 'rgba(255, 0, 0, 1)',\n",
      " 'rgba(255, 0, 0, 1)',\n",
      " 'rgba(255, 0, 0, 1)',\n",
      " 'rgba(255, 0, 0, 1)',\n",
      " 'rgba(255, 0, 0, 1)',\n",
      " 'rgba(255, 0, 0, 1)',\n",
      " 'rgba(255, 0, 0, 1)',\n",
      " 'rgba(255, 0, 0, 1)',\n",
      " 'rgba(255, 0, 0, 1)',\n",
      " 'rgba(255, 0, 0, 1)',\n",
      " 'rgba(255, 0, 0, 1)',\n",
      " 'rgba(255, 0, 0, 1)',\n",
      " 'rgba(255, 0, 0, 1)',\n",
      " 'rgba(255, 0, 0, 1)',\n",
      " 'rgba(255, 0, 0, 1)',\n",
      " 'rgba(255, 0, 0, 1)',\n",
      " 'rgba(255, 0, 0, 1)',\n",
      " 'rgba(255, 0, 0, 1)',\n",
      " 'rgba(255, 0, 0, 1)',\n",
      " 'rgba(255, 0, 0, 1)',\n",
      " 'rgba(255, 0, 0, 1)',\n",
      " 'rgba(255, 0, 0, 1)',\n",
      " 'rgba(255, 0, 0, 1)',\n",
      " 'rgba(255, 0, 0, 1)',\n",
      " 'rgba(255, 0, 0, 1)',\n",
      " 'rgba(255, 0, 0, 1)',\n",
      " 'rgba(255, 0, 0, 1)',\n",
      " 'rgba(255, 0, 0, 1)',\n",
      " 'rgba(255, 0, 0, 1)',\n",
      " 'rgba(255, 0, 0, 1)',\n",
      " 'rgba(255, 0, 0, 1)',\n",
      " 'rgba(255, 0, 0, 1)',\n",
      " 'rgba(255, 0, 0, 1)',\n",
      " 'rgba(255, 0, 0, 1)',\n",
      " 'rgba(255, 0, 0, 1)',\n",
      " 'rgba(255, 0, 0, 1)',\n",
      " 'rgba(255, 0, 0, 1)',\n",
      " 'rgba(255, 0, 0, 1)',\n",
      " 'rgba(255, 0, 0, 1)',\n",
      " 'rgba(255, 0, 0, 1)',\n",
      " 'rgba(255, 0, 0, 1)',\n",
      " 'rgba(255, 0, 0, 1)',\n",
      " 'rgba(255, 0, 0, 1)',\n",
      " 'rgba(255, 0, 0, 1)',\n",
      " 'rgba(255, 0, 0, 1)',\n",
      " 'rgba(255, 0, 0, 1)',\n",
      " 'rgba(255, 0, 0, 1)',\n",
      " 'rgba(255, 0, 0, 1)',\n",
      " 'rgba(255, 0, 0, 1)',\n",
      " 'rgba(255, 0, 0, 1)',\n",
      " 'rgba(255, 0, 0, 1)',\n",
      " 'rgba(255, 0, 0, 1)',\n",
      " 'rgba(255, 0, 0, 1)',\n",
      " 'rgba(255, 0, 0, 1)',\n",
      " 'rgba(255, 0, 0, 1)',\n",
      " 'rgba(255, 0, 0, 1)',\n",
      " 'rgba(255, 0, 0, 1)',\n",
      " 'rgba(255, 0, 0, 1)',\n",
      " 'rgba(255, 0, 0, 1)',\n",
      " 'rgba(255, 0, 0, 1)',\n",
      " 'rgba(255, 0, 0, 1)',\n",
      " 'rgba(255, 0, 0, 1)',\n",
      " 'rgba(255, 0, 0, 1)',\n",
      " 'rgba(255, 0, 0, 1)',\n",
      " 'rgba(255, 0, 0, 1)',\n",
      " 'rgba(255, 0, 0, 1)',\n",
      " 'rgba(255, 0, 0, 1)',\n",
      " 'rgba(255, 0, 0, 1)',\n",
      " 'rgba(255, 0, 0, 1)',\n",
      " 'rgba(255, 0, 0, 1)',\n",
      " 'rgba(255, 0, 0, 1)',\n",
      " 'rgba(255, 0, 0, 1)',\n",
      " 'rgba(255, 0, 0, 1)',\n",
      " 'rgba(255, 0, 0, 1)',\n",
      " 'rgba(255, 0, 0, 1)',\n",
      " 'rgba(255, 0, 0, 1)',\n",
      " 'rgba(255, 0, 0, 1)',\n",
      " 'rgba(255, 0, 0, 1)',\n",
      " 'rgba(255, 0, 0, 1)',\n",
      " 'rgba(255, 0, 0, 1)',\n",
      " 'rgba(255, 0, 0, 1)',\n",
      " 'rgba(255, 0, 0, 1)',\n",
      " 'rgba(255, 0, 0, 1)',\n",
      " 'rgba(255, 0, 0, 1)',\n",
      " 'rgba(255, 0, 0, 1)',\n",
      " 'rgba(255, 0, 0, 1)',\n",
      " 'rgba(255, 0, 0, 1)',\n",
      " 'rgba(255, 0, 0, 1)']\n"
     ]
    }
   ],
   "source": [
    "driver = webdriver.Chrome('chromedriver.exe')\n",
    "driver.get('http://zzzscore.com/color/')\n",
    "driver.implicitly_wait(300)\n",
    "\n",
    "btns = driver.find_elements_by_xpath('//*[@id=\"grid\"]/div')\n",
    "\n",
    "btns_rgba = [btn.value_of_css_property('background-color') for btn in btns]\n",
    "pprint(btns_rgba)"
   ]
  },
  {
   "cell_type": "code",
   "execution_count": 61,
   "id": "b39fca23",
   "metadata": {},
   "outputs": [
    {
     "name": "stdout",
     "output_type": "stream",
     "text": [
      "Counter({'rgba(255, 0, 0, 1)': 226,\n",
      "         'rgba(127, 54, 85, 1)': 3,\n",
      "         'rgba(94, 21, 52, 1)': 1})\n"
     ]
    }
   ],
   "source": [
    "driver = webdriver.Chrome('chromedriver.exe')\n",
    "driver.get('http://zzzscore.com/color/')\n",
    "driver.implicitly_wait(300)\n",
    "\n",
    "btns = driver.find_elements_by_xpath('//*[@id=\"grid\"]/div')\n",
    "\n",
    "btns_rgba = [btn.value_of_css_property('background-color') for btn in btns]\n",
    "\n",
    "result = Counter(btns_rgba)\n",
    "pprint(result)   # 여기서 value 가 1인 것이 정답.\n",
    "\n",
    "# value 가 1인 것 탐색.\n",
    "for key, value in result.items():\n",
    "    if value == 1:\n",
    "        answer = key\n",
    "        break\n",
    "else:\n",
    "    answer = None\n",
    "    print(\"정답을 찾을 수 없습니다\")"
   ]
  },
  {
   "cell_type": "markdown",
   "id": "f5309799",
   "metadata": {},
   "source": [
    "### 정답 누르기\n",
    "위에서 구한 배경색 정보를 토대로 정답 버튼을 클릭해봅시다.\n",
    "\n",
    "버튼 요소를 저장한 btns에 배경색 정보를 순서대로 추출한 것이 btns_rgba 임으로 인덱스가 일치합니다. 따라서 다음 과정으로 정답을 클릭해봅시다.\n",
    "\n",
    "1. answer에 저장된 색이 어느 위치(인덱스)에 있는지 btns_rgba에서 찾고\n",
    "2. 그 인덱스로 btns에 저장된 요소를 조회하여 클릭을 한다."
   ]
  },
  {
   "cell_type": "code",
   "execution_count": 76,
   "id": "c9769672",
   "metadata": {
    "collapsed": true
   },
   "outputs": [
    {
     "ename": "NoSuchWindowException",
     "evalue": "Message: no such window: target window already closed\nfrom unknown error: web view not found\n  (Session info: chrome=92.0.4515.107)\n",
     "output_type": "error",
     "traceback": [
      "\u001b[1;31m---------------------------------------------------------------------------\u001b[0m",
      "\u001b[1;31mNoSuchWindowException\u001b[0m                     Traceback (most recent call last)",
      "\u001b[1;32m<ipython-input-76-d33f60a95aeb>\u001b[0m in \u001b[0;36m<module>\u001b[1;34m\u001b[0m\n\u001b[0;32m     33\u001b[0m     \u001b[0mstart\u001b[0m \u001b[1;33m=\u001b[0m \u001b[0mtime\u001b[0m\u001b[1;33m.\u001b[0m\u001b[0mtime\u001b[0m\u001b[1;33m(\u001b[0m\u001b[1;33m)\u001b[0m\u001b[1;33m\u001b[0m\u001b[1;33m\u001b[0m\u001b[0m\n\u001b[0;32m     34\u001b[0m     \u001b[1;32mwhile\u001b[0m \u001b[0mtime\u001b[0m\u001b[1;33m.\u001b[0m\u001b[0mtime\u001b[0m\u001b[1;33m(\u001b[0m\u001b[1;33m)\u001b[0m \u001b[1;33m-\u001b[0m \u001b[0mstart\u001b[0m \u001b[1;33m<=\u001b[0m \u001b[1;36m60\u001b[0m\u001b[1;33m:\u001b[0m\u001b[1;33m\u001b[0m\u001b[1;33m\u001b[0m\u001b[0m\n\u001b[1;32m---> 35\u001b[1;33m         \u001b[0manalysis\u001b[0m\u001b[1;33m(\u001b[0m\u001b[1;33m)\u001b[0m\u001b[1;33m\u001b[0m\u001b[1;33m\u001b[0m\u001b[0m\n\u001b[0m",
      "\u001b[1;32m<ipython-input-76-d33f60a95aeb>\u001b[0m in \u001b[0;36manalysis\u001b[1;34m()\u001b[0m\n\u001b[0;32m      7\u001b[0m \u001b[1;33m\u001b[0m\u001b[0m\n\u001b[0;32m      8\u001b[0m \u001b[1;32mdef\u001b[0m \u001b[0manalysis\u001b[0m\u001b[1;33m(\u001b[0m\u001b[1;33m)\u001b[0m\u001b[1;33m:\u001b[0m\u001b[1;33m\u001b[0m\u001b[1;33m\u001b[0m\u001b[0m\n\u001b[1;32m----> 9\u001b[1;33m     \u001b[0mbtns_rgba\u001b[0m \u001b[1;33m=\u001b[0m \u001b[1;33m[\u001b[0m\u001b[0mbtn\u001b[0m\u001b[1;33m.\u001b[0m\u001b[0mvalue_of_css_property\u001b[0m\u001b[1;33m(\u001b[0m\u001b[1;34m'background-color'\u001b[0m\u001b[1;33m)\u001b[0m \u001b[1;32mfor\u001b[0m \u001b[0mbtn\u001b[0m \u001b[1;32min\u001b[0m \u001b[0mbtns\u001b[0m\u001b[1;33m]\u001b[0m\u001b[1;33m\u001b[0m\u001b[1;33m\u001b[0m\u001b[0m\n\u001b[0m\u001b[0;32m     10\u001b[0m     \u001b[0mresult\u001b[0m \u001b[1;33m=\u001b[0m \u001b[0mCounter\u001b[0m\u001b[1;33m(\u001b[0m\u001b[0mbtns_rgba\u001b[0m\u001b[1;33m)\u001b[0m \u001b[1;31m# 여기서 value 가 1인 것이 정답.\u001b[0m\u001b[1;33m\u001b[0m\u001b[1;33m\u001b[0m\u001b[0m\n\u001b[0;32m     11\u001b[0m \u001b[1;33m\u001b[0m\u001b[0m\n",
      "\u001b[1;32m<ipython-input-76-d33f60a95aeb>\u001b[0m in \u001b[0;36m<listcomp>\u001b[1;34m(.0)\u001b[0m\n\u001b[0;32m      7\u001b[0m \u001b[1;33m\u001b[0m\u001b[0m\n\u001b[0;32m      8\u001b[0m \u001b[1;32mdef\u001b[0m \u001b[0manalysis\u001b[0m\u001b[1;33m(\u001b[0m\u001b[1;33m)\u001b[0m\u001b[1;33m:\u001b[0m\u001b[1;33m\u001b[0m\u001b[1;33m\u001b[0m\u001b[0m\n\u001b[1;32m----> 9\u001b[1;33m     \u001b[0mbtns_rgba\u001b[0m \u001b[1;33m=\u001b[0m \u001b[1;33m[\u001b[0m\u001b[0mbtn\u001b[0m\u001b[1;33m.\u001b[0m\u001b[0mvalue_of_css_property\u001b[0m\u001b[1;33m(\u001b[0m\u001b[1;34m'background-color'\u001b[0m\u001b[1;33m)\u001b[0m \u001b[1;32mfor\u001b[0m \u001b[0mbtn\u001b[0m \u001b[1;32min\u001b[0m \u001b[0mbtns\u001b[0m\u001b[1;33m]\u001b[0m\u001b[1;33m\u001b[0m\u001b[1;33m\u001b[0m\u001b[0m\n\u001b[0m\u001b[0;32m     10\u001b[0m     \u001b[0mresult\u001b[0m \u001b[1;33m=\u001b[0m \u001b[0mCounter\u001b[0m\u001b[1;33m(\u001b[0m\u001b[0mbtns_rgba\u001b[0m\u001b[1;33m)\u001b[0m \u001b[1;31m# 여기서 value 가 1인 것이 정답.\u001b[0m\u001b[1;33m\u001b[0m\u001b[1;33m\u001b[0m\u001b[0m\n\u001b[0;32m     11\u001b[0m \u001b[1;33m\u001b[0m\u001b[0m\n",
      "\u001b[1;32mC:\\ProgramData\\Anaconda3\\lib\\site-packages\\selenium\\webdriver\\remote\\webelement.py\u001b[0m in \u001b[0;36mvalue_of_css_property\u001b[1;34m(self, property_name)\u001b[0m\n\u001b[0;32m    523\u001b[0m     \u001b[1;32mdef\u001b[0m \u001b[0mvalue_of_css_property\u001b[0m\u001b[1;33m(\u001b[0m\u001b[0mself\u001b[0m\u001b[1;33m,\u001b[0m \u001b[0mproperty_name\u001b[0m\u001b[1;33m)\u001b[0m\u001b[1;33m:\u001b[0m\u001b[1;33m\u001b[0m\u001b[1;33m\u001b[0m\u001b[0m\n\u001b[0;32m    524\u001b[0m         \u001b[1;34m\"\"\"The value of a CSS property.\"\"\"\u001b[0m\u001b[1;33m\u001b[0m\u001b[1;33m\u001b[0m\u001b[0m\n\u001b[1;32m--> 525\u001b[1;33m         return self._execute(Command.GET_ELEMENT_VALUE_OF_CSS_PROPERTY, {\n\u001b[0m\u001b[0;32m    526\u001b[0m             'propertyName': property_name})['value']\n\u001b[0;32m    527\u001b[0m \u001b[1;33m\u001b[0m\u001b[0m\n",
      "\u001b[1;32mC:\\ProgramData\\Anaconda3\\lib\\site-packages\\selenium\\webdriver\\remote\\webelement.py\u001b[0m in \u001b[0;36m_execute\u001b[1;34m(self, command, params)\u001b[0m\n\u001b[0;32m    631\u001b[0m             \u001b[0mparams\u001b[0m \u001b[1;33m=\u001b[0m \u001b[1;33m{\u001b[0m\u001b[1;33m}\u001b[0m\u001b[1;33m\u001b[0m\u001b[1;33m\u001b[0m\u001b[0m\n\u001b[0;32m    632\u001b[0m         \u001b[0mparams\u001b[0m\u001b[1;33m[\u001b[0m\u001b[1;34m'id'\u001b[0m\u001b[1;33m]\u001b[0m \u001b[1;33m=\u001b[0m \u001b[0mself\u001b[0m\u001b[1;33m.\u001b[0m\u001b[0m_id\u001b[0m\u001b[1;33m\u001b[0m\u001b[1;33m\u001b[0m\u001b[0m\n\u001b[1;32m--> 633\u001b[1;33m         \u001b[1;32mreturn\u001b[0m \u001b[0mself\u001b[0m\u001b[1;33m.\u001b[0m\u001b[0m_parent\u001b[0m\u001b[1;33m.\u001b[0m\u001b[0mexecute\u001b[0m\u001b[1;33m(\u001b[0m\u001b[0mcommand\u001b[0m\u001b[1;33m,\u001b[0m \u001b[0mparams\u001b[0m\u001b[1;33m)\u001b[0m\u001b[1;33m\u001b[0m\u001b[1;33m\u001b[0m\u001b[0m\n\u001b[0m\u001b[0;32m    634\u001b[0m \u001b[1;33m\u001b[0m\u001b[0m\n\u001b[0;32m    635\u001b[0m     \u001b[1;32mdef\u001b[0m \u001b[0mfind_element\u001b[0m\u001b[1;33m(\u001b[0m\u001b[0mself\u001b[0m\u001b[1;33m,\u001b[0m \u001b[0mby\u001b[0m\u001b[1;33m=\u001b[0m\u001b[0mBy\u001b[0m\u001b[1;33m.\u001b[0m\u001b[0mID\u001b[0m\u001b[1;33m,\u001b[0m \u001b[0mvalue\u001b[0m\u001b[1;33m=\u001b[0m\u001b[1;32mNone\u001b[0m\u001b[1;33m)\u001b[0m\u001b[1;33m:\u001b[0m\u001b[1;33m\u001b[0m\u001b[1;33m\u001b[0m\u001b[0m\n",
      "\u001b[1;32mC:\\ProgramData\\Anaconda3\\lib\\site-packages\\selenium\\webdriver\\remote\\webdriver.py\u001b[0m in \u001b[0;36mexecute\u001b[1;34m(self, driver_command, params)\u001b[0m\n\u001b[0;32m    319\u001b[0m         \u001b[0mresponse\u001b[0m \u001b[1;33m=\u001b[0m \u001b[0mself\u001b[0m\u001b[1;33m.\u001b[0m\u001b[0mcommand_executor\u001b[0m\u001b[1;33m.\u001b[0m\u001b[0mexecute\u001b[0m\u001b[1;33m(\u001b[0m\u001b[0mdriver_command\u001b[0m\u001b[1;33m,\u001b[0m \u001b[0mparams\u001b[0m\u001b[1;33m)\u001b[0m\u001b[1;33m\u001b[0m\u001b[1;33m\u001b[0m\u001b[0m\n\u001b[0;32m    320\u001b[0m         \u001b[1;32mif\u001b[0m \u001b[0mresponse\u001b[0m\u001b[1;33m:\u001b[0m\u001b[1;33m\u001b[0m\u001b[1;33m\u001b[0m\u001b[0m\n\u001b[1;32m--> 321\u001b[1;33m             \u001b[0mself\u001b[0m\u001b[1;33m.\u001b[0m\u001b[0merror_handler\u001b[0m\u001b[1;33m.\u001b[0m\u001b[0mcheck_response\u001b[0m\u001b[1;33m(\u001b[0m\u001b[0mresponse\u001b[0m\u001b[1;33m)\u001b[0m\u001b[1;33m\u001b[0m\u001b[1;33m\u001b[0m\u001b[0m\n\u001b[0m\u001b[0;32m    322\u001b[0m             response['value'] = self._unwrap_value(\n\u001b[0;32m    323\u001b[0m                 response.get('value', None))\n",
      "\u001b[1;32mC:\\ProgramData\\Anaconda3\\lib\\site-packages\\selenium\\webdriver\\remote\\errorhandler.py\u001b[0m in \u001b[0;36mcheck_response\u001b[1;34m(self, response)\u001b[0m\n\u001b[0;32m    240\u001b[0m                 \u001b[0malert_text\u001b[0m \u001b[1;33m=\u001b[0m \u001b[0mvalue\u001b[0m\u001b[1;33m[\u001b[0m\u001b[1;34m'alert'\u001b[0m\u001b[1;33m]\u001b[0m\u001b[1;33m.\u001b[0m\u001b[0mget\u001b[0m\u001b[1;33m(\u001b[0m\u001b[1;34m'text'\u001b[0m\u001b[1;33m)\u001b[0m\u001b[1;33m\u001b[0m\u001b[1;33m\u001b[0m\u001b[0m\n\u001b[0;32m    241\u001b[0m             \u001b[1;32mraise\u001b[0m \u001b[0mexception_class\u001b[0m\u001b[1;33m(\u001b[0m\u001b[0mmessage\u001b[0m\u001b[1;33m,\u001b[0m \u001b[0mscreen\u001b[0m\u001b[1;33m,\u001b[0m \u001b[0mstacktrace\u001b[0m\u001b[1;33m,\u001b[0m \u001b[0malert_text\u001b[0m\u001b[1;33m)\u001b[0m\u001b[1;33m\u001b[0m\u001b[1;33m\u001b[0m\u001b[0m\n\u001b[1;32m--> 242\u001b[1;33m         \u001b[1;32mraise\u001b[0m \u001b[0mexception_class\u001b[0m\u001b[1;33m(\u001b[0m\u001b[0mmessage\u001b[0m\u001b[1;33m,\u001b[0m \u001b[0mscreen\u001b[0m\u001b[1;33m,\u001b[0m \u001b[0mstacktrace\u001b[0m\u001b[1;33m)\u001b[0m\u001b[1;33m\u001b[0m\u001b[1;33m\u001b[0m\u001b[0m\n\u001b[0m\u001b[0;32m    243\u001b[0m \u001b[1;33m\u001b[0m\u001b[0m\n\u001b[0;32m    244\u001b[0m     \u001b[1;32mdef\u001b[0m \u001b[0m_value_or_default\u001b[0m\u001b[1;33m(\u001b[0m\u001b[0mself\u001b[0m\u001b[1;33m,\u001b[0m \u001b[0mobj\u001b[0m\u001b[1;33m,\u001b[0m \u001b[0mkey\u001b[0m\u001b[1;33m,\u001b[0m \u001b[0mdefault\u001b[0m\u001b[1;33m)\u001b[0m\u001b[1;33m:\u001b[0m\u001b[1;33m\u001b[0m\u001b[1;33m\u001b[0m\u001b[0m\n",
      "\u001b[1;31mNoSuchWindowException\u001b[0m: Message: no such window: target window already closed\nfrom unknown error: web view not found\n  (Session info: chrome=92.0.4515.107)\n"
     ]
    }
   ],
   "source": [
    "driver = webdriver.Chrome('chromedriver.exe')\n",
    "driver.get('http://zzzscore.com/color/')\n",
    "driver.implicitly_wait(300)\n",
    "\n",
    "btns = driver.find_elements_by_xpath('//*[@id=\"grid\"]/div')\n",
    "\n",
    "\n",
    "def analysis():\n",
    "    btns_rgba = [btn.value_of_css_property('background-color') for btn in btns]\n",
    "    result = Counter(btns_rgba) # 여기서 value 가 1인 것이 정답.\n",
    "\n",
    "# value 가 1인 것 탐색.\n",
    "    for key, value in result.items():\n",
    "        if value == 1:\n",
    "            answer = key\n",
    "            break\n",
    "    else:\n",
    "        answer = None\n",
    "        print(\"정답을 찾을 수 없습니다\")\n",
    "    \n",
    "# 정답 클릭\n",
    "# 1. btns_rgba에서 인덱스 값을 구하고\n",
    "# 2. 그 인덱스 값으로 btns 인덱스에 접근, 클릭\n",
    "\n",
    "    if answer:\n",
    "        index = btns_rgba.index(answer)\n",
    "        btns[index].click()\n",
    "    \n",
    "# 제한시간동안 동작(60초)\n",
    "\n",
    "    \n",
    "if __name__ == \"__main__\":\n",
    "    start = time.time()\n",
    "    while time.time() - start <= 60:\n",
    "        analysis()"
   ]
  },
  {
   "cell_type": "code",
   "execution_count": 68,
   "id": "f2d3aa69",
   "metadata": {},
   "outputs": [],
   "source": [
    "# 웹 페이지 소스코드를 분석해보면 정답 버튼은 class = \"main\" 속성과 속성값을 가지고 있습니다.\n",
    "# 확실히 이게 더 빠르겠죠. 하지만 그건 이 사이트만의 특징이고,\n",
    "# 이번 학습은 요소의 css정보를 추출하는데 의미를 두도록 합시다.\n",
    "\n",
    "driver = webdriver.Chrome('chromedriver')\n",
    "driver.get('http://zzzscore.com/color/')\n",
    "driver.implicitly_wait(300)\n",
    "\n",
    "#시작 시각\n",
    "start = time.time()\n",
    "\n",
    "while time.time() - start <= 60:\n",
    "    try:\n",
    "        btn = driver.find_element_by_class_name(\"main\")\n",
    "        btn.click()\n",
    "    except:\n",
    "        pass"
   ]
  },
  {
   "cell_type": "markdown",
   "id": "fea34bfe",
   "metadata": {},
   "source": [
    "E. 트위치 클립 다운로드\n",
    "\n",
    "트위치 클립은 <video>태그에 src속성을 확인하면됩니다. 그동안은 xpath로만 탐색을 했는데, 이번에는 추출할 요소의 태그가 명확하니 find_element_by_tag_name를 사용하겠습니다.\n",
    "\n",
    "selenium에서 추출한 요소의 속성값을 확인하려면 get_attribute를 사용할 수 있습니다.\n"
   ]
  },
  {
   "cell_type": "code",
   "execution_count": 83,
   "id": "4f3617f0",
   "metadata": {},
   "outputs": [
    {
     "name": "stdout",
     "output_type": "stream",
     "text": [
      "https://production.assets.clips.twitchcdn.net/33794274480-offset-2606.mp4?sig=6d8dbac8a918fa584004b468251dce2529e387d4&token=%7B%22authorization%22%3A%7B%22forbidden%22%3Afalse%2C%22reason%22%3A%22%22%7D%2C%22clip_uri%22%3A%22https%3A%2F%2Fproduction.assets.clips.twitchcdn.net%2F33794274480-offset-2606.mp4%22%2C%22device_id%22%3A%2239ZfUgttqhfSafoCrIvBTW2iTwsfK7rZ%22%2C%22expires%22%3A1627437637%2C%22user_id%22%3A%22%22%2C%22version%22%3A2%7D\n",
      "<selenium.webdriver.remote.webelement.WebElement (session=\"28b1ff15cf59f1cef81c0ac58c976170\", element=\"191d6275-3670-43f7-84f7-9304d3160923\")>\n"
     ]
    }
   ],
   "source": [
    "driver = webdriver.Chrome('chromedriver.exe')\n",
    "driver.get(\"https://www.twitch.tv/soorte214/clip/AgileGracefulCheesecakePeteZarollTie\") #특정 클립 링크\n",
    "\n",
    "time.sleep(3)\n",
    "\n",
    "#video 태그 확인\n",
    "# 개발자 모드로 들어가서 보면, video 태그에 src에 동영상 클립이 있음.\n",
    "\n",
    "url_element = driver.find_element_by_tag_name('video')\n",
    "vid_url = url_element.get_attribute('src')\n",
    "print(vid_url)\n",
    "\n",
    "\n",
    "title_element = driver.find_element_by_class_name('channel-info-content')\n",
    "pprint(title_element)"
   ]
  },
  {
   "cell_type": "code",
   "execution_count": 87,
   "id": "dc5cede7",
   "metadata": {},
   "outputs": [
    {
     "name": "stdout",
     "output_type": "stream",
     "text": [
      "https://production.assets.clips.twitchcdn.net/33794274480-offset-2606.mp4?sig=e13258f7c1fb9c9e9835e599ed1b6963584c976c&token=%7B%22authorization%22%3A%7B%22forbidden%22%3Afalse%2C%22reason%22%3A%22%22%7D%2C%22clip_uri%22%3A%22https%3A%2F%2Fproduction.assets.clips.twitchcdn.net%2F33794274480-offset-2606.mp4%22%2C%22device_id%22%3A%22X1phZNRDsFnlwCiGHV9JDusyvB1q2l47%22%2C%22expires%22%3A1627437877%2C%22user_id%22%3A%22%22%2C%22version%22%3A2%7D\n",
      "<selenium.webdriver.remote.webelement.WebElement (session=\"90383d3c70d5818ac629f0aeb6b9fa45\", element=\"b1eafcf8-f524-4799-8bec-f2122b16e6b8\")>\n"
     ]
    }
   ],
   "source": [
    "driver = webdriver.Chrome('chromedriver.exe')\n",
    "driver.get(\"https://www.twitch.tv/soorte214/clip/AgileGracefulCheesecakePeteZarollTie\") #특정 클립 링크\n",
    "\n",
    "time.sleep(3)\n",
    "\n",
    "#video 태그 확인\n",
    "# 개발자 모드로 들어가서 보면, video 태그에 src에 동영상 클립이 있음.\n",
    "\n",
    "url_element = driver.find_element_by_tag_name('video')\n",
    "vid_url = url_element.get_attribute('src')\n",
    "print(vid_url)\n",
    "\n",
    "\n",
    "title_element1 = driver.find_element_by_class_name('channel-info-content')\n",
    "pprint(title_element1)"
   ]
  },
  {
   "cell_type": "code",
   "execution_count": 89,
   "id": "afb0a288",
   "metadata": {},
   "outputs": [
    {
     "name": "stdout",
     "output_type": "stream",
     "text": [
      "https://production.assets.clips.twitchcdn.net/33794274480-offset-2606.mp4?sig=0a97327b9682c965b598c01fdc769ec49738d0da&token=%7B%22authorization%22%3A%7B%22forbidden%22%3Afalse%2C%22reason%22%3A%22%22%7D%2C%22clip_uri%22%3A%22https%3A%2F%2Fproduction.assets.clips.twitchcdn.net%2F33794274480-offset-2606.mp4%22%2C%22device_id%22%3A%22Ipy3GO96bqTN28UmRlPqSeSCGaSBXo3X%22%2C%22expires%22%3A1627437963%2C%22user_id%22%3A%22%22%2C%22version%22%3A2%7D\n"
     ]
    },
    {
     "ename": "NoSuchElementException",
     "evalue": "Message: no such element: Unable to locate element: {\"method\":\"css selector\",\"selector\":\".tw-flex\"}\n  (Session info: chrome=92.0.4515.107)\n",
     "output_type": "error",
     "traceback": [
      "\u001b[1;31m---------------------------------------------------------------------------\u001b[0m",
      "\u001b[1;31mNoSuchElementException\u001b[0m                    Traceback (most recent call last)",
      "\u001b[1;32m<ipython-input-89-7e48a137d8a9>\u001b[0m in \u001b[0;36m<module>\u001b[1;34m\u001b[0m\n\u001b[0;32m     10\u001b[0m \u001b[1;33m\u001b[0m\u001b[0m\n\u001b[0;32m     11\u001b[0m \u001b[1;31m#클립 제목과 날짜 확인\u001b[0m\u001b[1;33m\u001b[0m\u001b[1;33m\u001b[0m\u001b[1;33m\u001b[0m\u001b[0m\n\u001b[1;32m---> 12\u001b[1;33m \u001b[0mtitle_element1\u001b[0m \u001b[1;33m=\u001b[0m \u001b[0mdriver\u001b[0m\u001b[1;33m.\u001b[0m\u001b[0mfind_element_by_class_name\u001b[0m\u001b[1;33m(\u001b[0m\u001b[1;34m'tw-flex'\u001b[0m\u001b[1;33m)\u001b[0m\u001b[1;33m\u001b[0m\u001b[1;33m\u001b[0m\u001b[0m\n\u001b[0m\u001b[0;32m     13\u001b[0m \u001b[0mtitle_element2\u001b[0m \u001b[1;33m=\u001b[0m \u001b[0mtitle_element1\u001b[0m\u001b[1;33m.\u001b[0m\u001b[0mfind_elements_by_tag_name\u001b[0m\u001b[1;33m(\u001b[0m\u001b[1;34m'span'\u001b[0m\u001b[1;33m)\u001b[0m\u001b[1;33m\u001b[0m\u001b[1;33m\u001b[0m\u001b[0m\n\u001b[0;32m     14\u001b[0m \u001b[0mvid_title\u001b[0m \u001b[1;33m=\u001b[0m \u001b[1;32mNone\u001b[0m\u001b[1;33m\u001b[0m\u001b[1;33m\u001b[0m\u001b[0m\n",
      "\u001b[1;32mC:\\ProgramData\\Anaconda3\\lib\\site-packages\\selenium\\webdriver\\remote\\webdriver.py\u001b[0m in \u001b[0;36mfind_element_by_class_name\u001b[1;34m(self, name)\u001b[0m\n\u001b[0;32m    562\u001b[0m             \u001b[0melement\u001b[0m \u001b[1;33m=\u001b[0m \u001b[0mdriver\u001b[0m\u001b[1;33m.\u001b[0m\u001b[0mfind_element_by_class_name\u001b[0m\u001b[1;33m(\u001b[0m\u001b[1;34m'foo'\u001b[0m\u001b[1;33m)\u001b[0m\u001b[1;33m\u001b[0m\u001b[1;33m\u001b[0m\u001b[0m\n\u001b[0;32m    563\u001b[0m         \"\"\"\n\u001b[1;32m--> 564\u001b[1;33m         \u001b[1;32mreturn\u001b[0m \u001b[0mself\u001b[0m\u001b[1;33m.\u001b[0m\u001b[0mfind_element\u001b[0m\u001b[1;33m(\u001b[0m\u001b[0mby\u001b[0m\u001b[1;33m=\u001b[0m\u001b[0mBy\u001b[0m\u001b[1;33m.\u001b[0m\u001b[0mCLASS_NAME\u001b[0m\u001b[1;33m,\u001b[0m \u001b[0mvalue\u001b[0m\u001b[1;33m=\u001b[0m\u001b[0mname\u001b[0m\u001b[1;33m)\u001b[0m\u001b[1;33m\u001b[0m\u001b[1;33m\u001b[0m\u001b[0m\n\u001b[0m\u001b[0;32m    565\u001b[0m \u001b[1;33m\u001b[0m\u001b[0m\n\u001b[0;32m    566\u001b[0m     \u001b[1;32mdef\u001b[0m \u001b[0mfind_elements_by_class_name\u001b[0m\u001b[1;33m(\u001b[0m\u001b[0mself\u001b[0m\u001b[1;33m,\u001b[0m \u001b[0mname\u001b[0m\u001b[1;33m)\u001b[0m\u001b[1;33m:\u001b[0m\u001b[1;33m\u001b[0m\u001b[1;33m\u001b[0m\u001b[0m\n",
      "\u001b[1;32mC:\\ProgramData\\Anaconda3\\lib\\site-packages\\selenium\\webdriver\\remote\\webdriver.py\u001b[0m in \u001b[0;36mfind_element\u001b[1;34m(self, by, value)\u001b[0m\n\u001b[0;32m    974\u001b[0m                 \u001b[0mby\u001b[0m \u001b[1;33m=\u001b[0m \u001b[0mBy\u001b[0m\u001b[1;33m.\u001b[0m\u001b[0mCSS_SELECTOR\u001b[0m\u001b[1;33m\u001b[0m\u001b[1;33m\u001b[0m\u001b[0m\n\u001b[0;32m    975\u001b[0m                 \u001b[0mvalue\u001b[0m \u001b[1;33m=\u001b[0m \u001b[1;34m'[name=\"%s\"]'\u001b[0m \u001b[1;33m%\u001b[0m \u001b[0mvalue\u001b[0m\u001b[1;33m\u001b[0m\u001b[1;33m\u001b[0m\u001b[0m\n\u001b[1;32m--> 976\u001b[1;33m         return self.execute(Command.FIND_ELEMENT, {\n\u001b[0m\u001b[0;32m    977\u001b[0m             \u001b[1;34m'using'\u001b[0m\u001b[1;33m:\u001b[0m \u001b[0mby\u001b[0m\u001b[1;33m,\u001b[0m\u001b[1;33m\u001b[0m\u001b[1;33m\u001b[0m\u001b[0m\n\u001b[0;32m    978\u001b[0m             'value': value})['value']\n",
      "\u001b[1;32mC:\\ProgramData\\Anaconda3\\lib\\site-packages\\selenium\\webdriver\\remote\\webdriver.py\u001b[0m in \u001b[0;36mexecute\u001b[1;34m(self, driver_command, params)\u001b[0m\n\u001b[0;32m    319\u001b[0m         \u001b[0mresponse\u001b[0m \u001b[1;33m=\u001b[0m \u001b[0mself\u001b[0m\u001b[1;33m.\u001b[0m\u001b[0mcommand_executor\u001b[0m\u001b[1;33m.\u001b[0m\u001b[0mexecute\u001b[0m\u001b[1;33m(\u001b[0m\u001b[0mdriver_command\u001b[0m\u001b[1;33m,\u001b[0m \u001b[0mparams\u001b[0m\u001b[1;33m)\u001b[0m\u001b[1;33m\u001b[0m\u001b[1;33m\u001b[0m\u001b[0m\n\u001b[0;32m    320\u001b[0m         \u001b[1;32mif\u001b[0m \u001b[0mresponse\u001b[0m\u001b[1;33m:\u001b[0m\u001b[1;33m\u001b[0m\u001b[1;33m\u001b[0m\u001b[0m\n\u001b[1;32m--> 321\u001b[1;33m             \u001b[0mself\u001b[0m\u001b[1;33m.\u001b[0m\u001b[0merror_handler\u001b[0m\u001b[1;33m.\u001b[0m\u001b[0mcheck_response\u001b[0m\u001b[1;33m(\u001b[0m\u001b[0mresponse\u001b[0m\u001b[1;33m)\u001b[0m\u001b[1;33m\u001b[0m\u001b[1;33m\u001b[0m\u001b[0m\n\u001b[0m\u001b[0;32m    322\u001b[0m             response['value'] = self._unwrap_value(\n\u001b[0;32m    323\u001b[0m                 response.get('value', None))\n",
      "\u001b[1;32mC:\\ProgramData\\Anaconda3\\lib\\site-packages\\selenium\\webdriver\\remote\\errorhandler.py\u001b[0m in \u001b[0;36mcheck_response\u001b[1;34m(self, response)\u001b[0m\n\u001b[0;32m    240\u001b[0m                 \u001b[0malert_text\u001b[0m \u001b[1;33m=\u001b[0m \u001b[0mvalue\u001b[0m\u001b[1;33m[\u001b[0m\u001b[1;34m'alert'\u001b[0m\u001b[1;33m]\u001b[0m\u001b[1;33m.\u001b[0m\u001b[0mget\u001b[0m\u001b[1;33m(\u001b[0m\u001b[1;34m'text'\u001b[0m\u001b[1;33m)\u001b[0m\u001b[1;33m\u001b[0m\u001b[1;33m\u001b[0m\u001b[0m\n\u001b[0;32m    241\u001b[0m             \u001b[1;32mraise\u001b[0m \u001b[0mexception_class\u001b[0m\u001b[1;33m(\u001b[0m\u001b[0mmessage\u001b[0m\u001b[1;33m,\u001b[0m \u001b[0mscreen\u001b[0m\u001b[1;33m,\u001b[0m \u001b[0mstacktrace\u001b[0m\u001b[1;33m,\u001b[0m \u001b[0malert_text\u001b[0m\u001b[1;33m)\u001b[0m\u001b[1;33m\u001b[0m\u001b[1;33m\u001b[0m\u001b[0m\n\u001b[1;32m--> 242\u001b[1;33m         \u001b[1;32mraise\u001b[0m \u001b[0mexception_class\u001b[0m\u001b[1;33m(\u001b[0m\u001b[0mmessage\u001b[0m\u001b[1;33m,\u001b[0m \u001b[0mscreen\u001b[0m\u001b[1;33m,\u001b[0m \u001b[0mstacktrace\u001b[0m\u001b[1;33m)\u001b[0m\u001b[1;33m\u001b[0m\u001b[1;33m\u001b[0m\u001b[0m\n\u001b[0m\u001b[0;32m    243\u001b[0m \u001b[1;33m\u001b[0m\u001b[0m\n\u001b[0;32m    244\u001b[0m     \u001b[1;32mdef\u001b[0m \u001b[0m_value_or_default\u001b[0m\u001b[1;33m(\u001b[0m\u001b[0mself\u001b[0m\u001b[1;33m,\u001b[0m \u001b[0mobj\u001b[0m\u001b[1;33m,\u001b[0m \u001b[0mkey\u001b[0m\u001b[1;33m,\u001b[0m \u001b[0mdefault\u001b[0m\u001b[1;33m)\u001b[0m\u001b[1;33m:\u001b[0m\u001b[1;33m\u001b[0m\u001b[1;33m\u001b[0m\u001b[0m\n",
      "\u001b[1;31mNoSuchElementException\u001b[0m: Message: no such element: Unable to locate element: {\"method\":\"css selector\",\"selector\":\".tw-flex\"}\n  (Session info: chrome=92.0.4515.107)\n"
     ]
    }
   ],
   "source": [
    "# 2년전 자료라 그런지 웹 형식이 바뀌어서 안 됨.\n",
    "# 찾아봐야할듯... 슈밤바\n",
    "\n",
    "driver = webdriver.Chrome('chromedriver.exe')\n",
    "driver.get(\"https://www.twitch.tv/soorte214/clip/AgileGracefulCheesecakePeteZarollTie\") #특정 클립 링크\n",
    "\n",
    "time.sleep(3)\n",
    "\n",
    "#video 태그 확인\n",
    "url_element = driver.find_element_by_tag_name('video')\n",
    "vid_url = url_element.get_attribute('src')\n",
    "print(vid_url)\n",
    "\n",
    "#클립 제목과 날짜 확인\n",
    "title_element1 = driver.find_element_by_class_name('tw-flex')\n",
    "title_element2 = title_element1.find_elements_by_tag_name('span')\n",
    "vid_title = None\n",
    "for span in title_element2:\n",
    "    try:\n",
    "        d_type =span.get_attribute('data-test-selector')\n",
    "        if d_type == \"title\":\n",
    "            vid_title = span.text\n",
    "    except:\n",
    "        pass\n",
    "\n",
    "print(vid_title,'\\t',vid_date)\n",
    "\n",
    "#특수문자 없애고 빈칸도 없에기\n",
    "import re\n",
    "vid_title = re.sub('[^0-9a-zA-Zㄱ-힗]', '', vid_title)\n",
    "print(vid_title,'\\t',vid_date)\n",
    "\n",
    "from urllib.request import urlretrieve\n",
    "urlretrieve(vid_url, vid_title+'_'+'.mp4')\n",
    "\n",
    "driver.close()"
   ]
  },
  {
   "cell_type": "code",
   "execution_count": null,
   "id": "79f2e4f1",
   "metadata": {},
   "outputs": [],
   "source": []
  }
 ],
 "metadata": {
  "kernelspec": {
   "display_name": "Python 3",
   "language": "python",
   "name": "python3"
  },
  "language_info": {
   "codemirror_mode": {
    "name": "ipython",
    "version": 3
   },
   "file_extension": ".py",
   "mimetype": "text/x-python",
   "name": "python",
   "nbconvert_exporter": "python",
   "pygments_lexer": "ipython3",
   "version": "3.8.8"
  }
 },
 "nbformat": 4,
 "nbformat_minor": 5
}
