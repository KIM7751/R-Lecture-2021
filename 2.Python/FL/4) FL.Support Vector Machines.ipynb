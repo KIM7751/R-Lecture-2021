{
 "cells": [
  {
   "cell_type": "code",
   "execution_count": 1,
   "id": "cd6943a1",
   "metadata": {},
   "outputs": [],
   "source": [
    "# 서포트 벡터 머신\n",
    "# 회귀, 분류, 이상치 탐지 등에 사용되는 지도학습 방법\n",
    "# 클래스 사이의 경계에 위치한 데이터 포인트를 서포터 벡터리고 함\n",
    "# 각 서포트 벡터가 클래스 사이의 결정 경계를 구분하는데 얼마나 중요한지를 학습\n",
    "# 각 서포트 벡터 사이의 마진(거리)이 가장 큰 방향으로 학습\n",
    "# 서포트 벡터 까지의 거리와 서포트 벡터의 중요도를 기반으로 예측을 수행\n",
    "# 서포터 벡터 머신은 차원을 늘려서 공간상에 맵핑후 나누는 것"
   ]
  },
  {
   "cell_type": "code",
   "execution_count": 2,
   "id": "80a76c57",
   "metadata": {},
   "outputs": [],
   "source": [
    "import multiprocessing\n",
    "import pandas as pd\n",
    "import numpy as np\n",
    "import matplotlib.pyplot as plt\n",
    "plt.style.use(['seaborn-whitegrid'])"
   ]
  },
  {
   "cell_type": "code",
   "execution_count": 3,
   "id": "055ce2fe",
   "metadata": {},
   "outputs": [],
   "source": [
    "# svm 모듈에는 분류를 위한 SVC, 회귀를 위한 SVR 대표적인 두가지 클래스를 갖고 있음\n",
    "from sklearn.svm import SVC, SVR\n",
    "from sklearn.datasets import load_boston, load_diabetes\n",
    "from sklearn.datasets import load_iris, load_breast_cancer, load_wine\n",
    "from sklearn.pipeline import make_pipeline, Pipeline\n",
    "from sklearn.model_selection import train_test_split, cross_validate, GridSearchCV\n",
    "from sklearn.preprocessing import StandardScaler, MinMaxScaler\n",
    "from sklearn.manifold import TSNE # 시각화에 도움을 준다고 함."
   ]
  },
  {
   "cell_type": "code",
   "execution_count": 4,
   "id": "575f76ef",
   "metadata": {},
   "outputs": [],
   "source": [
    "# SVM을 이용한 회귀 모델과 분류모델  "
   ]
  },
  {
   "cell_type": "code",
   "execution_count": 5,
   "id": "20018649",
   "metadata": {},
   "outputs": [
    {
     "name": "stdout",
     "output_type": "stream",
     "text": [
      "훈련 데이터 점수 : 0.21772837063748762\n",
      "평가 데이터 점수 : 0.13544178468518187\n"
     ]
    }
   ],
   "source": [
    "# SVR\n",
    "X, y = load_boston(return_X_y=True)\n",
    "X_train, X_test, y_train, y_test = train_test_split(X, y, random_state=123)\n",
    "\n",
    "model = SVR()\n",
    "model.fit(X_train, y_train)\n",
    "\n",
    "print(\"훈련 데이터 점수 : {}\".format(model.score(X_train, y_train)))\n",
    "print(\"평가 데이터 점수 : {}\".format(model.score(X_test, y_test)))\n",
    "\n",
    "# 기본적인 SVR을 돌렸을 때 굉장히 안 좋은 수치가 나옴을 볼 수 있음"
   ]
  },
  {
   "cell_type": "code",
   "execution_count": 6,
   "id": "4e0395e8",
   "metadata": {},
   "outputs": [
    {
     "name": "stdout",
     "output_type": "stream",
     "text": [
      "훈련 데이터 점수 : 0.9014084507042254\n",
      "평가 데이터 점수 : 0.9230769230769231\n"
     ]
    }
   ],
   "source": [
    "# SVC\n",
    "X, y = load_breast_cancer(return_X_y=True)\n",
    "X_train, X_test, y_train, y_test = train_test_split(X, y, random_state=123)\n",
    "\n",
    "model = SVC()\n",
    "model.fit(X_train, y_train)\n",
    "\n",
    "print(\"훈련 데이터 점수 : {}\".format(model.score(X_train, y_train)))\n",
    "print(\"평가 데이터 점수 : {}\".format(model.score(X_test, y_test)))\n",
    "\n",
    "# 분류용 데이터인 유방암 데이터를 가지고 돌려봄."
   ]
  },
  {
   "cell_type": "code",
   "execution_count": 7,
   "id": "07f4faeb",
   "metadata": {},
   "outputs": [],
   "source": [
    "# 커널 기법\n",
    "# 입력 데이터를 고차원 공간에 사상해서 비선형 특징을 학습할 수 있도록 확장하는 방법\n",
    "# sklearn에서는 Linear, Polynomial, RBF 다양한 커널 기법을 지원"
   ]
  },
  {
   "cell_type": "code",
   "execution_count": 8,
   "id": "337beaf5",
   "metadata": {},
   "outputs": [
    {
     "name": "stdout",
     "output_type": "stream",
     "text": [
      "linear_svr 훈련 데이터 점수 : 0.7155066205123104\n",
      "linear_svr 평가 데이터 점수 : 0.6380398541381507\n",
      "polynomial_svr 훈련 데이터 점수 : 0.2024454261446289\n",
      "polynomial_svr 평가 데이터 점수 : 0.133668450367462\n",
      "rbf_svr훈련 데이터 점수 : 0.21772837063748762\n",
      "rbf_svr평가 데이터 점수 : 0.13544178468518187\n"
     ]
    }
   ],
   "source": [
    "X, y = load_boston(return_X_y=True)\n",
    "X_train, X_test, y_train, y_test = train_test_split(X, y, random_state=123)\n",
    "\n",
    "linear_svr = SVR(kernel='linear')\n",
    "linear_svr.fit(X_train, y_train)\n",
    "\n",
    "print(\"linear_svr 훈련 데이터 점수 : {}\".format(linear_svr.score(X_train, y_train)))\n",
    "print(\"linear_svr 평가 데이터 점수 : {}\".format(linear_svr.score(X_test, y_test)))\n",
    "\n",
    "polynomial_svr = SVR(kernel='poly')\n",
    "polynomial_svr.fit(X_train, y_train)\n",
    "\n",
    "print(\"polynomial_svr 훈련 데이터 점수 : {}\".format(polynomial_svr.score(X_train, y_train)))\n",
    "print(\"polynomial_svr 평가 데이터 점수 : {}\".format(polynomial_svr.score(X_test, y_test)))\n",
    "\n",
    "rbf_svr = SVR(kernel='rbf')\n",
    "rbf_svr.fit(X_train, y_train)\n",
    "\n",
    "print(\"rbf_svr훈련 데이터 점수 : {}\".format(rbf_svr.score(X_train, y_train)))\n",
    "print(\"rbf_svr평가 데이터 점수 : {}\".format(rbf_svr.score(X_test, y_test)))\n",
    "\n",
    "# 보스턴 주택 가격에 대한 support vector 커널에 대한 지표로는 Linear가 제일 좋더라"
   ]
  },
  {
   "cell_type": "code",
   "execution_count": 9,
   "id": "29da1844",
   "metadata": {},
   "outputs": [
    {
     "name": "stdout",
     "output_type": "stream",
     "text": [
      "linear_svc 훈련 데이터 점수 : 0.960093896713615\n",
      "linear_svc 평가 데이터 점수 : 0.986013986013986\n",
      "polynomial_svc 훈련 데이터 점수 : 0.9014084507042254\n",
      "polynomial_svc 평가 데이터 점수 : 0.9230769230769231\n",
      "rbf_svc훈련 데이터 점수 : 0.9014084507042254\n",
      "rbf_svc평가 데이터 점수 : 0.9230769230769231\n"
     ]
    }
   ],
   "source": [
    "X, y = load_breast_cancer(return_X_y=True)\n",
    "X_train, X_test, y_train, y_test = train_test_split(X, y, random_state=123)\n",
    "\n",
    "linear_svc = SVC(kernel='linear')\n",
    "linear_svc.fit(X_train, y_train)\n",
    "\n",
    "print(\"linear_svc 훈련 데이터 점수 : {}\".format(linear_svc.score(X_train, y_train)))\n",
    "print(\"linear_svc 평가 데이터 점수 : {}\".format(linear_svc.score(X_test, y_test)))\n",
    "\n",
    "polynomial_svc = SVC(kernel='poly')\n",
    "polynomial_svc.fit(X_train, y_train)\n",
    "\n",
    "print(\"polynomial_svc 훈련 데이터 점수 : {}\".format(polynomial_svc.score(X_train, y_train)))\n",
    "print(\"polynomial_svc 평가 데이터 점수 : {}\".format(polynomial_svc.score(X_test, y_test)))\n",
    "\n",
    "rbf_svc = SVC(kernel='rbf')\n",
    "rbf_svc.fit(X_train, y_train)\n",
    "\n",
    "print(\"rbf_svc훈련 데이터 점수 : {}\".format(rbf_svc.score(X_train, y_train)))\n",
    "print(\"rbf_svc평가 데이터 점수 : {}\".format(rbf_svc.score(X_test, y_test)))"
   ]
  },
  {
   "cell_type": "code",
   "execution_count": 10,
   "id": "3f4a9893",
   "metadata": {},
   "outputs": [],
   "source": [
    "# 매개변수 튜닝 \n",
    "# SVM은 사용하는 커널에 따라 다양한 매개변수 설정 가능\n",
    "# 매개변수를 변경하면서 성능 변화를 관찰(하이퍼파라미터 변경)"
   ]
  },
  {
   "cell_type": "code",
   "execution_count": 11,
   "id": "a9aca2cf",
   "metadata": {},
   "outputs": [],
   "source": [
    "X, y = load_breast_cancer(return_X_y=True)\n",
    "X_train, X_test, y_train, y_test = train_test_split(X, y, random_state=123)"
   ]
  },
  {
   "cell_type": "code",
   "execution_count": 12,
   "id": "9aa11d05",
   "metadata": {},
   "outputs": [
    {
     "name": "stdout",
     "output_type": "stream",
     "text": [
      "kenel=poly, degree = 2, C = 0.1, gamma = auto\n",
      "polynomial_svc 훈련 데이터 점수 : 0.9835680751173709\n",
      "polynomial_svc 평가 데이터 점수 : 0.993006993006993\n"
     ]
    }
   ],
   "source": [
    "# polynomial_svc 매개변수 튜닝\n",
    "polynomial_svc = SVC(kernel='poly', degree=2, C=0.1, gamma='auto')\n",
    "polynomial_svc.fit(X_train, y_train)\n",
    "\n",
    "print(\"kenel=poly, degree = {}, C = {}, gamma = {}\".format(2, 0.1, 'auto'))\n",
    "print(\"polynomial_svc 훈련 데이터 점수 : {}\".format(polynomial_svc.score(X_train, y_train)))\n",
    "print(\"polynomial_svc 평가 데이터 점수 : {}\".format(polynomial_svc.score(X_test, y_test)))\n",
    "# C = 정규화 매개 변수, 강도는 C에 반비례, l2 페널티(릿지)\n",
    "# kernel = 기본값'rbf'\n",
    "# degree int = , 기본값 = 3 , 다항 커널 함수 ( 'poly')의 차수입니다. 다른 모든 커널에서 무시\n",
    "# 감마 = 'rbf', 'poly'및 'sigmoid'에 대한 커널 계수, 기본값 = scale"
   ]
  },
  {
   "cell_type": "code",
   "execution_count": 13,
   "id": "bbacb9b9",
   "metadata": {},
   "outputs": [
    {
     "name": "stdout",
     "output_type": "stream",
     "text": [
      "kenel = rbf, C = 2, gamma = scale\n",
      "rbf_svc훈련 데이터 점수 : 0.9154929577464789\n",
      "rbf_svc평가 데이터 점수 : 0.9370629370629371\n"
     ]
    }
   ],
   "source": [
    "# rbf_svc 매개변수 튜닝\n",
    "rbf_svc = SVC(kernel = 'rbf', C = 2, gamma='scale')\n",
    "rbf_svc.fit(X_train, y_train)\n",
    "\n",
    "print(\"kenel = rbf, C = {}, gamma = {}\".format(2,'scale'))\n",
    "print(\"rbf_svc훈련 데이터 점수 : {}\".format(rbf_svc.score(X_train, y_train)))\n",
    "print(\"rbf_svc평가 데이터 점수 : {}\".format(rbf_svc.score(X_test, y_test)))"
   ]
  },
  {
   "cell_type": "code",
   "execution_count": 14,
   "id": "304ea583",
   "metadata": {},
   "outputs": [
    {
     "name": "stdout",
     "output_type": "stream",
     "text": [
      "kenel=default(rbf), C = 2, gamma = default(scale)\n",
      "rbf_svc훈련 데이터 점수 : 0.9154929577464789\n",
      "rbf_svc평가 데이터 점수 : 0.9370629370629371\n"
     ]
    }
   ],
   "source": [
    "rbf_svc = SVC(C = 2)\n",
    "rbf_svc.fit(X_train, y_train)\n",
    "\n",
    "print(\"kenel=default(rbf), C = {}, gamma = {}\".format( 2, 'default(scale)'))\n",
    "print(\"rbf_svc훈련 데이터 점수 : {}\".format(rbf_svc.score(X_train, y_train)))\n",
    "print(\"rbf_svc평가 데이터 점수 : {}\".format(rbf_svc.score(X_test, y_test)))"
   ]
  },
  {
   "cell_type": "code",
   "execution_count": 15,
   "id": "61e3ff92",
   "metadata": {},
   "outputs": [],
   "source": [
    "# 데이터 전처리\n",
    "# SVM은 입력 데이터가 정규화 되어야 좋은 성능을 보임\n",
    "# 주로 모든 특성 값을 [0,1] 범위로 맞추는 방법을 사용\n",
    "# sklearn의 StandardScaler 또는 MinMaxscaler 사용해 정규화"
   ]
  },
  {
   "cell_type": "code",
   "execution_count": 16,
   "id": "b685c707",
   "metadata": {},
   "outputs": [],
   "source": [
    "# 전처리 전 과정 \n",
    "X, y = load_breast_cancer(return_X_y=True)\n",
    "X_train, X_test, y_train, y_test = train_test_split(X, y, random_state=123)"
   ]
  },
  {
   "cell_type": "code",
   "execution_count": 17,
   "id": "f20002b0",
   "metadata": {},
   "outputs": [
    {
     "data": {
      "text/plain": [
       "SVC()"
      ]
     },
     "execution_count": 17,
     "metadata": {},
     "output_type": "execute_result"
    }
   ],
   "source": [
    "model = SVC()\n",
    "model.fit(X_train, y_train)"
   ]
  },
  {
   "cell_type": "code",
   "execution_count": 18,
   "id": "2db68292",
   "metadata": {
    "scrolled": true
   },
   "outputs": [
    {
     "name": "stdout",
     "output_type": "stream",
     "text": [
      "훈련 데이터 점수 : 0.9014084507042254\n",
      "평가 데이터 점수 : 0.9230769230769231\n"
     ]
    }
   ],
   "source": [
    "print(\"훈련 데이터 점수 : {}\".format(model.score(X_train, y_train)))\n",
    "print(\"평가 데이터 점수 : {}\".format(model.score(X_test, y_test)))"
   ]
  },
  {
   "cell_type": "code",
   "execution_count": 19,
   "id": "8456042c",
   "metadata": {},
   "outputs": [],
   "source": [
    "# 데이터 스케일링(주의할점은 꼬옥 X_train, X_test 값에서만 스케일링을 진행해줘야함, y_train, y_test는 레이블이기 때문)\n",
    "scaler = StandardScaler()\n",
    "X_train = scaler.fit_transform(X_train)\n",
    "X_test = scaler.transform(X_test)"
   ]
  },
  {
   "cell_type": "code",
   "execution_count": 20,
   "id": "182e9636",
   "metadata": {},
   "outputs": [
    {
     "data": {
      "text/plain": [
       "SVC()"
      ]
     },
     "execution_count": 20,
     "metadata": {},
     "output_type": "execute_result"
    }
   ],
   "source": [
    "model = SVC()\n",
    "model.fit(X_train, y_train)"
   ]
  },
  {
   "cell_type": "code",
   "execution_count": 21,
   "id": "30bd9d38",
   "metadata": {},
   "outputs": [
    {
     "name": "stdout",
     "output_type": "stream",
     "text": [
      "훈련 데이터 점수 : 0.9835680751173709\n",
      "평가 데이터 점수 : 0.986013986013986\n"
     ]
    }
   ],
   "source": [
    "print(\"훈련 데이터 점수 : {}\".format(model.score(X_train, y_train)))\n",
    "print(\"평가 데이터 점수 : {}\".format(model.score(X_test, y_test)))\n",
    "# 전처리 후 점수가 개선 되었음을 확인할 수 있었음"
   ]
  },
  {
   "cell_type": "code",
   "execution_count": 22,
   "id": "884df966",
   "metadata": {},
   "outputs": [],
   "source": [
    "scaler = MinMaxScaler()\n",
    "X_train = scaler.fit_transform(X_train)\n",
    "X_test = scaler.transform(X_test)"
   ]
  },
  {
   "cell_type": "code",
   "execution_count": 23,
   "id": "20310759",
   "metadata": {},
   "outputs": [
    {
     "data": {
      "text/plain": [
       "SVC()"
      ]
     },
     "execution_count": 23,
     "metadata": {},
     "output_type": "execute_result"
    }
   ],
   "source": [
    "model = SVC()\n",
    "model.fit(X_train, y_train)"
   ]
  },
  {
   "cell_type": "code",
   "execution_count": 24,
   "id": "2f299b51",
   "metadata": {},
   "outputs": [
    {
     "name": "stdout",
     "output_type": "stream",
     "text": [
      "훈련 데이터 점수 : 0.9812206572769953\n",
      "평가 데이터 점수 : 0.986013986013986\n"
     ]
    }
   ],
   "source": [
    "print(\"훈련 데이터 점수 : {}\".format(model.score(X_train, y_train)))\n",
    "print(\"평가 데이터 점수 : {}\".format(model.score(X_test, y_test)))"
   ]
  },
  {
   "cell_type": "code",
   "execution_count": 25,
   "id": "d7cb216a",
   "metadata": {},
   "outputs": [],
   "source": [
    "############################### kernel linear SVR\n",
    "# 보스턴 주택 가격"
   ]
  },
  {
   "cell_type": "code",
   "execution_count": 26,
   "id": "f4ff322e",
   "metadata": {},
   "outputs": [],
   "source": [
    "X, y = load_boston(return_X_y=True)"
   ]
  },
  {
   "cell_type": "code",
   "execution_count": 27,
   "id": "dca87544",
   "metadata": {},
   "outputs": [],
   "source": [
    "X_train, X_test, y_train, y_test = train_test_split(X, y, test_size=0.2)"
   ]
  },
  {
   "cell_type": "code",
   "execution_count": 28,
   "id": "14453ce8",
   "metadata": {},
   "outputs": [],
   "source": [
    "scaler = StandardScaler()\n",
    "X_train = scaler.fit_transform(X_train)\n",
    "X_test = scaler.transform(X_test)"
   ]
  },
  {
   "cell_type": "code",
   "execution_count": 29,
   "id": "ecaa2e04",
   "metadata": {},
   "outputs": [
    {
     "data": {
      "text/plain": [
       "SVR(kernel='linear')"
      ]
     },
     "execution_count": 29,
     "metadata": {},
     "output_type": "execute_result"
    }
   ],
   "source": [
    "model = SVR(kernel='linear')\n",
    "model.fit(X_train, y_train)"
   ]
  },
  {
   "cell_type": "code",
   "execution_count": 30,
   "id": "f97116c3",
   "metadata": {},
   "outputs": [
    {
     "name": "stdout",
     "output_type": "stream",
     "text": [
      "훈련 데이터 점수 : 0.7055756339696615\n",
      "평가 데이터 점수 : 0.731043091835468\n"
     ]
    }
   ],
   "source": [
    "print(\"훈련 데이터 점수 : {}\".format(model.score(X_train, y_train)))\n",
    "print(\"평가 데이터 점수 : {}\".format(model.score(X_test, y_test)))\n",
    "# 평가가 좋은 평은 아님"
   ]
  },
  {
   "cell_type": "code",
   "execution_count": 31,
   "id": "a1e0bc72",
   "metadata": {},
   "outputs": [
    {
     "data": {
      "image/png": "[encoded data removed]",
      "text/plain": [
       "<Figure size 432x288 with 1 Axes>"
      ]
     },
     "metadata": {},
     "output_type": "display_data"
    }
   ],
   "source": [
    "# 시각화(feature들이 여러개, tsne -> 저차원으로 변환)\n",
    "# 서포터 벡터 머신은 차원을 늘려서 공간상에 맵핑후 나누는 것이지만 시각화로 보고자 한다면 저차원으로 바꿔 보아야함\n",
    "\n",
    "X_comp = TSNE(n_components=1).fit_transform(X)\n",
    "plt.scatter(X_comp, y);\n",
    "\n",
    "# 전체 데이터에 대한 간단한 청사진"
   ]
  },
  {
   "cell_type": "code",
   "execution_count": 32,
   "id": "efd7d7df",
   "metadata": {},
   "outputs": [
    {
     "data": {
      "image/png": "[encoded data removed]",
      "text/plain": [
       "<Figure size 432x288 with 1 Axes>"
      ]
     },
     "metadata": {},
     "output_type": "display_data"
    }
   ],
   "source": [
    "# 차원 축소한 전체 데이터에 대한 모델링 학습\n",
    "model.fit(X_comp, y)\n",
    "predict = model.predict(X_comp)\n",
    "plt.scatter(X_comp, y)\n",
    "plt.scatter(X_comp, predict, color= 'r');\n",
    "# 값이 너무 퍼져있음을 인지할 수 있다."
   ]
  },
  {
   "cell_type": "code",
   "execution_count": 33,
   "id": "be8c70fd",
   "metadata": {
    "scrolled": true
   },
   "outputs": [
    {
     "name": "stderr",
     "output_type": "stream",
     "text": [
      "[Parallel(n_jobs=12)]: Using backend LokyBackend with 12 concurrent workers.\n",
      "[Parallel(n_jobs=12)]: Done   5 out of   5 | elapsed:    1.9s finished\n"
     ]
    },
    {
     "data": {
      "text/plain": [
       "{'fit_time': array([0.01495934, 0.01495957, 0.014961  , 0.01396298, 0.02094126]),\n",
       " 'score_time': array([0.0019958 , 0.00199533, 0.00199485, 0.00199461, 0.00099659]),\n",
       " 'test_score': array([0.76908568, 0.72180141, 0.56428426, 0.14083339, 0.07810211])}"
      ]
     },
     "execution_count": 33,
     "metadata": {},
     "output_type": "execute_result"
    }
   ],
   "source": [
    "# pipeline을 활용한 cross_validate(=교차 검증을 통해 메트릭을 평가하고 적합 / 점수 시간을 기록)\n",
    "estimator = make_pipeline(StandardScaler(), SVR(kernel=\"linear\"))\n",
    "                          \n",
    "cross_validate(\n",
    "estimator = estimator,\n",
    "X=X, y=y,\n",
    "cv=5,\n",
    "n_jobs = multiprocessing.cpu_count(),\n",
    "verbose=True)\n",
    " # verbose=True 상세 수준                         "
   ]
  },
  {
   "cell_type": "code",
   "execution_count": 34,
   "id": "8d626e5a",
   "metadata": {},
   "outputs": [
    {
     "name": "stdout",
     "output_type": "stream",
     "text": [
      "Fitting 5 folds for each of 18 candidates, totalling 90 fits\n"
     ]
    },
    {
     "data": {
      "text/plain": [
       "GridSearchCV(cv=5,\n",
       "             estimator=Pipeline(steps=[('scaler', StandardScaler()),\n",
       "                                       ('model', SVR(kernel='linear'))]),\n",
       "             n_jobs=12,\n",
       "             param_grid=[{'model__C': [1.0, 0.1, 0.01],\n",
       "                          'model__epsilon': [1.0, 0.1, 0.01],\n",
       "                          'model__gamma': ['scale', 'auto']}],\n",
       "             verbose=True)"
      ]
     },
     "execution_count": 34,
     "metadata": {},
     "output_type": "execute_result"
    }
   ],
   "source": [
    "# GriGridSearchCV를 활용해 적합한 모델 매개변수(파라미터) 찾기\n",
    "pipe = Pipeline([('scaler', StandardScaler()),\n",
    "                 ('model', SVR(kernel='linear'))])\n",
    "\n",
    "param_grid = [{'model__gamma' : ['scale', 'auto'],\n",
    "             'model__C' : [1.0, 0.1, 0.01],\n",
    "             'model__epsilon' : [1.0, 0.1, 0.01]}]\n",
    "\n",
    "gs = GridSearchCV(\n",
    "    estimator=pipe,\n",
    "    param_grid=param_grid,\n",
    "    n_jobs=multiprocessing.cpu_count(),\n",
    "    cv =5,\n",
    "    verbose=True\n",
    ")\n",
    "\n",
    "gs.fit(X, y)"
   ]
  },
  {
   "cell_type": "code",
   "execution_count": 35,
   "id": "35fa5926",
   "metadata": {
    "scrolled": false
   },
   "outputs": [
    {
     "data": {
      "text/plain": [
       "Pipeline(steps=[('scaler', StandardScaler()),\n",
       "                ('model', SVR(C=0.1, epsilon=1.0, kernel='linear'))])"
      ]
     },
     "execution_count": 35,
     "metadata": {},
     "output_type": "execute_result"
    }
   ],
   "source": [
    "# 최적의 파라미터 추출\n",
    "gs.best_estimator_"
   ]
  },
  {
   "cell_type": "code",
   "execution_count": 36,
   "id": "c977c12c",
   "metadata": {},
   "outputs": [],
   "source": [
    "# kernel linear SVR\n",
    "# 당뇨병 데이터 활용"
   ]
  },
  {
   "cell_type": "code",
   "execution_count": 37,
   "id": "9cb20615",
   "metadata": {},
   "outputs": [],
   "source": [
    "X, y = load_diabetes(return_X_y=True)"
   ]
  },
  {
   "cell_type": "code",
   "execution_count": 38,
   "id": "728de523",
   "metadata": {},
   "outputs": [],
   "source": [
    "X_train, X_test, y_train, y_test = train_test_split(X, y, test_size=0.2)"
   ]
  },
  {
   "cell_type": "code",
   "execution_count": 39,
   "id": "16fd8751",
   "metadata": {},
   "outputs": [],
   "source": [
    "scaler = StandardScaler()\n",
    "X_train = scaler.fit_transform(X_train)\n",
    "X_test = scaler.transform(X_test) "
   ]
  },
  {
   "cell_type": "code",
   "execution_count": 40,
   "id": "ddc667a8",
   "metadata": {},
   "outputs": [
    {
     "data": {
      "text/plain": [
       "SVR(kernel='linear')"
      ]
     },
     "execution_count": 40,
     "metadata": {},
     "output_type": "execute_result"
    }
   ],
   "source": [
    "model = SVR(kernel='linear')\n",
    "model.fit(X_train, y_train)"
   ]
  },
  {
   "cell_type": "code",
   "execution_count": 41,
   "id": "39751e44",
   "metadata": {},
   "outputs": [
    {
     "name": "stdout",
     "output_type": "stream",
     "text": [
      "훈련 데이터 점수 : 0.5044649636179404\n",
      "평가 데이터 점수 : 0.4958388971450517\n"
     ]
    }
   ],
   "source": [
    "print(\"훈련 데이터 점수 : {}\".format(model.score(X_train, y_train)))\n",
    "print(\"평가 데이터 점수 : {}\".format(model.score(X_test, y_test)))\n",
    "# 보스턴 주택 가격 데이터 보다 좋지 못한 점수를 보여주고 있음"
   ]
  },
  {
   "cell_type": "code",
   "execution_count": 42,
   "id": "710e0822",
   "metadata": {},
   "outputs": [
    {
     "data": {
      "image/png": "[encoded data removed]",
      "text/plain": [
       "<Figure size 432x288 with 1 Axes>"
      ]
     },
     "metadata": {},
     "output_type": "display_data"
    }
   ],
   "source": [
    "# 시각화(feature들이 여러개, tsne -> 저차원으로 변환)\n",
    "# 서포터 벡터 머신은 차원을 늘려서 공간상에 맵핑후 나누는 것이지만 시각화로 보고자 한다면 저차원으로 바꿔 보아야함\n",
    "\n",
    "X_comp = TSNE(n_components=1).fit_transform(X)\n",
    "plt.scatter(X_comp, y);\n",
    "\n",
    "# 전체 데이터에 대한 간단한 청사진"
   ]
  },
  {
   "cell_type": "code",
   "execution_count": 43,
   "id": "7eab5aca",
   "metadata": {},
   "outputs": [
    {
     "data": {
      "image/png": "[encoded data removed]",
      "text/plain": [
       "<Figure size 432x288 with 1 Axes>"
      ]
     },
     "metadata": {},
     "output_type": "display_data"
    }
   ],
   "source": [
    "# 차원 축소한 전체 데이터에 대한 모델링 학습\n",
    "model.fit(X_comp, y)\n",
    "predict = model.predict(X_comp)\n",
    "plt.scatter(X_comp, y)\n",
    "plt.scatter(X_comp, predict, color= 'r');\n",
    "# 값이 너무 퍼져있음을 인지할 수 있다."
   ]
  },
  {
   "cell_type": "code",
   "execution_count": 44,
   "id": "842bf646",
   "metadata": {
    "scrolled": true
   },
   "outputs": [
    {
     "name": "stderr",
     "output_type": "stream",
     "text": [
      "[Parallel(n_jobs=12)]: Using backend LokyBackend with 12 concurrent workers.\n",
      "[Parallel(n_jobs=12)]: Done   5 out of   5 | elapsed:    0.0s finished\n"
     ]
    },
    {
     "data": {
      "text/plain": [
       "{'fit_time': array([0.00891662, 0.00792003, 0.00698137, 0.00698137, 0.00797892]),\n",
       " 'score_time': array([0.00199556, 0.00099659, 0.00099659, 0.00199437, 0.00099778]),\n",
       " 'test_score': array([0.43037242, 0.51653341, 0.48275332, 0.42247202, 0.53076481])}"
      ]
     },
     "execution_count": 44,
     "metadata": {},
     "output_type": "execute_result"
    }
   ],
   "source": [
    "# pipeline을 활용한 cross_validate(=교차 검증을 통해 메트릭을 평가하고 적합 / 점수 시간을 기록)\n",
    "estimator = make_pipeline(StandardScaler(), SVR(kernel=\"linear\"))\n",
    "                          \n",
    "cross_validate(\n",
    "estimator = estimator,\n",
    "X=X, y=y,\n",
    "cv=5,\n",
    "n_jobs = multiprocessing.cpu_count(),\n",
    "verbose=True)\n",
    " # verbose=True 상세 수준                         "
   ]
  },
  {
   "cell_type": "code",
   "execution_count": 45,
   "id": "c55df5f0",
   "metadata": {
    "scrolled": false
   },
   "outputs": [
    {
     "name": "stdout",
     "output_type": "stream",
     "text": [
      "Fitting 5 folds for each of 18 candidates, totalling 90 fits\n"
     ]
    },
    {
     "data": {
      "text/plain": [
       "GridSearchCV(cv=5,\n",
       "             estimator=Pipeline(steps=[('scaler', StandardScaler()),\n",
       "                                       ('model', SVR(kernel='linear'))]),\n",
       "             n_jobs=12,\n",
       "             param_grid=[{'model__C': [1.0, 0.1, 0.01],\n",
       "                          'model__epsilon': [1.0, 0.1, 0.01],\n",
       "                          'model__gamma': ['scale', 'auto']}],\n",
       "             verbose=True)"
      ]
     },
     "execution_count": 45,
     "metadata": {},
     "output_type": "execute_result"
    }
   ],
   "source": [
    "# GriGridSearchCV를 활용해 적합한 모델 매개변수(파라미터) 찾기\n",
    "pipe = Pipeline([('scaler', StandardScaler()),\n",
    "                 ('model', SVR(kernel='linear'))])\n",
    "\n",
    "param_grid = [{'model__gamma' : ['scale', 'auto'],\n",
    "             'model__C' : [1.0, 0.1, 0.01],\n",
    "             'model__epsilon' : [1.0, 0.1, 0.01]}]\n",
    "\n",
    "gs = GridSearchCV(\n",
    "    estimator=pipe,\n",
    "    param_grid=param_grid,\n",
    "    n_jobs=multiprocessing.cpu_count(),\n",
    "    cv =5,\n",
    "    verbose=True\n",
    ")\n",
    "\n",
    "gs.fit(X, y)"
   ]
  },
  {
   "cell_type": "code",
   "execution_count": 46,
   "id": "5c72a9d1",
   "metadata": {
    "scrolled": false
   },
   "outputs": [
    {
     "data": {
      "text/plain": [
       "Pipeline(steps=[('scaler', StandardScaler()),\n",
       "                ('model', SVR(epsilon=1.0, kernel='linear'))])"
      ]
     },
     "execution_count": 46,
     "metadata": {},
     "output_type": "execute_result"
    }
   ],
   "source": [
    "# 최적의 파라미터 추출\n",
    "gs.best_estimator_"
   ]
  },
  {
   "cell_type": "code",
   "execution_count": 47,
   "id": "1d33f1df",
   "metadata": {},
   "outputs": [],
   "source": [
    "# kernel = rbf SVR\n",
    "# 보스턴 주택 가격"
   ]
  },
  {
   "cell_type": "code",
   "execution_count": 48,
   "id": "50f6839a",
   "metadata": {},
   "outputs": [],
   "source": [
    "X, y = load_boston(return_X_y=True)"
   ]
  },
  {
   "cell_type": "code",
   "execution_count": 49,
   "id": "830cb772",
   "metadata": {},
   "outputs": [],
   "source": [
    "X_train, X_test, y_train, y_test = train_test_split(X, y, test_size=0.2)"
   ]
  },
  {
   "cell_type": "code",
   "execution_count": 50,
   "id": "1daab7da",
   "metadata": {},
   "outputs": [],
   "source": [
    "scaler = StandardScaler()\n",
    "X_train = scaler.fit_transform(X_train)\n",
    "X_test = scaler.transform(X_test)"
   ]
  },
  {
   "cell_type": "code",
   "execution_count": 51,
   "id": "2d7dbd6a",
   "metadata": {},
   "outputs": [
    {
     "data": {
      "text/plain": [
       "SVR()"
      ]
     },
     "execution_count": 51,
     "metadata": {},
     "output_type": "execute_result"
    }
   ],
   "source": [
    "model = SVR(kernel='rbf')\n",
    "model.fit(X_train, y_train)"
   ]
  },
  {
   "cell_type": "code",
   "execution_count": 52,
   "id": "36127183",
   "metadata": {},
   "outputs": [
    {
     "name": "stdout",
     "output_type": "stream",
     "text": [
      "훈련 데이터 점수 : 0.6533299069229426\n",
      "평가 데이터 점수 : 0.7002589633677283\n"
     ]
    }
   ],
   "source": [
    "print(\"훈련 데이터 점수 : {}\".format(model.score(X_train, y_train)))\n",
    "print(\"평가 데이터 점수 : {}\".format(model.score(X_test, y_test)))\n",
    "# 평가가 좋은 평은 아님"
   ]
  },
  {
   "cell_type": "code",
   "execution_count": 53,
   "id": "4436ea25",
   "metadata": {},
   "outputs": [
    {
     "data": {
      "image/png": "[encoded data removed]",
      "text/plain": [
       "<Figure size 432x288 with 1 Axes>"
      ]
     },
     "metadata": {},
     "output_type": "display_data"
    }
   ],
   "source": [
    "# 시각화(feature들이 여러개, tsne -> 저차원으로 변환)\n",
    "# 서포터 벡터 머신은 차원을 늘려서 공간상에 맵핑후 나누는 것이지만 시각화로 보고자 한다면 저차원으로 바꿔 보아야함\n",
    "\n",
    "X_comp = TSNE(n_components=1).fit_transform(X)\n",
    "plt.scatter(X_comp, y);\n",
    "\n",
    "# 전체 데이터에 대한 간단한 청사진"
   ]
  },
  {
   "cell_type": "code",
   "execution_count": 54,
   "id": "4696e868",
   "metadata": {},
   "outputs": [
    {
     "data": {
      "image/png": "[encoded data removed]",
      "text/plain": [
       "<Figure size 432x288 with 1 Axes>"
      ]
     },
     "metadata": {},
     "output_type": "display_data"
    }
   ],
   "source": [
    "# 차원 축소한 전체 데이터에 대한 모델링 학습\n",
    "model.fit(X_comp, y)\n",
    "predict = model.predict(X_comp)\n",
    "plt.scatter(X_comp, y)\n",
    "plt.scatter(X_comp, predict, color= 'r');\n",
    "# 값이 너무 퍼져있음을 인지할 수 있다.\n",
    "# rbf에 의미에 따라 비선형으로 이뤄져있음을 볼 수 있음\n",
    "# 훈련, 평가 점수는 보다 낫지만 선형에 비해서 데이터를 잘 반영했다고 볼 수 있음"
   ]
  },
  {
   "cell_type": "code",
   "execution_count": 55,
   "id": "41cf5c6a",
   "metadata": {
    "scrolled": true
   },
   "outputs": [
    {
     "name": "stderr",
     "output_type": "stream",
     "text": [
      "[Parallel(n_jobs=12)]: Using backend LokyBackend with 12 concurrent workers.\n",
      "[Parallel(n_jobs=12)]: Done   5 out of   5 | elapsed:    0.0s finished\n"
     ]
    },
    {
     "data": {
      "text/plain": [
       "{'fit_time': array([0.01694632, 0.01195955, 0.01195955, 0.01097012, 0.01695347]),\n",
       " 'score_time': array([0.00797892, 0.00498676, 0.00498676, 0.00498676, 0.00698304]),\n",
       " 'test_score': array([ 0.75781445,  0.50211018,  0.04310107,  0.33851703, -0.75997942])}"
      ]
     },
     "execution_count": 55,
     "metadata": {},
     "output_type": "execute_result"
    }
   ],
   "source": [
    "# pipeline을 활용한 cross_validate(=교차 검증을 통해 메트릭을 평가하고 적합 / 점수 시간을 기록)\n",
    "estimator = make_pipeline(StandardScaler(), SVR(kernel=\"rbf\"))\n",
    "                          \n",
    "cross_validate(\n",
    "estimator = estimator,\n",
    "X=X, y=y,\n",
    "cv=5,\n",
    "n_jobs = multiprocessing.cpu_count(),\n",
    "verbose=True)\n",
    " # verbose=True 상세 수준                         "
   ]
  },
  {
   "cell_type": "code",
   "execution_count": 56,
   "id": "c4d64a18",
   "metadata": {},
   "outputs": [
    {
     "name": "stdout",
     "output_type": "stream",
     "text": [
      "Fitting 5 folds for each of 3 candidates, totalling 15 fits\n"
     ]
    },
    {
     "name": "stderr",
     "output_type": "stream",
     "text": [
      "C:\\ProgramData\\Anaconda3\\lib\\site-packages\\sklearn\\model_selection\\_search.py:918: UserWarning: One or more of the test scores are non-finite: [0.17631266        nan 0.14981591]\n",
      "  warnings.warn(\n"
     ]
    },
    {
     "data": {
      "text/plain": [
       "GridSearchCV(cv=5,\n",
       "             estimator=Pipeline(steps=[('scaler', StandardScaler()),\n",
       "                                       ('model', SVR())]),\n",
       "             n_jobs=12,\n",
       "             param_grid=[{'model__kernel': ['rbf', 'polynomial', 'sigmoid']}],\n",
       "             verbose=True)"
      ]
     },
     "execution_count": 56,
     "metadata": {},
     "output_type": "execute_result"
    }
   ],
   "source": [
    "# GriGridSearchCV를 활용해 적합한 모델 kernel 찾기\n",
    "pipe = Pipeline([('scaler', StandardScaler()),\n",
    "                 ('model', SVR(kernel='rbf'))])\n",
    "\n",
    "param_grid = [{'model__kernel' : ['rbf', 'polynomial', 'sigmoid']}]  ## 커널값을 비교해보자\n",
    "\n",
    "gs = GridSearchCV(\n",
    "    estimator=pipe,\n",
    "    param_grid=param_grid,\n",
    "    n_jobs=multiprocessing.cpu_count(),\n",
    "    cv =5,\n",
    "    verbose=True\n",
    ")\n",
    "\n",
    "gs.fit(X, y)"
   ]
  },
  {
   "cell_type": "code",
   "execution_count": 57,
   "id": "cf7be3a3",
   "metadata": {
    "scrolled": false
   },
   "outputs": [
    {
     "data": {
      "text/plain": [
       "Pipeline(steps=[('scaler', StandardScaler()), ('model', SVR())])"
      ]
     },
     "execution_count": 57,
     "metadata": {},
     "output_type": "execute_result"
    }
   ],
   "source": [
    "# 최적의 kernel 추출\n",
    "gs.best_estimator_"
   ]
  },
  {
   "cell_type": "code",
   "execution_count": 58,
   "id": "c20c8f4e",
   "metadata": {},
   "outputs": [
    {
     "name": "stdout",
     "output_type": "stream",
     "text": [
      "Fitting 5 folds for each of 8 candidates, totalling 40 fits\n"
     ]
    },
    {
     "data": {
      "text/plain": [
       "GridSearchCV(cv=5,\n",
       "             estimator=Pipeline(steps=[('scaler', StandardScaler()),\n",
       "                                       ('model', SVR())]),\n",
       "             n_jobs=12,\n",
       "             param_grid=[{'model__gamma': ['scale', 'auto']},\n",
       "                         {'model__C': [1.0, 0.1, 0.01]},\n",
       "                         {'model__epsilon': [1.0, 0.1, 0.01]}],\n",
       "             verbose=True)"
      ]
     },
     "execution_count": 58,
     "metadata": {},
     "output_type": "execute_result"
    }
   ],
   "source": [
    "# GriGridSearchCV를 활용해 나온 rbf를 활용해 최적의 파라미터 찾기\n",
    "pipe = Pipeline([('scaler', StandardScaler()),\n",
    "                 ('model', SVR(kernel='rbf'))])\n",
    "\n",
    "param_grid = [{'model__gamma' : ['scale', 'auto']},\n",
    "              {'model__C' : [1.0, 0.1, 0.01]},\n",
    "              {'model__epsilon' : [1.0, 0.1, 0.01]}] \n",
    "\n",
    "gs = GridSearchCV(\n",
    "    estimator=pipe,\n",
    "    param_grid=param_grid,\n",
    "    n_jobs=multiprocessing.cpu_count(),\n",
    "    cv =5,\n",
    "    verbose=True\n",
    ")\n",
    "\n",
    "gs.fit(X, y)"
   ]
  },
  {
   "cell_type": "code",
   "execution_count": 59,
   "id": "72556f7d",
   "metadata": {},
   "outputs": [
    {
     "data": {
      "text/plain": [
       "Pipeline(steps=[('scaler', StandardScaler()), ('model', SVR(epsilon=0.01))])"
      ]
     },
     "execution_count": 59,
     "metadata": {},
     "output_type": "execute_result"
    }
   ],
   "source": [
    "# 최적의 파라미터 추출\n",
    "gs.best_estimator_"
   ]
  },
  {
   "cell_type": "code",
   "execution_count": 60,
   "id": "4ba85a5f",
   "metadata": {},
   "outputs": [],
   "source": [
    "# kernel = rbf SVR\n",
    "# 당뇨병"
   ]
  },
  {
   "cell_type": "code",
   "execution_count": 61,
   "id": "9c24eb19",
   "metadata": {},
   "outputs": [],
   "source": [
    "X, y = load_diabetes(return_X_y=True)\n",
    "X_train, X_test, y_train, y_test = train_test_split(X, y, test_size=0.2)"
   ]
  },
  {
   "cell_type": "code",
   "execution_count": 62,
   "id": "e8a0e40d",
   "metadata": {},
   "outputs": [],
   "source": [
    "scaler = StandardScaler()\n",
    "X_train = scaler.fit_transform(X_train)\n",
    "X_test = scaler.transform(X_test)"
   ]
  },
  {
   "cell_type": "code",
   "execution_count": 63,
   "id": "9270ed46",
   "metadata": {},
   "outputs": [
    {
     "data": {
      "text/plain": [
       "SVR()"
      ]
     },
     "execution_count": 63,
     "metadata": {},
     "output_type": "execute_result"
    }
   ],
   "source": [
    "model = SVR(kernel='rbf')\n",
    "model.fit(X_train, y_train)"
   ]
  },
  {
   "cell_type": "code",
   "execution_count": 64,
   "id": "73a1bcbe",
   "metadata": {
    "scrolled": true
   },
   "outputs": [
    {
     "name": "stdout",
     "output_type": "stream",
     "text": [
      "훈련 데이터 점수 : 0.184098494216708\n",
      "평가 데이터 점수 : 0.09824045807497228\n"
     ]
    }
   ],
   "source": [
    "print(\"훈련 데이터 점수 : {}\".format(model.score(X_train, y_train)))\n",
    "print(\"평가 데이터 점수 : {}\".format(model.score(X_test, y_test)))\n",
    "# 점수가 너무 안좋음"
   ]
  },
  {
   "cell_type": "code",
   "execution_count": 65,
   "id": "7d5c9954",
   "metadata": {},
   "outputs": [
    {
     "data": {
      "image/png": "[encoded data removed]",
      "text/plain": [
       "<Figure size 432x288 with 1 Axes>"
      ]
     },
     "metadata": {},
     "output_type": "display_data"
    }
   ],
   "source": [
    "# 시각화(feature들이 여러개, tsne -> 저차원으로 변환)\n",
    "# 서포터 벡터 머신은 차원을 늘려서 공간상에 맵핑후 나누는 것이지만 시각화로 보고자 한다면 저차원으로 바꿔 보아야함\n",
    "\n",
    "X_comp = TSNE(n_components=1).fit_transform(X)\n",
    "plt.scatter(X_comp, y);\n",
    "\n",
    "# 전체 데이터에 대한 간단한 청사진"
   ]
  },
  {
   "cell_type": "code",
   "execution_count": 66,
   "id": "fcf189ef",
   "metadata": {},
   "outputs": [
    {
     "data": {
      "image/png": "[encoded data removed]",
      "text/plain": [
       "<Figure size 432x288 with 1 Axes>"
      ]
     },
     "metadata": {},
     "output_type": "display_data"
    }
   ],
   "source": [
    "# 차원 축소한 전체 데이터에 대한 모델링 학습\n",
    "model.fit(X_comp, y)\n",
    "predict = model.predict(X_comp)\n",
    "plt.scatter(X_comp, y)\n",
    "plt.scatter(X_comp, predict, color= 'r');\n",
    "# 값이 너무 퍼져있음을 인지할 수 있다.\n",
    "# rbf에 의미에 따라 비선형으로 이뤄져있음을 볼 수 있음\n",
    "# 훈련, 평가 점수는 보다 낫지만 선형에 비해서 데이터를 잘 반영했다고 볼 수 있음"
   ]
  },
  {
   "cell_type": "code",
   "execution_count": 67,
   "id": "1e9b749f",
   "metadata": {},
   "outputs": [
    {
     "name": "stderr",
     "output_type": "stream",
     "text": [
      "[Parallel(n_jobs=12)]: Using backend LokyBackend with 12 concurrent workers.\n",
      "[Parallel(n_jobs=12)]: Done   5 out of   5 | elapsed:    0.0s finished\n"
     ]
    },
    {
     "data": {
      "text/plain": [
       "{'fit_time': array([0.00897574, 0.00897574, 0.00897574, 0.00897598, 0.00897598]),\n",
       " 'score_time': array([0.00398946, 0.00398946, 0.0050261 , 0.00402808, 0.00402808]),\n",
       " 'test_score': array([0.14580789, 0.12539919, 0.18163816, 0.12223073, 0.15792085])}"
      ]
     },
     "execution_count": 67,
     "metadata": {},
     "output_type": "execute_result"
    }
   ],
   "source": [
    "# pipeline을 활용한 cross_validate(=교차 검증을 통해 메트릭을 평가하고 적합 / 점수 시간을 기록)\n",
    "estimator = make_pipeline(StandardScaler(), SVR(kernel=\"rbf\"))\n",
    "                          \n",
    "cross_validate(\n",
    "estimator = estimator,\n",
    "X=X, y=y,\n",
    "cv=5,\n",
    "n_jobs = multiprocessing.cpu_count(),\n",
    "verbose=True)\n",
    " # verbose=True 상세 수준                         "
   ]
  },
  {
   "cell_type": "code",
   "execution_count": 68,
   "id": "449c1886",
   "metadata": {},
   "outputs": [
    {
     "name": "stdout",
     "output_type": "stream",
     "text": [
      "Fitting 5 folds for each of 3 candidates, totalling 15 fits\n"
     ]
    },
    {
     "name": "stderr",
     "output_type": "stream",
     "text": [
      "C:\\ProgramData\\Anaconda3\\lib\\site-packages\\sklearn\\model_selection\\_search.py:918: UserWarning: One or more of the test scores are non-finite: [0.14659936        nan 0.34913589]\n",
      "  warnings.warn(\n"
     ]
    },
    {
     "data": {
      "text/plain": [
       "GridSearchCV(cv=5,\n",
       "             estimator=Pipeline(steps=[('scaler', StandardScaler()),\n",
       "                                       ('model', SVR())]),\n",
       "             n_jobs=12,\n",
       "             param_grid=[{'model__kernel': ['rbf', 'polynomial', 'sigmoid']}],\n",
       "             verbose=True)"
      ]
     },
     "execution_count": 68,
     "metadata": {},
     "output_type": "execute_result"
    }
   ],
   "source": [
    "# GriGridSearchCV를 활용해 적합한 모델 kernel 찾기\n",
    "pipe = Pipeline([('scaler', StandardScaler()),\n",
    "                 ('model', SVR(kernel='rbf'))])\n",
    "\n",
    "param_grid = [{'model__kernel' : ['rbf', 'polynomial', 'sigmoid']}]  ## 커널값을 비교해보자\n",
    "\n",
    "gs = GridSearchCV(\n",
    "    estimator=pipe,\n",
    "    param_grid=param_grid,\n",
    "    n_jobs=multiprocessing.cpu_count(),\n",
    "    cv =5,\n",
    "    verbose=True\n",
    ")\n",
    "\n",
    "gs.fit(X, y)"
   ]
  },
  {
   "cell_type": "code",
   "execution_count": 69,
   "id": "45c1b47f",
   "metadata": {},
   "outputs": [
    {
     "data": {
      "text/plain": [
       "Pipeline(steps=[('scaler', StandardScaler()), ('model', SVR(kernel='sigmoid'))])"
      ]
     },
     "execution_count": 69,
     "metadata": {},
     "output_type": "execute_result"
    }
   ],
   "source": [
    "# 최적의 kernel 추출\n",
    "gs.best_estimator_"
   ]
  },
  {
   "cell_type": "code",
   "execution_count": 70,
   "id": "319c366d",
   "metadata": {
    "scrolled": true
   },
   "outputs": [
    {
     "name": "stdout",
     "output_type": "stream",
     "text": [
      "Fitting 5 folds for each of 8 candidates, totalling 40 fits\n"
     ]
    },
    {
     "data": {
      "text/plain": [
       "GridSearchCV(cv=5,\n",
       "             estimator=Pipeline(steps=[('scaler', StandardScaler()),\n",
       "                                       ('model', SVR(kernel='sigmoid'))]),\n",
       "             n_jobs=12,\n",
       "             param_grid=[{'model__gamma': ['scale', 'auto']},\n",
       "                         {'model__C': [1.0, 0.1, 0.01]},\n",
       "                         {'model__epsilon': [1.0, 0.1, 0.01]}],\n",
       "             verbose=True)"
      ]
     },
     "execution_count": 70,
     "metadata": {},
     "output_type": "execute_result"
    }
   ],
   "source": [
    "# GriGridSearchCV를 활용해 나온 sigmoid 활용해 최적의 파라미터 찾기\n",
    "pipe = Pipeline([('scaler', StandardScaler()),\n",
    "                 ('model', SVR(kernel='sigmoid'))])\n",
    "\n",
    "param_grid = [{'model__gamma' : ['scale', 'auto']},\n",
    "              {'model__C' : [1.0, 0.1, 0.01]},\n",
    "              {'model__epsilon' : [1.0, 0.1, 0.01]}] \n",
    "\n",
    "gs = GridSearchCV(\n",
    "    estimator=pipe,\n",
    "    param_grid=param_grid,\n",
    "    n_jobs=multiprocessing.cpu_count(),\n",
    "    cv =5,\n",
    "    verbose=True\n",
    ")\n",
    "\n",
    "gs.fit(X, y)"
   ]
  },
  {
   "cell_type": "code",
   "execution_count": 71,
   "id": "3a3aef4b",
   "metadata": {},
   "outputs": [
    {
     "data": {
      "text/plain": [
       "Pipeline(steps=[('scaler', StandardScaler()),\n",
       "                ('model', SVR(epsilon=1.0, kernel='sigmoid'))])"
      ]
     },
     "execution_count": 71,
     "metadata": {},
     "output_type": "execute_result"
    }
   ],
   "source": [
    "# 최적의 파라미터 추출\n",
    "gs.best_estimator_"
   ]
  },
  {
   "cell_type": "code",
   "execution_count": 72,
   "id": "38ddbf04",
   "metadata": {},
   "outputs": [],
   "source": [
    "# 최적의 커널과 파라미터를 활용해 fit 해보기\n",
    "\n",
    "model = gs.best_estimator_"
   ]
  },
  {
   "cell_type": "code",
   "execution_count": 73,
   "id": "e8767618",
   "metadata": {},
   "outputs": [
    {
     "data": {
      "text/plain": [
       "Pipeline(steps=[('scaler', StandardScaler()),\n",
       "                ('model', SVR(epsilon=1.0, kernel='sigmoid'))])"
      ]
     },
     "execution_count": 73,
     "metadata": {},
     "output_type": "execute_result"
    }
   ],
   "source": [
    "model.fit(X_train, y_train)"
   ]
  },
  {
   "cell_type": "code",
   "execution_count": 74,
   "id": "0722eeea",
   "metadata": {
    "scrolled": true
   },
   "outputs": [
    {
     "name": "stdout",
     "output_type": "stream",
     "text": [
      "훈련 데이터 점수 : 0.4023176969022665\n",
      "평가 데이터 점수 : 0.2796329892408974\n"
     ]
    }
   ],
   "source": [
    "print(\"훈련 데이터 점수 : {}\".format(model.score(X_train,y_train)))\n",
    "print(\"평가 데이터 점수 : {}\".format(model.score(X_test,y_test)))\n",
    "\n",
    "# 점수가 개선 되었음"
   ]
  },
  {
   "cell_type": "code",
   "execution_count": 75,
   "id": "8e70cc8f",
   "metadata": {},
   "outputs": [],
   "source": [
    "############################### linear SVC\n",
    "# 유방암 데이터"
   ]
  },
  {
   "cell_type": "code",
   "execution_count": 76,
   "id": "d05f2d0d",
   "metadata": {},
   "outputs": [],
   "source": [
    "X, y = load_breast_cancer(return_X_y=True)"
   ]
  },
  {
   "cell_type": "code",
   "execution_count": 77,
   "id": "6f14f55a",
   "metadata": {},
   "outputs": [],
   "source": [
    "X_train, X_test, y_train, y_test = train_test_split(X,y, test_size=0.2)"
   ]
  },
  {
   "cell_type": "code",
   "execution_count": 78,
   "id": "ba52a446",
   "metadata": {},
   "outputs": [],
   "source": [
    "scaler = StandardScaler()\n",
    "X_train = scaler.fit_transform(X_train)\n",
    "X_test = scaler.transform(X_test)"
   ]
  },
  {
   "cell_type": "code",
   "execution_count": 79,
   "id": "b1cca038",
   "metadata": {},
   "outputs": [],
   "source": [
    "model = SVC(kernel='linear')"
   ]
  },
  {
   "cell_type": "code",
   "execution_count": 80,
   "id": "0134fc66",
   "metadata": {},
   "outputs": [
    {
     "data": {
      "text/plain": [
       "SVC(kernel='linear')"
      ]
     },
     "execution_count": 80,
     "metadata": {},
     "output_type": "execute_result"
    }
   ],
   "source": [
    "model.fit(X_train, y_train)"
   ]
  },
  {
   "cell_type": "code",
   "execution_count": 81,
   "id": "e21c22b3",
   "metadata": {
    "scrolled": true
   },
   "outputs": [
    {
     "name": "stdout",
     "output_type": "stream",
     "text": [
      "훈련 데이터 점수 : 0.989010989010989\n",
      "평가 데이터 점수 : 0.9736842105263158\n"
     ]
    }
   ],
   "source": [
    "print('훈련 데이터 점수 : {}'.format(model.score(X_train, y_train)))\n",
    "print('평가 데이터 점수 : {}'.format(model.score(X_test, y_test)))"
   ]
  },
  {
   "cell_type": "code",
   "execution_count": 82,
   "id": "237fd898",
   "metadata": {},
   "outputs": [],
   "source": [
    "def make_meshgrid(x,y, h=.02):\n",
    "    x_min, x_max = x.min()-1, x.max()+1\n",
    "    y_min, y_max = y.min()-1, y.max()+1\n",
    "    xx, yy = np.meshgrid(np.arange(x_min, x_max, h),\n",
    "                         np.arange(y_min, y_max, h))\n",
    "    \n",
    "    return xx, yy"
   ]
  },
  {
   "cell_type": "code",
   "execution_count": 83,
   "id": "2dc71d04",
   "metadata": {},
   "outputs": [],
   "source": [
    "def plot_contours(clf, xx, yy, **params):\n",
    "    Z = clf.predict(np.c_[xx.ravel(), yy.ravel()])\n",
    "    Z = Z.reshape(xx.shape)\n",
    "    out = plt.contourf(xx, yy, Z, **params)\n",
    "    \n",
    "    return out"
   ]
  },
  {
   "cell_type": "code",
   "execution_count": 84,
   "id": "32a579e9",
   "metadata": {},
   "outputs": [],
   "source": [
    "X_comp = TSNE(n_components=2).fit_transform(X)\n",
    "X0, X1 = X_comp[:,0], X_comp[:,1]\n",
    "xx, yy = make_meshgrid(X0, X1)"
   ]
  },
  {
   "cell_type": "code",
   "execution_count": 85,
   "id": "e9af4ebe",
   "metadata": {},
   "outputs": [
    {
     "data": {
      "image/png": "[encoded data removed]",
      "text/plain": [
       "<Figure size 432x288 with 1 Axes>"
      ]
     },
     "metadata": {},
     "output_type": "display_data"
    }
   ],
   "source": [
    "model.fit(X_comp, y)\n",
    "\n",
    "plot_contours(model, xx, yy, cmap=plt.cm.coolwarm, alpha=0.7)\n",
    "plt.scatter(X0, X1, c=y, cmap=plt.cm.coolwarm, s=20, edgecolors='k');"
   ]
  },
  {
   "cell_type": "code",
   "execution_count": 86,
   "id": "c33cfc5c",
   "metadata": {},
   "outputs": [
    {
     "name": "stderr",
     "output_type": "stream",
     "text": [
      "[Parallel(n_jobs=12)]: Using backend LokyBackend with 12 concurrent workers.\n",
      "[Parallel(n_jobs=12)]: Done   5 out of   5 | elapsed:    0.0s finished\n"
     ]
    },
    {
     "data": {
      "text/plain": [
       "{'fit_time': array([0.00598383, 0.0050168 , 0.00498629, 0.00598502, 0.00398707]),\n",
       " 'score_time': array([0.00099874, 0.00096703, 0.        , 0.00099564, 0.00099874]),\n",
       " 'test_score': array([0.96491228, 0.98245614, 0.96491228, 0.96491228, 0.98230088])}"
      ]
     },
     "execution_count": 86,
     "metadata": {},
     "output_type": "execute_result"
    }
   ],
   "source": [
    "estimator = make_pipeline(StandardScaler(), SVC(kernel=\"linear\"))\n",
    "                          \n",
    "cross_validate(\n",
    "estimator = estimator,\n",
    "X=X, y=y,\n",
    "cv=5,\n",
    "n_jobs = multiprocessing.cpu_count(),\n",
    "verbose=True)\n",
    " # verbose=True 상세 수준                         "
   ]
  },
  {
   "cell_type": "code",
   "execution_count": 87,
   "id": "f4a69b8d",
   "metadata": {},
   "outputs": [
    {
     "name": "stdout",
     "output_type": "stream",
     "text": [
      "Fitting 5 folds for each of 6 candidates, totalling 30 fits\n"
     ]
    },
    {
     "data": {
      "text/plain": [
       "GridSearchCV(cv=5,\n",
       "             estimator=Pipeline(steps=[('scaler', StandardScaler()),\n",
       "                                       ('model', SVC(kernel='linear'))]),\n",
       "             n_jobs=12,\n",
       "             param_grid=[{'model__C': [1.0, 0.1, 0.01],\n",
       "                          'model__gamma': ['scale', 'auto']}],\n",
       "             verbose=True)"
      ]
     },
     "execution_count": 87,
     "metadata": {},
     "output_type": "execute_result"
    }
   ],
   "source": [
    "pipe = Pipeline([('scaler', StandardScaler()),\n",
    "                 ('model', SVC(kernel='linear'))])\n",
    "\n",
    "param_grid = [{'model__gamma' : ['scale', 'auto'],\n",
    "               'model__C' : [1.0, 0.1, 0.01]}]  ## 커널값을 비교해보자\n",
    "\n",
    "gs = GridSearchCV(\n",
    "    estimator=pipe,\n",
    "    param_grid=param_grid,\n",
    "    n_jobs=multiprocessing.cpu_count(),\n",
    "    cv =5,\n",
    "    verbose=True\n",
    ")\n",
    "\n",
    "gs.fit(X, y)"
   ]
  },
  {
   "cell_type": "code",
   "execution_count": 88,
   "id": "77c610e5",
   "metadata": {
    "scrolled": true
   },
   "outputs": [
    {
     "data": {
      "text/plain": [
       "Pipeline(steps=[('scaler', StandardScaler()),\n",
       "                ('model', SVC(C=0.1, kernel='linear'))])"
      ]
     },
     "execution_count": 88,
     "metadata": {},
     "output_type": "execute_result"
    }
   ],
   "source": [
    "gs.best_estimator_"
   ]
  },
  {
   "cell_type": "code",
   "execution_count": 89,
   "id": "ec615f3d",
   "metadata": {},
   "outputs": [],
   "source": [
    "############################### linear SVC\n",
    "# 붓꽃 데이터"
   ]
  },
  {
   "cell_type": "code",
   "execution_count": 90,
   "id": "d887582a",
   "metadata": {},
   "outputs": [],
   "source": [
    "X, y = load_iris(return_X_y=True)"
   ]
  },
  {
   "cell_type": "code",
   "execution_count": 91,
   "id": "c9d46e58",
   "metadata": {},
   "outputs": [],
   "source": [
    "X_train, X_test, y_train, y_test = train_test_split(X,y, test_size=0.2)"
   ]
  },
  {
   "cell_type": "code",
   "execution_count": 92,
   "id": "9f8c40ee",
   "metadata": {},
   "outputs": [],
   "source": [
    "scaler = StandardScaler()\n",
    "X_train = scaler.fit_transform(X_train)\n",
    "X_test = scaler.transform(X_test)"
   ]
  },
  {
   "cell_type": "code",
   "execution_count": 93,
   "id": "e7add2ca",
   "metadata": {},
   "outputs": [],
   "source": [
    "model = SVC(kernel='linear')"
   ]
  },
  {
   "cell_type": "code",
   "execution_count": 94,
   "id": "7a5ce4eb",
   "metadata": {},
   "outputs": [
    {
     "data": {
      "text/plain": [
       "SVC(kernel='linear')"
      ]
     },
     "execution_count": 94,
     "metadata": {},
     "output_type": "execute_result"
    }
   ],
   "source": [
    "model.fit(X_train, y_train)"
   ]
  },
  {
   "cell_type": "code",
   "execution_count": 95,
   "id": "5cf6e5b8",
   "metadata": {},
   "outputs": [
    {
     "name": "stdout",
     "output_type": "stream",
     "text": [
      "훈련 데이터 점수 : 0.9833333333333333\n",
      "평가 데이터 점수 : 0.9666666666666667\n"
     ]
    }
   ],
   "source": [
    "print('훈련 데이터 점수 : {}'.format(model.score(X_train, y_train)))\n",
    "print('평가 데이터 점수 : {}'.format(model.score(X_test, y_test)))"
   ]
  },
  {
   "cell_type": "code",
   "execution_count": 96,
   "id": "900904f8",
   "metadata": {},
   "outputs": [],
   "source": [
    "def make_meshgrid(x,y, h=.02):\n",
    "    x_min, x_max = x.min()-1, x.max()+1\n",
    "    y_min, y_max = y.min()-1, y.max()+1\n",
    "    xx, yy = np.meshgrid(np.arange(x_min, x_max, h),\n",
    "                         np.arange(y_min, y_max, h))\n",
    "    \n",
    "    return xx, yy\n"
   ]
  },
  {
   "cell_type": "code",
   "execution_count": 97,
   "id": "af8d7efd",
   "metadata": {},
   "outputs": [],
   "source": [
    "def plot_contours(clf, xx, yy, **params):\n",
    "    Z = clf.predict(np.c_[xx.ravel(), yy.ravel()])\n",
    "    Z = Z.reshape(xx.shape)\n",
    "    out = plt.contourf(xx, yy, Z, **params)\n",
    "    \n",
    "    return out"
   ]
  },
  {
   "cell_type": "code",
   "execution_count": 98,
   "id": "837ad7d3",
   "metadata": {},
   "outputs": [],
   "source": [
    "X_comp = TSNE(n_components=2).fit_transform(X)\n",
    "X0, X1 = X_comp[:,0], X_comp[:,1]\n",
    "xx, yy = make_meshgrid(X0, X1)"
   ]
  },
  {
   "cell_type": "code",
   "execution_count": 99,
   "id": "63413c52",
   "metadata": {},
   "outputs": [
    {
     "data": {
      "image/png": "[encoded data removed]",
      "text/plain": [
       "<Figure size 432x288 with 1 Axes>"
      ]
     },
     "metadata": {},
     "output_type": "display_data"
    }
   ],
   "source": [
    "model.fit(X_comp, y)\n",
    "\n",
    "plot_contours(model, xx, yy, cmap=plt.cm.coolwarm, alpha=0.7)\n",
    "plt.scatter(X0, X1, c=y, cmap=plt.cm.coolwarm, s=20, edgecolors='k');"
   ]
  },
  {
   "cell_type": "code",
   "execution_count": 100,
   "id": "a9af2806",
   "metadata": {},
   "outputs": [
    {
     "name": "stderr",
     "output_type": "stream",
     "text": [
      "[Parallel(n_jobs=12)]: Using backend LokyBackend with 12 concurrent workers.\n",
      "[Parallel(n_jobs=12)]: Done   5 out of   5 | elapsed:    0.0s finished\n"
     ]
    },
    {
     "data": {
      "text/plain": [
       "{'fit_time': array([0.00192881, 0.00252748, 0.00252748, 0.0015285 , 0.00251341]),\n",
       " 'score_time': array([0.0015285 , 0.        , 0.        , 0.00098491, 0.00102353]),\n",
       " 'test_score': array([0.96666667, 1.        , 0.93333333, 0.93333333, 1.        ])}"
      ]
     },
     "execution_count": 100,
     "metadata": {},
     "output_type": "execute_result"
    }
   ],
   "source": [
    "estimator = make_pipeline(StandardScaler(), SVC(kernel=\"linear\"))\n",
    "                          \n",
    "cross_validate(\n",
    "estimator = estimator,\n",
    "X=X, y=y,\n",
    "cv=5,\n",
    "n_jobs = multiprocessing.cpu_count(),\n",
    "verbose=True)\n",
    " # verbose=True 상세 수준                         "
   ]
  },
  {
   "cell_type": "code",
   "execution_count": 101,
   "id": "76cb5d23",
   "metadata": {},
   "outputs": [
    {
     "name": "stdout",
     "output_type": "stream",
     "text": [
      "Fitting 5 folds for each of 6 candidates, totalling 30 fits\n"
     ]
    },
    {
     "data": {
      "text/plain": [
       "GridSearchCV(cv=5,\n",
       "             estimator=Pipeline(steps=[('scaler', StandardScaler()),\n",
       "                                       ('model', SVC(kernel='linear'))]),\n",
       "             n_jobs=12,\n",
       "             param_grid=[{'model__C': [1.0, 0.1, 0.01],\n",
       "                          'model__gamma': ['scale', 'auto']}],\n",
       "             verbose=True)"
      ]
     },
     "execution_count": 101,
     "metadata": {},
     "output_type": "execute_result"
    }
   ],
   "source": [
    "pipe = Pipeline([('scaler', StandardScaler()),\n",
    "                 ('model', SVC(kernel='linear'))])\n",
    "\n",
    "param_grid = [{'model__gamma' : ['scale', 'auto'],\n",
    "               'model__C' : [1.0, 0.1, 0.01]}]  ## 커널값을 비교해보자\n",
    "\n",
    "gs = GridSearchCV(\n",
    "    estimator=pipe,\n",
    "    param_grid=param_grid,\n",
    "    n_jobs=multiprocessing.cpu_count(),\n",
    "    cv =5,\n",
    "    verbose=True\n",
    ")\n",
    "\n",
    "gs.fit(X, y)"
   ]
  },
  {
   "cell_type": "code",
   "execution_count": 102,
   "id": "bb99fd88",
   "metadata": {
    "scrolled": true
   },
   "outputs": [
    {
     "data": {
      "text/plain": [
       "Pipeline(steps=[('scaler', StandardScaler()), ('model', SVC(kernel='linear'))])"
      ]
     },
     "execution_count": 102,
     "metadata": {},
     "output_type": "execute_result"
    }
   ],
   "source": [
    "gs.best_estimator_"
   ]
  },
  {
   "cell_type": "code",
   "execution_count": 103,
   "id": "b2584a28",
   "metadata": {},
   "outputs": [],
   "source": [
    "############################### linear SVC\n",
    "# 와인 데이터"
   ]
  },
  {
   "cell_type": "code",
   "execution_count": 104,
   "id": "0cacbfb9",
   "metadata": {},
   "outputs": [],
   "source": [
    "X, y = load_wine(return_X_y=True)"
   ]
  },
  {
   "cell_type": "code",
   "execution_count": 105,
   "id": "b4e36f71",
   "metadata": {},
   "outputs": [],
   "source": [
    "X_train, X_test, y_train, y_test = train_test_split(X,y, test_size=0.2)\n",
    "\n",
    "scaler = StandardScaler()\n",
    "X_train = scaler.fit_transform(X_train)\n",
    "X_test = scaler.transform(X_test)"
   ]
  },
  {
   "cell_type": "code",
   "execution_count": 106,
   "id": "53b4a623",
   "metadata": {},
   "outputs": [],
   "source": [
    "model = SVC(kernel='linear')"
   ]
  },
  {
   "cell_type": "code",
   "execution_count": 107,
   "id": "7e8be349",
   "metadata": {},
   "outputs": [
    {
     "data": {
      "text/plain": [
       "SVC(kernel='linear')"
      ]
     },
     "execution_count": 107,
     "metadata": {},
     "output_type": "execute_result"
    }
   ],
   "source": [
    "model.fit(X_train, y_train)"
   ]
  },
  {
   "cell_type": "code",
   "execution_count": 108,
   "id": "4e30fa28",
   "metadata": {},
   "outputs": [
    {
     "name": "stdout",
     "output_type": "stream",
     "text": [
      "훈련 데이터 점수 : 1.0\n",
      "평가 데이터 점수 : 0.9166666666666666\n"
     ]
    }
   ],
   "source": [
    "print('훈련 데이터 점수 : {}'.format(model.score(X_train, y_train)))\n",
    "print('평가 데이터 점수 : {}'.format(model.score(X_test, y_test)))"
   ]
  },
  {
   "cell_type": "code",
   "execution_count": 109,
   "id": "c1532e3d",
   "metadata": {},
   "outputs": [],
   "source": [
    "def make_meshgrid(x,y, h=.02):\n",
    "    x_min, x_max = x.min()-1, x.max()+1\n",
    "    y_min, y_max = y.min()-1, y.max()+1\n",
    "    xx, yy = np.meshgrid(np.arange(x_min, x_max, h),\n",
    "                         np.arange(y_min, y_max, h))\n",
    "    \n",
    "    return xx, yy"
   ]
  },
  {
   "cell_type": "code",
   "execution_count": 110,
   "id": "edc71a48",
   "metadata": {},
   "outputs": [],
   "source": [
    "def plot_contours(clf, xx, yy, **params):\n",
    "    Z = clf.predict(np.c_[xx.ravel(), yy.ravel()])\n",
    "    Z = Z.reshape(xx.shape)\n",
    "    out = plt.contourf(xx, yy, Z, **params)\n",
    "    \n",
    "    return out"
   ]
  },
  {
   "cell_type": "code",
   "execution_count": 111,
   "id": "f045d4ea",
   "metadata": {},
   "outputs": [],
   "source": [
    "X_comp = TSNE(n_components=2).fit_transform(X)\n",
    "X0, X1 = X_comp[:,0], X_comp[:,1]\n",
    "xx, yy = make_meshgrid(X0, X1)"
   ]
  },
  {
   "cell_type": "code",
   "execution_count": 112,
   "id": "20b164b5",
   "metadata": {},
   "outputs": [
    {
     "data": {
      "text/plain": [
       "SVC(kernel='linear')"
      ]
     },
     "execution_count": 112,
     "metadata": {},
     "output_type": "execute_result"
    }
   ],
   "source": [
    "model.fit(X_comp, y)"
   ]
  },
  {
   "cell_type": "code",
   "execution_count": 113,
   "id": "06dc458b",
   "metadata": {},
   "outputs": [
    {
     "data": {
      "image/png": "[encoded data removed]",
      "text/plain": [
       "<Figure size 432x288 with 1 Axes>"
      ]
     },
     "metadata": {},
     "output_type": "display_data"
    }
   ],
   "source": [
    "plot_contours(model, xx, yy, cmap=plt.cm.coolwarm, alpha=0.7)\n",
    "plt.scatter(X0, X1, c=y, cmap=plt.cm.coolwarm, s=20, edgecolors='k');"
   ]
  },
  {
   "cell_type": "code",
   "execution_count": 114,
   "id": "d1c06a94",
   "metadata": {},
   "outputs": [
    {
     "name": "stderr",
     "output_type": "stream",
     "text": [
      "[Parallel(n_jobs=12)]: Using backend LokyBackend with 12 concurrent workers.\n",
      "[Parallel(n_jobs=12)]: Done   5 out of   5 | elapsed:    0.0s finished\n"
     ]
    },
    {
     "data": {
      "text/plain": [
       "{'fit_time': array([0.00285459, 0.0015049 , 0.00099683, 0.00199366, 0.0025456 ]),\n",
       " 'score_time': array([0.        , 0.        , 0.00099683, 0.00055194, 0.        ]),\n",
       " 'test_score': array([0.94444444, 0.97222222, 0.97222222, 0.97142857, 0.94285714])}"
      ]
     },
     "execution_count": 114,
     "metadata": {},
     "output_type": "execute_result"
    }
   ],
   "source": [
    "estimator = make_pipeline(StandardScaler(), SVC(kernel=\"linear\"))\n",
    "                          \n",
    "cross_validate(\n",
    "estimator = estimator,\n",
    "X=X, y=y,\n",
    "cv=5,\n",
    "n_jobs = multiprocessing.cpu_count(),\n",
    "verbose=True)\n",
    " # verbose=True 상세 수준   "
   ]
  },
  {
   "cell_type": "code",
   "execution_count": 115,
   "id": "42939aa9",
   "metadata": {},
   "outputs": [
    {
     "name": "stdout",
     "output_type": "stream",
     "text": [
      "Fitting 5 folds for each of 6 candidates, totalling 30 fits\n"
     ]
    },
    {
     "data": {
      "text/plain": [
       "GridSearchCV(cv=5,\n",
       "             estimator=Pipeline(steps=[('scaler', StandardScaler()),\n",
       "                                       ('model', SVC(kernel='linear'))]),\n",
       "             n_jobs=12,\n",
       "             param_grid=[{'model__C': [1.0, 0.1, 0.01],\n",
       "                          'model__gamma': ['scale', 'auto']}],\n",
       "             verbose=True)"
      ]
     },
     "execution_count": 115,
     "metadata": {},
     "output_type": "execute_result"
    }
   ],
   "source": [
    "pipe = Pipeline([('scaler', StandardScaler()),\n",
    "                 ('model', SVC(kernel='linear'))])\n",
    "\n",
    "param_grid = [{'model__gamma' : ['scale', 'auto'],\n",
    "               'model__C' : [1.0, 0.1, 0.01]}]  ## 커널값을 비교해보자\n",
    "\n",
    "gs = GridSearchCV(\n",
    "    estimator=pipe,\n",
    "    param_grid=param_grid,\n",
    "    n_jobs=multiprocessing.cpu_count(),\n",
    "    cv =5,\n",
    "    verbose=True\n",
    ")\n",
    "\n",
    "gs.fit(X, y)"
   ]
  },
  {
   "cell_type": "code",
   "execution_count": 116,
   "id": "9575f50e",
   "metadata": {},
   "outputs": [
    {
     "data": {
      "text/plain": [
       "Pipeline(steps=[('scaler', StandardScaler()),\n",
       "                ('model', SVC(C=0.1, kernel='linear'))])"
      ]
     },
     "execution_count": 116,
     "metadata": {},
     "output_type": "execute_result"
    }
   ],
   "source": [
    "gs.best_estimator_"
   ]
  },
  {
   "cell_type": "code",
   "execution_count": 117,
   "id": "6e680a71",
   "metadata": {},
   "outputs": [],
   "source": [
    "############################### kernel SVC\n",
    "# 유방암"
   ]
  },
  {
   "cell_type": "code",
   "execution_count": 118,
   "id": "7d7ced18",
   "metadata": {},
   "outputs": [],
   "source": [
    "X, y = load_breast_cancer(return_X_y=True)"
   ]
  },
  {
   "cell_type": "code",
   "execution_count": 119,
   "id": "634bee75",
   "metadata": {},
   "outputs": [],
   "source": [
    "X_train, X_test, y_train, y_test = train_test_split(X,y, test_size=0.2)"
   ]
  },
  {
   "cell_type": "code",
   "execution_count": 120,
   "id": "125b426e",
   "metadata": {},
   "outputs": [],
   "source": [
    "scaler = StandardScaler()\n",
    "X_train = scaler.fit_transform(X_train)\n",
    "X_test = scaler.transform(X_test)"
   ]
  },
  {
   "cell_type": "code",
   "execution_count": 121,
   "id": "ffa98a47",
   "metadata": {},
   "outputs": [],
   "source": [
    "model = SVC(kernel='rbf')"
   ]
  },
  {
   "cell_type": "code",
   "execution_count": 122,
   "id": "953cb953",
   "metadata": {},
   "outputs": [
    {
     "data": {
      "text/plain": [
       "SVC()"
      ]
     },
     "execution_count": 122,
     "metadata": {},
     "output_type": "execute_result"
    }
   ],
   "source": [
    "model.fit(X_train, y_train)"
   ]
  },
  {
   "cell_type": "code",
   "execution_count": 123,
   "id": "5c1853ef",
   "metadata": {},
   "outputs": [
    {
     "name": "stdout",
     "output_type": "stream",
     "text": [
      "훈련 데이터 점수 : 0.9868131868131869\n",
      "평가 데이터 점수 : 0.9824561403508771\n"
     ]
    }
   ],
   "source": [
    "print('훈련 데이터 점수 : {}'.format(model.score(X_train, y_train)))\n",
    "print('평가 데이터 점수 : {}'.format(model.score(X_test, y_test)))"
   ]
  },
  {
   "cell_type": "code",
   "execution_count": 124,
   "id": "208c2436",
   "metadata": {},
   "outputs": [],
   "source": [
    "\n",
    "def make_meshgrid(x,y, h=.02):\n",
    "    x_min, x_max = x.min()-1, x.max()+1\n",
    "    y_min, y_max = y.min()-1, y.max()+1\n",
    "    xx, yy = np.meshgrid(np.arange(x_min, x_max, h),\n",
    "                         np.arange(y_min, y_max, h))\n",
    "    \n",
    "    return xx, yy"
   ]
  },
  {
   "cell_type": "code",
   "execution_count": 125,
   "id": "c9926306",
   "metadata": {},
   "outputs": [],
   "source": [
    "def plot_contours(clf, xx, yy, **params):\n",
    "    Z = clf.predict(np.c_[xx.ravel(), yy.ravel()])\n",
    "    Z = Z.reshape(xx.shape)\n",
    "    out = plt.contourf(xx, yy, Z, **params)\n",
    "    \n",
    "    return out"
   ]
  },
  {
   "cell_type": "code",
   "execution_count": 126,
   "id": "90ab63b3",
   "metadata": {},
   "outputs": [
    {
     "data": {
      "text/plain": [
       "SVC()"
      ]
     },
     "execution_count": 126,
     "metadata": {},
     "output_type": "execute_result"
    }
   ],
   "source": [
    "X_comp = TSNE(n_components=2).fit_transform(X)\n",
    "X0, X1 = X_comp[:,0], X_comp[:,1]\n",
    "xx, yy = make_meshgrid(X0, X1)\n",
    "\n",
    "model.fit(X_comp, y)"
   ]
  },
  {
   "cell_type": "code",
   "execution_count": 127,
   "id": "5be6a1b2",
   "metadata": {},
   "outputs": [
    {
     "data": {
      "image/png": "[encoded data removed]",
      "text/plain": [
       "<Figure size 432x288 with 1 Axes>"
      ]
     },
     "metadata": {},
     "output_type": "display_data"
    }
   ],
   "source": [
    "# rbf 이므로 비선형으로 나올것\n",
    "plot_contours(model, xx, yy, cmap=plt.cm.coolwarm, alpha=0.7)\n",
    "plt.scatter(X0, X1, c=y, cmap=plt.cm.coolwarm, s=20, edgecolors='k');"
   ]
  },
  {
   "cell_type": "code",
   "execution_count": 128,
   "id": "0f7def65",
   "metadata": {},
   "outputs": [
    {
     "name": "stderr",
     "output_type": "stream",
     "text": [
      "[Parallel(n_jobs=12)]: Using backend LokyBackend with 12 concurrent workers.\n",
      "[Parallel(n_jobs=12)]: Done   5 out of   5 | elapsed:    0.0s finished\n"
     ]
    },
    {
     "data": {
      "text/plain": [
       "{'fit_time': array([0.00800896, 0.00601888, 0.00702071, 0.00502062, 0.00801206]),\n",
       " 'score_time': array([0.00299001, 0.00399184, 0.00299001, 0.00299144, 0.00299358]),\n",
       " 'test_score': array([0.97368421, 0.95614035, 1.        , 0.96491228, 0.97345133])}"
      ]
     },
     "execution_count": 128,
     "metadata": {},
     "output_type": "execute_result"
    }
   ],
   "source": [
    "estimator = make_pipeline(StandardScaler(), SVC(kernel=\"rbf\"))\n",
    "                          \n",
    "cross_validate(\n",
    "estimator = estimator,\n",
    "X=X, y=y,\n",
    "cv=5,\n",
    "n_jobs = multiprocessing.cpu_count(),\n",
    "verbose=True)\n",
    " # verbose=True 상세 수준"
   ]
  },
  {
   "cell_type": "code",
   "execution_count": 129,
   "id": "a4400d59",
   "metadata": {},
   "outputs": [
    {
     "name": "stdout",
     "output_type": "stream",
     "text": [
      "Fitting 5 folds for each of 6 candidates, totalling 30 fits\n"
     ]
    },
    {
     "data": {
      "text/plain": [
       "GridSearchCV(cv=5,\n",
       "             estimator=Pipeline(steps=[('scaler', StandardScaler()),\n",
       "                                       ('model', SVC())]),\n",
       "             n_jobs=12,\n",
       "             param_grid=[{'model__C': [1.0, 0.1, 0.01],\n",
       "                          'model__gamma': ['scale', 'auto']}],\n",
       "             verbose=True)"
      ]
     },
     "execution_count": 129,
     "metadata": {},
     "output_type": "execute_result"
    }
   ],
   "source": [
    "pipe = Pipeline([('scaler', StandardScaler()),\n",
    "                 ('model', SVC(kernel='rbf'))])\n",
    "\n",
    "param_grid = [{'model__gamma' : ['scale', 'auto'],\n",
    "               'model__C' : [1.0, 0.1, 0.01]}]  ## 커널값을 비교해보자\n",
    "\n",
    "gs = GridSearchCV(\n",
    "    estimator=pipe,\n",
    "    param_grid=param_grid,\n",
    "    n_jobs=multiprocessing.cpu_count(),\n",
    "    cv =5,\n",
    "    verbose=True\n",
    ")\n",
    "\n",
    "gs.fit(X, y)"
   ]
  },
  {
   "cell_type": "code",
   "execution_count": 130,
   "id": "4cf3d81c",
   "metadata": {
    "scrolled": true
   },
   "outputs": [
    {
     "data": {
      "text/plain": [
       "Pipeline(steps=[('scaler', StandardScaler()), ('model', SVC())])"
      ]
     },
     "execution_count": 130,
     "metadata": {},
     "output_type": "execute_result"
    }
   ],
   "source": [
    "gs.best_estimator_"
   ]
  },
  {
   "cell_type": "code",
   "execution_count": 131,
   "id": "2a92ccc1",
   "metadata": {},
   "outputs": [],
   "source": [
    "############################### kernel SVC\n",
    "# 붓꽃"
   ]
  },
  {
   "cell_type": "code",
   "execution_count": 132,
   "id": "e64cfb0b",
   "metadata": {},
   "outputs": [],
   "source": [
    "X, y = load_iris(return_X_y=True)"
   ]
  },
  {
   "cell_type": "code",
   "execution_count": 133,
   "id": "254ce7df",
   "metadata": {},
   "outputs": [],
   "source": [
    "X_train, X_test, y_train, y_test = train_test_split(X,y, test_size=0.2)"
   ]
  },
  {
   "cell_type": "code",
   "execution_count": 134,
   "id": "46b0bad2",
   "metadata": {},
   "outputs": [],
   "source": [
    "scaler = StandardScaler()\n",
    "X_train = scaler.fit_transform(X_train)\n",
    "X_test = scaler.transform(X_test)"
   ]
  },
  {
   "cell_type": "code",
   "execution_count": 135,
   "id": "e015903f",
   "metadata": {},
   "outputs": [],
   "source": [
    "model = SVC(kernel='rbf')"
   ]
  },
  {
   "cell_type": "code",
   "execution_count": 136,
   "id": "29937531",
   "metadata": {},
   "outputs": [
    {
     "data": {
      "text/plain": [
       "SVC()"
      ]
     },
     "execution_count": 136,
     "metadata": {},
     "output_type": "execute_result"
    }
   ],
   "source": [
    "model.fit(X_train, y_train)"
   ]
  },
  {
   "cell_type": "code",
   "execution_count": 137,
   "id": "ceb5c290",
   "metadata": {},
   "outputs": [
    {
     "name": "stdout",
     "output_type": "stream",
     "text": [
      "훈련 데이터 점수 : 0.975\n",
      "평가 데이터 점수 : 0.9333333333333333\n"
     ]
    }
   ],
   "source": [
    "print('훈련 데이터 점수 : {}'.format(model.score(X_train, y_train)))\n",
    "print('평가 데이터 점수 : {}'.format(model.score(X_test, y_test)))"
   ]
  },
  {
   "cell_type": "code",
   "execution_count": 138,
   "id": "7fa0905e",
   "metadata": {},
   "outputs": [],
   "source": [
    "def make_meshgrid(x,y, h=.02):\n",
    "    x_min, x_max = x.min()-1, x.max()+1\n",
    "    y_min, y_max = y.min()-1, y.max()+1\n",
    "    xx, yy = np.meshgrid(np.arange(x_min, x_max, h),\n",
    "                         np.arange(y_min, y_max, h))\n",
    "    \n",
    "    return xx, yy\n"
   ]
  },
  {
   "cell_type": "code",
   "execution_count": 139,
   "id": "684dcd59",
   "metadata": {},
   "outputs": [],
   "source": [
    "def plot_contours(clf, xx, yy, **params):\n",
    "    Z = clf.predict(np.c_[xx.ravel(), yy.ravel()])\n",
    "    Z = Z.reshape(xx.shape)\n",
    "    out = plt.contourf(xx, yy, Z, **params)\n",
    "    \n",
    "    return out"
   ]
  },
  {
   "cell_type": "code",
   "execution_count": 140,
   "id": "5d92524d",
   "metadata": {},
   "outputs": [],
   "source": [
    "X_comp = TSNE(n_components=2).fit_transform(X)\n",
    "X0, X1 = X_comp[:,0], X_comp[:,1]\n",
    "xx, yy = make_meshgrid(X0, X1)"
   ]
  },
  {
   "cell_type": "code",
   "execution_count": 141,
   "id": "42ba46d1",
   "metadata": {},
   "outputs": [
    {
     "data": {
      "text/plain": [
       "SVC()"
      ]
     },
     "execution_count": 141,
     "metadata": {},
     "output_type": "execute_result"
    }
   ],
   "source": [
    "model.fit(X_comp, y)"
   ]
  },
  {
   "cell_type": "code",
   "execution_count": 142,
   "id": "032b4a73",
   "metadata": {},
   "outputs": [
    {
     "data": {
      "image/png": "[encoded data removed]",
      "text/plain": [
       "<Figure size 432x288 with 1 Axes>"
      ]
     },
     "metadata": {},
     "output_type": "display_data"
    }
   ],
   "source": [
    "plot_contours(model, xx, yy, cmap=plt.cm.coolwarm, alpha=0.7)\n",
    "plt.scatter(X0, X1, c=y, cmap=plt.cm.coolwarm, s=20, edgecolors='k');"
   ]
  },
  {
   "cell_type": "code",
   "execution_count": 145,
   "id": "c20439a3",
   "metadata": {},
   "outputs": [
    {
     "name": "stderr",
     "output_type": "stream",
     "text": [
      "[Parallel(n_jobs=12)]: Using backend LokyBackend with 12 concurrent workers.\n",
      "[Parallel(n_jobs=12)]: Done   5 out of   5 | elapsed:    0.0s finished\n"
     ]
    },
    {
     "data": {
      "text/plain": [
       "{'fit_time': array([0.00192499, 0.00096965, 0.00196815, 0.00154757, 0.00250912]),\n",
       " 'score_time': array([0.00154757, 0.00154757, 0.00054908, 0.        , 0.        ]),\n",
       " 'test_score': array([0.96666667, 0.96666667, 0.96666667, 0.93333333, 1.        ])}"
      ]
     },
     "execution_count": 145,
     "metadata": {},
     "output_type": "execute_result"
    }
   ],
   "source": [
    "estimator = make_pipeline(StandardScaler(), SVC(kernel=\"rbf\"))\n",
    "                          \n",
    "cross_validate(\n",
    "estimator = estimator,\n",
    "X=X, y=y,\n",
    "cv=5,\n",
    "n_jobs = multiprocessing.cpu_count(),\n",
    "verbose=True)\n",
    " # verbose=True 상세 수준               "
   ]
  },
  {
   "cell_type": "code",
   "execution_count": 147,
   "id": "aba72c40",
   "metadata": {},
   "outputs": [
    {
     "name": "stdout",
     "output_type": "stream",
     "text": [
      "Fitting 5 folds for each of 6 candidates, totalling 30 fits\n"
     ]
    },
    {
     "data": {
      "text/plain": [
       "GridSearchCV(cv=5,\n",
       "             estimator=Pipeline(steps=[('scaler', StandardScaler()),\n",
       "                                       ('model', SVC())]),\n",
       "             n_jobs=12,\n",
       "             param_grid=[{'model__C': [1.0, 0.1, 0.01],\n",
       "                          'model__gamma': ['scale', 'auto']}],\n",
       "             verbose=True)"
      ]
     },
     "execution_count": 147,
     "metadata": {},
     "output_type": "execute_result"
    }
   ],
   "source": [
    "pipe = Pipeline([('scaler', StandardScaler()),\n",
    "                 ('model', SVC(kernel='rbf'))])\n",
    "\n",
    "param_grid = [{'model__gamma' : ['scale', 'auto'],\n",
    "               'model__C' : [1.0, 0.1, 0.01]}]  ## 커널값을 비교해보자\n",
    "\n",
    "gs = GridSearchCV(\n",
    "    estimator=pipe,\n",
    "    param_grid=param_grid,\n",
    "    n_jobs=multiprocessing.cpu_count(),\n",
    "    cv =5,\n",
    "    verbose=True\n",
    ")\n",
    "\n",
    "gs.fit(X, y)"
   ]
  },
  {
   "cell_type": "code",
   "execution_count": 149,
   "id": "a2dd8f71",
   "metadata": {},
   "outputs": [
    {
     "data": {
      "text/plain": [
       "Pipeline(steps=[('scaler', StandardScaler()), ('model', SVC())])"
      ]
     },
     "execution_count": 149,
     "metadata": {},
     "output_type": "execute_result"
    }
   ],
   "source": [
    "gs.best_estimator_"
   ]
  },
  {
   "cell_type": "code",
   "execution_count": 150,
   "id": "b747deb1",
   "metadata": {},
   "outputs": [],
   "source": [
    "############################### kernel SVC\n",
    "# 와인"
   ]
  },
  {
   "cell_type": "code",
   "execution_count": 152,
   "id": "f61a0576",
   "metadata": {},
   "outputs": [],
   "source": [
    "X, y = load_wine(return_X_y=True)"
   ]
  },
  {
   "cell_type": "code",
   "execution_count": 153,
   "id": "562531d6",
   "metadata": {},
   "outputs": [],
   "source": [
    "X_train, X_test, y_train, y_test = train_test_split(X,y, test_size=0.2)"
   ]
  },
  {
   "cell_type": "code",
   "execution_count": 154,
   "id": "21b60535",
   "metadata": {},
   "outputs": [],
   "source": [
    "\n",
    "scaler = StandardScaler()\n",
    "X_train = scaler.fit_transform(X_train)\n",
    "X_test = scaler.transform(X_test)"
   ]
  },
  {
   "cell_type": "code",
   "execution_count": 156,
   "id": "c851b717",
   "metadata": {},
   "outputs": [],
   "source": [
    "model = SVC(kernel='rbf')"
   ]
  },
  {
   "cell_type": "code",
   "execution_count": 157,
   "id": "feed2ec3",
   "metadata": {},
   "outputs": [
    {
     "data": {
      "text/plain": [
       "SVC()"
      ]
     },
     "execution_count": 157,
     "metadata": {},
     "output_type": "execute_result"
    }
   ],
   "source": [
    "model.fit(X_train, y_train)"
   ]
  },
  {
   "cell_type": "code",
   "execution_count": 158,
   "id": "27267d25",
   "metadata": {},
   "outputs": [
    {
     "name": "stdout",
     "output_type": "stream",
     "text": [
      "훈련 데이터 점수 : 1.0\n",
      "평가 데이터 점수 : 1.0\n"
     ]
    }
   ],
   "source": [
    "print('훈련 데이터 점수 : {}'.format(model.score(X_train, y_train)))\n",
    "print('평가 데이터 점수 : {}'.format(model.score(X_test, y_test)))"
   ]
  },
  {
   "cell_type": "code",
   "execution_count": 159,
   "id": "4f528483",
   "metadata": {},
   "outputs": [],
   "source": [
    "def make_meshgrid(x,y, h=.02):\n",
    "    x_min, x_max = x.min()-1, x.max()+1\n",
    "    y_min, y_max = y.min()-1, y.max()+1\n",
    "    xx, yy = np.meshgrid(np.arange(x_min, x_max, h),\n",
    "                         np.arange(y_min, y_max, h))\n",
    "    \n",
    "    return xx, yy"
   ]
  },
  {
   "cell_type": "code",
   "execution_count": 160,
   "id": "6fe5078f",
   "metadata": {},
   "outputs": [],
   "source": [
    "\n",
    "def plot_contours(clf, xx, yy, **params):\n",
    "    Z = clf.predict(np.c_[xx.ravel(), yy.ravel()])\n",
    "    Z = Z.reshape(xx.shape)\n",
    "    out = plt.contourf(xx, yy, Z, **params)\n",
    "    \n",
    "    return out"
   ]
  },
  {
   "cell_type": "code",
   "execution_count": 161,
   "id": "83777c2f",
   "metadata": {},
   "outputs": [
    {
     "data": {
      "text/plain": [
       "SVC()"
      ]
     },
     "execution_count": 161,
     "metadata": {},
     "output_type": "execute_result"
    }
   ],
   "source": [
    "X_comp = TSNE(n_components=2).fit_transform(X)\n",
    "X0, X1 = X_comp[:,0], X_comp[:,1]\n",
    "xx, yy = make_meshgrid(X0, X1)\n",
    "\n",
    "model.fit(X_comp, y)"
   ]
  },
  {
   "cell_type": "code",
   "execution_count": 162,
   "id": "6fecffe8",
   "metadata": {},
   "outputs": [
    {
     "data": {
      "image/png": "[encoded data removed]",
      "text/plain": [
       "<Figure size 432x288 with 1 Axes>"
      ]
     },
     "metadata": {},
     "output_type": "display_data"
    }
   ],
   "source": [
    "plot_contours(model, xx, yy, cmap=plt.cm.coolwarm, alpha=0.7)\n",
    "plt.scatter(X0, X1, c=y, cmap=plt.cm.coolwarm, s=20, edgecolors='k');\n",
    "# 저차원으로 보고 있기 때문에 잘 안나눠진 것 같지만 고차원에서 다루는 모델링이기 때문에 잘 나눠졌을 것이다."
   ]
  },
  {
   "cell_type": "code",
   "execution_count": 169,
   "id": "c74e747d",
   "metadata": {},
   "outputs": [
    {
     "name": "stderr",
     "output_type": "stream",
     "text": [
      "[Parallel(n_jobs=12)]: Using backend LokyBackend with 12 concurrent workers.\n",
      "[Parallel(n_jobs=12)]: Done   5 out of   5 | elapsed:    0.0s finished\n"
     ]
    },
    {
     "data": {
      "text/plain": [
       "{'fit_time': array([0.00299168, 0.00299168, 0.0029912 , 0.0029912 , 0.00199318]),\n",
       " 'score_time': array([0.00099683, 0.00199556, 0.00099874, 0.00099874, 0.00099874]),\n",
       " 'test_score': array([1.        , 0.97222222, 0.94444444, 1.        , 1.        ])}"
      ]
     },
     "execution_count": 169,
     "metadata": {},
     "output_type": "execute_result"
    }
   ],
   "source": [
    "estimator = make_pipeline(StandardScaler(), SVC(kernel=\"rbf\"))\n",
    "                          \n",
    "cross_validate(\n",
    "estimator = estimator,\n",
    "X=X, y=y,\n",
    "cv=5,\n",
    "n_jobs = multiprocessing.cpu_count(),\n",
    "verbose=True)\n",
    " # verbose=True 상세 수준       "
   ]
  },
  {
   "cell_type": "code",
   "execution_count": 170,
   "id": "abccdcb0",
   "metadata": {},
   "outputs": [
    {
     "name": "stdout",
     "output_type": "stream",
     "text": [
      "Fitting 5 folds for each of 6 candidates, totalling 30 fits\n"
     ]
    },
    {
     "data": {
      "text/plain": [
       "GridSearchCV(cv=5,\n",
       "             estimator=Pipeline(steps=[('scaler', StandardScaler()),\n",
       "                                       ('model', SVC())]),\n",
       "             n_jobs=12,\n",
       "             param_grid=[{'model__C': [1.0, 0.1, 0.01],\n",
       "                          'model__gamma': ['scale', 'auto']}],\n",
       "             verbose=True)"
      ]
     },
     "execution_count": 170,
     "metadata": {},
     "output_type": "execute_result"
    }
   ],
   "source": [
    "pipe = Pipeline([('scaler', StandardScaler()),\n",
    "                 ('model', SVC(kernel='rbf'))])\n",
    "\n",
    "param_grid = [{'model__gamma' : ['scale', 'auto'],\n",
    "               'model__C' : [1.0, 0.1, 0.01]}]  ## 커널값을 비교해보자\n",
    "\n",
    "gs = GridSearchCV(\n",
    "    estimator=pipe,\n",
    "    param_grid=param_grid,\n",
    "    n_jobs=multiprocessing.cpu_count(),\n",
    "    cv =5,\n",
    "    verbose=True\n",
    ")\n",
    "\n",
    "\n",
    "gs.fit(X, y)"
   ]
  },
  {
   "cell_type": "code",
   "execution_count": 171,
   "id": "d92b3a4d",
   "metadata": {},
   "outputs": [
    {
     "data": {
      "text/plain": [
       "Pipeline(steps=[('scaler', StandardScaler()), ('model', SVC())])"
      ]
     },
     "execution_count": 171,
     "metadata": {},
     "output_type": "execute_result"
    }
   ],
   "source": [
    "gs.best_estimator_"
   ]
  },
  {
   "cell_type": "code",
   "execution_count": null,
   "id": "d87594ae",
   "metadata": {},
   "outputs": [],
   "source": []
  }
 ],
 "metadata": {
  "kernelspec": {
   "display_name": "Python 3",
   "language": "python",
   "name": "python3"
  },
  "language_info": {
   "codemirror_mode": {
    "name": "ipython",
    "version": 3
   },
   "file_extension": ".py",
   "mimetype": "text/x-python",
   "name": "python",
   "nbconvert_exporter": "python",
   "pygments_lexer": "ipython3",
   "version": "3.8.8"
  }
 },
 "nbformat": 4,
 "nbformat_minor": 5
}
