{
 "cells": [
  {
   "cell_type": "markdown",
   "id": "bd37e73f",
   "metadata": {},
   "source": [
    "# 와일드 카드 매칭\n",
    "- 단어의 중간이나 마지막 글자로 매칭하여 객체나 속성 찾기"
   ]
  },
  {
   "cell_type": "code",
   "execution_count": 2,
   "id": "6ff8ea58",
   "metadata": {},
   "outputs": [],
   "source": [
    "# Error로 끝나는 속성, 객체 찾기\n",
    "*Error?"
   ]
  },
  {
   "cell_type": "code",
   "execution_count": 4,
   "id": "439305c7",
   "metadata": {},
   "outputs": [],
   "source": [
    "# str. index가 들어간 함수 찾기\n",
    "str.*index*?"
   ]
  },
  {
   "cell_type": "markdown",
   "id": "0afb7ed1",
   "metadata": {},
   "source": [
    "# 매직 명령어\n",
    "- Jupyter Notebook 환경에서 파이썬 파일 저장 및 실행"
   ]
  },
  {
   "cell_type": "code",
   "execution_count": 5,
   "id": "9d4d6772",
   "metadata": {},
   "outputs": [
    {
     "name": "stdout",
     "output_type": "stream",
     "text": [
      "Writing test.py\n"
     ]
    }
   ],
   "source": [
    "%%writefile test.py\n",
    "print('Hello Python')"
   ]
  },
  {
   "cell_type": "code",
   "execution_count": 7,
   "id": "901a96c1",
   "metadata": {
    "scrolled": true
   },
   "outputs": [
    {
     "name": "stdout",
     "output_type": "stream",
     "text": [
      "Hello Python\n"
     ]
    }
   ],
   "source": [
    "%run test.py"
   ]
  },
  {
   "cell_type": "markdown",
   "id": "98ca3e06",
   "metadata": {},
   "source": [
    "- 코드 실행 시간 측정(어떤 코드가 조금 더 빨리 실행하는지 확인 가능)"
   ]
  },
  {
   "cell_type": "code",
   "execution_count": 8,
   "id": "b22309e5",
   "metadata": {},
   "outputs": [],
   "source": [
    "%%timeit?"
   ]
  },
  {
   "cell_type": "code",
   "execution_count": 10,
   "id": "9fb4d93c",
   "metadata": {},
   "outputs": [
    {
     "name": "stdout",
     "output_type": "stream",
     "text": [
      "7.55 ms ± 464 µs per loop (mean ± std. dev. of 7 runs, 100 loops each)\n"
     ]
    }
   ],
   "source": [
    "# 7.55초 소요를 나타냄\n",
    "%timeit li = [n ** n for n in range(1000)]"
   ]
  },
  {
   "cell_type": "code",
   "execution_count": null,
   "id": "b5d19dbc",
   "metadata": {},
   "outputs": [],
   "source": []
  },
  {
   "cell_type": "code",
   "execution_count": null,
   "id": "f240cbea",
   "metadata": {},
   "outputs": [],
   "source": []
  },
  {
   "cell_type": "code",
   "execution_count": null,
   "id": "dab240c7",
   "metadata": {},
   "outputs": [],
   "source": []
  }
 ],
 "metadata": {
  "kernelspec": {
   "display_name": "Python 3",
   "language": "python",
   "name": "python3"
  },
  "language_info": {
   "codemirror_mode": {
    "name": "ipython",
    "version": 3
   },
   "file_extension": ".py",
   "mimetype": "text/x-python",
   "name": "python",
   "nbconvert_exporter": "python",
   "pygments_lexer": "ipython3",
   "version": "3.8.8"
  }
 },
 "nbformat": 4,
 "nbformat_minor": 5
}
