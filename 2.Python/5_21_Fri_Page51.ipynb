{
 "cells": [
  {
   "cell_type": "code",
   "execution_count": 1,
   "id": "266d4e37",
   "metadata": {},
   "outputs": [],
   "source": [
    "a = \"Life is ~~~\""
   ]
  },
  {
   "cell_type": "code",
   "execution_count": 2,
   "id": "f223615e",
   "metadata": {},
   "outputs": [],
   "source": [
    "a1 = a[0:4]          # 문자 슬라이싱 0~4 --> 4번째에서 짤라줘 / 공백 포함 / 자리의 시작은 0"
   ]
  },
  {
   "cell_type": "code",
   "execution_count": 3,
   "id": "d4d5b276",
   "metadata": {},
   "outputs": [],
   "source": [
    "a2 = a[0:5]"
   ]
  },
  {
   "cell_type": "code",
   "execution_count": 4,
   "id": "3b33edd8",
   "metadata": {},
   "outputs": [
    {
     "name": "stdout",
     "output_type": "stream",
     "text": [
      "다르다\n"
     ]
    }
   ],
   "source": [
    "if a1 == a2:\n",
    "    print(\"같다\")\n",
    "else:\n",
    "    print(\"다르다\") # 조건문을 활용한 비교로는 다르다고 출력"
   ]
  },
  {
   "cell_type": "code",
   "execution_count": 5,
   "id": "af2cc812",
   "metadata": {},
   "outputs": [
    {
     "name": "stdout",
     "output_type": "stream",
     "text": [
      "Life 4\n",
      "Life  5\n"
     ]
    }
   ],
   "source": [
    "print(a1, len(a1))\n",
    "print(a2, len(a2))          # 육안으로 보기엔 차이가 없음 // strip(양쪽) & lstrip(왼쪽) & rstrip(오른쪽) 공백 제거 함수"
   ]
  },
  {
   "cell_type": "code",
   "execution_count": 37,
   "id": "b17f69f4",
   "metadata": {},
   "outputs": [],
   "source": [
    "words1 = \"딸기, 바나나, 수박\""
   ]
  },
  {
   "cell_type": "code",
   "execution_count": 38,
   "id": "2723251f",
   "metadata": {},
   "outputs": [
    {
     "name": "stdout",
     "output_type": "stream",
     "text": [
      "바나나\n"
     ]
    }
   ],
   "source": [
    "bananaFromwords1 = words1[4:7]\n",
    "print(bananaFromwords1)"
   ]
  },
  {
   "cell_type": "code",
   "execution_count": 43,
   "id": "4a5adc4a",
   "metadata": {},
   "outputs": [
    {
     "name": "stdout",
     "output_type": "stream",
     "text": [
      "바나나\n"
     ]
    }
   ],
   "source": [
    "\n",
    "wordToFind = \"바나나\"\n",
    "indexOfBanana = words1.find(wordToFind)       # 위치알려주기 함수 Find\n",
    "bananaFromwords1 = words1[indexOfBanana:indexOfBanana + len(wordToFind)]  # 내 코드 아님 이런건 어떻게 생각해?\n",
    "print(bananaFromwords1)\n",
    "\n"
   ]
  },
  {
   "cell_type": "code",
   "execution_count": 10,
   "id": "cee9bb90",
   "metadata": {},
   "outputs": [
    {
     "name": "stdout",
     "output_type": "stream",
     "text": [
      "수박\n"
     ]
    }
   ],
   "source": [
    "# wmFromwords1 = words1[9:11]    맨 마지막을 출력하는 두가지 방법\n",
    "wmFromwords1 = words1[9:]  \n",
    "print(wmFromwords1)"
   ]
  },
  {
   "cell_type": "code",
   "execution_count": 13,
   "id": "31482c53",
   "metadata": {},
   "outputs": [
    {
     "name": "stdout",
     "output_type": "stream",
     "text": [
      "딸기\n"
     ]
    }
   ],
   "source": [
    "sbwmFromwords1 = words1[:2]\n",
    "print(sbwmFromwords1)"
   ]
  },
  {
   "cell_type": "code",
   "execution_count": 46,
   "id": "4af4d488",
   "metadata": {},
   "outputs": [],
   "source": [
    "# 오타 바꾸기\n",
    "a = \"Pithon\""
   ]
  },
  {
   "cell_type": "code",
   "execution_count": 47,
   "id": "91ca5ab4",
   "metadata": {},
   "outputs": [
    {
     "data": {
      "text/plain": [
       "'i'"
      ]
     },
     "execution_count": 47,
     "metadata": {},
     "output_type": "execute_result"
    }
   ],
   "source": [
    "a[1]"
   ]
  },
  {
   "cell_type": "code",
   "execution_count": 48,
   "id": "73067a1a",
   "metadata": {},
   "outputs": [
    {
     "ename": "TypeError",
     "evalue": "'str' object does not support item assignment",
     "output_type": "error",
     "traceback": [
      "\u001b[1;31m---------------------------------------------------------------------------\u001b[0m",
      "\u001b[1;31mTypeError\u001b[0m                                 Traceback (most recent call last)",
      "\u001b[1;32m<ipython-input-48-1ef73c6a572a>\u001b[0m in \u001b[0;36m<module>\u001b[1;34m\u001b[0m\n\u001b[1;32m----> 1\u001b[1;33m \u001b[0ma\u001b[0m\u001b[1;33m[\u001b[0m\u001b[1;36m1\u001b[0m\u001b[1;33m]\u001b[0m \u001b[1;33m=\u001b[0m \u001b[1;34m\"y\"\u001b[0m\u001b[1;33m\u001b[0m\u001b[1;33m\u001b[0m\u001b[0m\n\u001b[0m",
      "\u001b[1;31mTypeError\u001b[0m: 'str' object does not support item assignment"
     ]
    }
   ],
   "source": [
    "a[1] = \"y\" # 오류가 떠버려"
   ]
  },
  {
   "cell_type": "code",
   "execution_count": 50,
   "id": "a51e247f",
   "metadata": {},
   "outputs": [],
   "source": [
    "a2 = a[:1] + \"y\" + a[2:] # 앞부분에 1 전이 정상이야 / 뒷부분에 2부터 정상이야"
   ]
  },
  {
   "cell_type": "code",
   "execution_count": 53,
   "id": "6a54ebda",
   "metadata": {},
   "outputs": [
    {
     "name": "stdout",
     "output_type": "stream",
     "text": [
      "Python\n"
     ]
    }
   ],
   "source": [
    "a = a2\n",
    "print(a2)"
   ]
  },
  {
   "cell_type": "code",
   "execution_count": 56,
   "id": "0b7d2702",
   "metadata": {},
   "outputs": [
    {
     "name": "stdout",
     "output_type": "stream",
     "text": [
      "Name\tMajor\tHowManyPhone\n",
      "김기영\tIT\t2\n",
      "김개굴\tBT\t3\n"
     ]
    }
   ],
   "source": [
    "# 정렬\n",
    "name1 = \"김기영\" ; major1 = \"IT\" ;howManyPhone1 =2\n",
    "name2 = \"김개굴\" ; major2 = \"BT\" ;howManyPhone2 =3\n",
    "print(\"Name\" + \"\\t\"+ \"Major\" + \"\\t\" + \"HowManyPhone\")\n",
    "print(name1 + \"\\t\"+ major1 + \"\\t\" + str(howManyPhone1))\n",
    "print(name2 + \"\\t\"+ major2 + \"\\t\" + str(howManyPhone2)) # 숫자는 크기 비교 용이를 위해 오른쪽 정렬을 함 / 하지만 현재는 되어있지 않음."
   ]
  },
  {
   "cell_type": "code",
   "execution_count": null,
   "id": "a3a351c9",
   "metadata": {},
   "outputs": [],
   "source": []
  }
 ],
 "metadata": {
  "kernelspec": {
   "display_name": "Python 3",
   "language": "python",
   "name": "python3"
  },
  "language_info": {
   "codemirror_mode": {
    "name": "ipython",
    "version": 3
   },
   "file_extension": ".py",
   "mimetype": "text/x-python",
   "name": "python",
   "nbconvert_exporter": "python",
   "pygments_lexer": "ipython3",
   "version": "3.8.8"
  }
 },
 "nbformat": 4,
 "nbformat_minor": 5
}
