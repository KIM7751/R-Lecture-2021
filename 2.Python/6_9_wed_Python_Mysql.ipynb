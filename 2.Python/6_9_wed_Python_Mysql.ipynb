{
 "cells": [
  {
   "cell_type": "code",
   "execution_count": 1,
   "id": "ec17fbbc",
   "metadata": {},
   "outputs": [],
   "source": [
    "import pymysql as m\n",
    "# 1. 아나콘다 cmd 관리자 권한으로 실행\n",
    "# 2. conda install pymysql\n",
    "# 3. 주피터 노트북 실행 \n",
    "# 4. SQL SHOW databases; 확인 가능"
   ]
  },
  {
   "cell_type": "code",
   "execution_count": 2,
   "id": "a0992fec",
   "metadata": {},
   "outputs": [],
   "source": [
    "con = m.connect(host='localhost', user='root', password='7751', charset='utf8')\n",
    "cur = con.cursor() # 커서..."
   ]
  },
  {
   "cell_type": "code",
   "execution_count": null,
   "id": "f681628f",
   "metadata": {},
   "outputs": [],
   "source": [
    "# 데이터 베이스 생성\n",
    "q = 'CREATE DATABASE DB_FROM_PYTHON;'\n",
    "cur.execute(q)                       # 커멘드 실행\n",
    "con.close()\n",
    "# +--------------------+\n",
    "# | Database           |\n",
    "# +--------------------+\n",
    "# | ch5_clothing       |\n",
    "# | ch8_titanic        |\n",
    "# | classicmodels      |\n",
    "# | db_from_python     |\n",
    "# | information_schema |\n",
    "# | mysql              |\n",
    "# | mytest_1           |\n",
    "# | performance_schema |\n",
    "# | public_data        |\n",
    "# | sys                |\n",
    "# +--------------------+"
   ]
  },
  {
   "cell_type": "code",
   "execution_count": null,
   "id": "42b87d7e",
   "metadata": {},
   "outputs": [],
   "source": [
    "# 테이블 만들기\n",
    "con = m.connect(host='localhost', user='root', password='7751', db ='DB_FROM_PYTHON', charset='utf8')\n",
    "cur = con.cursor()\n",
    "q = \"\"\"CREATE TABLE table_from_pythom(\n",
    "id INTEGER PRIMARY KEY,\n",
    "name VARCHAR(100),\n",
    "email VARCHAR(100),\n",
    "division VARCHAR(100)\n",
    ") \n",
    "\"\"\"\n",
    "\n",
    "cur.execute(q)\n",
    "con.commit()\n",
    "con.close()\n",
    "\n",
    "# use db_from_python;\n",
    "# show tables;\n",
    "# +--------------------------+\n",
    "# | Tables_in_db_from_python |\n",
    "# +--------------------------+\n",
    "# | table_from_pythom        |\n",
    "# +--------------------------+\n",
    "\n",
    "# desc table_from_pythom;\n",
    "# +----------+--------------+------+-----+---------+-------+\n",
    "# | Field    | Type         | Null | Key | Default | Extra |\n",
    "# +----------+--------------+------+-----+---------+-------+\n",
    "# | id       | int          | NO   | PRI | NULL    |       |\n",
    "# | name     | varchar(100) | YES  |     | NULL    |       |\n",
    "# | email    | varchar(100) | YES  |     | NULL    |       |\n",
    "# | division | varchar(100) | YES  |     | NULL    |       |\n",
    "# +----------+--------------+------+-----+---------+-------+"
   ]
  },
  {
   "cell_type": "code",
   "execution_count": 12,
   "id": "30c39ce6",
   "metadata": {},
   "outputs": [],
   "source": [
    "# 데이터 삽입 하기\n",
    "con = m.connect(host='localhost', user='root', password='7751', db ='DB_FROM_PYTHON', charset='utf8')\n",
    "cur = con.cursor()\n",
    "q = \"INSERT INTO table_from_pythom(id, name, division) VALUE(%s, %s, %s)\" # 전체가 str 이기때문에 id Value 또한 str로 맞춘다.\n",
    "cur.execute(q, (1, 'Kim', 'DEV'))\n",
    "cur.execute(q, (2, 'Lee', 'SAL'))\n",
    "cur.execute(q, (3, 'Park', 'ADM'))\n",
    "con.commit()\n",
    "con.close()\n",
    "\n",
    "# SELECT * FROM table_from_pythom;\n",
    "# +----+------+-------+----------+\n",
    "# | id | name | email | division |\n",
    "# +----+------+-------+----------+\n",
    "# |  1 | Kim  | NULL  | DEV      |\n",
    "# |  2 | Lee  | NULL  | SAL      |\n",
    "# |  3 | Park | NULL  | ADM      |\n",
    "# +----+------+-------+----------+"
   ]
  },
  {
   "cell_type": "code",
   "execution_count": 13,
   "id": "71dfc698",
   "metadata": {},
   "outputs": [
    {
     "name": "stdout",
     "output_type": "stream",
     "text": [
      "(1, 'Kim', None, 'DEV')\n",
      "(2, 'Lee', None, 'SAL')\n",
      "(3, 'Park', None, 'ADM')\n"
     ]
    }
   ],
   "source": [
    "# SQL데이터 가져오기\n",
    "con = m.connect(host='localhost', user='root', password='7751', db ='DB_FROM_PYTHON', charset='utf8')\n",
    "cur = con.cursor()\n",
    "q = \"SELECT * FROM table_from_pythom\"\n",
    "cur.execute(q)                        # 명령은 했으나 불러올 곳이 없음.\n",
    "res = cur.fetchall()                  # .fetchall을 사용해 명령 데이터를 받아옴\n",
    "for data in res:                      # 반복문을 통해 출력\n",
    "    print(data)\n",
    "con.close()"
   ]
  },
  {
   "cell_type": "code",
   "execution_count": 14,
   "id": "50e4b6c3",
   "metadata": {},
   "outputs": [
    {
     "data": {
      "text/html": [
       "<div>\n",
       "<style scoped>\n",
       "    .dataframe tbody tr th:only-of-type {\n",
       "        vertical-align: middle;\n",
       "    }\n",
       "\n",
       "    .dataframe tbody tr th {\n",
       "        vertical-align: top;\n",
       "    }\n",
       "\n",
       "    .dataframe thead th {\n",
       "        text-align: right;\n",
       "    }\n",
       "</style>\n",
       "<table border=\"1\" class=\"dataframe\">\n",
       "  <thead>\n",
       "    <tr style=\"text-align: right;\">\n",
       "      <th></th>\n",
       "      <th>0</th>\n",
       "      <th>1</th>\n",
       "      <th>2</th>\n",
       "      <th>3</th>\n",
       "    </tr>\n",
       "  </thead>\n",
       "  <tbody>\n",
       "    <tr>\n",
       "      <th>0</th>\n",
       "      <td>1</td>\n",
       "      <td>Kim</td>\n",
       "      <td>None</td>\n",
       "      <td>DEV</td>\n",
       "    </tr>\n",
       "    <tr>\n",
       "      <th>1</th>\n",
       "      <td>2</td>\n",
       "      <td>Lee</td>\n",
       "      <td>None</td>\n",
       "      <td>SAL</td>\n",
       "    </tr>\n",
       "    <tr>\n",
       "      <th>2</th>\n",
       "      <td>3</td>\n",
       "      <td>Park</td>\n",
       "      <td>None</td>\n",
       "      <td>ADM</td>\n",
       "    </tr>\n",
       "  </tbody>\n",
       "</table>\n",
       "</div>"
      ],
      "text/plain": [
       "   0     1     2    3\n",
       "0  1   Kim  None  DEV\n",
       "1  2   Lee  None  SAL\n",
       "2  3  Park  None  ADM"
      ]
     },
     "execution_count": 14,
     "metadata": {},
     "output_type": "execute_result"
    }
   ],
   "source": [
    "# SQL데이터 가져오기2\n",
    "import pandas as pd\n",
    "con = m.connect(host='localhost', user='root', password='7751', db ='DB_FROM_PYTHON', charset='utf8')\n",
    "cur = con.cursor()\n",
    "q = \"SELECT * FROM table_from_pythom\"\n",
    "cur.execute(q)                        # 명령은 했으나 불러올 곳이 없음.\n",
    "res = cur.fetchall()                  # .fetchall을 사용해 명령 데이터를 받아옴\n",
    "df1 = pd.DataFrame(res)\n",
    "con.close()\n",
    "df1"
   ]
  },
  {
   "cell_type": "code",
   "execution_count": 16,
   "id": "08aa2261",
   "metadata": {},
   "outputs": [
    {
     "data": {
      "text/html": [
       "<div>\n",
       "<style scoped>\n",
       "    .dataframe tbody tr th:only-of-type {\n",
       "        vertical-align: middle;\n",
       "    }\n",
       "\n",
       "    .dataframe tbody tr th {\n",
       "        vertical-align: top;\n",
       "    }\n",
       "\n",
       "    .dataframe thead th {\n",
       "        text-align: right;\n",
       "    }\n",
       "</style>\n",
       "<table border=\"1\" class=\"dataframe\">\n",
       "  <thead>\n",
       "    <tr style=\"text-align: right;\">\n",
       "      <th></th>\n",
       "      <th>id</th>\n",
       "      <th>name</th>\n",
       "      <th>email</th>\n",
       "      <th>division</th>\n",
       "    </tr>\n",
       "  </thead>\n",
       "  <tbody>\n",
       "    <tr>\n",
       "      <th>0</th>\n",
       "      <td>1</td>\n",
       "      <td>Kim</td>\n",
       "      <td>None</td>\n",
       "      <td>DEV</td>\n",
       "    </tr>\n",
       "    <tr>\n",
       "      <th>1</th>\n",
       "      <td>2</td>\n",
       "      <td>Lee</td>\n",
       "      <td>None</td>\n",
       "      <td>SAL</td>\n",
       "    </tr>\n",
       "    <tr>\n",
       "      <th>2</th>\n",
       "      <td>3</td>\n",
       "      <td>Park</td>\n",
       "      <td>None</td>\n",
       "      <td>ADM</td>\n",
       "    </tr>\n",
       "  </tbody>\n",
       "</table>\n",
       "</div>"
      ],
      "text/plain": [
       "   id  name email division\n",
       "0   1   Kim  None      DEV\n",
       "1   2   Lee  None      SAL\n",
       "2   3  Park  None      ADM"
      ]
     },
     "execution_count": 16,
     "metadata": {},
     "output_type": "execute_result"
    }
   ],
   "source": [
    "# dataframe col 지정하기\n",
    "col = ['id', 'name', 'email', 'division']\n",
    "df1 = pd.DataFrame(res, columns =col)\n",
    "df1\n",
    "# df1.to_csv(\"my_db2.csv.csv\") 파일 저장"
   ]
  },
  {
   "cell_type": "code",
   "execution_count": 23,
   "id": "0388268a",
   "metadata": {},
   "outputs": [],
   "source": [
    "# table에 누락 정보 넣기 \"email\"\n",
    "con = m.connect(host='localhost', user='root', password='7751', db ='DB_FROM_PYTHON', charset='utf8')\n",
    "cur = con.cursor()\n",
    "q = \"UPDATE table_from_pythom SET email =%s WHERE id =%s;\"\n",
    "cur.execute(q, (\"developer_kim@good.com\", 1))\n",
    "cur.execute(q, (\"sales_pro_lee@good.com\", 2))\n",
    "cur.execute(q, (\"admin_park@good.com\", 3))\n",
    "con.commit()                \n",
    "con.close()"
   ]
  }
 ],
 "metadata": {
  "kernelspec": {
   "display_name": "Python 3",
   "language": "python",
   "name": "python3"
  },
  "language_info": {
   "codemirror_mode": {
    "name": "ipython",
    "version": 3
   },
   "file_extension": ".py",
   "mimetype": "text/x-python",
   "name": "python",
   "nbconvert_exporter": "python",
   "pygments_lexer": "ipython3",
   "version": "3.8.8"
  }
 },
 "nbformat": 4,
 "nbformat_minor": 5
}
