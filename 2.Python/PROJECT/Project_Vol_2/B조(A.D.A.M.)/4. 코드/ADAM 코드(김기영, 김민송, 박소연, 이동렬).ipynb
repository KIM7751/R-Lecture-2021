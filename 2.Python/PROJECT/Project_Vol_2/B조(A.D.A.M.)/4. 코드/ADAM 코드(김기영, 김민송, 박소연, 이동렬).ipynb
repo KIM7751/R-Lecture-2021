{
 "cells": [
  {
   "cell_type": "markdown",
   "id": "29f89f20",
   "metadata": {},
   "source": [
    "!pip install plotly\n",
    "!pip install cufflinks\n",
    "!pip install sort-dataframeby-monthorweek\n",
    "!pip install sorted-months-weekdays"
   ]
  },
  {
   "cell_type": "code",
   "execution_count": 17,
   "id": "5362be41",
   "metadata": {},
   "outputs": [],
   "source": [
    "import pandas as pd\n",
    "from sklearn.linear_model import LogisticRegression\n",
    "import matplotlib.pyplot as plt\n",
    "import numpy as np\n",
    "from sklearn.model_selection import GridSearchCV, train_test_split\n",
    "from sklearn.preprocessing import StandardScaler\n",
    "from sklearn.model_selection import cross_val_score\n",
    "from sklearn.model_selection import cross_validate\n",
    "from sklearn.ensemble import RandomForestClassifier\n",
    "from sklearn.neighbors import KNeighborsClassifier\n",
    "from sklearn.manifold import TSNE\n",
    "from sklearn.linear_model import SGDClassifier\n",
    "from sklearn.pipeline import make_pipeline\n",
    "# !pip install imblearn\n",
    "from imblearn.over_sampling import RandomOverSampler\n",
    "import seaborn as sns\n",
    "from sklearn.ensemble import BaggingClassifier\n",
    "from sklearn.ensemble import GradientBoostingClassifier\n",
    "from sklearn.feature_selection import RFE\n",
    "import graphviz\n",
    "from sklearn import tree\n",
    "from sklearn.tree import DecisionTreeClassifier\n",
    "from sklearn.model_selection import cross_val_score\n",
    "from sklearn.svm import SVC\n",
    "\n",
    "import sort_dataframeby_monthorweek as sd"
   ]
  },
  {
   "cell_type": "markdown",
   "id": "e64e845f",
   "metadata": {},
   "source": [
    "# 데이터 불러오기 및 전처리 코드"
   ]
  },
  {
   "cell_type": "code",
   "execution_count": 7,
   "id": "e69e267f",
   "metadata": {},
   "outputs": [],
   "source": [
    "df = pd.read_csv('C:/workspace/Python/머신러닝 플젝/hotel_bookings_cancel.csv', header = 0)"
   ]
  },
  {
   "cell_type": "code",
   "execution_count": 8,
   "id": "acc735a7",
   "metadata": {},
   "outputs": [],
   "source": [
    "# reservation_status 열 제거\n",
    "\n",
    "df = df.drop(['reservation_status'], axis = 1)\n",
    "\n",
    "# chilsdren, babies 의 결측치 제거한 후 둘의 수를 더한 후, 자녀의 유무를 0, 1로 나타낸 \n",
    "# kids 열 생성.\n",
    "\n",
    "df['children'] = df['children'].fillna(0)\n",
    "df['babies'] = df['babies'].fillna(0)\n",
    "df[\"kids\"] = df[\"children\"] + df[\"babies\"]\n",
    "df.loc[df.kids != 0, 'kids'] = 1\n",
    "\n",
    "# total_guest열 생성.\n",
    "df['total_guest'] = df['adults'] + df['children'] +df['kids']\n",
    "\n",
    "# agent 결측치 제거 후 agent의 유무를 0, 1 로 나타냄.\n",
    "df['agent'] = df['agent'].fillna(0)\n",
    "df.loc[df.agent != 0,'agent'] = 1 #df[df.loc[df['agent'] != 0]] = 1"
   ]
  },
  {
   "cell_type": "code",
   "execution_count": 9,
   "id": "e1c43783",
   "metadata": {},
   "outputs": [
    {
     "name": "stdout",
     "output_type": "stream",
     "text": [
      "(119390, 25) (119390, 17)\n"
     ]
    }
   ],
   "source": [
    "# 전처리 끝난 후 원본 데이터를 건드리지 않는 ml 데이터를 따로 만듦.\n",
    "# (특성 가변적으로 선택하기 위해)\n",
    "\n",
    "df_ml = df.drop([\"adults\", \"children\", \"babies\", \"assigned_room_type\", \"reserved_room_type\",\"arrival_date_day_of_month\", \"required_car_parking_spaces\", \"total_of_special_requests\"], axis = 1)\n",
    "print(df.shape, df_ml.shape)"
   ]
  },
  {
   "cell_type": "code",
   "execution_count": 10,
   "id": "9fd03c12",
   "metadata": {},
   "outputs": [],
   "source": [
    "# X, y 나누고 더미화, 오버샘플링(복원추출 통해 0, 1 값 균등하게 맞추기.), 스케일링\n",
    "X = df_ml.drop(['is_canceled'], axis =1)\n",
    "X = pd.get_dummies(X)\n",
    "y = df_ml['is_canceled']\n",
    "\n",
    "# X, y 나누기\n",
    "\n",
    "X_train, X_test, y_train, y_test = train_test_split(X, y, test_size=0.2, random_state=42)\n",
    "\n",
    "# 오버샘플링\n",
    "over = RandomOverSampler()\n",
    "X_train, y_train = over.fit_resample(X_train, y_train)\n",
    "df_sample = pd.DataFrame(X_train, columns=X_train.columns)\n",
    "\n",
    "# X 값 스케일링\n",
    "scaler = StandardScaler()\n",
    "X_train_s = scaler.fit_transform(X_train)\n",
    "X_test_s = scaler.transform(X_test)"
   ]
  },
  {
   "cell_type": "code",
   "execution_count": 11,
   "id": "ae4e18ef",
   "metadata": {},
   "outputs": [
    {
     "name": "stderr",
     "output_type": "stream",
     "text": [
      "C:\\ProgramData\\Anaconda3\\lib\\site-packages\\seaborn\\_decorators.py:36: FutureWarning: Pass the following variable as a keyword arg: x. From version 0.12, the only valid positional argument will be `data`, and passing other arguments without an explicit keyword will result in an error or misinterpretation.\n",
      "  warnings.warn(\n"
     ]
    },
    {
     "data": {
      "image/png": "[encoded data removed]",
      "text/plain": [
       "<Figure size 432x288 with 1 Axes>"
      ]
     },
     "metadata": {
      "needs_background": "light"
     },
     "output_type": "display_data"
    }
   ],
   "source": [
    "sns.countplot(y_train);"
   ]
  },
  {
   "cell_type": "markdown",
   "id": "7ed72984",
   "metadata": {},
   "source": [
    "# 1차 모델링 (각 모델링 디폴트 값으로 시도)"
   ]
  },
  {
   "cell_type": "code",
   "execution_count": 12,
   "id": "3968abec",
   "metadata": {},
   "outputs": [],
   "source": [
    "# 수학적 분류모델 => standard scaling 적용."
   ]
  },
  {
   "cell_type": "code",
   "execution_count": 13,
   "id": "1004d398",
   "metadata": {},
   "outputs": [
    {
     "name": "stdout",
     "output_type": "stream",
     "text": [
      "훈련 데이터 점수 : 0.7422541759373028\n",
      "평가 데이터 점수 : 0.7575592595694782\n"
     ]
    }
   ],
   "source": [
    "# 로지스틱 회귀모델\n",
    "lr = LogisticRegression()\n",
    "lr.fit(X_train_s, y_train)\n",
    "\n",
    "print('훈련 데이터 점수 : {}'.format(lr.score(X_train_s, y_train)))\n",
    "print('평가 데이터 점수 : {}'.format(lr.score(X_test_s, y_test)))"
   ]
  },
  {
   "cell_type": "code",
   "execution_count": 14,
   "id": "b1f29171",
   "metadata": {},
   "outputs": [
    {
     "name": "stdout",
     "output_type": "stream",
     "text": [
      "학습 데이터 점수 : 0.7291286155481022\n",
      "평가 데이터 점수 : 0.7529943881397102\n"
     ]
    }
   ],
   "source": [
    "# SGD 경사하강법을 적용한 로지스틱 회귀모델\n",
    "sgd = make_pipeline(StandardScaler(), SGDClassifier(loss='log'))\n",
    "sgd.fit(X_train_s,y_train)\n",
    "\n",
    "print(\"학습 데이터 점수 : {}\".format(sgd.score(X_train_s,y_train)))\n",
    "print(\"평가 데이터 점수 : {}\".format(sgd.score(X_test_s,y_test)))"
   ]
  },
  {
   "cell_type": "code",
   "execution_count": 15,
   "id": "3aa2718b",
   "metadata": {},
   "outputs": [
    {
     "name": "stdout",
     "output_type": "stream",
     "text": [
      "훈련 데이터 점수 : 0.8643858134360575\n",
      "평가 데이터 점수 : 0.7555071614038027\n"
     ]
    }
   ],
   "source": [
    "# knn 모델\n",
    "kn = KNeighborsClassifier()\n",
    "kn.fit(X_train_s, y_train)\n",
    "\n",
    "print('훈련 데이터 점수 : {}'.format(kn.score(X_train_s, y_train)))\n",
    "print('평가 데이터 점수 : {}'.format(kn.score(X_test_s, y_test)))"
   ]
  },
  {
   "cell_type": "code",
   "execution_count": null,
   "id": "d6293da7",
   "metadata": {},
   "outputs": [],
   "source": [
    "# Support Vector Classifier 모델\n",
    "svc = SVC()\n",
    "svc.fit(X_train_s, y_train)\n",
    "\n",
    "print('훈련 데이터 점수 : {}'.format(svc.score(X_train_s, y_train)))\n",
    "print('평가 데이터 점수 : {}'.format(svc.score(X_test_s, y_test)))"
   ]
  },
  {
   "cell_type": "code",
   "execution_count": null,
   "id": "dc8b4f43",
   "metadata": {},
   "outputs": [],
   "source": [
    "# 트리 계열 분류기 모델 => 전처리가 필요하지 않으므로 스케일링 하지 않은 데이터 사용."
   ]
  },
  {
   "cell_type": "code",
   "execution_count": null,
   "id": "e21c3462",
   "metadata": {},
   "outputs": [],
   "source": [
    "# 결정트리 모델\n",
    "dt = DecisionTreeClassifier(random_state = 42).fit(X_train, y_train)\n",
    "\n",
    "print(\"train set score is {:.3f}\".format(dt.score(X_train, y_train)))\n",
    "print(\"test set score is {:.3f}\".format(dt.score(X_test, y_test)))"
   ]
  },
  {
   "cell_type": "code",
   "execution_count": null,
   "id": "24ef5c34",
   "metadata": {},
   "outputs": [],
   "source": [
    "# 랜덤 포레스트 모델\n",
    "forest = RandomForestClassifier(random_state = 42)\n",
    "forest.fit(X_train, y_train)\n",
    "\n",
    "print(\"train set score is {:.3f}\".format(forest.score(X_train, y_train)))\n",
    "print(\"test set score is {:.3f}\".format(forest.score(X_test, y_test)))"
   ]
  },
  {
   "cell_type": "code",
   "execution_count": null,
   "id": "be481c76",
   "metadata": {},
   "outputs": [],
   "source": [
    "# 그래디언트 부스팅 모델\n",
    "\n",
    "gbrt = GradientBoostingClassifier(random_state = 42).fit(X_train_s, y_train)\n",
    "\n",
    "print(gbrt.score(X_train_s, y_train))\n",
    "print(gbrt.score(X_test_s, y_test))"
   ]
  },
  {
   "cell_type": "code",
   "execution_count": null,
   "id": "3f99b603",
   "metadata": {},
   "outputs": [],
   "source": [
    "# Bagging Classifier(부트스트랩 샘플링으로 오버피팅 방지)\n",
    "\n",
    "bagging = BaggingClassifier().fit(X_train, y_train)\n",
    "\n",
    "print(bagging.score(X_train, y_train))\n",
    "print(bagging.score(X_test, y_test))"
   ]
  },
  {
   "cell_type": "code",
   "execution_count": null,
   "id": "a2f0649f",
   "metadata": {},
   "outputs": [],
   "source": [
    "# 특성 선택을 위한 모듈 활용"
   ]
  },
  {
   "cell_type": "code",
   "execution_count": null,
   "id": "5e2e7e34",
   "metadata": {},
   "outputs": [],
   "source": [
    "# random forest모델의 특성 중요도 확인.\n",
    "\n",
    "import matplotlib.pyplot as plt\n",
    "plt.figure(figsize =(25, 25))\n",
    "def plot_feature_importances_hotel(model):\n",
    "    n_features = X.shape[1]\n",
    "    plt.barh(np.arange(n_features), sorted(model.feature_importances_), align='center')\n",
    "    plt.yticks(np.arange(n_features), X.columns)\n",
    "    plt.xlabel('RF Feature Importance')\n",
    "    plt.ylabel('Features')\n",
    "    plt.ylim(-1, n_features)\n",
    "    \n",
    "plot_feature_importances_hotel(model)\n"
   ]
  },
  {
   "cell_type": "markdown",
   "id": "e70856c9",
   "metadata": {},
   "source": [
    "## RFE(recursive feature elimination)\n",
    "- Backward 방식중 하나(후진소거법)\n",
    "- 모든 변수를 우선 다 포함시킨 후 반복해서 학습을 진행하면서 중요도가 낮은 변수를 하나씩 제거하는 방식이다.)\n"
   ]
  },
  {
   "cell_type": "code",
   "execution_count": null,
   "id": "c90efc7d",
   "metadata": {},
   "outputs": [],
   "source": [
    "# 랜덤포레스트 모델에 RFE 적용\n",
    "model = RandomForestClassifier().fit(X_train, y_train)\n",
    "\n",
    "rfe_rf = RFE(model, n_features_to_select = 10, step = 1)\n",
    "model_rf = rfe_rf.fit(X_train, y_train)\n",
    "\n",
    "print(model_rf.support_)\n",
    "\n",
    "print(model_rf.score(X_test_s, y_test))"
   ]
  },
  {
   "cell_type": "code",
   "execution_count": null,
   "id": "3954042f",
   "metadata": {},
   "outputs": [],
   "source": [
    "# LR모델에 RFE적용.\n",
    "\n",
    "model = LogisticRegression().fit(X_train_s, y_train)\n",
    "\n",
    "rfe_lr = RFE(model, n_features_to_select = 5, step = 1)\n",
    "model_lr = rfe_lr.fit(X_train_s, y_train)\n",
    "\n",
    "print(model_lr.support_)\n",
    "\n",
    "print(model_lr.score(X_train_s, y_test))\n",
    "print(model_lr.score(X_test_s, y_test))\n"
   ]
  },
  {
   "cell_type": "markdown",
   "id": "5741c2aa",
   "metadata": {},
   "source": [
    "1 : lead_time\n",
    "2 : arrival_dateday_of_month\n",
    "13 : adr\n",
    "62 : deposit_type_No Deposit\n",
    "63 : deposit_type_Non Refund"
   ]
  },
  {
   "cell_type": "code",
   "execution_count": null,
   "id": "09710059",
   "metadata": {},
   "outputs": [],
   "source": []
  },
  {
   "cell_type": "code",
   "execution_count": null,
   "id": "a8fbebc2",
   "metadata": {},
   "outputs": [],
   "source": [
    "# 하이퍼 파라미터 튜닝\n",
    "# GridSearch 후 교차검증값 확인."
   ]
  },
  {
   "cell_type": "code",
   "execution_count": null,
   "id": "d59f3ff1",
   "metadata": {},
   "outputs": [],
   "source": [
    "# 로지스틱 회귀 그리드 서치 통한 최적 매개변수 탐색.\n",
    "\n",
    "params = { 'C' : [0.001 , 0.1, 1, 10, 50, 75, 100, 200],\n",
    "           'max_iter' : [100, 200, 300, 400, 500],\n",
    "         'solver' : ['newton-cg', 'lbfgs', 'liblinear']}\n",
    "\n",
    "grid_cv = GridSearchCV(LogisticRegression(random_state = 42), param_grid = params, cv=5, n_jobs = -1) \n",
    "grid_cv.fit(X_train_s, y_train)\n",
    "\n",
    "print('최적 하이퍼 파라미터: ', grid_cv.best_params_)\n",
    "print('최고 예측 정확도: {:.4f}'.format(grid_cv.best_score_))"
   ]
  },
  {
   "cell_type": "code",
   "execution_count": null,
   "id": "63f87255",
   "metadata": {},
   "outputs": [],
   "source": [
    "# 최적 매개변수 활용한 로지스틱 회귀 교차검증\n",
    "\n",
    "lr = LogisticRegression(C = 0.1, max_iter = 100, solver = 'lbfgs', random_state = 42)\n",
    "print('교차 검증 점수 : ',format(cross_val_score(estimator=lr ,X=X_train, y=y_train, scoring='accuracy', cv=5, n_jobs=-1)))\n",
    "cross_lr = cross_val_score(estimator = lr, X=X_train, y = y_train, cv = 5, n_jobs = -1)\n",
    "print('교차 검증 점수 평균: ', cross_lr.mean())"
   ]
  },
  {
   "cell_type": "code",
   "execution_count": null,
   "id": "c91200a3",
   "metadata": {},
   "outputs": [],
   "source": [
    "# KNeighborsClassifier, SVC 모델의 경우 예측에 걸리는 시간이 너무 오래 걸려 확인 불가능."
   ]
  },
  {
   "cell_type": "code",
   "execution_count": null,
   "id": "f47050dd",
   "metadata": {},
   "outputs": [],
   "source": [
    "# 트리 계열 모델의 경우, 매개변수 값을 높이면 성능은 올라가나 과적합 문제 발생.\n",
    "# 따라서, 과적합에 영향을 미치는 max_depth값을 높여가면서 성능 확인."
   ]
  },
  {
   "cell_type": "code",
   "execution_count": null,
   "id": "f890c271",
   "metadata": {},
   "outputs": [],
   "source": [
    "# 랜덤포레스트 그리드 서치 통한 최적 매개변수 탐색.\n",
    "\n",
    "params = { 'n_estimators' : [10, 25, 50, 75, 100],\n",
    "           'max_depth' : [4, 6, 8, 10, 12, 20]\n",
    "            }\n",
    "\n",
    "model = RandomForestClassifier(random_state = 42, n_jobs = -1)\n",
    "grid_cv = GridSearchCV(model, param_grid = params, cv = 5, n_jobs = -1)\n",
    "grid_cv.fit(X_train, y_train)\n",
    "\n",
    "print('최적 하이퍼 파라미터: ', grid_cv.best_params_)\n",
    "print('최고 예측 정확도: {:.4f}'.format(grid_cv.best_score_))"
   ]
  },
  {
   "cell_type": "code",
   "execution_count": null,
   "id": "b91806bc",
   "metadata": {},
   "outputs": [],
   "source": [
    "# 랜덤포레스트 max_depth값 조정하면서 훈련/검증 셋 성능비교\n",
    "\n",
    "score_train_rf = []\n",
    "score_test_rf = []\n",
    "\n",
    "for i in range(1, 20):\n",
    "    forest = RandomForestClassifier(n_estimators = 100, max_depth = i, random_state = 42)\n",
    "    forest.fit(X_train, y_train)\n",
    "    \n",
    "    score_train_rf.append(forest.score(X_train, y_train))\n",
    "    score_test_rf.append(forest.score(X_test, y_test))"
   ]
  },
  {
   "cell_type": "code",
   "execution_count": null,
   "id": "db2a1b73",
   "metadata": {},
   "outputs": [],
   "source": [
    "x_rf = range(1, 20)\n",
    "plt.plot(x_rf, score_train_rf, label = 'train')\n",
    "plt.plot(x_rf, score_test_rf, label = 'test')\n",
    "plt.title('RF score by max_depth')\n",
    "plt.legend()\n",
    "plt.show()"
   ]
  },
  {
   "cell_type": "markdown",
   "id": "4e164c74",
   "metadata": {},
   "source": [
    "train score와 test score 값의 차이가 크지 않으면서 test 성능이 좋은 max_depth = 15 값 활용."
   ]
  },
  {
   "cell_type": "code",
   "execution_count": null,
   "id": "70163402",
   "metadata": {},
   "outputs": [],
   "source": [
    "# 최적 매개변수 활용한 랜덤포레스트 모델의 교차검증\n",
    "rf = RandomForestClassifier(max_depth = 15, n_estimators = 100, random_state = 42)\n",
    "print('교차 검증 점수 : ',format(cross_val_score(estimator=rf ,X=X_train, y=y_train, scoring='accuracy', cv=5, n_jobs=-1)))"
   ]
  },
  {
   "cell_type": "code",
   "execution_count": null,
   "id": "ee29be48",
   "metadata": {},
   "outputs": [],
   "source": [
    "# 결정트리 그리드서치 통한 최적 매개변수 탐색.\n",
    "\n",
    "params = { 'criterion' : ['gini' , 'entropy'],\n",
    "           'max_depth' : [4, 6, 8, 10, 12, 20],\n",
    "         'splitter' : ['best', 'random']}\n",
    "\n",
    "grid_cv = GridSearchCV(DecisionTreeClassifier(random_state = 42), param_grid = params, cv=5, n_jobs = -1)\n",
    "grid_cv.fit(X_train_s, y_train)\n",
    "\n",
    "print('최적 하이퍼 파라미터: ', grid_cv.best_params_)\n",
    "print('최고 예측 정확도: {:.4f}'.format(grid_cv.best_score_))"
   ]
  },
  {
   "cell_type": "code",
   "execution_count": null,
   "id": "1ee22d68",
   "metadata": {},
   "outputs": [],
   "source": [
    "# 결정트리 max_depth값 조정하면서 훈련/검증 셋 성능비교\n",
    "\n",
    "score_train_dt = []\n",
    "score_test_dt = []\n",
    "\n",
    "for i in range(1, 20):\n",
    "    dt = DecisionTreeClassifier(max_depth = i, splitter = 'best', random_state = 42)\n",
    "    dt.fit(X_train, y_train)\n",
    "    \n",
    "    score_train_dt.append(dt.score(X_train, y_train))\n",
    "    score_test_dt.append(dt.score(X_test, y_test))"
   ]
  },
  {
   "cell_type": "code",
   "execution_count": null,
   "id": "e49b43e8",
   "metadata": {},
   "outputs": [],
   "source": [
    "x_dt = range(1, 20)\n",
    "plt.plot(x_dt, score_train_dt, label = 'train')\n",
    "plt.plot(x_dt, score_test_dt, label = 'test')\n",
    "plt.legend()\n",
    "plt.title('DT score by max_depth')\n",
    "plt.show()"
   ]
  },
  {
   "cell_type": "markdown",
   "id": "b7b02aa8",
   "metadata": {},
   "source": [
    "train score와 test score 값의 차이가 크지 않으면서 test 성능이 좋은 max_depth = 12 값 활용."
   ]
  },
  {
   "cell_type": "code",
   "execution_count": null,
   "id": "7c86f1fa",
   "metadata": {},
   "outputs": [],
   "source": [
    "dt = DecisionTreeClassifier(criterion = 'gini', max_depth = 12, splitter = 'best', random_state = 42).fit(X_train, y_train)\n",
    "print(\"train set score is {:.3f}\".format(dt.score(X_train, y_train)))\n",
    "print(\"test set score is {:.3f}\".format(dt.score(X_test, y_test)))\n",
    "\n",
    "print('교차 검증 점수 : ',format(cross_val_score(estimator=dt ,X=X_train, y=y_train, cv=5, n_jobs=-1)))\n",
    "cross_dt = cross_val_score(estimator = dt, X=X_train, y = y_train, cv = 5, n_jobs = -1)\n",
    "print('교차 검증 점수 평균: ', cross_dt.mean())"
   ]
  },
  {
   "cell_type": "markdown",
   "id": "9929a773",
   "metadata": {},
   "source": [
    "# 시각화 Part\n",
    "- 탐색적 데이터 분석\n",
    "- 인사이트 도출 목표."
   ]
  },
  {
   "cell_type": "code",
   "execution_count": null,
   "id": "1f1d84e8",
   "metadata": {},
   "outputs": [],
   "source": [
    "## 어떤 시즌에 많이 오는가?"
   ]
  },
  {
   "cell_type": "code",
   "execution_count": null,
   "id": "2f1dd7c4",
   "metadata": {},
   "outputs": [],
   "source": [
    "season = df[df['is_canceled']==0]\n",
    "season_month = season.groupby(['arrival_date_month'])['adr'].mean().reset_index()\n",
    "\n",
    "season_month.columns=['month','price']\n",
    "\n",
    "def sort_month(df, column_name):\n",
    "    return sd.Sort_Dataframeby_Month(df, column_name)\n",
    "\n",
    "season_month = sort_month(season_month, 'month')\n",
    "\n",
    "plt. figure(figsize = (20, 10))\n",
    "px.line(season_month, x='month', y = 'price', title = 'Room price per night over the Months', template = 'plotly_dark', \n",
    "        labels = dict(month=\"Month\", price=\"Price (€)\"))"
   ]
  },
  {
   "cell_type": "code",
   "execution_count": null,
   "id": "c6c69687",
   "metadata": {},
   "outputs": [],
   "source": [
    "## 취소 고객 분석 - 예약 경로\n",
    "\n",
    "filter = df['is_canceled'] == 1\n",
    "cancel_costomers = df[filter]\n",
    "\n",
    "# agg를 사용하면 나머지 잔여 columns를 살려둠\n",
    "cancel = cancel_costomers.groupby(['market_segment']).agg('count').reset_index()\n",
    "\n",
    "# iloc(columns 남김) <-> loc(columns 탈락)\n",
    "cancel = cancel.iloc[:, :2]\n",
    "cancel = cancel.rename(columns= {'is_canceled' : 'Num_of_canceled'})\n",
    "\n",
    "cancel = cancel.sort_values(by='Num_of_canceled',ascending=0)\n",
    "\n",
    "cancel = cancel.drop(['market_segment'], axis = 1)"
   ]
  },
  {
   "cell_type": "code",
   "execution_count": null,
   "id": "c5b3725d",
   "metadata": {},
   "outputs": [],
   "source": [
    "filter = df['is_canceled'] == 0\n",
    "not_cancel_costomers = df[filter]\n",
    "\n",
    "# agg를 사용하면 나머지 잔여 columns를 살려둠\n",
    "cancel_no = not_cancel_costomers.groupby(['market_segment']).agg('count').reset_index()\n",
    "\n",
    "# iloc(columns 남김) <-> loc(columns 탈락)\n",
    "cancel_no = cancel_no.iloc[:, :2]\n",
    "cancel_no = cancel_no.rename(columns= {'is_canceled' : 'Num_of_not_canceled'})\n",
    "\n",
    "cancel_no = cancel_no.sort_values(by='Num_of_not_canceled',ascending=0)\n",
    "\n",
    "cancel_no"
   ]
  },
  {
   "cell_type": "code",
   "execution_count": null,
   "id": "719ffb4c",
   "metadata": {},
   "outputs": [],
   "source": [
    "# 시각화\n",
    "\n",
    "px.bar(data_frame = all1 , x = \"market_segment\", y = [\"Num_of_canceled\", \"Num_of_not_canceled\"],  template = 'plotly_dark',\n",
    "      labels = dict(market_segment=\"Market_Segment\"))"
   ]
  },
  {
   "cell_type": "code",
   "execution_count": null,
   "id": "e2450be2",
   "metadata": {},
   "outputs": [],
   "source": [
    "# 얼마나 오래 머무는가?"
   ]
  },
  {
   "cell_type": "code",
   "execution_count": null,
   "id": "cf25c345",
   "metadata": {},
   "outputs": [],
   "source": [
    "filter = df['is_canceled'] == 0\n",
    "long = df[filter]\n",
    "long.shape\n",
    "long.head()\n",
    "long['total_nights'] = long['stays_in_weekend_nights'] + long['stays_in_week_nights']\n",
    "\n",
    "stay = long.groupby(['total_nights']).agg('count').reset_index()\n",
    "stay = stay.iloc[:, :2]\n",
    "stay = stay.rename(columns={'is_canceled':'Num_of_stays'})\n",
    "\n",
    "fig = px.bar(data_frame = stay, x = 'total_nights', y = 'Num_of_stays',\n",
    "        template = 'plotly_dark',)\n",
    "fig.update_xaxes(range=[0, 15], tickangle = 45)\n",
    "fig.update_yaxes(dtick=5000)"
   ]
  },
  {
   "cell_type": "code",
   "execution_count": null,
   "id": "8e5e6591",
   "metadata": {},
   "outputs": [],
   "source": [
    "# 취소 고객 분석 - 입금 형태별"
   ]
  },
  {
   "cell_type": "code",
   "execution_count": null,
   "id": "24bfab75",
   "metadata": {},
   "outputs": [],
   "source": [
    "filter = df['is_canceled'] == 1\n",
    "cancel_customers = df[filter]\n",
    "\n",
    "# agg를 사용하면 나머지 잔여 columns를 살려둠\n",
    "cancel = cancel_customers.groupby(['deposit_type']).agg('count').reset_index()\n",
    "\n",
    "# iloc(columns 남김) <-> loc(columns 탈락)\n",
    "cancel = cancel.iloc[:, :2]\n",
    "cancel = cancel.rename(columns= {'is_canceled' : 'Num_of_canceled'})\n",
    "\n",
    "cancel = cancel.sort_values(by='Num_of_canceled',ascending=0)\n",
    "\n",
    "cancel = cancel.drop(['deposit_type'], axis = 1)"
   ]
  },
  {
   "cell_type": "code",
   "execution_count": null,
   "id": "352b1394",
   "metadata": {},
   "outputs": [],
   "source": [
    "filter = df['is_canceled'] == 0\n",
    "not_cancel_costomers = df[filter]\n",
    "\n",
    "# agg를 사용하면 나머지 잔여 columns를 살려둠\n",
    "cancel_no = not_cancel_costomers.groupby(['deposit_type']).agg('count').reset_index()\n",
    "\n",
    "# iloc(columns 남김) <-> loc(columns 탈락)\n",
    "cancel_no = cancel_no.iloc[:, :2]\n",
    "cancel_no = cancel_no.rename(columns= {'is_canceled' : 'Num_of_not_canceled'})\n",
    "\n",
    "cancel_no = cancel_no.sort_values(by='Num_of_not_canceled',ascending=0)"
   ]
  },
  {
   "cell_type": "code",
   "execution_count": null,
   "id": "78535e7d",
   "metadata": {},
   "outputs": [],
   "source": [
    "all2 = pd.concat([cancel_no, cancel], axis = 1)\n",
    "all2.dropna()\n",
    "all2 = all2.sort_values(by='Num_of_not_canceled',ascending=0)\n",
    "all2"
   ]
  },
  {
   "cell_type": "code",
   "execution_count": null,
   "id": "a38c8221",
   "metadata": {},
   "outputs": [],
   "source": [
    "# 신기한게, 예치금이 없는 경우에는 취소도 많긴 했지만 그만큼 취소를 안 한 사람들도 많았음\n",
    "# 환불받지 못하는 경우에, 취소하지 않은 경우의 수보다 취소한 경우의 수가 유의미하게 많았음.\n",
    "# not refund의 경우 취소 안 한 사람이 너무 적어서, 그래프 상에 표시가 안 될 정도임.\n",
    "\n",
    "fig = px.bar(data_frame = all2, x = 'deposit_type', y = ['Num_of_canceled', 'Num_of_not_canceled'],\n",
    "        template = 'plotly_dark', labels = dict(deposit_type=\"Deposit_Type\", Num_of_canceled=\"Num_of_canceled(People)\"))\n",
    "fig.update_xaxes(range=[0, 3], tickangle = 45)\n",
    "fig.update_yaxes(dtick=10000)"
   ]
  },
  {
   "cell_type": "code",
   "execution_count": null,
   "id": "132540c4",
   "metadata": {},
   "outputs": [],
   "source": []
  },
  {
   "cell_type": "code",
   "execution_count": null,
   "id": "05987676",
   "metadata": {},
   "outputs": [],
   "source": []
  }
 ],
 "metadata": {
  "kernelspec": {
   "display_name": "Python 3",
   "language": "python",
   "name": "python3"
  },
  "language_info": {
   "codemirror_mode": {
    "name": "ipython",
    "version": 3
   },
   "file_extension": ".py",
   "mimetype": "text/x-python",
   "name": "python",
   "nbconvert_exporter": "python",
   "pygments_lexer": "ipython3",
   "version": "3.8.8"
  }
 },
 "nbformat": 4,
 "nbformat_minor": 5
}
