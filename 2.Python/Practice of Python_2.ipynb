{
 "cells": [
  {
   "cell_type": "code",
   "execution_count": 6,
   "id": "c0bfa029",
   "metadata": {},
   "outputs": [
    {
     "name": "stdout",
     "output_type": "stream",
     "text": [
      "택시를\n",
      "타고\n",
      "가라\n"
     ]
    }
   ],
   "source": [
    "# 제어문 if\n",
    "# 들여쓰기 주의(언제나 같은 너비로 진행해야함)\n",
    "# {} 가 아닌 : 콜론을 사용함 주의!!\n",
    "money = True\n",
    "if money :\n",
    "    print(\"택시를\")\n",
    "    print(\"타고\")\n",
    "    print(\"가라\") "
   ]
  },
  {
   "cell_type": "code",
   "execution_count": 12,
   "id": "9d72c9e4",
   "metadata": {},
   "outputs": [
    {
     "name": "stdout",
     "output_type": "stream",
     "text": [
      "걸어 가라\n"
     ]
    }
   ],
   "source": [
    "# else는 if에 종속하지 않는다.\n",
    "money = 2000\n",
    "if money >= 3000 :\n",
    "    print(\"택시를 타고 가라\")\n",
    "else:\n",
    "    print(\"걸어 가라\")"
   ]
  },
  {
   "cell_type": "code",
   "execution_count": 14,
   "id": "1018b552",
   "metadata": {},
   "outputs": [
    {
     "name": "stdout",
     "output_type": "stream",
     "text": [
      "택시를 타고 가라\n"
     ]
    }
   ],
   "source": [
    "# or 은 둘중에서 하나가 참이면 전체가 참이됨.\n",
    "money = 2000\n",
    "card = True\n",
    "if money >= 3000 or card:\n",
    "    print(\"택시를 타고 가라\")\n",
    "else:\n",
    "    print(\"걸어 가라\")"
   ]
  },
  {
   "cell_type": "code",
   "execution_count": 16,
   "id": "7a8aca5c",
   "metadata": {},
   "outputs": [
    {
     "name": "stdout",
     "output_type": "stream",
     "text": [
      "택시 타고 가라\n"
     ]
    }
   ],
   "source": [
    "# in ~ 안에\n",
    "pocket = [\"paper\", \"cellphone\" , \"money\"]\n",
    "if \"money\" in pocket :\n",
    "    print(\"택시 타고 가라\")\n",
    "else :\n",
    "    print(\"걸어 가라\")"
   ]
  },
  {
   "cell_type": "code",
   "execution_count": 18,
   "id": "9e346d7b",
   "metadata": {},
   "outputs": [
    {
     "name": "stdout",
     "output_type": "stream",
     "text": [
      "걸어 가라\n"
     ]
    }
   ],
   "source": [
    "# 연습문제 \n",
    "pocket = [\"paper\", \"cellphone\" , \"money\"]\n",
    "if \"card\" not in pocket:\n",
    "    print(\"걸어 가라\")\n",
    "else:\n",
    "    print(\"버스 타고 가라\")"
   ]
  },
  {
   "cell_type": "code",
   "execution_count": 21,
   "id": "a99616d3",
   "metadata": {},
   "outputs": [],
   "source": [
    "# 조건문에서 아무 일도 하지 않게 설정하고 싶으면? pass\n",
    "pocket = [\"paper\", \"cellphone\" , \"money\"]\n",
    "if \"money\" in pocket:\n",
    "    pass\n",
    "else:\n",
    "    print(\"카드를 꺼내라\")"
   ]
  },
  {
   "cell_type": "code",
   "execution_count": null,
   "id": "1194c496",
   "metadata": {},
   "outputs": [],
   "source": [
    "# elif\n"
   ]
  }
 ],
 "metadata": {
  "kernelspec": {
   "display_name": "Python 3",
   "language": "python",
   "name": "python3"
  },
  "language_info": {
   "codemirror_mode": {
    "name": "ipython",
    "version": 3
   },
   "file_extension": ".py",
   "mimetype": "text/x-python",
   "name": "python",
   "nbconvert_exporter": "python",
   "pygments_lexer": "ipython3",
   "version": "3.8.8"
  }
 },
 "nbformat": 4,
 "nbformat_minor": 5
}
