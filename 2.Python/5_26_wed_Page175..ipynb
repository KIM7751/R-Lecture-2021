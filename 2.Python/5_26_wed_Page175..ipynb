{
 "cells": [
  {
   "cell_type": "code",
   "execution_count": 1,
   "id": "345652b8",
   "metadata": {},
   "outputs": [
    {
     "name": "stdout",
     "output_type": "stream",
     "text": [
      "['zzzzzzzzzzzzzzz\\n', 'xxxxxxxxxxxx\\n', 'ssssssssssss\\n', 'ddddddddddddㅋㅋㅋㅋㅋㅋㅎㅎㅎㅎㅎㅎ']\n",
      "['zzzzzzzzzzzzzzz', 'xxxxxxxxxxxx', 'ssssssssssss', 'ddddddddddddㅋㅋㅋㅋㅋㅋㅎㅎㅎㅎㅎㅎ']\n"
     ]
    }
   ],
   "source": [
    "# readlines 파일의 모든 줄을 읽어서 각각의 줄을 요소로 갖는 리스트로 돌려준다.\n",
    "f = open(\"c:/workspace/r/2.Python/테스트폴더/새파일.txt\", \"r\") # 읽기모드 \n",
    "list1 = []\n",
    "lines = f.readlines()\n",
    "f.close() # 열고 닫고 잘 처리해야\n",
    "print(lines)\n",
    "for item in lines:                     # 줄 바꿈 없애주기\n",
    "    processed = item.replace(\"\\n\",\"\")\n",
    "    list1.append(processed)            # 리스트 처리\n",
    "print(list1)"
   ]
  },
  {
   "cell_type": "code",
   "execution_count": 2,
   "id": "ec8491b6",
   "metadata": {},
   "outputs": [
    {
     "name": "stdout",
     "output_type": "stream",
     "text": [
      "['zzzzzzzzzzzzzzz\\n', 'xxxxxxxxxxxx\\n', 'ssssssssssss\\n', 'ddddddddddddㅋㅋㅋㅋㅋㅋㅎㅎㅎㅎㅎㅎ']\n",
      "['zzzzzzzzzzzzzzz', 'xxxxxxxxxxxx', 'ssssssssssss', 'ddddddddddddㅋㅋㅋㅋㅋㅋㅎㅎㅎㅎㅎㅎ']\n"
     ]
    }
   ],
   "source": [
    "# 선생님 답안\n",
    "f = open(\"c:/workspace/r/2.Python/테스트폴더/새파일.txt\", \"r\") # 읽기모드 \n",
    "lines = f.readlines()\n",
    "f.close() # 열고 닫고 잘 처리해야\n",
    "print(lines)\n",
    "list1 = []\n",
    "for item in lines:                     # 줄 바꿈 없애주기\n",
    "    list1.append(item.replace(\"\\n\",\"\"))# 리스트 처리\n",
    "print(list1)"
   ]
  },
  {
   "cell_type": "code",
   "execution_count": 3,
   "id": "2adc0360",
   "metadata": {},
   "outputs": [
    {
     "name": "stdout",
     "output_type": "stream",
     "text": [
      "zzzzzzzzzzzzzzz\n",
      "xxxxxxxxxxxx\n",
      "ssssssssssss\n",
      "ddddddddddddㅋㅋㅋㅋㅋㅋㅎㅎㅎㅎㅎㅎ\n",
      "['zzzzzzzzzzzzzzz', 'xxxxxxxxxxxx', 'ssssssssssss', 'ddddddddddddㅋㅋㅋㅋㅋㅋㅎㅎㅎㅎㅎㅎ']\n"
     ]
    }
   ],
   "source": [
    "#read 함수 사용\n",
    "f = open(\"c:/workspace/r/2.Python/테스트폴더/새파일.txt\", \"r\") # 읽기모드 \n",
    "page = f.read()\n",
    "f.close() # 열고 닫고 잘 처리해야\n",
    "print(page)\n",
    "refined_list = page.split(\"\\n\") # split을 활용해 나눠주고 리스트 처리함.\n",
    "print(refined_list)"
   ]
  },
  {
   "cell_type": "code",
   "execution_count": 4,
   "id": "71aeb02f",
   "metadata": {},
   "outputs": [],
   "source": [
    "# 노코드가 뜰날도 멀지 않았다."
   ]
  },
  {
   "cell_type": "code",
   "execution_count": 5,
   "id": "cc84b84c",
   "metadata": {},
   "outputs": [],
   "source": [
    "f = open(\"c:/workspace/r/2.Python/테스트폴더/새파일.txt\", \"a\") # 추가 모드는 기존에 있던 파일에 내용을 추가하는 것 \n",
    "f.write(\"ㅋㅋㅋ\")                                              # 쓰기 모드는 기존에 있던 내용을 지우고 내용을 새로 추가한다.\n",
    "f.close()"
   ]
  },
  {
   "cell_type": "code",
   "execution_count": 6,
   "id": "1c752655",
   "metadata": {},
   "outputs": [],
   "source": [
    "# with문\n",
    "with open(\"c:/workspace/r/2.Python/테스트폴더/새파일.txt\", \"a\") as f: # 간단해지는 대신 \"as\" 와 \"들여쓰기\"를 해야함.\n",
    "    f.write(\"ㅎㅎㅎ\")                                            "
   ]
  },
  {
   "cell_type": "code",
   "execution_count": 7,
   "id": "6bf5bd4b",
   "metadata": {},
   "outputs": [],
   "source": [
    "##### 클래스 \"객체 지향적 프로그래밍(Class, Object)\"\n",
    "# 이전에 우리가 배운 기본적 코드 양식은 모두 \" 절차 지향적 프로그래밍이다. (procedure)\""
   ]
  },
  {
   "cell_type": "code",
   "execution_count": 8,
   "id": "4b40f503",
   "metadata": {},
   "outputs": [
    {
     "name": "stdout",
     "output_type": "stream",
     "text": [
      "6\n",
      "11\n"
     ]
    }
   ],
   "source": [
    "class FourCal : # 설계도를 만듭니다 (self = 우리 식구에요)\n",
    "    # self.first  #####정적인 부분\n",
    "    # self. second\n",
    "    def setdata(self,a,b):\n",
    "        self.first = a\n",
    "        self.second = b\n",
    "    def add(self): # 함수안에 self라는 말이 들어가줘서 클래스 안 구성요소 가능 #### 동적인 부분\n",
    "        result = self.first + self.second\n",
    "        return result # result 는 내부 구성 요소로서 중요하지 않더라 / 속성은 아니고 소모품?\n",
    "    def mul(self): \n",
    "        result = self.first * self.second\n",
    "        return result\n",
    "    \n",
    "# 사람\n",
    "## 얼굴(정적), 직립보행(동작), 이름(정적), 언어(동적)\n",
    "\n",
    "# 자동차\n",
    "## 바퀴, 창문, 엔진 / 전진, 후진, 좌회전, 창문올림.\n",
    "\n",
    "aCal = FourCal()\n",
    "bCal = FourCal()  # 객체\n",
    "aCal.setdata(4,2) # 세팅\n",
    "print(aCal.add())\n",
    "bCal.setdata(3,8)\n",
    "print(bCal.add())"
   ]
  },
  {
   "cell_type": "code",
   "execution_count": 9,
   "id": "4eaf212f",
   "metadata": {},
   "outputs": [
    {
     "name": "stdout",
     "output_type": "stream",
     "text": [
      "6\n",
      "11\n"
     ]
    }
   ],
   "source": [
    "class FourCal : \n",
    "    def __init__(self,a,b): # 객체와 세팅을 처음에 모두 진행함.\n",
    "        self.first = a\n",
    "        self.second = b\n",
    "    def add(self): \n",
    "        result = self.first + self.second\n",
    "        return result\n",
    "    def mul(self): \n",
    "        result = self.first * self.second\n",
    "        return result\n",
    "    \n",
    "aCal = FourCal(4,2)         # 세팅 필요없이 인수를 직접 넣어 출력\n",
    "bCal = FourCal(3,8)\n",
    "\n",
    "print(aCal.add())\n",
    "print(bCal.add())"
   ]
  },
  {
   "cell_type": "code",
   "execution_count": 10,
   "id": "c961ef21",
   "metadata": {},
   "outputs": [
    {
     "name": "stdout",
     "output_type": "stream",
     "text": [
      "6\n"
     ]
    }
   ],
   "source": [
    "# 상속\n",
    "class FourCal : \n",
    "    def __init__(self,a,b): # 객체와 세팅을 처음에 모두 진행함.\n",
    "        self.first = a\n",
    "        self.second = b\n",
    "    def add(self): \n",
    "        result = self.first + self.second\n",
    "        return result\n",
    "    def mul(self): \n",
    "        result = self.first * self.second\n",
    "        return result\n",
    "\n",
    "class MoreFourcal(FourCal): #부모 계승\n",
    "    pass\n",
    "\n",
    "c = MoreFourcal(4,2)        #부모의 기능 잘 계승함을 볼 수 있음.\n",
    "d = c.add()\n",
    "print(d)"
   ]
  },
  {
   "cell_type": "code",
   "execution_count": 11,
   "id": "87f1aff0",
   "metadata": {},
   "outputs": [
    {
     "name": "stdout",
     "output_type": "stream",
     "text": [
      "16\n"
     ]
    }
   ],
   "source": [
    "# 상속 심화\n",
    "class FourCal : \n",
    "    def __init__(self,a,b): # 객체와 세팅을 처음에 모두 진행함.\n",
    "        self.first = a\n",
    "        self.second = b\n",
    "    def add(self): \n",
    "        result = self.first + self.second\n",
    "        return result\n",
    "    def mul(self): \n",
    "        result = self.first * self.second\n",
    "        return result\n",
    "\n",
    "class MoreFourcal(FourCal): #부모 계승\n",
    "    def pow(self):\n",
    "        result = self.first**self.second\n",
    "        return result\n",
    "\n",
    "c = MoreFourcal(4,2)       # 새로운 자기만에 기능 또한 추가할 수 있음.\n",
    "d = c.pow()\n",
    "print(d)"
   ]
  },
  {
   "cell_type": "code",
   "execution_count": 12,
   "id": "b5790920",
   "metadata": {},
   "outputs": [
    {
     "name": "stdout",
     "output_type": "stream",
     "text": [
      "40000000000000.0\n"
     ]
    }
   ],
   "source": [
    "# 상속 심화 2 (부모 보완, 0으로 나눌때 값이 안나옴)\n",
    "class FourCal : \n",
    "    def __init__(self,a,b): # 객체와 세팅을 처음에 모두 진행함.\n",
    "        self.first = a\n",
    "        self.second = b\n",
    "    def add(self): \n",
    "        result = self.first + self.second\n",
    "        return result\n",
    "    def mul(self): \n",
    "        result = self.first * self.second\n",
    "        return result\n",
    "    def div(self):\n",
    "        result = self.first / self.second  # 0일때 못 나누는 함정이 발생함.\n",
    "        return result\n",
    "\n",
    "class MoreFourcal(FourCal): #부모 계승\n",
    "    def pow(self):\n",
    "        result = self.first**self.second\n",
    "        return result\n",
    "    def div(self):\n",
    "        if self.second == 0:\n",
    "            self.second = 0.0000000000001\n",
    "        result = self.first / self.second   # 0일때 못 나누는 함정을 자식에서 수정함 \n",
    "        return result\n",
    "\n",
    "c = MoreFourcal(4,0)       \n",
    "d = c.div()\n",
    "print(d)"
   ]
  },
  {
   "cell_type": "code",
   "execution_count": 13,
   "id": "5585c1bf",
   "metadata": {},
   "outputs": [
    {
     "name": "stdout",
     "output_type": "stream",
     "text": [
      "3.14\n"
     ]
    }
   ],
   "source": [
    "# 클래스 변수 (클래스 속에 고정된 변수를 넣을 수 도 있다.)\n",
    "class MyMath:\n",
    "    MyPI = 3.14\n",
    "\n",
    "mm = MyMath()\n",
    "print(mm.MyPI)"
   ]
  },
  {
   "cell_type": "code",
   "execution_count": 14,
   "id": "ea9cf104",
   "metadata": {},
   "outputs": [
    {
     "name": "stdout",
     "output_type": "stream",
     "text": [
      "4 3.14\n"
     ]
    }
   ],
   "source": [
    "# 클래스 변수 (클래스 속에 고정된 변수를 넣을 수 도 있다.)\n",
    "class MyMath:\n",
    "    MyPI = 3.14\n",
    "\n",
    "mm1 = MyMath()\n",
    "mm1.MyPI = 4\n",
    "mm2 = MyMath()\n",
    "print(mm1.MyPI, mm2.MyPI)"
   ]
  },
  {
   "cell_type": "code",
   "execution_count": 15,
   "id": "201947b1",
   "metadata": {},
   "outputs": [
    {
     "name": "stdout",
     "output_type": "stream",
     "text": [
      "7\n",
      "-1\n"
     ]
    }
   ],
   "source": [
    "##### 모듈(외부 라이브러리를 불러옴)\n",
    "import mod1 # 에러가 안났으니 잘된 증거\n",
    "print(mod1.add_mod1(3,4))\n",
    "print(mod1.sub_mod1(3,4))"
   ]
  },
  {
   "cell_type": "code",
   "execution_count": 16,
   "id": "8d8589b6",
   "metadata": {},
   "outputs": [
    {
     "name": "stdout",
     "output_type": "stream",
     "text": [
      "7\n",
      "-1\n"
     ]
    }
   ],
   "source": [
    "import mod1 as m1       # 다른말로 바꿔줄 수 있음.\n",
    "print(m1.add_mod1(3,4))\n",
    "print(m1.sub_mod1(3,4))"
   ]
  },
  {
   "cell_type": "code",
   "execution_count": 17,
   "id": "06c8bcc8",
   "metadata": {},
   "outputs": [
    {
     "name": "stdout",
     "output_type": "stream",
     "text": [
      "7\n",
      "-1\n"
     ]
    }
   ],
   "source": [
    "from mod1 import add_mod1, sub_mod1 # 활용도가 제일 높음.\n",
    "print(add_mod1(3,4))\n",
    "print(sub_mod1(3,4))"
   ]
  },
  {
   "cell_type": "code",
   "execution_count": 18,
   "id": "e6d022b9",
   "metadata": {},
   "outputs": [
    {
     "name": "stdout",
     "output_type": "stream",
     "text": [
      "7\n",
      "-1\n"
     ]
    }
   ],
   "source": [
    "from mod1 import * # 모듈마다 이름이 겹치고 많아지면 충돌할 수 있기 때문에 모두 다 끌어오는 기능보단 위처럼 필요한 것만 가져온다.\n",
    "print(add_mod1(3,4))\n",
    "print(sub_mod1(3,4))"
   ]
  },
  {
   "cell_type": "code",
   "execution_count": 19,
   "id": "808d3b1a",
   "metadata": {},
   "outputs": [
    {
     "name": "stdout",
     "output_type": "stream",
     "text": [
      "7\n",
      "3.14\n",
      "12.56\n"
     ]
    }
   ],
   "source": [
    "import mod2 # 에러가 안났으니 잘된 증거\n",
    "print(mod2.add_mod2(3,4))\n",
    "print(mod2.PI)\n",
    "mm2 = mod2.Math_Mod2() # 클래스 불러오기\n",
    "print(mm2.solve(2))"
   ]
  },
  {
   "cell_type": "code",
   "execution_count": 20,
   "id": "7208a93a",
   "metadata": {},
   "outputs": [],
   "source": [
    "# P 216 패키지 (패키지 불러오기, 세 가지 가지고 노는데 우리 한달차에 목표)\n",
    "\n",
    "import numpy as np\n",
    "import pandas as pd\n",
    "import matplotlib.pyplot as plt"
   ]
  },
  {
   "cell_type": "code",
   "execution_count": 21,
   "id": "c700653e",
   "metadata": {},
   "outputs": [
    {
     "name": "stdout",
     "output_type": "stream",
     "text": [
      "3999999999999999.5\n"
     ]
    }
   ],
   "source": [
    "# P 222 예외처리\n",
    "try:\n",
    "    print(4/0)\n",
    "except ZeroDivisionError as e:\n",
    "    print(4/0.000000000000001)\n",
    "    # print(e)"
   ]
  },
  {
   "cell_type": "code",
   "execution_count": 22,
   "id": "5b56a1d6",
   "metadata": {},
   "outputs": [],
   "source": [
    "# 내장 함수는 import를 사용할 필요없다."
   ]
  },
  {
   "cell_type": "code",
   "execution_count": 23,
   "id": "d6125501",
   "metadata": {},
   "outputs": [
    {
     "name": "stdout",
     "output_type": "stream",
     "text": [
      "[1, 2, 6]\n"
     ]
    }
   ],
   "source": [
    "# P 235 파이썬 기본문법 활용\n",
    "def positive(l) :\n",
    "    result=[]\n",
    "    for i in l:\n",
    "        if i > 0: result.append(i)\n",
    "    return result\n",
    "\n",
    "print(positive([1, -3, 2, 0, -5, 6])) # 양수만 살아 남기는 필터"
   ]
  },
  {
   "cell_type": "code",
   "execution_count": 24,
   "id": "e7848b99",
   "metadata": {},
   "outputs": [
    {
     "name": "stdout",
     "output_type": "stream",
     "text": [
      "[1, 2, 6]\n"
     ]
    }
   ],
   "source": [
    "# P 235 필터 활용 직관적인 것 이용 多\n",
    "def positive(x):\n",
    "    return x >0\n",
    "data = [1, -3, 2, 0, -5, 6]\n",
    "f = filter(positive, data)\n",
    "print(list(f))"
   ]
  },
  {
   "cell_type": "code",
   "execution_count": 25,
   "id": "c69f69b3",
   "metadata": {},
   "outputs": [
    {
     "data": {
      "text/plain": [
       "[1, 2, 6]"
      ]
     },
     "execution_count": 25,
     "metadata": {},
     "output_type": "execute_result"
    }
   ],
   "source": [
    "# lambda 활용 효율성 추구\n",
    "data = [1, -3, 2, 0, -5, 6]\n",
    "list(filter(lambda x: x>0, data))"
   ]
  },
  {
   "cell_type": "code",
   "execution_count": 26,
   "id": "c3a6e040",
   "metadata": {},
   "outputs": [
    {
     "name": "stdout",
     "output_type": "stream",
     "text": [
      "숫자를 입력하세요10\n",
      "11\n"
     ]
    }
   ],
   "source": [
    "# map 함수와 input 같이 사용하기\n",
    "\n",
    "a = int(input(\"숫자를 입력하세요\")) # 숫자가 문자열로 나오니 int 처리\n",
    "a = a + 1\n",
    "print(a)"
   ]
  },
  {
   "cell_type": "code",
   "execution_count": 28,
   "id": "4c9943b8",
   "metadata": {},
   "outputs": [
    {
     "name": "stdout",
     "output_type": "stream",
     "text": [
      "숫자 두개를 입력하세요10 20\n",
      "11 그리고 21\n"
     ]
    }
   ],
   "source": [
    "# 숫자 여러개 넣기\n",
    "\n",
    "a, b = input(\"숫자 두개를 입력하세요\").split()\n",
    "a = int(a)\n",
    "b = int(b)\n",
    "print(a+1, \"그리고\", b+1)"
   ]
  },
  {
   "cell_type": "code",
   "execution_count": 30,
   "id": "ddc404b6",
   "metadata": {},
   "outputs": [
    {
     "name": "stdout",
     "output_type": "stream",
     "text": [
      "숫자 두개를 입력하세요10 20\n",
      "11 그리고 21\n"
     ]
    }
   ],
   "source": [
    "# 숫자 여러개 넣기 심화 \n",
    "\n",
    "a, b = map(int, input(\"숫자 두개를 입력하세요\").split())\n",
    "print(a+1, \"그리고\", b+1)"
   ]
  },
  {
   "cell_type": "code",
   "execution_count": 34,
   "id": "606bd29e",
   "metadata": {},
   "outputs": [
    {
     "data": {
      "text/plain": [
       "[(1, 4), (2, 5), (3, 6)]"
      ]
     },
     "execution_count": 34,
     "metadata": {},
     "output_type": "execute_result"
    }
   ],
   "source": [
    "# P 246 zip\n",
    "\n",
    "data1 = [1, 2, 3]\n",
    "data2 = [4, 5, 6]\n",
    "list(zip(data1, data2)) # 같은 위치(n번째)의 원소(=아이템)끼리 묶음."
   ]
  },
  {
   "cell_type": "code",
   "execution_count": 35,
   "id": "468af9a5",
   "metadata": {},
   "outputs": [
    {
     "data": {
      "text/plain": [
       "[(1, 4, 7), (2, 5, 8), (3, 6, 9)]"
      ]
     },
     "execution_count": 35,
     "metadata": {},
     "output_type": "execute_result"
    }
   ],
   "source": [
    "data1 = [1, 2, 3]\n",
    "data2 = [4, 5, 6]\n",
    "data3 = [7, 8, 9]\n",
    "list(zip(data1, data2, data3))"
   ]
  },
  {
   "cell_type": "code",
   "execution_count": 38,
   "id": "99ee8768",
   "metadata": {},
   "outputs": [
    {
     "data": {
      "text/plain": [
       "'C:\\\\ProgramData\\\\Anaconda3;C:\\\\ProgramData\\\\Anaconda3\\\\Library\\\\mingw-w64\\\\bin;C:\\\\ProgramData\\\\Anaconda3\\\\Library\\\\usr\\\\bin;C:\\\\ProgramData\\\\Anaconda3\\\\Library\\\\bin;C:\\\\ProgramData\\\\Anaconda3\\\\Scripts;C:\\\\Program Files\\\\Common Files\\\\Oracle\\\\Java\\\\javapath;C:\\\\Program Files (x86)\\\\Intel\\\\Intel(R) Management Engine Components\\\\iCLS\\\\;C:\\\\Program Files\\\\Intel\\\\Intel(R) Management Engine Components\\\\iCLS\\\\;C:\\\\Windows\\\\system32;C:\\\\Windows;C:\\\\Windows\\\\System32\\\\Wbem;C:\\\\Windows\\\\System32\\\\WindowsPowerShell\\\\v1.0\\\\;C:\\\\Windows\\\\System32\\\\OpenSSH\\\\;C:\\\\Program Files (x86)\\\\Intel\\\\Intel(R) Management Engine Components\\\\DAL;C:\\\\Program Files\\\\Intel\\\\Intel(R) Management Engine Components\\\\DAL;C:\\\\Program Files\\\\Intel\\\\WiFi\\\\bin\\\\;C:\\\\Program Files\\\\Common Files\\\\Intel\\\\WirelessCommon\\\\;C:\\\\Program Files (x86)\\\\NVIDIA Corporation\\\\PhysX\\\\Common;C:\\\\Program Files\\\\NVIDIA Corporation\\\\NVIDIA NvDLISR;C:\\\\Program Files\\\\Git\\\\cmd;C:\\\\WINDOWS\\\\system32;C:\\\\WINDOWS;C:\\\\WINDOWS\\\\System32\\\\Wbem;C:\\\\WINDOWS\\\\System32\\\\WindowsPowerShell\\\\v1.0\\\\;C:\\\\WINDOWS\\\\System32\\\\OpenSSH\\\\;C:\\\\Program Files\\\\Java\\\\jdk-16.0.1\\\\bin;C:\\\\Users\\\\CPB06GameN\\\\AppData\\\\Local\\\\Microsoft\\\\WindowsApps;C:\\\\Program Files\\\\Intel\\\\WiFi\\\\bin\\\\;C:\\\\Program Files\\\\Common Files\\\\Intel\\\\WirelessCommon\\\\;C:\\\\Program Files\\\\Bandizip\\\\;;C:\\\\Users\\\\CPB06GameN\\\\AppData\\\\Local\\\\Programs\\\\Microsoft VS Code\\\\bin'"
      ]
     },
     "execution_count": 38,
     "metadata": {},
     "output_type": "execute_result"
    }
   ],
   "source": [
    "# P 250 OS\n",
    "\n",
    "import os\n",
    "os.environ[\"path\"]"
   ]
  },
  {
   "cell_type": "code",
   "execution_count": 40,
   "id": "6798cb07",
   "metadata": {},
   "outputs": [
    {
     "data": {
      "text/plain": [
       "'C:\\\\workspace\\\\R\\\\2.Python'"
      ]
     },
     "execution_count": 40,
     "metadata": {},
     "output_type": "execute_result"
    }
   ],
   "source": [
    "os.getcwd() # 현재 작업 위치를 알 수 있음."
   ]
  },
  {
   "cell_type": "code",
   "execution_count": 42,
   "id": "eb030862",
   "metadata": {},
   "outputs": [
    {
     "data": {
      "text/plain": [
       "['C:\\\\workspace\\\\R\\\\2.Python\\\\mod1.py', 'C:\\\\workspace\\\\R\\\\2.Python\\\\mod2.py']"
      ]
     },
     "execution_count": 42,
     "metadata": {},
     "output_type": "execute_result"
    }
   ],
   "source": [
    "# P 252 glob\n",
    "\n",
    "import glob\n",
    "glob.glob('C:\\\\workspace\\\\R\\\\2.Python\\\\*.py') # 해당 경로에 .py형식의 파일을 모두 보여줌 "
   ]
  },
  {
   "cell_type": "code",
   "execution_count": 44,
   "id": "e06a42bb",
   "metadata": {},
   "outputs": [
    {
     "data": {
      "text/plain": [
       "1622012879.7481902"
      ]
     },
     "execution_count": 44,
     "metadata": {},
     "output_type": "execute_result"
    }
   ],
   "source": [
    "# P253 time\n",
    "\n",
    "import time\n",
    "time.time() # 1970년 1월 1일 0시 0분 0초를 기준으로 지난 시간을 초단위로 돌려줌"
   ]
  },
  {
   "cell_type": "code",
   "execution_count": 47,
   "id": "8e502e75",
   "metadata": {},
   "outputs": [
    {
     "data": {
      "text/plain": [
       "time.struct_time(tm_year=2021, tm_mon=5, tm_mday=26, tm_hour=16, tm_min=9, tm_sec=9, tm_wday=2, tm_yday=146, tm_isdst=0)"
      ]
     },
     "execution_count": 47,
     "metadata": {},
     "output_type": "execute_result"
    }
   ],
   "source": [
    "time.localtime(time.time())"
   ]
  },
  {
   "cell_type": "code",
   "execution_count": 50,
   "id": "e5730c08",
   "metadata": {},
   "outputs": [
    {
     "data": {
      "text/plain": [
       "['Wed', 'May', '26', '16:10:10', '2021']"
      ]
     },
     "execution_count": 50,
     "metadata": {},
     "output_type": "execute_result"
    }
   ],
   "source": [
    "time.asctime(time.localtime(time.time())).split()"
   ]
  },
  {
   "cell_type": "code",
   "execution_count": 52,
   "id": "ac0437f7",
   "metadata": {},
   "outputs": [
    {
     "name": "stdout",
     "output_type": "stream",
     "text": [
      "0\n",
      "1\n",
      "2\n",
      "3\n",
      "4\n",
      "5\n",
      "6\n",
      "7\n",
      "8\n",
      "9\n"
     ]
    }
   ],
   "source": [
    "for i in range(10):\n",
    "    print(i)\n",
    "    time.sleep(1) # 차근차근 하나씩 보여줌 "
   ]
  },
  {
   "cell_type": "code",
   "execution_count": 54,
   "id": "a5e0d0bc",
   "metadata": {},
   "outputs": [
    {
     "data": {
      "text/plain": [
       "0.1744075232802581"
      ]
     },
     "execution_count": 54,
     "metadata": {},
     "output_type": "execute_result"
    }
   ],
   "source": [
    "import random\n",
    "random.random() # 0 ~ 1 사이값 출력"
   ]
  },
  {
   "cell_type": "code",
   "execution_count": 56,
   "id": "ffa5726f",
   "metadata": {},
   "outputs": [
    {
     "data": {
      "text/plain": [
       "3"
      ]
     },
     "execution_count": 56,
     "metadata": {},
     "output_type": "execute_result"
    }
   ],
   "source": [
    "random.randint(1,10) # 범위를 줄 수 있음 1 ~10"
   ]
  },
  {
   "cell_type": "code",
   "execution_count": 57,
   "id": "7b7cf558",
   "metadata": {},
   "outputs": [],
   "source": [
    "########### Python For data analysis P 135"
   ]
  },
  {
   "cell_type": "code",
   "execution_count": 73,
   "id": "ecda3fbb",
   "metadata": {},
   "outputs": [
    {
     "name": "stdout",
     "output_type": "stream",
     "text": [
      "Wall time: 15 ms\n"
     ]
    }
   ],
   "source": [
    "import numpy as np\n",
    "my_arr = np.arange(1000000) # 넘파이식으로\n",
    "my_list = list(range(1000000)) # 기존의 파이썬식으로\n",
    "%time for i in range(10): my_arr2 = my_arr*2\n",
    "# 속도차이가 50배 가까이 남"
   ]
  },
  {
   "cell_type": "code",
   "execution_count": 75,
   "id": "3eafe93a",
   "metadata": {},
   "outputs": [
    {
     "name": "stdout",
     "output_type": "stream",
     "text": [
      "Wall time: 742 ms\n"
     ]
    }
   ],
   "source": [
    "%time for i in range(10): my_list2=[x * 2 for x in my_list]\n",
    "# 속도차이가 50배 가까이 남"
   ]
  },
  {
   "cell_type": "code",
   "execution_count": 68,
   "id": "94f8f63f",
   "metadata": {},
   "outputs": [
    {
     "data": {
      "text/plain": [
       "array([[-0.42829125, -0.47401914,  0.61703571],\n",
       "       [-0.25401706,  0.35645096,  0.62755735]])"
      ]
     },
     "execution_count": 68,
     "metadata": {},
     "output_type": "execute_result"
    }
   ],
   "source": [
    "data = np.random.randn(2,3) # 2행 3열의 행렬 생성\n",
    "data"
   ]
  },
  {
   "cell_type": "code",
   "execution_count": 70,
   "id": "5a658062",
   "metadata": {},
   "outputs": [
    {
     "data": {
      "text/plain": [
       "array([[-4.28291255, -4.74019136,  6.17035712],\n",
       "       [-2.54017062,  3.56450964,  6.27557354]])"
      ]
     },
     "execution_count": 70,
     "metadata": {},
     "output_type": "execute_result"
    }
   ],
   "source": [
    "data * 10 # 행렬 원소 안에 각각 10배"
   ]
  },
  {
   "cell_type": "code",
   "execution_count": 76,
   "id": "d8f1ccf4",
   "metadata": {},
   "outputs": [
    {
     "data": {
      "text/plain": [
       "array([[-0.85658251, -0.94803827,  1.23407142],\n",
       "       [-0.50803412,  0.71290193,  1.25511471]])"
      ]
     },
     "execution_count": 76,
     "metadata": {},
     "output_type": "execute_result"
    }
   ],
   "source": [
    "data + data # 행렬의 같은 주소끼리 더함"
   ]
  },
  {
   "cell_type": "code",
   "execution_count": 78,
   "id": "51929416",
   "metadata": {},
   "outputs": [
    {
     "data": {
      "text/plain": [
       "(2, 3)"
      ]
     },
     "execution_count": 78,
     "metadata": {},
     "output_type": "execute_result"
    }
   ],
   "source": [
    "data.shape # 행렬 계산에 앞서 형태를 보기위해서 필요시엔 전치를 해야함."
   ]
  },
  {
   "cell_type": "code",
   "execution_count": 79,
   "id": "bd5ade3b",
   "metadata": {},
   "outputs": [
    {
     "data": {
      "text/plain": [
       "dtype('float64')"
      ]
     },
     "execution_count": 79,
     "metadata": {},
     "output_type": "execute_result"
    }
   ],
   "source": [
    "data.dtype # float은 실수형"
   ]
  }
 ],
 "metadata": {
  "kernelspec": {
   "display_name": "Python 3",
   "language": "python",
   "name": "python3"
  },
  "language_info": {
   "codemirror_mode": {
    "name": "ipython",
    "version": 3
   },
   "file_extension": ".py",
   "mimetype": "text/x-python",
   "name": "python",
   "nbconvert_exporter": "python",
   "pygments_lexer": "ipython3",
   "version": "3.8.8"
  }
 },
 "nbformat": 4,
 "nbformat_minor": 5
}
