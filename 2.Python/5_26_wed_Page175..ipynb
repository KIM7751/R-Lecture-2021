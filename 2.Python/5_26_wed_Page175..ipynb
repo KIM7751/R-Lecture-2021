{
 "cells": [
  {
   "cell_type": "code",
   "execution_count": 11,
   "id": "a33223f5",
   "metadata": {},
   "outputs": [
    {
     "name": "stdout",
     "output_type": "stream",
     "text": [
      "['zzzzzzzzzzzzzzz\\n', 'xxxxxxxxxxxx\\n', 'ssssssssssss\\n', 'dddddddddddd']\n",
      "['zzzzzzzzzzzzzzz', 'xxxxxxxxxxxx', 'ssssssssssss', 'dddddddddddd']\n"
     ]
    }
   ],
   "source": [
    "# readlines 파일의 모든 줄을 읽어서 각각의 줄을 요소로 갖는 리스트로 돌려준다.\n",
    "f = open(\"c:/workspace/r/2.Python/테스트폴더/새파일.txt\", \"r\") # 읽기모드 \n",
    "list1 = []\n",
    "lines = f.readlines()\n",
    "f.close() # 열고 닫고 잘 처리해야\n",
    "print(lines)\n",
    "for item in lines:                     # 줄 바꿈 없애주기\n",
    "    processed = item.replace(\"\\n\",\"\")\n",
    "    list1.append(processed)            # 리스트 처리\n",
    "print(list1)"
   ]
  },
  {
   "cell_type": "code",
   "execution_count": 14,
   "id": "2221ac46",
   "metadata": {},
   "outputs": [
    {
     "name": "stdout",
     "output_type": "stream",
     "text": [
      "['zzzzzzzzzzzzzzz\\n', 'xxxxxxxxxxxx\\n', 'ssssssssssss\\n', 'dddddddddddd']\n",
      "['zzzzzzzzzzzzzzz', 'xxxxxxxxxxxx', 'ssssssssssss', 'dddddddddddd']\n"
     ]
    }
   ],
   "source": [
    "# 선생님 답안\n",
    "f = open(\"c:/workspace/r/2.Python/테스트폴더/새파일.txt\", \"r\") # 읽기모드 \n",
    "lines = f.readlines()\n",
    "f.close() # 열고 닫고 잘 처리해야\n",
    "print(lines)\n",
    "list1 = []\n",
    "for item in lines:                     # 줄 바꿈 없애주기\n",
    "    list1.append(item.replace(\"\\n\",\"\"))# 리스트 처리\n",
    "print(list1)"
   ]
  },
  {
   "cell_type": "code",
   "execution_count": 30,
   "id": "abaebe77",
   "metadata": {},
   "outputs": [
    {
     "name": "stdout",
     "output_type": "stream",
     "text": [
      "zzzzzzzzzzzzzzz\n",
      "xxxxxxxxxxxx\n",
      "ssssssssssss\n",
      "dddddddddddd\n",
      "['zzzzzzzzzzzzzzz', 'xxxxxxxxxxxx', 'ssssssssssss', 'dddddddddddd']\n"
     ]
    }
   ],
   "source": [
    "#read 함수 사용\n",
    "f = open(\"c:/workspace/r/2.Python/테스트폴더/새파일.txt\", \"r\") # 읽기모드 \n",
    "page = f.read()\n",
    "f.close() # 열고 닫고 잘 처리해야\n",
    "print(page)\n",
    "refined_list = page.split(\"\\n\") # split을 활용해 나눠주고 리스트 처리함.\n",
    "print(refined_list)"
   ]
  },
  {
   "cell_type": "code",
   "execution_count": 31,
   "id": "d09ca460",
   "metadata": {},
   "outputs": [],
   "source": [
    "# 노코드가 뜰날도 멀지 않았다."
   ]
  },
  {
   "cell_type": "code",
   "execution_count": 33,
   "id": "e0ed63a6",
   "metadata": {},
   "outputs": [],
   "source": [
    "f = open(\"c:/workspace/r/2.Python/테스트폴더/새파일.txt\", \"a\") # 추가 모드는 기존에 있던 파일에 내용을 추가하는 것 \n",
    "f.write(\"ㅋㅋㅋ\")                                              # 쓰기 모드는 기존에 있던 내용을 지우고 내용을 새로 추가한다.\n",
    "f.close()"
   ]
  },
  {
   "cell_type": "code",
   "execution_count": 35,
   "id": "68886eb0",
   "metadata": {},
   "outputs": [],
   "source": [
    "# with문\n",
    "with open(\"c:/workspace/r/2.Python/테스트폴더/새파일.txt\", \"a\") as f: # 간단해지는 대신 \"as\" 와 \"들여쓰기\"를 해야함.\n",
    "    f.write(\"ㅎㅎㅎ\")                                            "
   ]
  },
  {
   "cell_type": "code",
   "execution_count": 36,
   "id": "4b2f948a",
   "metadata": {},
   "outputs": [],
   "source": [
    "##### 클래스 \"객체 지향적 프로그래밍(Class, Object)\"\n",
    "# 이전에 우리가 배운 기본적 코드 양식은 모두 \" 절차 지향적 프로그래밍이다. (procedure)\""
   ]
  },
  {
   "cell_type": "code",
   "execution_count": 42,
   "id": "0013ea21",
   "metadata": {},
   "outputs": [
    {
     "name": "stdout",
     "output_type": "stream",
     "text": [
      "6\n",
      "11\n"
     ]
    }
   ],
   "source": [
    "class FourCal : # 설계도를 만듭니다 (self = 우리 식구에요)\n",
    "    # self.first  #####정적인 부분\n",
    "    # self. second\n",
    "    def setdata(self,a,b):\n",
    "        self.first = a\n",
    "        self.second = b\n",
    "    def add(self): # 함수안에 self라는 말이 들어가줘서 클래스 안 구성요소 가능 #### 동적인 부분\n",
    "        result = self.first + self.second\n",
    "        return result # result 는 내부 구성 요소로서 중요하지 않더라 / 속성은 아니고 소모품?\n",
    "    def mul(self): \n",
    "        result = self.first * self.second\n",
    "        return result\n",
    "    \n",
    "# 사람\n",
    "## 얼굴(정적), 직립보행(동작), 이름(정적), 언어(동적)\n",
    "\n",
    "# 자동차\n",
    "## 바퀴, 창문, 엔진 / 전진, 후진, 좌회전, 창문올림.\n",
    "\n",
    "aCal = FourCal()\n",
    "bCal = FourCal()  # 객체\n",
    "aCal.setdata(4,2) # 세팅\n",
    "print(aCal.add())\n",
    "bCal.setdata(3,8)\n",
    "print(bCal.add())"
   ]
  },
  {
   "cell_type": "code",
   "execution_count": 43,
   "id": "c7ea299d",
   "metadata": {},
   "outputs": [
    {
     "name": "stdout",
     "output_type": "stream",
     "text": [
      "6\n",
      "11\n"
     ]
    }
   ],
   "source": [
    "class FourCal : \n",
    "    def __init__(self,a,b): # 객체와 세팅을 처음에 모두 진행함.\n",
    "        self.first = a\n",
    "        self.second = b\n",
    "    def add(self): \n",
    "        result = self.first + self.second\n",
    "        return result\n",
    "    def mul(self): \n",
    "        result = self.first * self.second\n",
    "        return result\n",
    "    \n",
    "aCal = FourCal(4,2)         # 세팅 필요없이 인수를 직접 넣어 출력\n",
    "bCal = FourCal(3,8)\n",
    "\n",
    "print(aCal.add())\n",
    "print(bCal.add())"
   ]
  }
 ],
 "metadata": {
  "kernelspec": {
   "display_name": "Python 3",
   "language": "python",
   "name": "python3"
  },
  "language_info": {
   "codemirror_mode": {
    "name": "ipython",
    "version": 3
   },
   "file_extension": ".py",
   "mimetype": "text/x-python",
   "name": "python",
   "nbconvert_exporter": "python",
   "pygments_lexer": "ipython3",
   "version": "3.8.8"
  }
 },
 "nbformat": 4,
 "nbformat_minor": 5
}
