{
 "cells": [
  {
   "cell_type": "code",
   "execution_count": 1,
   "id": "cd6943a1",
   "metadata": {},
   "outputs": [],
   "source": [
    "# 서포트 벡터 머신\n",
    "# 회귀, 분류, 이상치 탐지 등에 사용되는 지도학습 방법\n",
    "# 클래스 사이의 경계에 위치한 데이터 포인트를 서포터 벡터리고 함\n",
    "# 각 서포트 벡터가 클래스 사이의 결정 경계를 구분하는데 얼마나 중요한지를 학습\n",
    "# 각 서포트 벡터 사이의 마진(거리)이 가장 큰 방향으로 학습\n",
    "# 서포트 벡터 까지의 거리와 서포트 벡터의 중요도를 기반으로 예측을 수행\n",
    "# 서포터 벡터 머신은 차원을 늘려서 공간상에 맵핑후 나누는 것"
   ]
  },
  {
   "cell_type": "code",
   "execution_count": 2,
   "id": "80a76c57",
   "metadata": {},
   "outputs": [],
   "source": [
    "import multiprocessing\n",
    "import pandas as pd\n",
    "import numpy as np\n",
    "import matplotlib.pyplot as plt\n",
    "plt.style.use(['seaborn-whitegrid'])"
   ]
  },
  {
   "cell_type": "code",
   "execution_count": 3,
   "id": "055ce2fe",
   "metadata": {},
   "outputs": [],
   "source": [
    "# svm 모듈에는 분류를 위한 SVC, 회귀를 위한 SVR 대표적인 두가지 클래스를 갖고 있음\n",
    "from sklearn.svm import SVC, SVR\n",
    "from sklearn.datasets import load_boston, load_diabetes\n",
    "from sklearn.datasets import load_iris, load_breast_cancer\n",
    "from sklearn.pipeline import make_pipeline, Pipeline\n",
    "from sklearn.model_selection import train_test_split, cross_validate, GridSearchCV\n",
    "from sklearn.preprocessing import StandardScaler, MinMaxScaler\n",
    "from sklearn.manifold import TSNE # 시각화에 도움을 준다고 함."
   ]
  },
  {
   "cell_type": "code",
   "execution_count": 4,
   "id": "575f76ef",
   "metadata": {},
   "outputs": [],
   "source": [
    "# SVM을 이용한 회귀 모델과 분류모델  "
   ]
  },
  {
   "cell_type": "code",
   "execution_count": 5,
   "id": "20018649",
   "metadata": {},
   "outputs": [
    {
     "name": "stdout",
     "output_type": "stream",
     "text": [
      "훈련 데이터 점수 : 0.21772837063748762\n",
      "평가 데이터 점수 : 0.13544178468518187\n"
     ]
    }
   ],
   "source": [
    "# SVR\n",
    "X, y = load_boston(return_X_y=True)\n",
    "X_train, X_test, y_train, y_test = train_test_split(X, y, random_state=123)\n",
    "\n",
    "model = SVR()\n",
    "model.fit(X_train, y_train)\n",
    "\n",
    "print(\"훈련 데이터 점수 : {}\".format(model.score(X_train, y_train)))\n",
    "print(\"평가 데이터 점수 : {}\".format(model.score(X_test, y_test)))\n",
    "\n",
    "# 기본적인 SVR을 돌렸을 때 굉장히 안 좋은 수치가 나옴을 볼 수 있음"
   ]
  },
  {
   "cell_type": "code",
   "execution_count": 6,
   "id": "4e0395e8",
   "metadata": {},
   "outputs": [
    {
     "name": "stdout",
     "output_type": "stream",
     "text": [
      "훈련 데이터 점수 : 0.9014084507042254\n",
      "평가 데이터 점수 : 0.9230769230769231\n"
     ]
    }
   ],
   "source": [
    "# SVC\n",
    "X, y = load_breast_cancer(return_X_y=True)\n",
    "X_train, X_test, y_train, y_test = train_test_split(X, y, random_state=123)\n",
    "\n",
    "model = SVC()\n",
    "model.fit(X_train, y_train)\n",
    "\n",
    "print(\"훈련 데이터 점수 : {}\".format(model.score(X_train, y_train)))\n",
    "print(\"평가 데이터 점수 : {}\".format(model.score(X_test, y_test)))\n",
    "\n",
    "# 분류용 데이터인 유방암 데이터를 가지고 돌려봄."
   ]
  },
  {
   "cell_type": "code",
   "execution_count": 7,
   "id": "07f4faeb",
   "metadata": {},
   "outputs": [],
   "source": [
    "# 커널 기법\n",
    "# 입력 데이터를 고차원 공간에 사상해서 비선형 특징을 학습할 수 있도록 확장하는 방법\n",
    "# sklearn에서는 Linear, Polynomial, RBF 다양한 커널 기법을 지원"
   ]
  },
  {
   "cell_type": "code",
   "execution_count": 8,
   "id": "337beaf5",
   "metadata": {},
   "outputs": [
    {
     "name": "stdout",
     "output_type": "stream",
     "text": [
      "linear_svr 훈련 데이터 점수 : 0.7155066205123104\n",
      "linear_svr 평가 데이터 점수 : 0.6380398541381507\n",
      "polynomial_svr 훈련 데이터 점수 : 0.2024454261446289\n",
      "polynomial_svr 평가 데이터 점수 : 0.133668450367462\n",
      "rbf_svr훈련 데이터 점수 : 0.21772837063748762\n",
      "rbf_svr평가 데이터 점수 : 0.13544178468518187\n"
     ]
    }
   ],
   "source": [
    "X, y = load_boston(return_X_y=True)\n",
    "X_train, X_test, y_train, y_test = train_test_split(X, y, random_state=123)\n",
    "\n",
    "linear_svr = SVR(kernel='linear')\n",
    "linear_svr.fit(X_train, y_train)\n",
    "\n",
    "print(\"linear_svr 훈련 데이터 점수 : {}\".format(linear_svr.score(X_train, y_train)))\n",
    "print(\"linear_svr 평가 데이터 점수 : {}\".format(linear_svr.score(X_test, y_test)))\n",
    "\n",
    "polynomial_svr = SVR(kernel='poly')\n",
    "polynomial_svr.fit(X_train, y_train)\n",
    "\n",
    "print(\"polynomial_svr 훈련 데이터 점수 : {}\".format(polynomial_svr.score(X_train, y_train)))\n",
    "print(\"polynomial_svr 평가 데이터 점수 : {}\".format(polynomial_svr.score(X_test, y_test)))\n",
    "\n",
    "rbf_svr = SVR(kernel='rbf')\n",
    "rbf_svr.fit(X_train, y_train)\n",
    "\n",
    "print(\"rbf_svr훈련 데이터 점수 : {}\".format(rbf_svr.score(X_train, y_train)))\n",
    "print(\"rbf_svr평가 데이터 점수 : {}\".format(rbf_svr.score(X_test, y_test)))\n",
    "\n",
    "# 보스턴 주택 가격에 대한 support vector 커널에 대한 지표로는 Linear가 제일 좋더라"
   ]
  },
  {
   "cell_type": "code",
   "execution_count": 9,
   "id": "29da1844",
   "metadata": {},
   "outputs": [
    {
     "name": "stdout",
     "output_type": "stream",
     "text": [
      "linear_svc 훈련 데이터 점수 : 0.960093896713615\n",
      "linear_svc 평가 데이터 점수 : 0.986013986013986\n",
      "polynomial_svc 훈련 데이터 점수 : 0.9014084507042254\n",
      "polynomial_svc 평가 데이터 점수 : 0.9230769230769231\n",
      "rbf_svc훈련 데이터 점수 : 0.9014084507042254\n",
      "rbf_svc평가 데이터 점수 : 0.9230769230769231\n"
     ]
    }
   ],
   "source": [
    "X, y = load_breast_cancer(return_X_y=True)\n",
    "X_train, X_test, y_train, y_test = train_test_split(X, y, random_state=123)\n",
    "\n",
    "linear_svc = SVC(kernel='linear')\n",
    "linear_svc.fit(X_train, y_train)\n",
    "\n",
    "print(\"linear_svc 훈련 데이터 점수 : {}\".format(linear_svc.score(X_train, y_train)))\n",
    "print(\"linear_svc 평가 데이터 점수 : {}\".format(linear_svc.score(X_test, y_test)))\n",
    "\n",
    "polynomial_svc = SVC(kernel='poly')\n",
    "polynomial_svc.fit(X_train, y_train)\n",
    "\n",
    "print(\"polynomial_svc 훈련 데이터 점수 : {}\".format(polynomial_svc.score(X_train, y_train)))\n",
    "print(\"polynomial_svc 평가 데이터 점수 : {}\".format(polynomial_svc.score(X_test, y_test)))\n",
    "\n",
    "rbf_svc = SVC(kernel='rbf')\n",
    "rbf_svc.fit(X_train, y_train)\n",
    "\n",
    "print(\"rbf_svc훈련 데이터 점수 : {}\".format(rbf_svc.score(X_train, y_train)))\n",
    "print(\"rbf_svc평가 데이터 점수 : {}\".format(rbf_svc.score(X_test, y_test)))"
   ]
  },
  {
   "cell_type": "code",
   "execution_count": 10,
   "id": "3f4a9893",
   "metadata": {},
   "outputs": [],
   "source": [
    "# 매개변수 튜닝 \n",
    "# SVM은 사용하는 커널에 따라 다양한 매개변수 설정 가능\n",
    "# 매개변수를 변경하면서 성능 변화를 관찰(하이퍼파라미터 변경)"
   ]
  },
  {
   "cell_type": "code",
   "execution_count": 11,
   "id": "a9aca2cf",
   "metadata": {},
   "outputs": [],
   "source": [
    "X, y = load_breast_cancer(return_X_y=True)\n",
    "X_train, X_test, y_train, y_test = train_test_split(X, y, random_state=123)"
   ]
  },
  {
   "cell_type": "code",
   "execution_count": 12,
   "id": "9aa11d05",
   "metadata": {},
   "outputs": [
    {
     "name": "stdout",
     "output_type": "stream",
     "text": [
      "kenel=poly, degree = 2, C = 0.1, gamma = auto\n",
      "polynomial_svc 훈련 데이터 점수 : 0.9835680751173709\n",
      "polynomial_svc 평가 데이터 점수 : 0.993006993006993\n"
     ]
    }
   ],
   "source": [
    "# polynomial_svc 매개변수 튜닝\n",
    "polynomial_svc = SVC(kernel='poly', degree=2, C=0.1, gamma='auto')\n",
    "polynomial_svc.fit(X_train, y_train)\n",
    "\n",
    "print(\"kenel=poly, degree = {}, C = {}, gamma = {}\".format(2, 0.1, 'auto'))\n",
    "print(\"polynomial_svc 훈련 데이터 점수 : {}\".format(polynomial_svc.score(X_train, y_train)))\n",
    "print(\"polynomial_svc 평가 데이터 점수 : {}\".format(polynomial_svc.score(X_test, y_test)))\n",
    "# C = 정규화 매개 변수, 강도는 C에 반비례, l2 페널티(릿지)\n",
    "# kernel = 기본값'rbf'\n",
    "# degree int = , 기본값 = 3 , 다항 커널 함수 ( 'poly')의 차수입니다. 다른 모든 커널에서 무시\n",
    "# 감마 = 'rbf', 'poly'및 'sigmoid'에 대한 커널 계수, 기본값 = scale"
   ]
  },
  {
   "cell_type": "code",
   "execution_count": 13,
   "id": "bbacb9b9",
   "metadata": {},
   "outputs": [
    {
     "name": "stdout",
     "output_type": "stream",
     "text": [
      "kenel = rbf, C = 2, gamma = scale\n",
      "rbf_svc훈련 데이터 점수 : 0.9154929577464789\n",
      "rbf_svc평가 데이터 점수 : 0.9370629370629371\n"
     ]
    }
   ],
   "source": [
    "# rbf_svc 매개변수 튜닝\n",
    "rbf_svc = SVC(kernel = 'rbf', C = 2, gamma='scale')\n",
    "rbf_svc.fit(X_train, y_train)\n",
    "\n",
    "print(\"kenel = rbf, C = {}, gamma = {}\".format(2,'scale'))\n",
    "print(\"rbf_svc훈련 데이터 점수 : {}\".format(rbf_svc.score(X_train, y_train)))\n",
    "print(\"rbf_svc평가 데이터 점수 : {}\".format(rbf_svc.score(X_test, y_test)))"
   ]
  },
  {
   "cell_type": "code",
   "execution_count": 14,
   "id": "304ea583",
   "metadata": {},
   "outputs": [
    {
     "name": "stdout",
     "output_type": "stream",
     "text": [
      "kenel=default(rbf), C = 2, gamma = default(scale)\n",
      "rbf_svc훈련 데이터 점수 : 0.9154929577464789\n",
      "rbf_svc평가 데이터 점수 : 0.9370629370629371\n"
     ]
    }
   ],
   "source": [
    "rbf_svc = SVC(C = 2)\n",
    "rbf_svc.fit(X_train, y_train)\n",
    "\n",
    "print(\"kenel=default(rbf), C = {}, gamma = {}\".format( 2, 'default(scale)'))\n",
    "print(\"rbf_svc훈련 데이터 점수 : {}\".format(rbf_svc.score(X_train, y_train)))\n",
    "print(\"rbf_svc평가 데이터 점수 : {}\".format(rbf_svc.score(X_test, y_test)))"
   ]
  },
  {
   "cell_type": "code",
   "execution_count": 15,
   "id": "61e3ff92",
   "metadata": {},
   "outputs": [],
   "source": [
    "# 데이터 전처리\n",
    "# SVM은 입력 데이터가 정규화 되어야 좋은 성능을 보임\n",
    "# 주로 모든 특성 값을 [0,1] 범위로 맞추는 방법을 사용\n",
    "# sklearn의 StandardScaler 또는 MinMaxscaler 사용해 정규화"
   ]
  },
  {
   "cell_type": "code",
   "execution_count": 40,
   "id": "b685c707",
   "metadata": {},
   "outputs": [],
   "source": [
    "# 전처리 전 과정 \n",
    "X, y = load_breast_cancer(return_X_y=True)\n",
    "X_train, X_test, y_train, y_test = train_test_split(X, y, random_state=123)"
   ]
  },
  {
   "cell_type": "code",
   "execution_count": 41,
   "id": "f20002b0",
   "metadata": {},
   "outputs": [
    {
     "data": {
      "text/plain": [
       "SVC()"
      ]
     },
     "execution_count": 41,
     "metadata": {},
     "output_type": "execute_result"
    }
   ],
   "source": [
    "model = SVC()\n",
    "model.fit(X_train, y_train)"
   ]
  },
  {
   "cell_type": "code",
   "execution_count": 42,
   "id": "2db68292",
   "metadata": {
    "scrolled": true
   },
   "outputs": [
    {
     "name": "stdout",
     "output_type": "stream",
     "text": [
      "훈련 데이터 점수 : 0.9014084507042254\n",
      "평가 데이터 점수 : 0.9230769230769231\n"
     ]
    }
   ],
   "source": [
    "print(\"훈련 데이터 점수 : {}\".format(model.score(X_train, y_train)))\n",
    "print(\"평가 데이터 점수 : {}\".format(model.score(X_test, y_test)))"
   ]
  },
  {
   "cell_type": "code",
   "execution_count": 43,
   "id": "8456042c",
   "metadata": {},
   "outputs": [],
   "source": [
    "# 데이터 스케일링(주의할점은 꼬옥 X_train, X_test 값에서만 스케일링을 진행해줘야함, y_train, y_test는 레이블이기 때문)\n",
    "scaler = StandardScaler()\n",
    "X_train = scaler.fit_transform(X_train)\n",
    "X_test = scaler.transform(X_test)"
   ]
  },
  {
   "cell_type": "code",
   "execution_count": 44,
   "id": "182e9636",
   "metadata": {},
   "outputs": [
    {
     "data": {
      "text/plain": [
       "SVC()"
      ]
     },
     "execution_count": 44,
     "metadata": {},
     "output_type": "execute_result"
    }
   ],
   "source": [
    "model = SVC()\n",
    "model.fit(X_train, y_train)"
   ]
  },
  {
   "cell_type": "code",
   "execution_count": 45,
   "id": "30bd9d38",
   "metadata": {},
   "outputs": [
    {
     "name": "stdout",
     "output_type": "stream",
     "text": [
      "훈련 데이터 점수 : 0.9835680751173709\n",
      "평가 데이터 점수 : 0.986013986013986\n"
     ]
    }
   ],
   "source": [
    "print(\"훈련 데이터 점수 : {}\".format(model.score(X_train, y_train)))\n",
    "print(\"평가 데이터 점수 : {}\".format(model.score(X_test, y_test)))\n",
    "# 전처리 후 점수가 개선 되었음을 확인할 수 있었음"
   ]
  },
  {
   "cell_type": "code",
   "execution_count": 46,
   "id": "884df966",
   "metadata": {},
   "outputs": [],
   "source": [
    "scaler = MinMaxScaler()\n",
    "X_train = scaler.fit_transform(X_train)\n",
    "X_test = scaler.transform(X_test)"
   ]
  },
  {
   "cell_type": "code",
   "execution_count": 47,
   "id": "20310759",
   "metadata": {},
   "outputs": [
    {
     "data": {
      "text/plain": [
       "SVC()"
      ]
     },
     "execution_count": 47,
     "metadata": {},
     "output_type": "execute_result"
    }
   ],
   "source": [
    "model = SVC()\n",
    "model.fit(X_train, y_train)"
   ]
  },
  {
   "cell_type": "code",
   "execution_count": 48,
   "id": "2f299b51",
   "metadata": {},
   "outputs": [
    {
     "name": "stdout",
     "output_type": "stream",
     "text": [
      "훈련 데이터 점수 : 0.9812206572769953\n",
      "평가 데이터 점수 : 0.986013986013986\n"
     ]
    }
   ],
   "source": [
    "print(\"훈련 데이터 점수 : {}\".format(model.score(X_train, y_train)))\n",
    "print(\"평가 데이터 점수 : {}\".format(model.score(X_test, y_test)))"
   ]
  },
  {
   "cell_type": "code",
   "execution_count": 36,
   "id": "d7cb216a",
   "metadata": {},
   "outputs": [],
   "source": [
    "# kernel linear SVR\n",
    "# 보스턴 주택 가격"
   ]
  },
  {
   "cell_type": "code",
   "execution_count": 58,
   "id": "f4ff322e",
   "metadata": {},
   "outputs": [],
   "source": [
    "X, y = load_boston(return_X_y=True)"
   ]
  },
  {
   "cell_type": "code",
   "execution_count": 60,
   "id": "dca87544",
   "metadata": {},
   "outputs": [],
   "source": [
    "X_train, X_test, y_train, y_test = train_test_split(X, y, test_size=0.2)"
   ]
  },
  {
   "cell_type": "code",
   "execution_count": 61,
   "id": "14453ce8",
   "metadata": {},
   "outputs": [],
   "source": [
    "scaler = StandardScaler()\n",
    "X_train = scaler.fit_transform(X_train)\n",
    "X_test = scaler.transform(X_test)"
   ]
  },
  {
   "cell_type": "code",
   "execution_count": 62,
   "id": "ecaa2e04",
   "metadata": {},
   "outputs": [
    {
     "data": {
      "text/plain": [
       "SVR(kernel='linear')"
      ]
     },
     "execution_count": 62,
     "metadata": {},
     "output_type": "execute_result"
    }
   ],
   "source": [
    "model = SVR(kernel='linear')\n",
    "model.fit(X_train, y_train)"
   ]
  },
  {
   "cell_type": "code",
   "execution_count": 63,
   "id": "f97116c3",
   "metadata": {},
   "outputs": [
    {
     "name": "stdout",
     "output_type": "stream",
     "text": [
      "훈련 데이터 점수 : 0.7094042389696352\n",
      "평가 데이터 점수 : 0.7174867025167171\n"
     ]
    }
   ],
   "source": [
    "print(\"훈련 데이터 점수 : {}\".format(model.score(X_train, y_train)))\n",
    "print(\"평가 데이터 점수 : {}\".format(model.score(X_test, y_test)))\n",
    "# 평가가 좋은 평은 아님"
   ]
  },
  {
   "cell_type": "code",
   "execution_count": 65,
   "id": "a1e0bc72",
   "metadata": {},
   "outputs": [
    {
     "data": {
      "image/png": "[encoded data removed]",
      "text/plain": [
       "<Figure size 432x288 with 1 Axes>"
      ]
     },
     "metadata": {},
     "output_type": "display_data"
    }
   ],
   "source": [
    "# 시각화(feature들이 여러개, tsne -> 저차원으로 변환)\n",
    "# 서포터 벡터 머신은 차원을 늘려서 공간상에 맵핑후 나누는 것이지만 시각화로 보고자 한다면 저차원으로 바꿔 보아야함\n",
    "\n",
    "X_comp = TSNE(n_components=1).fit_transform(X)\n",
    "plt.scatter(X_comp, y);\n",
    "\n",
    "# 전체 데이터에 대한 간단한 청사진"
   ]
  },
  {
   "cell_type": "code",
   "execution_count": 67,
   "id": "efd7d7df",
   "metadata": {},
   "outputs": [
    {
     "data": {
      "image/png": "[encoded data removed]",
      "text/plain": [
       "<Figure size 432x288 with 1 Axes>"
      ]
     },
     "metadata": {},
     "output_type": "display_data"
    }
   ],
   "source": [
    "# 차원 축소한 전체 데이터에 대한 모델링 학습\n",
    "model.fit(X_comp, y)\n",
    "predict = model.predict(X_comp)\n",
    "plt.scatter(X_comp, y)\n",
    "plt.scatter(X_comp, predict, color= 'r');\n",
    "# 값이 너무 퍼져있음을 인지할 수 있다."
   ]
  },
  {
   "cell_type": "code",
   "execution_count": 72,
   "id": "be8c70fd",
   "metadata": {
    "scrolled": true
   },
   "outputs": [
    {
     "name": "stderr",
     "output_type": "stream",
     "text": [
      "[Parallel(n_jobs=12)]: Using backend LokyBackend with 12 concurrent workers.\n",
      "[Parallel(n_jobs=12)]: Done   5 out of   5 | elapsed:    0.8s finished\n"
     ]
    },
    {
     "data": {
      "text/plain": [
       "{'fit_time': array([0.        , 0.        , 0.01521587, 0.01521587, 0.02093554]),\n",
       " 'score_time': array([0.01404095, 0.01404095, 0.00199461, 0.00199461, 0.00099707]),\n",
       " 'test_score': array([0.76908568, 0.72180141, 0.56428426, 0.14083339, 0.07810211])}"
      ]
     },
     "execution_count": 72,
     "metadata": {},
     "output_type": "execute_result"
    }
   ],
   "source": [
    "# pipeline을 활용한 cross_validate(=교차 검증을 통해 메트릭을 평가하고 적합 / 점수 시간을 기록)\n",
    "estimator = make_pipeline(StandardScaler(), SVR(kernel=\"linear\"))\n",
    "                          \n",
    "cross_validate(\n",
    "estimator = estimator,\n",
    "X=X, y=y,\n",
    "cv=5,\n",
    "n_jobs = multiprocessing.cpu_count(),\n",
    "verbose=True)\n",
    " # verbose=True 상세 수준                         "
   ]
  },
  {
   "cell_type": "code",
   "execution_count": 78,
   "id": "8d626e5a",
   "metadata": {},
   "outputs": [
    {
     "name": "stdout",
     "output_type": "stream",
     "text": [
      "Fitting 5 folds for each of 18 candidates, totalling 90 fits\n"
     ]
    },
    {
     "data": {
      "text/plain": [
       "GridSearchCV(cv=5,\n",
       "             estimator=Pipeline(steps=[('scaler', StandardScaler()),\n",
       "                                       ('model', SVR(kernel='linear'))]),\n",
       "             n_jobs=12,\n",
       "             param_grid=[{'model__C': [1.0, 0.1, 0.01],\n",
       "                          'model__epsilon': [1.0, 0.1, 0.01],\n",
       "                          'model__gamma': ['scale', 'auto']}],\n",
       "             verbose=True)"
      ]
     },
     "execution_count": 78,
     "metadata": {},
     "output_type": "execute_result"
    }
   ],
   "source": [
    "# GriGridSearchCV를 활용해 적합한 모델 매개변수(파라미터) 찾기\n",
    "pipe = Pipeline([('scaler', StandardScaler()),\n",
    "                 ('model', SVR(kernel='linear'))])\n",
    "\n",
    "param_grid = [{'model__gamma' : ['scale', 'auto'],\n",
    "             'model__C' : [1.0, 0.1, 0.01],\n",
    "             'model__epsilon' : [1.0, 0.1, 0.01]}]\n",
    "\n",
    "gs = GridSearchCV(\n",
    "    estimator=pipe,\n",
    "    param_grid=param_grid,\n",
    "    n_jobs=multiprocessing.cpu_count(),\n",
    "    cv =5,\n",
    "    verbose=True\n",
    ")\n",
    "\n",
    "gs.fit(X, y)"
   ]
  },
  {
   "cell_type": "code",
   "execution_count": 80,
   "id": "35fa5926",
   "metadata": {
    "scrolled": false
   },
   "outputs": [
    {
     "data": {
      "text/plain": [
       "Pipeline(steps=[('scaler', StandardScaler()),\n",
       "                ('model', SVR(C=0.1, epsilon=1.0, kernel='linear'))])"
      ]
     },
     "execution_count": 80,
     "metadata": {},
     "output_type": "execute_result"
    }
   ],
   "source": [
    "# 최적의 파라미터 추출\n",
    "gs.best_estimator_"
   ]
  },
  {
   "cell_type": "code",
   "execution_count": 88,
   "id": "c977c12c",
   "metadata": {},
   "outputs": [],
   "source": [
    "# kernel linear SVR\n",
    "# 당뇨병 데이터 활용"
   ]
  },
  {
   "cell_type": "code",
   "execution_count": 89,
   "id": "9cb20615",
   "metadata": {},
   "outputs": [],
   "source": [
    "X, y = load_diabetes(return_X_y=True)"
   ]
  },
  {
   "cell_type": "code",
   "execution_count": 90,
   "id": "728de523",
   "metadata": {},
   "outputs": [],
   "source": [
    "X_train, X_test, y_train, y_test = train_test_split(X, y, test_size=0.2)"
   ]
  },
  {
   "cell_type": "code",
   "execution_count": 91,
   "id": "16fd8751",
   "metadata": {},
   "outputs": [],
   "source": [
    "scaler = StandardScaler()\n",
    "X_train = scaler.fit_transform(X_train)\n",
    "X_test = scaler.transform(X_test) "
   ]
  },
  {
   "cell_type": "code",
   "execution_count": 92,
   "id": "ddc667a8",
   "metadata": {},
   "outputs": [
    {
     "data": {
      "text/plain": [
       "SVR(kernel='linear')"
      ]
     },
     "execution_count": 92,
     "metadata": {},
     "output_type": "execute_result"
    }
   ],
   "source": [
    "model = SVR(kernel='linear')\n",
    "model.fit(X_train, y_train)"
   ]
  },
  {
   "cell_type": "code",
   "execution_count": 94,
   "id": "39751e44",
   "metadata": {},
   "outputs": [
    {
     "name": "stdout",
     "output_type": "stream",
     "text": [
      "훈련 데이터 점수 : 0.5008718081377989\n",
      "평가 데이터 점수 : 0.488263402424419\n"
     ]
    }
   ],
   "source": [
    "print(\"훈련 데이터 점수 : {}\".format(model.score(X_train, y_train)))\n",
    "print(\"평가 데이터 점수 : {}\".format(model.score(X_test, y_test)))\n",
    "# 보스턴 주택 가격 데이터 보다 좋지 못한 점수를 보여주고 있음"
   ]
  },
  {
   "cell_type": "code",
   "execution_count": 95,
   "id": "710e0822",
   "metadata": {},
   "outputs": [
    {
     "data": {
      "image/png": "[encoded data removed]",
      "text/plain": [
       "<Figure size 432x288 with 1 Axes>"
      ]
     },
     "metadata": {},
     "output_type": "display_data"
    }
   ],
   "source": [
    "# 시각화(feature들이 여러개, tsne -> 저차원으로 변환)\n",
    "# 서포터 벡터 머신은 차원을 늘려서 공간상에 맵핑후 나누는 것이지만 시각화로 보고자 한다면 저차원으로 바꿔 보아야함\n",
    "\n",
    "X_comp = TSNE(n_components=1).fit_transform(X)\n",
    "plt.scatter(X_comp, y);\n",
    "\n",
    "# 전체 데이터에 대한 간단한 청사진"
   ]
  },
  {
   "cell_type": "code",
   "execution_count": 96,
   "id": "7eab5aca",
   "metadata": {},
   "outputs": [
    {
     "data": {
      "image/png": "[encoded data removed]",
      "text/plain": [
       "<Figure size 432x288 with 1 Axes>"
      ]
     },
     "metadata": {},
     "output_type": "display_data"
    }
   ],
   "source": [
    "# 차원 축소한 전체 데이터에 대한 모델링 학습\n",
    "model.fit(X_comp, y)\n",
    "predict = model.predict(X_comp)\n",
    "plt.scatter(X_comp, y)\n",
    "plt.scatter(X_comp, predict, color= 'r');\n",
    "# 값이 너무 퍼져있음을 인지할 수 있다."
   ]
  },
  {
   "cell_type": "code",
   "execution_count": 97,
   "id": "842bf646",
   "metadata": {
    "scrolled": true
   },
   "outputs": [
    {
     "name": "stderr",
     "output_type": "stream",
     "text": [
      "[Parallel(n_jobs=12)]: Using backend LokyBackend with 12 concurrent workers.\n",
      "[Parallel(n_jobs=12)]: Done   5 out of   5 | elapsed:    2.1s finished\n"
     ]
    },
    {
     "data": {
      "text/plain": [
       "{'fit_time': array([0.00543666, 0.01017141, 0.00881124, 0.00987434, 0.01109028]),\n",
       " 'score_time': array([0.        , 0.        , 0.00199533, 0.00199533, 0.00230217]),\n",
       " 'test_score': array([0.43037242, 0.51653341, 0.48275332, 0.42247202, 0.53076481])}"
      ]
     },
     "execution_count": 97,
     "metadata": {},
     "output_type": "execute_result"
    }
   ],
   "source": [
    "# pipeline을 활용한 cross_validate(=교차 검증을 통해 메트릭을 평가하고 적합 / 점수 시간을 기록)\n",
    "estimator = make_pipeline(StandardScaler(), SVR(kernel=\"linear\"))\n",
    "                          \n",
    "cross_validate(\n",
    "estimator = estimator,\n",
    "X=X, y=y,\n",
    "cv=5,\n",
    "n_jobs = multiprocessing.cpu_count(),\n",
    "verbose=True)\n",
    " # verbose=True 상세 수준                         "
   ]
  },
  {
   "cell_type": "code",
   "execution_count": 98,
   "id": "c55df5f0",
   "metadata": {
    "scrolled": false
   },
   "outputs": [
    {
     "name": "stdout",
     "output_type": "stream",
     "text": [
      "Fitting 5 folds for each of 18 candidates, totalling 90 fits\n"
     ]
    },
    {
     "data": {
      "text/plain": [
       "GridSearchCV(cv=5,\n",
       "             estimator=Pipeline(steps=[('scaler', StandardScaler()),\n",
       "                                       ('model', SVR(kernel='linear'))]),\n",
       "             n_jobs=12,\n",
       "             param_grid=[{'model__C': [1.0, 0.1, 0.01],\n",
       "                          'model__epsilon': [1.0, 0.1, 0.01],\n",
       "                          'model__gamma': ['scale', 'auto']}],\n",
       "             verbose=True)"
      ]
     },
     "execution_count": 98,
     "metadata": {},
     "output_type": "execute_result"
    }
   ],
   "source": [
    "# GriGridSearchCV를 활용해 적합한 모델 매개변수(파라미터) 찾기\n",
    "pipe = Pipeline([('scaler', StandardScaler()),\n",
    "                 ('model', SVR(kernel='linear'))])\n",
    "\n",
    "param_grid = [{'model__gamma' : ['scale', 'auto'],\n",
    "             'model__C' : [1.0, 0.1, 0.01],\n",
    "             'model__epsilon' : [1.0, 0.1, 0.01]}]\n",
    "\n",
    "gs = GridSearchCV(\n",
    "    estimator=pipe,\n",
    "    param_grid=param_grid,\n",
    "    n_jobs=multiprocessing.cpu_count(),\n",
    "    cv =5,\n",
    "    verbose=True\n",
    ")\n",
    "\n",
    "gs.fit(X, y)"
   ]
  },
  {
   "cell_type": "code",
   "execution_count": 100,
   "id": "5c72a9d1",
   "metadata": {
    "scrolled": false
   },
   "outputs": [
    {
     "data": {
      "text/plain": [
       "Pipeline(steps=[('scaler', StandardScaler()),\n",
       "                ('model', SVR(epsilon=1.0, kernel='linear'))])"
      ]
     },
     "execution_count": 100,
     "metadata": {},
     "output_type": "execute_result"
    }
   ],
   "source": [
    "# 최적의 파라미터 추출\n",
    "gs.best_estimator_"
   ]
  },
  {
   "cell_type": "code",
   "execution_count": null,
   "id": "1d33f1df",
   "metadata": {},
   "outputs": [],
   "source": [
    "# kernel = rbf SVR\n",
    "# 보스턴 주택 가격"
   ]
  },
  {
   "cell_type": "code",
   "execution_count": 101,
   "id": "50f6839a",
   "metadata": {},
   "outputs": [],
   "source": [
    "X, y = load_boston(return_X_y=True)"
   ]
  },
  {
   "cell_type": "code",
   "execution_count": 102,
   "id": "830cb772",
   "metadata": {},
   "outputs": [],
   "source": [
    "X_train, X_test, y_train, y_test = train_test_split(X, y, test_size=0.2)"
   ]
  },
  {
   "cell_type": "code",
   "execution_count": 103,
   "id": "1daab7da",
   "metadata": {},
   "outputs": [],
   "source": [
    "scaler = StandardScaler()\n",
    "X_train = scaler.fit_transform(X_train)\n",
    "X_test = scaler.transform(X_test)"
   ]
  },
  {
   "cell_type": "code",
   "execution_count": 106,
   "id": "2d7dbd6a",
   "metadata": {},
   "outputs": [
    {
     "data": {
      "text/plain": [
       "SVR()"
      ]
     },
     "execution_count": 106,
     "metadata": {},
     "output_type": "execute_result"
    }
   ],
   "source": [
    "model = SVR(kernel='rbf')\n",
    "model.fit(X_train, y_train)"
   ]
  },
  {
   "cell_type": "code",
   "execution_count": 107,
   "id": "36127183",
   "metadata": {},
   "outputs": [
    {
     "name": "stdout",
     "output_type": "stream",
     "text": [
      "훈련 데이터 점수 : 0.6821630656282525\n",
      "평가 데이터 점수 : 0.5984258512288283\n"
     ]
    }
   ],
   "source": [
    "print(\"훈련 데이터 점수 : {}\".format(model.score(X_train, y_train)))\n",
    "print(\"평가 데이터 점수 : {}\".format(model.score(X_test, y_test)))\n",
    "# 평가가 좋은 평은 아님"
   ]
  },
  {
   "cell_type": "code",
   "execution_count": 108,
   "id": "4436ea25",
   "metadata": {},
   "outputs": [
    {
     "data": {
      "image/png": "[encoded data removed]",
      "text/plain": [
       "<Figure size 432x288 with 1 Axes>"
      ]
     },
     "metadata": {},
     "output_type": "display_data"
    }
   ],
   "source": [
    "# 시각화(feature들이 여러개, tsne -> 저차원으로 변환)\n",
    "# 서포터 벡터 머신은 차원을 늘려서 공간상에 맵핑후 나누는 것이지만 시각화로 보고자 한다면 저차원으로 바꿔 보아야함\n",
    "\n",
    "X_comp = TSNE(n_components=1).fit_transform(X)\n",
    "plt.scatter(X_comp, y);\n",
    "\n",
    "# 전체 데이터에 대한 간단한 청사진"
   ]
  },
  {
   "cell_type": "code",
   "execution_count": 109,
   "id": "4696e868",
   "metadata": {},
   "outputs": [
    {
     "data": {
      "image/png": "[encoded data removed]",
      "text/plain": [
       "<Figure size 432x288 with 1 Axes>"
      ]
     },
     "metadata": {},
     "output_type": "display_data"
    }
   ],
   "source": [
    "# 차원 축소한 전체 데이터에 대한 모델링 학습\n",
    "model.fit(X_comp, y)\n",
    "predict = model.predict(X_comp)\n",
    "plt.scatter(X_comp, y)\n",
    "plt.scatter(X_comp, predict, color= 'r');\n",
    "# 값이 너무 퍼져있음을 인지할 수 있다.\n",
    "# rbf에 의미에 따라 비선형으로 이뤄져있음을 볼 수 있음\n",
    "# 훈련, 평가 점수는 보다 낫지만 선형에 비해서 데이터를 잘 반영했다고 볼 수 있음"
   ]
  },
  {
   "cell_type": "code",
   "execution_count": 110,
   "id": "41cf5c6a",
   "metadata": {
    "scrolled": true
   },
   "outputs": [
    {
     "name": "stderr",
     "output_type": "stream",
     "text": [
      "[Parallel(n_jobs=12)]: Using backend LokyBackend with 12 concurrent workers.\n",
      "[Parallel(n_jobs=12)]: Done   5 out of   5 | elapsed:    1.7s finished\n"
     ]
    },
    {
     "data": {
      "text/plain": [
       "{'fit_time': array([0.01395941, 0.01496172, 0.01397181, 0.01396441, 0.01396441]),\n",
       " 'score_time': array([0.00598478, 0.00598431, 0.00497913, 0.00498676, 0.00498676]),\n",
       " 'test_score': array([ 0.75781445,  0.50211018,  0.04310107,  0.33851703, -0.75997942])}"
      ]
     },
     "execution_count": 110,
     "metadata": {},
     "output_type": "execute_result"
    }
   ],
   "source": [
    "# pipeline을 활용한 cross_validate(=교차 검증을 통해 메트릭을 평가하고 적합 / 점수 시간을 기록)\n",
    "estimator = make_pipeline(StandardScaler(), SVR(kernel=\"rbf\"))\n",
    "                          \n",
    "cross_validate(\n",
    "estimator = estimator,\n",
    "X=X, y=y,\n",
    "cv=5,\n",
    "n_jobs = multiprocessing.cpu_count(),\n",
    "verbose=True)\n",
    " # verbose=True 상세 수준                         "
   ]
  },
  {
   "cell_type": "code",
   "execution_count": 113,
   "id": "c4d64a18",
   "metadata": {},
   "outputs": [
    {
     "name": "stdout",
     "output_type": "stream",
     "text": [
      "Fitting 5 folds for each of 3 candidates, totalling 15 fits\n"
     ]
    },
    {
     "name": "stderr",
     "output_type": "stream",
     "text": [
      "C:\\ProgramData\\Anaconda3\\lib\\site-packages\\sklearn\\model_selection\\_search.py:918: UserWarning: One or more of the test scores are non-finite: [0.17631266        nan 0.14981591]\n",
      "  warnings.warn(\n"
     ]
    },
    {
     "data": {
      "text/plain": [
       "GridSearchCV(cv=5,\n",
       "             estimator=Pipeline(steps=[('scaler', StandardScaler()),\n",
       "                                       ('model', SVR())]),\n",
       "             n_jobs=12,\n",
       "             param_grid=[{'model__kernel': ['rbf', 'polynomial', 'sigmoid']}],\n",
       "             verbose=True)"
      ]
     },
     "execution_count": 113,
     "metadata": {},
     "output_type": "execute_result"
    }
   ],
   "source": [
    "# GriGridSearchCV를 활용해 적합한 모델 kernel 찾기\n",
    "pipe = Pipeline([('scaler', StandardScaler()),\n",
    "                 ('model', SVR(kernel='rbf'))])\n",
    "\n",
    "param_grid = [{'model__kernel' : ['rbf', 'polynomial', 'sigmoid']}]  ## 커널값을 비교해보자\n",
    "\n",
    "gs = GridSearchCV(\n",
    "    estimator=pipe,\n",
    "    param_grid=param_grid,\n",
    "    n_jobs=multiprocessing.cpu_count(),\n",
    "    cv =5,\n",
    "    verbose=True\n",
    ")\n",
    "\n",
    "gs.fit(X, y)"
   ]
  },
  {
   "cell_type": "code",
   "execution_count": 115,
   "id": "cf7be3a3",
   "metadata": {
    "scrolled": false
   },
   "outputs": [
    {
     "data": {
      "text/plain": [
       "Pipeline(steps=[('scaler', StandardScaler()), ('model', SVR())])"
      ]
     },
     "execution_count": 115,
     "metadata": {},
     "output_type": "execute_result"
    }
   ],
   "source": [
    "# 최적의 kernel 추출\n",
    "gs.best_estimator_"
   ]
  },
  {
   "cell_type": "code",
   "execution_count": 117,
   "id": "c20c8f4e",
   "metadata": {},
   "outputs": [
    {
     "name": "stdout",
     "output_type": "stream",
     "text": [
      "Fitting 5 folds for each of 8 candidates, totalling 40 fits\n"
     ]
    },
    {
     "data": {
      "text/plain": [
       "GridSearchCV(cv=5,\n",
       "             estimator=Pipeline(steps=[('scaler', StandardScaler()),\n",
       "                                       ('model', SVR())]),\n",
       "             n_jobs=12,\n",
       "             param_grid=[{'model__gamma': ['scale', 'auto']},\n",
       "                         {'model__C': [1.0, 0.1, 0.01]},\n",
       "                         {'model__epsilon': [1.0, 0.1, 0.01]}],\n",
       "             verbose=True)"
      ]
     },
     "execution_count": 117,
     "metadata": {},
     "output_type": "execute_result"
    }
   ],
   "source": [
    "# GriGridSearchCV를 활용해 나온 rbf를 활용해 최적의 파라미터 찾기\n",
    "pipe = Pipeline([('scaler', StandardScaler()),\n",
    "                 ('model', SVR(kernel='rbf'))])\n",
    "\n",
    "param_grid = [{'model__gamma' : ['scale', 'auto']},\n",
    "              {'model__C' : [1.0, 0.1, 0.01]},\n",
    "              {'model__epsilon' : [1.0, 0.1, 0.01]}] \n",
    "\n",
    "gs = GridSearchCV(\n",
    "    estimator=pipe,\n",
    "    param_grid=param_grid,\n",
    "    n_jobs=multiprocessing.cpu_count(),\n",
    "    cv =5,\n",
    "    verbose=True\n",
    ")\n",
    "\n",
    "gs.fit(X, y)"
   ]
  },
  {
   "cell_type": "code",
   "execution_count": 119,
   "id": "72556f7d",
   "metadata": {},
   "outputs": [
    {
     "data": {
      "text/plain": [
       "Pipeline(steps=[('scaler', StandardScaler()), ('model', SVR(epsilon=0.01))])"
      ]
     },
     "execution_count": 119,
     "metadata": {},
     "output_type": "execute_result"
    }
   ],
   "source": [
    "# 최적의 파라미터 추출\n",
    "gs.best_estimator_"
   ]
  },
  {
   "cell_type": "code",
   "execution_count": null,
   "id": "4ba85a5f",
   "metadata": {},
   "outputs": [],
   "source": [
    "# kernel = rbf SVR\n",
    "# 당뇨병"
   ]
  }
 ],
 "metadata": {
  "kernelspec": {
   "display_name": "Python 3",
   "language": "python",
   "name": "python3"
  },
  "language_info": {
   "codemirror_mode": {
    "name": "ipython",
    "version": 3
   },
   "file_extension": ".py",
   "mimetype": "text/x-python",
   "name": "python",
   "nbconvert_exporter": "python",
   "pygments_lexer": "ipython3",
   "version": "3.8.8"
  }
 },
 "nbformat": 4,
 "nbformat_minor": 5
}
