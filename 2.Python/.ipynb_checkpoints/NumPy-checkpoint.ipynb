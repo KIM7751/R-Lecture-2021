{
 "cells": [
  {
   "cell_type": "code",
   "execution_count": 1,
   "id": "55f966ba",
   "metadata": {},
   "outputs": [],
   "source": [
    "# NumPy의 특징\n",
    "# 고성능 과학 계산용 패키지로 강력한 N차원 배열 객체\n",
    "# 반복문 없이 데이터 배열에 대한 처리 지원 빠르고 편리\n",
    "# 데이터 과학 도구에 대한 생태계의 핵심을 이루고 있다."
   ]
  },
  {
   "cell_type": "code",
   "execution_count": 2,
   "id": "effc63c8",
   "metadata": {},
   "outputs": [],
   "source": [
    "import numpy as np"
   ]
  },
  {
   "cell_type": "code",
   "execution_count": 3,
   "id": "05aed484",
   "metadata": {},
   "outputs": [],
   "source": [
    "## 배열생성"
   ]
  },
  {
   "cell_type": "code",
   "execution_count": 4,
   "id": "6e081969",
   "metadata": {},
   "outputs": [
    {
     "name": "stdout",
     "output_type": "stream",
     "text": [
      "[1 2 3 4 5]\n",
      "<class 'numpy.ndarray'>\n",
      "(5,)\n",
      "1\n",
      "10\n"
     ]
    }
   ],
   "source": [
    "# 1차원 배열(리스트를 배열로 바꿔주는 거라서 []를 포함해야함)\n",
    "a1 = np.array([1,2,3,4,5])\n",
    "print(a1)\n",
    "print(type(a1)) # nd(n dimension) = n차원\n",
    "print(a1.shape) # shape 배열에 대한 모양을 보여주는 속성\n",
    "                # 5개의 엘리먼트/ , 뒤에 아무것도 없음 = 1차원\n",
    "print(a1[0])    # index\n",
    "a1[0] = 10      # 엘리먼트 수정\n",
    "print(a1[0])"
   ]
  },
  {
   "cell_type": "code",
   "execution_count": 5,
   "id": "216d85b0",
   "metadata": {},
   "outputs": [
    {
     "name": "stdout",
     "output_type": "stream",
     "text": [
      "[[1 2 3]\n",
      " [4 5 6]\n",
      " [7 8 9]]\n",
      "(3, 3)\n",
      "1 6 9\n"
     ]
    }
   ],
   "source": [
    "# 2차원 배열(리스트 안에 리스트가 내포된 형태[ [ ] ])\n",
    "a2= np.array([[1, 2, 3], [4, 5, 6], [7, 8, 9]])\n",
    "print(a2)\n",
    "print(a2.shape)\n",
    "print(a2[0,0], a2[1,2], a2[2,2]) # index"
   ]
  },
  {
   "cell_type": "code",
   "execution_count": 6,
   "id": "7ec75eb3",
   "metadata": {},
   "outputs": [
    {
     "name": "stdout",
     "output_type": "stream",
     "text": [
      "[[[1 2 3]\n",
      "  [4 5 6]\n",
      "  [7 8 9]]\n",
      "\n",
      " [[1 2 3]\n",
      "  [4 5 6]\n",
      "  [7 8 9]]\n",
      "\n",
      " [[1 2 3]\n",
      "  [4 5 6]\n",
      "  [7 8 9]]]\n",
      "(3, 3, 3)\n"
     ]
    }
   ],
   "source": [
    "# 3차원 배열\n",
    "a3 = np.array([ [ [1, 2, 3], [4, 5, 6], [7, 8, 9] ],\n",
    "                [ [1, 2, 3], [4, 5, 6], [7, 8, 9] ], \n",
    "                [ [1, 2, 3], [4, 5, 6], [7, 8, 9] ] ])\n",
    "print(a3)\n",
    "print(a3.shape)"
   ]
  },
  {
   "cell_type": "code",
   "execution_count": 7,
   "id": "9a7dc67a",
   "metadata": {},
   "outputs": [],
   "source": [
    "# 배열 생성 및 초기화"
   ]
  },
  {
   "cell_type": "code",
   "execution_count": 8,
   "id": "d47cf277",
   "metadata": {},
   "outputs": [
    {
     "data": {
      "text/plain": [
       "array([0., 0., 0., 0., 0., 0., 0., 0., 0., 0.])"
      ]
     },
     "execution_count": 8,
     "metadata": {},
     "output_type": "execute_result"
    }
   ],
   "source": [
    "np.zeros(10) # 0으로 10개 엘리먼트를 갖는 배열 생성"
   ]
  },
  {
   "cell_type": "code",
   "execution_count": 9,
   "id": "314c1c84",
   "metadata": {},
   "outputs": [
    {
     "data": {
      "text/plain": [
       "array([[1., 1., 1.],\n",
       "       [1., 1., 1.],\n",
       "       [1., 1., 1.]])"
      ]
     },
     "execution_count": 9,
     "metadata": {},
     "output_type": "execute_result"
    }
   ],
   "source": [
    "np.ones((3,3)) # 1로 3행 3열의 배열 생성"
   ]
  },
  {
   "cell_type": "code",
   "execution_count": 10,
   "id": "85eb40c7",
   "metadata": {},
   "outputs": [
    {
     "data": {
      "text/plain": [
       "array([[1.23, 1.23, 1.23],\n",
       "       [1.23, 1.23, 1.23],\n",
       "       [1.23, 1.23, 1.23]])"
      ]
     },
     "execution_count": 10,
     "metadata": {},
     "output_type": "execute_result"
    }
   ],
   "source": [
    "np.full((3,3),1.23) # ((3행 3열 배열 생성) , 채워넣을 숫자)"
   ]
  },
  {
   "cell_type": "code",
   "execution_count": 11,
   "id": "28525dee",
   "metadata": {},
   "outputs": [
    {
     "data": {
      "text/plain": [
       "array([[1., 0., 0.],\n",
       "       [0., 1., 0.],\n",
       "       [0., 0., 1.]])"
      ]
     },
     "execution_count": 11,
     "metadata": {},
     "output_type": "execute_result"
    }
   ],
   "source": [
    "np.eye(3) # 단위 행렬 I 를 생성 A * I = A \n",
    "          # 정사각형 행렬이기 때문에 인수는 하나"
   ]
  },
  {
   "cell_type": "code",
   "execution_count": 12,
   "id": "da664ae2",
   "metadata": {},
   "outputs": [
    {
     "data": {
      "text/plain": [
       "array([[1., 0., 0.],\n",
       "       [1., 1., 0.],\n",
       "       [1., 1., 1.]])"
      ]
     },
     "execution_count": 12,
     "metadata": {},
     "output_type": "execute_result"
    }
   ],
   "source": [
    "np.tri(3) # 삼각 행렬로 행렬의 형태만 갖는 인수 하나만 가짐."
   ]
  },
  {
   "cell_type": "code",
   "execution_count": 13,
   "id": "cb2a11f9",
   "metadata": {},
   "outputs": [
    {
     "name": "stdout",
     "output_type": "stream",
     "text": [
      "[10  2  3  4  5]\n"
     ]
    },
    {
     "data": {
      "text/plain": [
       "array([0, 0, 0, 0, 0])"
      ]
     },
     "execution_count": 13,
     "metadata": {},
     "output_type": "execute_result"
    }
   ],
   "source": [
    "# _like(a1) a1 형태의 배열에 0을 채움.\n",
    "print(a1)\n",
    "np.zeros_like(a1) "
   ]
  },
  {
   "cell_type": "code",
   "execution_count": 14,
   "id": "0128042b",
   "metadata": {
    "scrolled": true
   },
   "outputs": [
    {
     "name": "stdout",
     "output_type": "stream",
     "text": [
      "[[1 2 3]\n",
      " [4 5 6]\n",
      " [7 8 9]]\n"
     ]
    },
    {
     "data": {
      "text/plain": [
       "array([[1, 1, 1],\n",
       "       [1, 1, 1],\n",
       "       [1, 1, 1]])"
      ]
     },
     "execution_count": 14,
     "metadata": {},
     "output_type": "execute_result"
    }
   ],
   "source": [
    "print(a2)\n",
    "np.ones_like(a2)"
   ]
  },
  {
   "cell_type": "code",
   "execution_count": 15,
   "id": "aea7e6fd",
   "metadata": {},
   "outputs": [
    {
     "name": "stdout",
     "output_type": "stream",
     "text": [
      "[[[1 2 3]\n",
      "  [4 5 6]\n",
      "  [7 8 9]]\n",
      "\n",
      " [[1 2 3]\n",
      "  [4 5 6]\n",
      "  [7 8 9]]\n",
      "\n",
      " [[1 2 3]\n",
      "  [4 5 6]\n",
      "  [7 8 9]]]\n"
     ]
    },
    {
     "data": {
      "text/plain": [
       "array([[[10, 10, 10],\n",
       "        [10, 10, 10],\n",
       "        [10, 10, 10]],\n",
       "\n",
       "       [[10, 10, 10],\n",
       "        [10, 10, 10],\n",
       "        [10, 10, 10]],\n",
       "\n",
       "       [[10, 10, 10],\n",
       "        [10, 10, 10],\n",
       "        [10, 10, 10]]])"
      ]
     },
     "execution_count": 15,
     "metadata": {},
     "output_type": "execute_result"
    }
   ],
   "source": [
    "print(a3) \n",
    "np.full_like(a3, 10.2) \n",
    "# np.full_like 사용때 소수를 넣으려면 dtype = float 추가                                    "
   ]
  },
  {
   "cell_type": "code",
   "execution_count": 16,
   "id": "89eb447a",
   "metadata": {},
   "outputs": [],
   "source": [
    "# 생성한 값으로 배열 생성(1.값을 생성함. 2.그 값으로 배열 생성)"
   ]
  },
  {
   "cell_type": "code",
   "execution_count": 17,
   "id": "8663acc9",
   "metadata": {},
   "outputs": [
    {
     "data": {
      "text/plain": [
       "array([ 0,  2,  4,  6,  8, 10, 12, 14, 16, 18, 20, 22, 24, 26, 28])"
      ]
     },
     "execution_count": 17,
     "metadata": {},
     "output_type": "execute_result"
    }
   ],
   "source": [
    "# np.arange() 정수 범위로 배열 생성\n",
    "np.arange(0, 30, 2) # 0 ~ 29, 2 단위로"
   ]
  },
  {
   "cell_type": "code",
   "execution_count": 18,
   "id": "85577b50",
   "metadata": {},
   "outputs": [
    {
     "data": {
      "text/plain": [
       "array([0.  , 0.25, 0.5 , 0.75, 1.  ])"
      ]
     },
     "execution_count": 18,
     "metadata": {},
     "output_type": "execute_result"
    }
   ],
   "source": [
    "# np.linspace() 범위 내에서 균등 간격의 배열 생성\n",
    "np.linspace(0, 1, 5) # 0 ~ 1, 5개의 균등한 배열"
   ]
  },
  {
   "cell_type": "code",
   "execution_count": 19,
   "id": "c8cc02b2",
   "metadata": {},
   "outputs": [
    {
     "data": {
      "text/plain": [
       "array([ 1.25892541,  1.40400425,  1.565802  ,  1.74624535,  1.94748304,\n",
       "        2.1719114 ,  2.42220294,  2.70133812,  3.0126409 ,  3.35981829,\n",
       "        3.74700446,  4.17881006,  4.66037703,  5.19743987,  5.79639395,\n",
       "        6.46437163,  7.2093272 ,  8.04013161,  8.9666781 , 10.        ])"
      ]
     },
     "execution_count": 19,
     "metadata": {},
     "output_type": "execute_result"
    }
   ],
   "source": [
    "# np.logspace() 범위 내에서 균등 간격으로 로그 스케일로 배열 생성\n",
    "np.logspace(0.1, 1, 20) # 로그 개념이 없어서 일단 패스\n"
   ]
  },
  {
   "cell_type": "code",
   "execution_count": 20,
   "id": "8c0441b2",
   "metadata": {},
   "outputs": [],
   "source": [
    "# 랜덤값으로 배열 생성"
   ]
  },
  {
   "cell_type": "code",
   "execution_count": 21,
   "id": "e5c4d04b",
   "metadata": {},
   "outputs": [
    {
     "data": {
      "text/plain": [
       "array([[0.46763696, 0.65084493, 0.0374431 ],\n",
       "       [0.82987025, 0.73388042, 0.65864772],\n",
       "       [0.28904059, 0.67492854, 0.49350846]])"
      ]
     },
     "execution_count": 21,
     "metadata": {},
     "output_type": "execute_result"
    }
   ],
   "source": [
    "# np.random.random() 실수 랜덤한 수의 배열 생성 (형태) \n",
    "np.random.random((3,3)) "
   ]
  },
  {
   "cell_type": "code",
   "execution_count": 22,
   "id": "86e1a24c",
   "metadata": {},
   "outputs": [
    {
     "data": {
      "text/plain": [
       "array([[2, 3, 5],\n",
       "       [7, 7, 3],\n",
       "       [6, 9, 4]])"
      ]
     },
     "execution_count": 22,
     "metadata": {},
     "output_type": "execute_result"
    }
   ],
   "source": [
    "# np.random.randint() 일정 구간의 랜덤 정수의 배열 생성\n",
    "np.random.randint(0, 10, (3,3)) # (0 ~ 10, (형태))"
   ]
  },
  {
   "cell_type": "code",
   "execution_count": 23,
   "id": "ad9d09bb",
   "metadata": {},
   "outputs": [
    {
     "data": {
      "text/plain": [
       "array([[ 0.27147972, -0.81282489, -2.29081454],\n",
       "       [-0.07413666, -0.08374514,  0.05559175],\n",
       "       [ 1.16513388,  2.08011283,  0.98469131]])"
      ]
     },
     "execution_count": 23,
     "metadata": {},
     "output_type": "execute_result"
    }
   ],
   "source": [
    "# np.random.normal() 정규분포 랜덤한 수의 배열 \n",
    "np.random.normal(0, 1, (3,3)) # 평균 = 0 표준편차 = 1 (3X3 배열)"
   ]
  },
  {
   "cell_type": "code",
   "execution_count": 24,
   "id": "6e390d7c",
   "metadata": {},
   "outputs": [
    {
     "data": {
      "text/plain": [
       "array([[0.92457476, 0.74118545, 0.90792954],\n",
       "       [0.33693601, 0.22539688, 0.53684239],\n",
       "       [0.6314268 , 0.3947627 , 0.57034195]])"
      ]
     },
     "execution_count": 24,
     "metadata": {},
     "output_type": "execute_result"
    }
   ],
   "source": [
    "# np.random.rand() 균등분포를 고려한 랜덤한 수의 배열 생성\n",
    "np.random.rand(3,3) # (형태)"
   ]
  },
  {
   "cell_type": "code",
   "execution_count": 25,
   "id": "729f9f34",
   "metadata": {},
   "outputs": [
    {
     "data": {
      "text/plain": [
       "array([[ 0.20026606,  0.55994238, -0.28601362],\n",
       "       [ 1.12032332,  0.21796053,  1.30605889],\n",
       "       [-1.53011466,  0.09480722, -1.5113587 ]])"
      ]
     },
     "execution_count": 25,
     "metadata": {},
     "output_type": "execute_result"
    }
   ],
   "source": [
    "# np.random.randn() 표준정규분포를 고려한 랜덤한 수의 배열 생성\n",
    "np.random.randn(3,3)"
   ]
  },
  {
   "cell_type": "code",
   "execution_count": 26,
   "id": "7ca42eca",
   "metadata": {},
   "outputs": [],
   "source": [
    "# 표준데이터타입 dtype = "
   ]
  },
  {
   "cell_type": "code",
   "execution_count": 27,
   "id": "922183db",
   "metadata": {},
   "outputs": [
    {
     "data": {
      "text/plain": [
       "array([0, 0, 0, 0, 0, 0, 0, 0, 0, 0, 0, 0, 0, 0, 0, 0, 0, 0, 0, 0])"
      ]
     },
     "execution_count": 27,
     "metadata": {},
     "output_type": "execute_result"
    }
   ],
   "source": [
    "np.zeros(20, dtype=int) # int 값으로 0을 줌"
   ]
  },
  {
   "cell_type": "code",
   "execution_count": 28,
   "id": "27e0f8f3",
   "metadata": {},
   "outputs": [
    {
     "data": {
      "text/plain": [
       "array([[ True,  True,  True],\n",
       "       [ True,  True,  True],\n",
       "       [ True,  True,  True]])"
      ]
     },
     "execution_count": 28,
     "metadata": {},
     "output_type": "execute_result"
    }
   ],
   "source": [
    "np.ones((3,3), dtype=bool) # 3X3 배열에 1로 채움\n",
    "                           # bool T OR F\n",
    "                           # 1 = True"
   ]
  },
  {
   "cell_type": "code",
   "execution_count": 29,
   "id": "7cd7cdfe",
   "metadata": {},
   "outputs": [
    {
     "data": {
      "text/plain": [
       "array([[1.02, 1.02, 1.02],\n",
       "       [1.02, 1.02, 1.02],\n",
       "       [1.02, 1.02, 1.02]])"
      ]
     },
     "execution_count": 29,
     "metadata": {},
     "output_type": "execute_result"
    }
   ],
   "source": [
    "np.full((3,3), 1.02, dtype =float) # 실수값으로 지정된 배열 생성"
   ]
  },
  {
   "cell_type": "code",
   "execution_count": 30,
   "id": "f23e7a95",
   "metadata": {},
   "outputs": [],
   "source": [
    "# 날짜/시간 배열 생성"
   ]
  },
  {
   "cell_type": "code",
   "execution_count": 31,
   "id": "e31dd623",
   "metadata": {},
   "outputs": [
    {
     "data": {
      "text/plain": [
       "array('2020-01-01', dtype='datetime64[D]')"
      ]
     },
     "execution_count": 31,
     "metadata": {},
     "output_type": "execute_result"
    }
   ],
   "source": [
    "date = np.array('2020-01-01', dtype = np.datetime64) \n",
    "date \n",
    "# 문자열 -> 날짜열로 바꿈[D = day만 나타내고 있음을 나타냄]            "
   ]
  },
  {
   "cell_type": "code",
   "execution_count": 32,
   "id": "c4203835",
   "metadata": {},
   "outputs": [
    {
     "data": {
      "text/plain": [
       "array(['2020-01-01', '2020-01-02', '2020-01-03', '2020-01-04',\n",
       "       '2020-01-05', '2020-01-06', '2020-01-07', '2020-01-08',\n",
       "       '2020-01-09', '2020-01-10', '2020-01-11', '2020-01-12'],\n",
       "      dtype='datetime64[D]')"
      ]
     },
     "execution_count": 32,
     "metadata": {},
     "output_type": "execute_result"
    }
   ],
   "source": [
    "date + np.arange(12) # dtype 을 바꾸고 이러한 연산이 가능해짐\n",
    "                     # 기존 날짜 + 숫자"
   ]
  },
  {
   "cell_type": "code",
   "execution_count": 33,
   "id": "fc4cf10b",
   "metadata": {},
   "outputs": [
    {
     "data": {
      "text/plain": [
       "numpy.datetime64('2021-06-06T12:00')"
      ]
     },
     "execution_count": 33,
     "metadata": {},
     "output_type": "execute_result"
    }
   ],
   "source": [
    "datetime = np.datetime64('2021-06-06 12:00')\n",
    "datetime"
   ]
  },
  {
   "cell_type": "code",
   "execution_count": 34,
   "id": "6ac0d4a1",
   "metadata": {},
   "outputs": [
    {
     "data": {
      "text/plain": [
       "numpy.datetime64('2021-06-06T12:00:12.340000000')"
      ]
     },
     "execution_count": 34,
     "metadata": {},
     "output_type": "execute_result"
    }
   ],
   "source": [
    "datetime = np.datetime64('2021-06-06 12:00:12.34','ns')\n",
    "datetime # ns = 나노초"
   ]
  },
  {
   "cell_type": "code",
   "execution_count": 35,
   "id": "07e17e20",
   "metadata": {},
   "outputs": [],
   "source": [
    "## 배열 조회"
   ]
  },
  {
   "cell_type": "code",
   "execution_count": 36,
   "id": "a96070de",
   "metadata": {},
   "outputs": [],
   "source": [
    "# 배열 속성 정보"
   ]
  },
  {
   "cell_type": "code",
   "execution_count": 37,
   "id": "0694dcf2",
   "metadata": {},
   "outputs": [],
   "source": [
    "def array_info(array):\n",
    "    print(array)\n",
    "    print('ndim', array.ndim)\n",
    "    print('shape', array.shape)\n",
    "    print('dtype', array.dtype)\n",
    "    print('size', array.size)\n",
    "    print('itemsize', array.itemsize)\n",
    "    print('nbytes', array.nbytes)\n",
    "    print('strides', array.strides)"
   ]
  },
  {
   "cell_type": "code",
   "execution_count": 38,
   "id": "8807efe8",
   "metadata": {
    "scrolled": true
   },
   "outputs": [
    {
     "name": "stdout",
     "output_type": "stream",
     "text": [
      "[10  2  3  4  5]\n",
      "ndim 1\n",
      "shape (5,)\n",
      "dtype int32\n",
      "size 5\n",
      "itemsize 4\n",
      "nbytes 20\n",
      "strides (4,)\n"
     ]
    }
   ],
   "source": [
    "array_info(a1)\n",
    "#itemsize = item 하나가 4byte라는 뜻\n",
    "#nbytes = item(4) * 엘리먼트 수(5) = 20\n",
    "#strides = 10 -> 2 -> 3 -> 4 -> 5 한 엘리먼트를 넘어가는데 4byte"
   ]
  },
  {
   "cell_type": "code",
   "execution_count": 39,
   "id": "37649c53",
   "metadata": {},
   "outputs": [
    {
     "name": "stdout",
     "output_type": "stream",
     "text": [
      "[[1 2 3]\n",
      " [4 5 6]\n",
      " [7 8 9]]\n",
      "ndim 2\n",
      "shape (3, 3)\n",
      "dtype int32\n",
      "size 9\n",
      "itemsize 4\n",
      "nbytes 36\n",
      "strides (12, 4)\n"
     ]
    }
   ],
   "source": [
    "array_info(a2)\n",
    "#strides = (12, 4) 엘리먼트를 넘어가는데 4byte\n",
    "#                  다른 행으로 넘어가는데 12byte(4*3)"
   ]
  },
  {
   "cell_type": "code",
   "execution_count": 40,
   "id": "6e212697",
   "metadata": {},
   "outputs": [
    {
     "name": "stdout",
     "output_type": "stream",
     "text": [
      "[[[1 2 3]\n",
      "  [4 5 6]\n",
      "  [7 8 9]]\n",
      "\n",
      " [[1 2 3]\n",
      "  [4 5 6]\n",
      "  [7 8 9]]\n",
      "\n",
      " [[1 2 3]\n",
      "  [4 5 6]\n",
      "  [7 8 9]]]\n",
      "ndim 3\n",
      "shape (3, 3, 3)\n",
      "dtype int32\n",
      "size 27\n",
      "itemsize 4\n",
      "nbytes 108\n",
      "strides (36, 12, 4)\n"
     ]
    }
   ],
   "source": [
    "array_info(a3)"
   ]
  },
  {
   "cell_type": "code",
   "execution_count": 41,
   "id": "3909b435",
   "metadata": {},
   "outputs": [],
   "source": [
    "# 인덱싱"
   ]
  },
  {
   "cell_type": "code",
   "execution_count": 42,
   "id": "649fba11",
   "metadata": {},
   "outputs": [
    {
     "name": "stdout",
     "output_type": "stream",
     "text": [
      "[10  2  3  4  5]\n",
      "10\n",
      "3\n",
      "5\n",
      "4\n"
     ]
    }
   ],
   "source": [
    "print(a1)\n",
    "print(a1[0])\n",
    "print(a1[2])\n",
    "print(a1[-1])\n",
    "print(a1[-2])"
   ]
  },
  {
   "cell_type": "code",
   "execution_count": 43,
   "id": "d1b46cbd",
   "metadata": {
    "scrolled": false
   },
   "outputs": [
    {
     "name": "stdout",
     "output_type": "stream",
     "text": [
      "[[1 2 3]\n",
      " [4 5 6]\n",
      " [7 8 9]]\n",
      "1\n",
      "3\n",
      "6\n",
      "9\n"
     ]
    }
   ],
   "source": [
    "print(a2)\n",
    "print(a2[0,0])\n",
    "print(a2[0,2])\n",
    "print(a2[1,-1])\n",
    "print(a2[2,-1])"
   ]
  },
  {
   "cell_type": "code",
   "execution_count": 48,
   "id": "1c79473a",
   "metadata": {},
   "outputs": [
    {
     "name": "stdout",
     "output_type": "stream",
     "text": [
      "[[[1 2 3]\n",
      "  [4 5 6]\n",
      "  [7 8 9]]\n",
      "\n",
      " [[1 2 3]\n",
      "  [4 5 6]\n",
      "  [7 8 9]]\n",
      "\n",
      " [[1 2 3]\n",
      "  [4 5 6]\n",
      "  [7 8 9]]]\n",
      "1\n",
      "5\n",
      "9\n",
      "8\n"
     ]
    }
   ],
   "source": [
    "print(a3)       #[블럭, 행, 열]\n",
    "print(a3[0,0,0])\n",
    "print(a3[1,1,1])\n",
    "print(a3[2,2,2])\n",
    "print(a3[0,-1,-2]) "
   ]
  },
  {
   "cell_type": "code",
   "execution_count": 49,
   "id": "e5673ce0",
   "metadata": {},
   "outputs": [],
   "source": [
    "# 슬라이싱"
   ]
  },
  {
   "cell_type": "code",
   "execution_count": 52,
   "id": "f0cc4e30",
   "metadata": {},
   "outputs": [
    {
     "name": "stdout",
     "output_type": "stream",
     "text": [
      "[10  2  3  4  5]\n",
      "[10  2]\n",
      "[10  2  3  4  5]\n",
      "[10]\n",
      "[10  3  5]\n",
      "[ 5  4  3  2 10]\n"
     ]
    }
   ],
   "source": [
    "print(a1)\n",
    "print(a1[0:2]) # 0 ~ 1 까지\n",
    "print(a1[0:])  # 0 ~ 끝까지\n",
    "print(a1[:1])  # 0행\n",
    "print(a1[::2]) # 0 : 끝까지 : 2칸씩\n",
    "print(a1[::-1])# 0 : 끝까지 : 거꾸로 1칸씩"
   ]
  },
  {
   "cell_type": "code",
   "execution_count": 54,
   "id": "97669405",
   "metadata": {},
   "outputs": [
    {
     "name": "stdout",
     "output_type": "stream",
     "text": [
      "[[1 2 3]\n",
      " [4 5 6]\n",
      " [7 8 9]]\n",
      "[4 5 6]\n",
      "[4 5 6]\n",
      "[[1 2]\n",
      " [4 5]]\n",
      "[[6 5 4]\n",
      " [9 8 7]]\n",
      "[[9 8 7]\n",
      " [6 5 4]\n",
      " [3 2 1]]\n"
     ]
    }
   ],
   "source": [
    "print(a2)\n",
    "print(a2[1])          # 1행 4,5,6만 출력\n",
    "print(a2[1, :])       # 1행 모든열 출력\n",
    "print(a2[:2, :2])     # 0,1행 0,1열 출력\n",
    "print(a2[1:, ::-1])   # 1,2행 거꾸로 0,1,2열 출력\n",
    "print(a2[::-1, ::-1]) # 거꾸로 모든행 모든열 출력"
   ]
  },
  {
   "cell_type": "code",
   "execution_count": 68,
   "id": "bbfe5ec0",
   "metadata": {},
   "outputs": [],
   "source": [
    "# 불리언 인덱싱\n",
    "# 배열 각 요소의 선택 여부를 불리언으로 지정\n",
    "# True 값인 인덱스의 값만 조회\n",
    "# 특정 조건을 불리언 인덱싱을 주고 그 결과에 대해서 원하는 배열의 값을 받을때 많이 사용"
   ]
  },
  {
   "cell_type": "code",
   "execution_count": 58,
   "id": "819b8136",
   "metadata": {},
   "outputs": [
    {
     "name": "stdout",
     "output_type": "stream",
     "text": [
      "[10  2  3  4  5]\n",
      "[2 3 5]\n"
     ]
    }
   ],
   "source": [
    "print(a1)\n",
    "bi = [False, True, True, False, True]\n",
    "print(a1[bi]) # bi True 자리에 해당 하는 엘리먼트 출력  "
   ]
  },
  {
   "cell_type": "code",
   "execution_count": 67,
   "id": "d80b1d7b",
   "metadata": {},
   "outputs": [
    {
     "name": "stdout",
     "output_type": "stream",
     "text": [
      "[[1 2 3]\n",
      " [4 5 6]\n",
      " [7 8 9]]\n",
      "[[False  True  True]\n",
      " [False False  True]\n",
      " [ True  True False]]\n",
      "[2 3 6 7 8]\n"
     ]
    }
   ],
   "source": [
    "print(a2)\n",
    "bi = np.random.randint(0,2,(3,3),dtype=bool) # 랜덤 정수 0,1을 가지고\n",
    "print(bi)                                    # 3X3 배열을 만듦\n",
    "print(a2[bi])"
   ]
  },
  {
   "cell_type": "code",
   "execution_count": 69,
   "id": "94772f02",
   "metadata": {},
   "outputs": [],
   "source": [
    "# 팬시 인덱싱(a1(변수))"
   ]
  },
  {
   "cell_type": "code",
   "execution_count": 75,
   "id": "6959db54",
   "metadata": {},
   "outputs": [
    {
     "name": "stdout",
     "output_type": "stream",
     "text": [
      "[10  2  3  4  5]\n",
      "[10, 3]\n",
      "[10  3]\n",
      "[[10  2]\n",
      " [ 3 10]]\n"
     ]
    }
   ],
   "source": [
    "print(a1)\n",
    "print([a1[0], a1[2]])\n",
    "ind = [0, 2]\n",
    "print(a1[ind])\n",
    "ind2 = np.array([[0,1],[2,0]])\n",
    "print(a1[ind2])  # 인덱스는 2차원일 경우 배열이 2차원 출력"
   ]
  },
  {
   "cell_type": "code",
   "execution_count": 88,
   "id": "845c6f46",
   "metadata": {
    "scrolled": false
   },
   "outputs": [
    {
     "name": "stdout",
     "output_type": "stream",
     "text": [
      "[[1 2 3]\n",
      " [4 5 6]\n",
      " [7 8 9]]\n",
      "1 [2 9]\n",
      "2 [[1 2 3]\n",
      " [7 8 9]]\n",
      "3 [[2 3]\n",
      " [5 6]\n",
      " [8 9]]\n",
      "4 [2 8]\n",
      "5 [8 9]\n",
      "6 [[2 3]\n",
      " [8 9]]\n",
      "7 [[5 6]\n",
      " [8 9]]\n"
     ]
    }
   ],
   "source": [
    "print(a2)\n",
    "row = np.array([0, 2]) # 0행, 2행\n",
    "col = np.array([1, 2]) # 1행, 2행\n",
    "\n",
    "print(1,a2[row, col]) # 0행 1열 / 2행 2열 \n",
    "print(2,a2[row, :])   # 0, 2행 / 모든열   =123/789\n",
    "print(3,a2[:,col])    # 모든행 / 1,2열    =23/56/89\n",
    "print(4,a2[row,1])   # 0,2행 / 1열       =2/8\n",
    "print(5,a2[2,col])    # 2행 / 1,2열       =89\n",
    "print(6,a2[row, 1:])  # 0,2행 / 1,2열   = 23/89\n",
    "print(7,a2[1:,col])   # 1,2행 / 1,2열   = 56/89"
   ]
  },
  {
   "cell_type": "code",
   "execution_count": 89,
   "id": "14138da1",
   "metadata": {},
   "outputs": [],
   "source": [
    "## 배열 값 삽입 / 수정 / 삭제 / 복사"
   ]
  },
  {
   "cell_type": "code",
   "execution_count": 90,
   "id": "48a22ac3",
   "metadata": {},
   "outputs": [],
   "source": [
    "# 배열 값 삽입\n",
    "# insert() 배열의 특정 위치에 값 삽입\n",
    "# axis 지정하지 않으면 1차원 배열로 변환\n",
    "# 추가할 방향을 axis로 지정\n",
    "# 원본 배열 변경없이 새로운 배열 변환#"
   ]
  },
  {
   "cell_type": "code",
   "execution_count": 93,
   "id": "2654b7c9",
   "metadata": {},
   "outputs": [
    {
     "name": "stdout",
     "output_type": "stream",
     "text": [
      "[10  2  3  4  5]\n",
      "[55 10  2  3  4  5]\n",
      "[10  2  3  4  5]\n"
     ]
    }
   ],
   "source": [
    "# insert(배열, 위치, 삽입값, axis=)\n",
    "print(a1)\n",
    "b1 = np.insert(a1, 0, 55)\n",
    "print(b1)\n",
    "print(a1) \n",
    "# a1 이라는 원본 배열은 insert()를 하더라도 바뀌지 않는다."
   ]
  },
  {
   "cell_type": "code",
   "execution_count": 95,
   "id": "8bb8178c",
   "metadata": {},
   "outputs": [
    {
     "name": "stdout",
     "output_type": "stream",
     "text": [
      "[[1 2 3]\n",
      " [4 5 6]\n",
      " [7 8 9]]\n",
      "[[ 1  2  3]\n",
      " [10 10 10]\n",
      " [ 4  5  6]\n",
      " [ 7  8  9]]\n",
      "[[ 1 10  2  3]\n",
      " [ 4 10  5  6]\n",
      " [ 7 10  8  9]]\n"
     ]
    }
   ],
   "source": [
    "print(a2)\n",
    "b2 = np.insert(a2, 1, 10, axis=0) # axis = 0 행\n",
    "print(b2)\n",
    "c2 = np.insert(a2, 1, 10, axis=1) # axis = 1 열\n",
    "print(c2)"
   ]
  },
  {
   "cell_type": "code",
   "execution_count": 96,
   "id": "f0d34306",
   "metadata": {},
   "outputs": [],
   "source": [
    "# 배열 값 수정"
   ]
  },
  {
   "cell_type": "code",
   "execution_count": 105,
   "id": "9b693ba4",
   "metadata": {},
   "outputs": [
    {
     "name": "stdout",
     "output_type": "stream",
     "text": [
      "[9 5 6 5 5]\n",
      "[4 5 6 4 5]\n",
      "[9 5 6 4 5]\n",
      "[9 0 6 0 0]\n",
      "[ 9 10  6 10 10]\n",
      "[9 5 6 5 5]\n"
     ]
    }
   ],
   "source": [
    "print(a1)\n",
    "a1[0] = 4\n",
    "a1[1] = 5\n",
    "a1[2] = 6\n",
    "a1[3] = 4\n",
    "a1[4] = 5\n",
    "print(a1)   # 1. 엘리먼트를 각각 바꿔주는 방법\n",
    "a1[:1] = 9  \n",
    "print(a1)   # 2. 엘리먼트 범위로 바꿔주는 방법\n",
    "i = [1,3,4]\n",
    "a1[i] = 0\n",
    "print(a1)   # 3. 펜시인덱싱으로 바꾸는 방법 \"리스트\"\n",
    "j = np.array([1,3,4])\n",
    "a1[j] = 10\n",
    "print(a1)   # 4. 펜시인덱싱으로 바꾸는 방법 \"배열\"\n",
    "a1[j] -=5   \n",
    "print(a1)   # 5. 펜시인덱싱 -+*/ 숫자 연산"
   ]
  },
  {
   "cell_type": "code",
   "execution_count": 112,
   "id": "74a6aac0",
   "metadata": {},
   "outputs": [
    {
     "name": "stdout",
     "output_type": "stream",
     "text": [
      "[[ 1 11  1]\n",
      " [ 4  2 11]\n",
      " [ 7  8 10]]\n",
      "[[ 1  1  1]\n",
      " [ 4  2 11]\n",
      " [ 7  8  3]]\n",
      "[[ 1  1  1]\n",
      " [ 4  2 10]\n",
      " [ 7  8 10]]\n",
      "[[ 1 11  1]\n",
      " [ 4  2 11]\n",
      " [ 7  8 10]]\n"
     ]
    }
   ],
   "source": [
    "print(a2)\n",
    "a2[0,0] = 1\n",
    "a2[1,1] = 2\n",
    "a2[2,2] = 3\n",
    "a2[0]   = 1 # 해당 하는 행 모두\n",
    "print(a2)   # 1. 엘리먼트를 각각 바꿔주는 방법\n",
    "a2[1:,2]= 10\n",
    "print(a2)   # 2. 엘리먼트 범위로 바꿔주는 방법\n",
    "row = np.array([0,1])\n",
    "col = np.array([1,2])\n",
    "a2[row,col] = 11\n",
    "print(a2)   # 3. 펜시인덱싱으로 바꾸는 방법 \"배열\""
   ]
  },
  {
   "cell_type": "code",
   "execution_count": 113,
   "id": "0cf1cf5c",
   "metadata": {},
   "outputs": [],
   "source": [
    "# 배열 값 삭제\n",
    "# delete() 배열의 특정 취치에 값 삭제\n",
    "# axis 지정하지 않으면 1차원 배열로 변환\n",
    "# 삭제할 방향을 axis로 지정\n",
    "# 원본 배열 변경없이 새로운 배열 변환#"
   ]
  },
  {
   "cell_type": "code",
   "execution_count": 117,
   "id": "5fb95bfe",
   "metadata": {},
   "outputs": [
    {
     "name": "stdout",
     "output_type": "stream",
     "text": [
      "[9 5 6 5 5]\n",
      "[9 6 5 5]\n",
      "[9 5 6 5 5]\n"
     ]
    }
   ],
   "source": [
    "# delete(배열, 위치, axis=)\n",
    "print(a1)\n",
    "b1 = np.delete(a1, 1)\n",
    "print(b1)\n",
    "print(a1)"
   ]
  },
  {
   "cell_type": "code",
   "execution_count": 120,
   "id": "3e4dd1c9",
   "metadata": {},
   "outputs": [
    {
     "name": "stdout",
     "output_type": "stream",
     "text": [
      "[[ 1 11  1]\n",
      " [ 4  2 11]\n",
      " [ 7  8 10]]\n",
      "[[ 1 11  1]\n",
      " [ 7  8 10]]\n",
      "[[ 1  1]\n",
      " [ 4 11]\n",
      " [ 7 10]]\n"
     ]
    }
   ],
   "source": [
    "print(a2)\n",
    "b2 = np.delete(a2,1,axis=0)\n",
    "print(b2)\n",
    "c2 = np.delete(a2,1,axis=1)\n",
    "print(c2)"
   ]
  },
  {
   "cell_type": "code",
   "execution_count": 126,
   "id": "1568e83e",
   "metadata": {},
   "outputs": [
    {
     "name": "stdout",
     "output_type": "stream",
     "text": [
      "[[ 1  0  1]\n",
      " [ 4  0 11]\n",
      " [ 7  8 10]]\n",
      "[[1 0]\n",
      " [4 0]]\n",
      "[[1 0]\n",
      " [4 0]]\n",
      "[[1 0]\n",
      " [4 0]]\n"
     ]
    }
   ],
   "source": [
    "# 배열복사\n",
    "# 리스트 자료형과 달리 배열의 슬라이스는 \"복사본이 아님\"\n",
    "# 리스트 자료형은 복사본으로 리턴됨.\n",
    "print(a2)\n",
    "print(a2[:2, :2])\n",
    "a2_sub = a2[:2, :2]\n",
    "print(a2_sub)\n",
    "a2_sub[:,1] = 0 # 원본 배열 조차 바뀌었음을 알 수 있음\n",
    "print(a2_sub)"
   ]
  },
  {
   "cell_type": "code",
   "execution_count": 137,
   "id": "6a286910",
   "metadata": {},
   "outputs": [
    {
     "name": "stdout",
     "output_type": "stream",
     "text": [
      "[[ 1  1  1]\n",
      " [ 4  1 11]\n",
      " [ 7  1 10]]\n",
      "[[1 1]\n",
      " [4 1]]\n",
      "[[1 0]\n",
      " [4 0]]\n",
      "[[ 1  1  1]\n",
      " [ 4  1 11]\n",
      " [ 7  1 10]]\n"
     ]
    }
   ],
   "source": [
    "print(a2)\n",
    "a2_sub_copy = a2[:2,:2].copy()\n",
    "print(a2_sub_copy)\n",
    "a2_sub_copy[:,1] = 0\n",
    "print(a2_sub_copy)\n",
    "print(a2)          # .copy본을 슬라이싱해 수정해도 원본 바뀜X"
   ]
  },
  {
   "cell_type": "code",
   "execution_count": 138,
   "id": "15bf3d5f",
   "metadata": {},
   "outputs": [],
   "source": [
    "## 배열 변환"
   ]
  },
  {
   "cell_type": "code",
   "execution_count": 139,
   "id": "5fc03b16",
   "metadata": {},
   "outputs": [],
   "source": [
    "# 배열 전치 및 축 변경"
   ]
  },
  {
   "cell_type": "code",
   "execution_count": 142,
   "id": "1c836f15",
   "metadata": {},
   "outputs": [
    {
     "name": "stdout",
     "output_type": "stream",
     "text": [
      "[[ 1  1  1]\n",
      " [ 4  1 11]\n",
      " [ 7  1 10]]\n",
      "[[ 1  4  7]\n",
      " [ 1  1  1]\n",
      " [ 1 11 10]]\n"
     ]
    }
   ],
   "source": [
    "print(a2)\n",
    "print(a2.T)"
   ]
  },
  {
   "cell_type": "code",
   "execution_count": 147,
   "id": "eb81b533",
   "metadata": {},
   "outputs": [
    {
     "name": "stdout",
     "output_type": "stream",
     "text": [
      "[[[1 2 3]\n",
      "  [4 5 6]\n",
      "  [7 8 9]]\n",
      "\n",
      " [[1 2 3]\n",
      "  [4 5 6]\n",
      "  [7 8 9]]\n",
      "\n",
      " [[1 2 3]\n",
      "  [4 5 6]\n",
      "  [7 8 9]]]\n",
      "[[[1 2 3]\n",
      "  [1 2 3]\n",
      "  [1 2 3]]\n",
      "\n",
      " [[4 5 6]\n",
      "  [4 5 6]\n",
      "  [4 5 6]]\n",
      "\n",
      " [[7 8 9]\n",
      "  [7 8 9]\n",
      "  [7 8 9]]]\n"
     ]
    }
   ],
   "source": [
    "print(a3)\n",
    "print(a3.swapaxes(1,0))\n",
    "print(a3)\n",
    "print(a3.swapaxes(0,1))"
   ]
  },
  {
   "cell_type": "code",
   "execution_count": 150,
   "id": "d819fa33",
   "metadata": {},
   "outputs": [],
   "source": [
    "# 배열 재구조화"
   ]
  },
  {
   "cell_type": "code",
   "execution_count": 153,
   "id": "8bf9ee04",
   "metadata": {},
   "outputs": [
    {
     "name": "stdout",
     "output_type": "stream",
     "text": [
      "[1 2 3 4 5 6 7 8 9]\n",
      "[[1 2 3]\n",
      " [4 5 6]\n",
      " [7 8 9]]\n"
     ]
    }
   ],
   "source": [
    "n1 = np.arange(1,10)\n",
    "print(n1)\n",
    "print(n1.reshape(3,3)) # .reshape 1차원 -> 2차원으로 만듦"
   ]
  },
  {
   "cell_type": "code",
   "execution_count": 155,
   "id": "024bf428",
   "metadata": {},
   "outputs": [
    {
     "name": "stdout",
     "output_type": "stream",
     "text": [
      "[1 2 3 4 5 6 7 8 9]\n",
      "[[1 2 3 4 5]]\n",
      "[[1]\n",
      " [2]\n",
      " [3]\n",
      " [4]\n",
      " [5]]\n"
     ]
    }
   ],
   "source": [
    "print(n1)\n",
    "print(n1[np.newaxis, :5]) # row 1 ~ 5 까지의 축이 생성됨\n",
    "print(n1[:5, np.newaxis]) # col 1 ~ 5 까지의 축이 생성됨"
   ]
  },
  {
   "cell_type": "code",
   "execution_count": 156,
   "id": "011884ef",
   "metadata": {},
   "outputs": [],
   "source": [
    "# 배열 크기 변경"
   ]
  },
  {
   "cell_type": "code",
   "execution_count": 160,
   "id": "9873afc6",
   "metadata": {},
   "outputs": [
    {
     "name": "stdout",
     "output_type": "stream",
     "text": [
      "[[5 1 2 4 9]\n",
      " [1 9 7 0 1]]\n",
      "[[5 1]\n",
      " [2 4]\n",
      " [9 1]\n",
      " [9 7]\n",
      " [0 1]]\n"
     ]
    }
   ],
   "source": [
    "# 모양변경 .resize(( , ))\n",
    "n2 = np.random.randint(0, 10, (2, 5)) \n",
    "print(n2)\n",
    "\n",
    "n2.resize((5,2))\n",
    "print(n2)"
   ]
  },
  {
   "cell_type": "code",
   "execution_count": 163,
   "id": "0ce87231",
   "metadata": {},
   "outputs": [
    {
     "name": "stdout",
     "output_type": "stream",
     "text": [
      "[[5 1 2 4 9]\n",
      " [1 9 7 0 1]\n",
      " [0 0 0 0 0]\n",
      " [0 0 0 0 0]\n",
      " [0 0 0 0 0]]\n"
     ]
    }
   ],
   "source": [
    "# 배열 크기 증가\n",
    "n2.resize((5,5))\n",
    "print(n2)       # 기존의 엘리먼트 + 0 엘리먼트가 추가가 됨"
   ]
  },
  {
   "cell_type": "code",
   "execution_count": 165,
   "id": "a6322e3f",
   "metadata": {},
   "outputs": [
    {
     "name": "stdout",
     "output_type": "stream",
     "text": [
      "[[5 1 2]\n",
      " [4 9 1]\n",
      " [9 7 0]]\n"
     ]
    }
   ],
   "source": [
    "n2.resize((3,3))\n",
    "print(n2)       # 10번째 엘리먼트인 1은 \n",
    "                # 배열이 작아지면서 삭제됨."
   ]
  },
  {
   "cell_type": "code",
   "execution_count": 166,
   "id": "34ea99ea",
   "metadata": {},
   "outputs": [],
   "source": [
    "# 배열 추가"
   ]
  },
  {
   "cell_type": "code",
   "execution_count": 170,
   "id": "63209173",
   "metadata": {},
   "outputs": [
    {
     "name": "stdout",
     "output_type": "stream",
     "text": [
      "[[1 2 3]\n",
      " [4 5 6]\n",
      " [7 8 9]]\n",
      "[[10 11 12]\n",
      " [13 14 15]\n",
      " [16 17 18]]\n"
     ]
    }
   ],
   "source": [
    "# .append\n",
    "a2 =np.arange(1,10).reshape(3,3)\n",
    "print(a2)\n",
    "b2 =np.arange(10,19).reshape(3,3)\n",
    "print(b2)"
   ]
  },
  {
   "cell_type": "code",
   "execution_count": 176,
   "id": "26b230f5",
   "metadata": {},
   "outputs": [
    {
     "name": "stdout",
     "output_type": "stream",
     "text": [
      "[ 1  2  3  4  5  6  7  8  9 10 11 12 13 14 15 16 17 18]\n"
     ]
    }
   ],
   "source": [
    "c2 = np.append(a2, b2)\n",
    "print(c2)             # .append는 axis 지정이 따로 없으면 1차원 배열 출력"
   ]
  },
  {
   "cell_type": "code",
   "execution_count": 174,
   "id": "cdaaedb5",
   "metadata": {},
   "outputs": [
    {
     "name": "stdout",
     "output_type": "stream",
     "text": [
      "[[ 1  2  3]\n",
      " [ 4  5  6]\n",
      " [ 7  8  9]\n",
      " [10 11 12]\n",
      " [13 14 15]\n",
      " [16 17 18]]\n"
     ]
    }
   ],
   "source": [
    "c2 = np.append(a2, b2, axis=0) # 행이 늘어남\n",
    "print(c2)   "
   ]
  },
  {
   "cell_type": "code",
   "execution_count": 177,
   "id": "eb5d989d",
   "metadata": {},
   "outputs": [
    {
     "name": "stdout",
     "output_type": "stream",
     "text": [
      "[[ 1  2  3 10 11 12]\n",
      " [ 4  5  6 13 14 15]\n",
      " [ 7  8  9 16 17 18]]\n"
     ]
    }
   ],
   "source": [
    "c2 = np.append(a2, b2, axis=1) # 열이 늘어남\n",
    "print(c2)   "
   ]
  },
  {
   "cell_type": "code",
   "execution_count": 178,
   "id": "77543a8a",
   "metadata": {},
   "outputs": [],
   "source": [
    "# 배열 연결"
   ]
  },
  {
   "cell_type": "code",
   "execution_count": 181,
   "id": "b852ee7c",
   "metadata": {},
   "outputs": [
    {
     "data": {
      "text/plain": [
       "array([1, 3, 5, 2, 4, 6])"
      ]
     },
     "execution_count": 181,
     "metadata": {},
     "output_type": "execute_result"
    }
   ],
   "source": [
    "# np.concatenate([])\n",
    "a1 = np.array([1,3,5])\n",
    "b1 = np.array([2,4,6])\n",
    "np.concatenate([a1, b1])"
   ]
  },
  {
   "cell_type": "code",
   "execution_count": 185,
   "id": "dbac06ad",
   "metadata": {},
   "outputs": [
    {
     "data": {
      "text/plain": [
       "array([1, 3, 5, 2, 4, 6, 7, 8, 9])"
      ]
     },
     "execution_count": 185,
     "metadata": {},
     "output_type": "execute_result"
    }
   ],
   "source": [
    "c1 = np.array([7,8,9])\n",
    "np.concatenate([a1,b1,c1])"
   ]
  },
  {
   "cell_type": "code",
   "execution_count": 189,
   "id": "6ad504d4",
   "metadata": {},
   "outputs": [
    {
     "data": {
      "text/plain": [
       "array([[1, 2, 3],\n",
       "       [4, 5, 6],\n",
       "       [1, 2, 3],\n",
       "       [4, 5, 6]])"
      ]
     },
     "execution_count": 189,
     "metadata": {},
     "output_type": "execute_result"
    }
   ],
   "source": [
    "a2 = np.array([[1,2,3],\n",
    "              [4,5,6]])\n",
    "np.concatenate([a2, a2]) # 기본적으로 axis = 0 이라서 행이 늘어남"
   ]
  },
  {
   "cell_type": "code",
   "execution_count": 191,
   "id": "90343277",
   "metadata": {},
   "outputs": [
    {
     "data": {
      "text/plain": [
       "array([[1, 2, 3, 1, 2, 3],\n",
       "       [4, 5, 6, 4, 5, 6]])"
      ]
     },
     "execution_count": 191,
     "metadata": {},
     "output_type": "execute_result"
    }
   ],
   "source": [
    "a2 = np.array([[1,2,3],\n",
    "              [4,5,6]])\n",
    "np.concatenate([a2, a2], axis =1)"
   ]
  },
  {
   "cell_type": "code",
   "execution_count": 193,
   "id": "d586d126",
   "metadata": {},
   "outputs": [
    {
     "data": {
      "text/plain": [
       "array([[1, 2, 3],\n",
       "       [4, 5, 6],\n",
       "       [1, 2, 3],\n",
       "       [4, 5, 6]])"
      ]
     },
     "execution_count": 193,
     "metadata": {},
     "output_type": "execute_result"
    }
   ],
   "source": [
    "# np.vstack([]) 수직스택,1차원으로 연결\n",
    "np.vstack([a2,a2])"
   ]
  },
  {
   "cell_type": "code",
   "execution_count": 195,
   "id": "e352cd3c",
   "metadata": {},
   "outputs": [
    {
     "data": {
      "text/plain": [
       "array([[1, 2, 3, 1, 2, 3],\n",
       "       [4, 5, 6, 4, 5, 6]])"
      ]
     },
     "execution_count": 195,
     "metadata": {},
     "output_type": "execute_result"
    }
   ],
   "source": [
    "# np.hstack([]) 수평스택, 2차원으로 연결\n",
    "np.hstack([a2,a2])"
   ]
  },
  {
   "cell_type": "code",
   "execution_count": 197,
   "id": "bbe9b95e",
   "metadata": {},
   "outputs": [
    {
     "data": {
      "text/plain": [
       "array([[[1, 1],\n",
       "        [2, 2],\n",
       "        [3, 3]],\n",
       "\n",
       "       [[4, 4],\n",
       "        [5, 5],\n",
       "        [6, 6]]])"
      ]
     },
     "execution_count": 197,
     "metadata": {},
     "output_type": "execute_result"
    }
   ],
   "source": [
    "# np.dstack([]) 깊이스택, 3차원으로 연결\n",
    "np.dstack([a2,a2])"
   ]
  },
  {
   "cell_type": "code",
   "execution_count": 199,
   "id": "cffda44e",
   "metadata": {},
   "outputs": [
    {
     "data": {
      "text/plain": [
       "array([[[1, 2, 3],\n",
       "        [4, 5, 6]],\n",
       "\n",
       "       [[1, 2, 3],\n",
       "        [4, 5, 6]]])"
      ]
     },
     "execution_count": 199,
     "metadata": {},
     "output_type": "execute_result"
    }
   ],
   "source": [
    "# np.stack([]) 새로운 차원으로 연결\n",
    "np.stack([a2, a2]) # 2차원 --> 3차원으로 "
   ]
  },
  {
   "cell_type": "code",
   "execution_count": 200,
   "id": "c9baf9c3",
   "metadata": {},
   "outputs": [],
   "source": [
    "# 배열 분할"
   ]
  },
  {
   "cell_type": "code",
   "execution_count": 205,
   "id": "908ca9a1",
   "metadata": {},
   "outputs": [
    {
     "name": "stdout",
     "output_type": "stream",
     "text": [
      "[0 1 2 3 4 5 6 7 8 9]\n",
      "[0 1 2 3 4] [5 6 7 8 9]\n",
      "[0 1] [2 3] [4 5] [6 7] [8 9]\n"
     ]
    }
   ],
   "source": [
    "#.split()\n",
    "a1 = np.arange(0,10)\n",
    "print(a1)\n",
    "b1, c1 = np.split(a1, [5]) # 5번째 엘리먼트를 기준으로 나눠짐\n",
    "print(b1, c1)\n",
    "b1, c1, d1, e1, f1 = np.split(a1,[2,4,6,8])\n",
    "print(b1, c1, d1, e1, f1)"
   ]
  },
  {
   "cell_type": "code",
   "execution_count": 208,
   "id": "0683b902",
   "metadata": {
    "scrolled": true
   },
   "outputs": [
    {
     "name": "stdout",
     "output_type": "stream",
     "text": [
      "[[1 2 3]\n",
      " [4 5 6]\n",
      " [7 8 9]]\n",
      "[[1 2 3]\n",
      " [4 5 6]] [[7 8 9]]\n"
     ]
    }
   ],
   "source": [
    "#.vsplit() 수직분할, 1차원으로 분할\n",
    "a2 = np.arange(1,10).reshape(3,3)\n",
    "print(a2)\n",
    "b2, c2 = np.vsplit(a2, [2]) # 0,1행 / 2행이 스플릿 됨\n",
    "print(b2,c2)"
   ]
  },
  {
   "cell_type": "code",
   "execution_count": 210,
   "id": "503fd753",
   "metadata": {},
   "outputs": [
    {
     "name": "stdout",
     "output_type": "stream",
     "text": [
      "[[1 2 3]\n",
      " [4 5 6]\n",
      " [7 8 9]]\n",
      "[[1 2]\n",
      " [4 5]\n",
      " [7 8]] [[3]\n",
      " [6]\n",
      " [9]]\n"
     ]
    }
   ],
   "source": [
    "#.hsplit() 수평분할, 2차원으로 분할\n",
    "a2 = np.arange(1,10).reshape(3,3)\n",
    "print(a2)\n",
    "b2, c2 = np.hsplit(a2, [2]) # 0,1열 / 2열이 스플릿 됨\n",
    "print(b2,c2)"
   ]
  },
  {
   "cell_type": "code",
   "execution_count": 211,
   "id": "558f1d38",
   "metadata": {},
   "outputs": [],
   "source": [
    "## 배열연산(NumPy의 장점)\n",
    "# 배열연산은 각 엘리먼트 연산(벡터화)을 사용\n",
    "# 일반적으로 범용 함수를 통해 구현\n",
    "# 배열 요소에 대한 반복적인 계산 효율적 수행"
   ]
  },
  {
   "cell_type": "code",
   "execution_count": 227,
   "id": "4c360701",
   "metadata": {},
   "outputs": [
    {
     "name": "stdout",
     "output_type": "stream",
     "text": [
      "[6 7 8]\n",
      "[6 7 8]\n",
      "[[ 2  4  6]\n",
      " [ 5  7  9]\n",
      " [ 8 10 12]]\n",
      "[[ 2  4  6]\n",
      " [ 5  7  9]\n",
      " [ 8 10 12]]\n",
      "[[2 3 4]\n",
      " [3 4 5]\n",
      " [4 5 6]]\n",
      "[[2 3 4]\n",
      " [3 4 5]\n",
      " [4 5 6]]\n"
     ]
    }
   ],
   "source": [
    "# 브로드 캐스팅(모양이 다르더라도 분배 법칙으로 계산됨)\n",
    "print(np.array([1,2,3]) + np.array([5]))\n",
    "print(np.array([1,2,3]) + 5)\n",
    "print(np.array([1,2,3]) + np.array([[1,2,3],[4,5,6],[7,8,9]]))\n",
    "print(np.array([1,2,3]) + np.arange(1,10).reshape(3,3))\n",
    "print(np.array([1,2,3]) + np.array([[1],[2],[3]]))\n",
    "print(np.array([1,2,3]) + np.array([1,2,3]).reshape(3,1))"
   ]
  },
  {
   "cell_type": "code",
   "execution_count": 228,
   "id": "82390f7f",
   "metadata": {},
   "outputs": [],
   "source": [
    "# 산술연산"
   ]
  },
  {
   "cell_type": "code",
   "execution_count": 239,
   "id": "9078cbdd",
   "metadata": {},
   "outputs": [
    {
     "name": "stdout",
     "output_type": "stream",
     "text": [
      "[1 2 3 4 5 6 7 8 9]\n",
      "[ 2  3  4  5  6  7  8  9 10]\n",
      "[11 12 13 14 15 16 17 18 19]\n",
      "[0 1 2 3 4 5 6 7 8]\n",
      "[-9 -8 -7 -6 -5 -4 -3 -2 -1]\n",
      "[-1 -2 -3 -4 -5 -6 -7 -8 -9]\n",
      "[-1 -2 -3 -4 -5 -6 -7 -8 -9]\n",
      "[ 2  4  6  8 10 12 14 16 18]\n",
      "[ 2  4  6  8 10 12 14 16 18]\n",
      "[0.5 1.  1.5 2.  2.5 3.  3.5 4.  4.5]\n",
      "[0.5 1.  1.5 2.  2.5 3.  3.5 4.  4.5]\n",
      "[0 1 1 2 2 3 3 4 4]\n",
      "[0 1 1 2 2 3 3 4 4]\n",
      "[ 1  4  9 16 25 36 49 64 81]\n",
      "[ 1  4  9 16 25 36 49 64 81]\n",
      "[1 0 1 0 1 0 1 0 1]\n",
      "[1 0 1 0 1 0 1 0 1]\n"
     ]
    }
   ],
   "source": [
    "a1 = np.arange(1, 10)\n",
    "print(a1)\n",
    "print(a1 + 1) \n",
    "print(np.add(a1, 10))       # 연산자 + 와 같은 역할\n",
    "print(a1 - 1)\n",
    "print(np.subtract(a1, 10))  # 연산자 - 와 같은 역할\n",
    "print(-a1)\n",
    "print(np.negative(a1))      # -a1와 같은 역할\n",
    "print(a1 * 2)\n",
    "print(np.multiply(a1, 2))   # 연산자 * 와 같은 역할\n",
    "print(a1 / 2)\n",
    "print(np.divide(a1, 2))     # 연산자 / 와 같은 역할\n",
    "print(a1 // 2)\n",
    "print(np.floor_divide(a1,2)) # 연산자 // 와 같은 역할 (몫)  \n",
    "print(a1 ** 2)\n",
    "print(np.power(a1,2))        # 연산자 ** 와 같은 역할\n",
    "print(a1 % 2)\n",
    "print(np.mod(a1,2))          # 연산자 % 와 같은 역할(나머지)"
   ]
  },
  {
   "cell_type": "code",
   "execution_count": 244,
   "id": "3eb90967",
   "metadata": {},
   "outputs": [
    {
     "name": "stdout",
     "output_type": "stream",
     "text": [
      "[1 2 3 4 5 6 7 8 9]\n",
      "[6 3 8 9 4 4 4 3 7]\n",
      "[ 7  5 11 13  9 10 11 11 16]\n",
      "[-5 -1 -5 -5  1  2  3  5  2]\n",
      "[ 6  6 24 36 20 24 28 24 63]\n",
      "[0.16666667 0.66666667 0.375      0.44444444 1.25       1.5\n",
      " 1.75       2.66666667 1.28571429]\n",
      "[0 0 0 0 1 1 1 2 1]\n",
      "[      1       8    6561  262144     625    1296    2401     512 4782969]\n",
      "[1 2 3 4 1 2 3 2 2]\n"
     ]
    }
   ],
   "source": [
    "a1 = np.arange(1, 10)\n",
    "print(a1)\n",
    "b1 = np.random.randint(1,10, size =9) # size = 엘리먼트 개수\n",
    "print(b1)\n",
    "print(a1 + b1)\n",
    "print(a1 - b1)\n",
    "print(a1 * b1)\n",
    "print(a1 / b1)\n",
    "print(a1 // b1)\n",
    "print(a1 ** b1)\n",
    "print(a1 % b1)"
   ]
  },
  {
   "cell_type": "code",
   "execution_count": 251,
   "id": "bb10b544",
   "metadata": {},
   "outputs": [
    {
     "name": "stdout",
     "output_type": "stream",
     "text": [
      "[[1 2 3]\n",
      " [4 5 6]\n",
      " [7 8 9]]\n",
      "[[4 1 5]\n",
      " [9 5 2]\n",
      " [7 7 9]]\n",
      "[[ 5  3  8]\n",
      " [13 10  8]\n",
      " [14 15 18]]\n",
      "[[-3  1 -2]\n",
      " [-5  0  4]\n",
      " [ 0  1  0]]\n",
      "[[ 4  2 15]\n",
      " [36 25 12]\n",
      " [49 56 81]]\n",
      "[[0.25       2.         0.6       ]\n",
      " [0.44444444 1.         3.        ]\n",
      " [1.         1.14285714 1.        ]]\n",
      "[[0 2 0]\n",
      " [0 1 3]\n",
      " [1 1 1]]\n",
      "[[        1         2       243]\n",
      " [   262144      3125        36]\n",
      " [   823543   2097152 387420489]]\n",
      "[[1 0 3]\n",
      " [4 0 0]\n",
      " [0 1 0]]\n"
     ]
    }
   ],
   "source": [
    "a2 = np.arange(1,10).reshape(3,3)\n",
    "print(a2)\n",
    "b2 = np.random.randint(1, 10 ,size=(3,3))\n",
    "print(b2)\n",
    "print(a2 + b2)\n",
    "print(a2 - b2)\n",
    "print(a2 * b2)\n",
    "print(a2 / b2)\n",
    "print(a2 // b2)\n",
    "print(a2 ** b2)\n",
    "print(a2 % b2)"
   ]
  },
  {
   "cell_type": "code",
   "execution_count": 269,
   "id": "f77e00e4",
   "metadata": {},
   "outputs": [
    {
     "name": "stdout",
     "output_type": "stream",
     "text": [
      "[-2 -4  4 -3  4]\n",
      "[2 4 4 3 4]\n"
     ]
    }
   ],
   "source": [
    "# 절대값 함수\n",
    "a1 = np.random.randint(-10,10, 5)\n",
    "print(a1)\n",
    "print(np.abs(a1))"
   ]
  },
  {
   "cell_type": "code",
   "execution_count": 271,
   "id": "5e200142",
   "metadata": {},
   "outputs": [
    {
     "name": "stdout",
     "output_type": "stream",
     "text": [
      "[-2 -4  4 -3  4]\n",
      "[ 4 16 16  9 16]\n",
      "[nan nan  2. nan  2.]\n"
     ]
    },
    {
     "name": "stderr",
     "output_type": "stream",
     "text": [
      "<ipython-input-271-03a60fc6b5fb>:4: RuntimeWarning: invalid value encountered in sqrt\n",
      "  print(np.sqrt(a1))   # 제곱근\n"
     ]
    }
   ],
   "source": [
    "# 제곱/ 제곱근 함수\n",
    "print(a1)\n",
    "print(np.square(a1)) # 제곱\n",
    "print(np.sqrt(a1))   # 제곱근"
   ]
  },
  {
   "cell_type": "code",
   "execution_count": 278,
   "id": "063e9da6",
   "metadata": {},
   "outputs": [
    {
     "name": "stdout",
     "output_type": "stream",
     "text": [
      "[6 1 7 2 2]\n",
      "[ 403.42879349    2.71828183 1096.63315843    7.3890561     7.3890561 ]\n",
      "[ 64.   2. 128.   4.   4.]\n",
      "[36  1 49  4  4]\n"
     ]
    }
   ],
   "source": [
    "# 지수와 로그 함수\n",
    "a1 = np.random.randint(1,10, 5)\n",
    "print(a1)\n",
    "print(np.exp(a1))\n",
    "print(np.exp2(a1))\n",
    "print(np.power(a1,2))"
   ]
  },
  {
   "cell_type": "code",
   "execution_count": 279,
   "id": "1dc14baf",
   "metadata": {},
   "outputs": [],
   "source": [
    "## 집계함수"
   ]
  },
  {
   "cell_type": "code",
   "execution_count": 285,
   "id": "0c53e1dd",
   "metadata": {
    "scrolled": true
   },
   "outputs": [
    {
     "name": "stdout",
     "output_type": "stream",
     "text": [
      "[[3 3 6]\n",
      " [4 3 4]\n",
      " [4 7 9]]\n",
      "43 43\n",
      "[11 13 19] [11 13 19]\n",
      "[12 11 20] [12 11 20]\n"
     ]
    }
   ],
   "source": [
    "# sum()\n",
    "a2 = np.random.randint(1,10, (3,3))\n",
    "print(a2)\n",
    "print(a2.sum(), np.sum(a2))        # 두 형태 모두 사용 가능\n",
    "print(a2.sum(axis = 0), np.sum(a2, axis=0)) # 행 (세로)\n",
    "print(a2.sum(axis = 1), np.sum(a2, axis=1)) # 열 (가로)"
   ]
  },
  {
   "cell_type": "code",
   "execution_count": 287,
   "id": "376a7c14",
   "metadata": {},
   "outputs": [
    {
     "name": "stdout",
     "output_type": "stream",
     "text": [
      "[[3 3 6]\n",
      " [4 3 4]\n",
      " [4 7 9]]\n",
      "[ 3  6 12 16 19 23 27 34 43]\n",
      "[[ 3  3  6]\n",
      " [ 7  6 10]\n",
      " [11 13 19]]\n",
      "[[ 3  6 12]\n",
      " [ 4  7 11]\n",
      " [ 4 11 20]]\n"
     ]
    }
   ],
   "source": [
    "# cumsum() 누적합 계산\n",
    "print(a2)\n",
    "print(np.cumsum(a2))\n",
    "print(np.cumsum(a2, axis=0)) # 행 (세로)\n",
    "print(np.cumsum(a2, axis=1)) # 열 (가로)"
   ]
  },
  {
   "cell_type": "code",
   "execution_count": 289,
   "id": "a86751f1",
   "metadata": {},
   "outputs": [
    {
     "name": "stdout",
     "output_type": "stream",
     "text": [
      "[[3 3 6]\n",
      " [4 3 4]\n",
      " [4 7 9]]\n",
      "[[ 0  3]\n",
      " [-1  1]\n",
      " [ 3  2]]\n",
      "[[ 1  0 -2]\n",
      " [ 0  4  5]]\n",
      "[[ 0  3]\n",
      " [-1  1]\n",
      " [ 3  2]]\n"
     ]
    }
   ],
   "source": [
    "# diff(차분계산)\n",
    "print(a2)\n",
    "print(np.diff(a2)) # 0행 0열 3 ->3 : 0 / 3->6 : 3 \n",
    "print(np.diff(a2, axis=0)) # 행 (세로)\n",
    "print(np.diff(a2, axis=1)) # 열 (가로)"
   ]
  },
  {
   "cell_type": "code",
   "execution_count": 291,
   "id": "4c574adb",
   "metadata": {},
   "outputs": [
    {
     "name": "stdout",
     "output_type": "stream",
     "text": [
      "[[3 3 6]\n",
      " [4 3 4]\n",
      " [4 7 9]]\n",
      "653184\n",
      "[ 48  63 216]\n",
      "[ 54  48 252]\n"
     ]
    }
   ],
   "source": [
    "# prod() 곱 계산\n",
    "print(a2)\n",
    "print(np.prod(a2)) \n",
    "print(np.prod(a2, axis=0)) # 행 (세로)\n",
    "print(np.prod(a2, axis=1)) # 열 (가로)"
   ]
  },
  {
   "cell_type": "code",
   "execution_count": 293,
   "id": "cd163423",
   "metadata": {},
   "outputs": [
    {
     "name": "stdout",
     "output_type": "stream",
     "text": [
      "[[3 3 6]\n",
      " [4 3 4]\n",
      " [4 7 9]]\n",
      "[     3      9     54    216    648   2592  10368  72576 653184]\n",
      "[[  3   3   6]\n",
      " [ 12   9  24]\n",
      " [ 48  63 216]]\n",
      "[[  3   9  54]\n",
      " [  4  12  48]\n",
      " [  4  28 252]]\n"
     ]
    }
   ],
   "source": [
    "# cumprod() 누적 곱 계산\n",
    "print(a2)\n",
    "print(np.cumprod(a2)) \n",
    "print(np.cumprod(a2, axis=0)) # 행 (세로)\n",
    "print(np.cumprod(a2, axis=1)) # 열 (가로)"
   ]
  },
  {
   "cell_type": "code",
   "execution_count": 305,
   "id": "817d2a51",
   "metadata": {},
   "outputs": [
    {
     "name": "stdout",
     "output_type": "stream",
     "text": [
      "[[3 3 6]\n",
      " [4 3 4]\n",
      " [4 7 9]]\n",
      "[[1 1 1]\n",
      " [1 1 1]\n",
      " [1 1 1]]\n",
      "[[12 12 12]\n",
      " [11 11 11]\n",
      " [20 20 20]]\n",
      "[[12 12 12]\n",
      " [11 11 11]\n",
      " [20 20 20]]\n"
     ]
    },
    {
     "data": {
      "text/plain": [
       "array([[ 6,  6, 12],\n",
       "       [ 8,  6,  8],\n",
       "       [ 8, 14, 18]])"
      ]
     },
     "execution_count": 305,
     "metadata": {},
     "output_type": "execute_result"
    }
   ],
   "source": [
    "# dot() / matmul() 점곱/ 행렬곱 계산\n",
    "print(a2)\n",
    "b2 = np.ones_like(a2)\n",
    "print(b2)\n",
    "print(np.dot(a2,b2))    # 일반 행렬의 곱(n X a * a X s)\n",
    "print(np.matmul(a2,b2)) # dot과 똑같다\n",
    "\n",
    "# 차이점\n",
    "# 1. dot는 행렬과 상수(constant)의 곱셈을 허용하지만, \n",
    "#    matmul은 Error를 일으킨다.\n",
    "np.dot(a2, 2)\n",
    "#    np.matmul(a2, 2)\n",
    "# 2. 3차원 이상의 행렬곱(Tensor multiplication)을 수행할 경우\n",
    "#    dot와 matmul은 전혀 다른 결과"
   ]
  },
  {
   "cell_type": "code",
   "execution_count": 306,
   "id": "e3ff5ad5",
   "metadata": {
    "scrolled": true
   },
   "outputs": [
    {
     "name": "stdout",
     "output_type": "stream",
     "text": [
      "[[3 3 6]\n",
      " [4 3 4]\n",
      " [4 7 9]]\n",
      "[[1 1 1]\n",
      " [1 1 1]\n",
      " [1 1 1]]\n",
      "43\n",
      "[[[[3 3 3]\n",
      "   [3 3 3]\n",
      "   [3 3 3]]\n",
      "\n",
      "  [[3 3 3]\n",
      "   [3 3 3]\n",
      "   [3 3 3]]\n",
      "\n",
      "  [[6 6 6]\n",
      "   [6 6 6]\n",
      "   [6 6 6]]]\n",
      "\n",
      "\n",
      " [[[4 4 4]\n",
      "   [4 4 4]\n",
      "   [4 4 4]]\n",
      "\n",
      "  [[3 3 3]\n",
      "   [3 3 3]\n",
      "   [3 3 3]]\n",
      "\n",
      "  [[4 4 4]\n",
      "   [4 4 4]\n",
      "   [4 4 4]]]\n",
      "\n",
      "\n",
      " [[[4 4 4]\n",
      "   [4 4 4]\n",
      "   [4 4 4]]\n",
      "\n",
      "  [[7 7 7]\n",
      "   [7 7 7]\n",
      "   [7 7 7]]\n",
      "\n",
      "  [[9 9 9]\n",
      "   [9 9 9]\n",
      "   [9 9 9]]]]\n",
      "[[12 12 12]\n",
      " [11 11 11]\n",
      " [20 20 20]]\n"
     ]
    }
   ],
   "source": [
    "# tensordot() 텐서곱 계산 ################이해 안감.\n",
    "print(a2)\n",
    "print(b2)\n",
    "print(np.tensordot(a2,b2))   \n",
    "print(np.tensordot(a2,b2,axes = 0))   \n",
    "print(np.tensordot(a2,b2,axes = 1)) "
   ]
  },
  {
   "cell_type": "code",
   "execution_count": 308,
   "id": "79a649ec",
   "metadata": {},
   "outputs": [
    {
     "name": "stdout",
     "output_type": "stream",
     "text": [
      "[-3  6 -3]\n"
     ]
    }
   ],
   "source": [
    "# cross() 벡터곱\n",
    "x = [1,2,3]\n",
    "y = [4,5,6]\n",
    "print(np.cross(x,y))"
   ]
  },
  {
   "cell_type": "code",
   "execution_count": 311,
   "id": "d96aaf87",
   "metadata": {},
   "outputs": [
    {
     "name": "stdout",
     "output_type": "stream",
     "text": [
      "[[3 3 6]\n",
      " [4 3 4]\n",
      " [4 7 9]]\n",
      "[[1 1 1]\n",
      " [1 1 1]\n",
      " [1 1 1]]\n",
      "[[12 12 12]\n",
      " [11 11 11]\n",
      " [20 20 20]]\n",
      "[[3 3 3 3 3 3 3 3 3]\n",
      " [3 3 3 3 3 3 3 3 3]\n",
      " [6 6 6 6 6 6 6 6 6]\n",
      " [4 4 4 4 4 4 4 4 4]\n",
      " [3 3 3 3 3 3 3 3 3]\n",
      " [4 4 4 4 4 4 4 4 4]\n",
      " [4 4 4 4 4 4 4 4 4]\n",
      " [7 7 7 7 7 7 7 7 7]\n",
      " [9 9 9 9 9 9 9 9 9]]\n"
     ]
    }
   ],
   "source": [
    "# inner()/outer() 내적/외적\n",
    "print(a2)\n",
    "print(b2)\n",
    "print(np.inner(a2, b2)) # dot() 똑같은 결과 행렬의 곱\n",
    "print(np.outer(a2, b2)) # dot() 을 바깥으로 펼쳐냄"
   ]
  },
  {
   "cell_type": "code",
   "execution_count": 313,
   "id": "7ab0d766",
   "metadata": {},
   "outputs": [
    {
     "name": "stdout",
     "output_type": "stream",
     "text": [
      "[[3 3 6]\n",
      " [4 3 4]\n",
      " [4 7 9]]\n",
      "4.777777777777778\n",
      "[3.66666667 4.33333333 6.33333333]\n",
      "[4.         3.66666667 6.66666667]\n"
     ]
    }
   ],
   "source": [
    "# mean() 평균 계산\n",
    "print(a2)\n",
    "print(np.mean(a2))         # 엘리먼트 합의 평균\n",
    "print(np.mean(a2, axis=0)) # 각 0 ~ 2 행 (세로)\n",
    "print(np.mean(a2, axis=1)) # 각 0 ~ 2 열 (가로)"
   ]
  },
  {
   "cell_type": "code",
   "execution_count": 315,
   "id": "5cef588b",
   "metadata": {},
   "outputs": [
    {
     "name": "stdout",
     "output_type": "stream",
     "text": [
      "[[3 3 6]\n",
      " [4 3 4]\n",
      " [4 7 9]]\n",
      "1.9876159799998132\n",
      "[0.47140452 1.88561808 2.05480467]\n",
      "[1.41421356 0.47140452 2.05480467]\n"
     ]
    }
   ],
   "source": [
    "# std() 표준 편자 계산\n",
    "print(a2)\n",
    "print(np.std(a2))         \n",
    "print(np.std(a2, axis=0))\n",
    "print(np.std(a2, axis=1))"
   ]
  },
  {
   "cell_type": "code",
   "execution_count": 317,
   "id": "ae4d3528",
   "metadata": {},
   "outputs": [
    {
     "name": "stdout",
     "output_type": "stream",
     "text": [
      "[[3 3 6]\n",
      " [4 3 4]\n",
      " [4 7 9]]\n",
      "3.9506172839506175\n",
      "[0.22222222 3.55555556 4.22222222]\n",
      "[2.         0.22222222 4.22222222]\n"
     ]
    }
   ],
   "source": [
    "# var() 분산\n",
    "print(a2)\n",
    "print(np.var(a2))         \n",
    "print(np.var(a2, axis=0))\n",
    "print(np.var(a2, axis=1))"
   ]
  },
  {
   "cell_type": "code",
   "execution_count": 321,
   "id": "e1aa0a21",
   "metadata": {},
   "outputs": [
    {
     "name": "stdout",
     "output_type": "stream",
     "text": [
      "[[3 3 6]\n",
      " [4 3 4]\n",
      " [4 7 9]]\n",
      "3\n",
      "[3 3 4]\n",
      "[3 3 4]\n"
     ]
    }
   ],
   "source": [
    "# min () 최소값\n",
    "print(a2)\n",
    "print(np.min(a2))         \n",
    "print(np.min(a2, axis=0))\n",
    "print(np.min(a2, axis=1))"
   ]
  },
  {
   "cell_type": "code",
   "execution_count": 322,
   "id": "4bb1c50c",
   "metadata": {},
   "outputs": [
    {
     "name": "stdout",
     "output_type": "stream",
     "text": [
      "[[3 3 6]\n",
      " [4 3 4]\n",
      " [4 7 9]]\n",
      "9\n",
      "[4 7 9]\n",
      "[6 4 9]\n"
     ]
    }
   ],
   "source": [
    "# max () 최대값\n",
    "print(a2)\n",
    "print(np.max(a2))         \n",
    "print(np.max(a2, axis=0)) # 세로(다른 행)\n",
    "print(np.max(a2, axis=1)) # 가로(다른 열)"
   ]
  },
  {
   "cell_type": "code",
   "execution_count": 324,
   "id": "9ac02f79",
   "metadata": {},
   "outputs": [
    {
     "name": "stdout",
     "output_type": "stream",
     "text": [
      "[[3 3 6]\n",
      " [4 3 4]\n",
      " [4 7 9]]\n",
      "0\n",
      "[0 0 1]\n",
      "[0 1 0]\n"
     ]
    }
   ],
   "source": [
    "# argmin () 최소값 인덱스\n",
    "print(a2)\n",
    "print(np.argmin(a2))         \n",
    "print(np.argmin(a2, axis=0)) # 세로 (다른 행)\n",
    "print(np.argmin(a2, axis=1)) # 가로 (다른 열)"
   ]
  },
  {
   "cell_type": "code",
   "execution_count": 326,
   "id": "be41db7f",
   "metadata": {},
   "outputs": [
    {
     "name": "stdout",
     "output_type": "stream",
     "text": [
      "[[3 3 6]\n",
      " [4 3 4]\n",
      " [4 7 9]]\n",
      "8\n",
      "[1 2 2]\n",
      "[2 0 2]\n"
     ]
    }
   ],
   "source": [
    "# argmax () 최대값 인덱스\n",
    "print(a2)\n",
    "print(np.argmax(a2))         \n",
    "print(np.argmax(a2, axis=0)) # 세로 (다른 행)\n",
    "print(np.argmax(a2, axis=1)) # 가로 (다른 열)"
   ]
  },
  {
   "cell_type": "code",
   "execution_count": 330,
   "id": "43e8ccf0",
   "metadata": {},
   "outputs": [
    {
     "name": "stdout",
     "output_type": "stream",
     "text": [
      "[[3 3 6]\n",
      " [4 3 4]\n",
      " [4 7 9]]\n",
      "4.0\n",
      "[4. 3. 6.]\n",
      "[3. 4. 7.]\n"
     ]
    }
   ],
   "source": [
    "# median () 중앙값\n",
    "print(a2)\n",
    "print(np.median(a2))         \n",
    "print(np.median(a2, axis=0)) # 세로 (다른 행)\n",
    "print(np.median(a2, axis=1))"
   ]
  },
  {
   "cell_type": "code",
   "execution_count": 332,
   "id": "2db5532c",
   "metadata": {},
   "outputs": [
    {
     "name": "stdout",
     "output_type": "stream",
     "text": [
      "[0 1 2 3]\n",
      "[0.  0.6 1.2 1.8 2.4 3. ]\n",
      "[0 1 2 2 3 3]\n",
      "[0 0 1 1 2 3]\n",
      "[0 1 1 2 2 3]\n",
      "[0.  0.5 1.5 1.5 2.5 3. ]\n"
     ]
    }
   ],
   "source": [
    "# percentile() 백분위수\n",
    "a1 = np.array([0,1,2,3])\n",
    "print(a1)\n",
    "print(np.percentile(a1,[0, 20, 40, 60, 80, 100],\n",
    "                   interpolation='linear'))\n",
    "print(np.percentile(a1,[0, 20, 40, 60, 80, 100],\n",
    "                   interpolation='higher'))\n",
    "print(np.percentile(a1,[0, 20, 40, 60, 80, 100],\n",
    "                   interpolation='lower'))\n",
    "print(np.percentile(a1,[0, 20, 40, 60, 80, 100],\n",
    "                   interpolation='nearest'))\n",
    "print(np.percentile(a1,[0, 20, 40, 60, 80, 100],\n",
    "                   interpolation='midpoint'))"
   ]
  },
  {
   "cell_type": "code",
   "execution_count": 346,
   "id": "286d1d2b",
   "metadata": {},
   "outputs": [
    {
     "name": "stdout",
     "output_type": "stream",
     "text": [
      "[0 1 2 3]\n",
      "0.8999999999999999\n"
     ]
    }
   ],
   "source": [
    "a1 = np.array([0,1,2,3])\n",
    "print(a1)\n",
    "print(np.percentile(a1, 30)) # a1 배열에 30% 지점"
   ]
  },
  {
   "cell_type": "code",
   "execution_count": 351,
   "id": "82ba443a",
   "metadata": {},
   "outputs": [
    {
     "name": "stdout",
     "output_type": "stream",
     "text": [
      "[[False False False]\n",
      " [False  True  True]\n",
      " [False  True  True]]\n",
      "True\n",
      "[False  True  True]\n",
      "[False  True  True]\n"
     ]
    }
   ],
   "source": [
    "# any\n",
    "a2 = np.array([[False, False, False],\n",
    "              [False, True, True],\n",
    "              [False, True, True]])\n",
    "print(a2)\n",
    "print(np.any(a2))           # 이 중에서 하나라도 True면 True\n",
    "print(np.any(a2, axis = 0)) # 행 (세로)\n",
    "print(np.any(a2, axis = 1)) # 열 (가로)"
   ]
  },
  {
   "cell_type": "code",
   "execution_count": 355,
   "id": "44b94df8",
   "metadata": {},
   "outputs": [
    {
     "name": "stdout",
     "output_type": "stream",
     "text": [
      "[[False False  True]\n",
      " [ True  True  True]\n",
      " [False  True  True]]\n",
      "False\n",
      "[False False  True]\n",
      "[False  True False]\n"
     ]
    }
   ],
   "source": [
    "# all\n",
    "a2 = np.array([[False, False, True],\n",
    "              [True, True, True],\n",
    "              [False, True, True]])\n",
    "print(a2)\n",
    "print(np.all(a2))           # 모든 값이 True 여야함\n",
    "print(np.all(a2, axis = 0)) # 행 (세로)\n",
    "print(np.all(a2, axis = 1)) # 열 (가로)"
   ]
  },
  {
   "cell_type": "code",
   "execution_count": 356,
   "id": "775feec3",
   "metadata": {},
   "outputs": [],
   "source": [
    "## 비교 연산"
   ]
  },
  {
   "cell_type": "code",
   "execution_count": 361,
   "id": "8633a351",
   "metadata": {},
   "outputs": [
    {
     "name": "stdout",
     "output_type": "stream",
     "text": [
      "[1 2 3 4 5 6 7 8 9]\n",
      "[False False False False  True False False False False]\n",
      "[ True  True  True  True False  True  True  True  True]\n",
      "[ True  True  True  True  True False False False False]\n",
      "[False False False False False  True  True  True  True]\n"
     ]
    }
   ],
   "source": [
    "a1 = np.arange(1,10)\n",
    "print(a1)\n",
    "print(a1 == 5) # 위치에 대해서만 True 값을 줌.\n",
    "print(a1 != 5)\n",
    "print(a1 <= 5)\n",
    "print(a1 > 5)"
   ]
  },
  {
   "cell_type": "code",
   "execution_count": 368,
   "id": "d91d3d83",
   "metadata": {},
   "outputs": [
    {
     "name": "stdout",
     "output_type": "stream",
     "text": [
      "[[1 2 3]\n",
      " [4 5 6]\n",
      " [7 8 9]]\n",
      "45\n",
      "4\n",
      "4\n",
      "[1 1 2]\n",
      "[0 1 3]\n",
      "[ True  True  True]\n",
      "[False  True  True]\n",
      "[False False False]\n",
      "[False False  True]\n"
     ]
    }
   ],
   "source": [
    "a2 = np.arange(1,10).reshape(3,3)\n",
    "print(a2)\n",
    "print(np.sum(a2))\n",
    "print(np.count_nonzero(a2 > 5)) # 6,7,8,9 4개\n",
    "print(np.sum(a2 > 5))           # 5 초과인것 4개\n",
    "print(np.sum(a2 > 5, axis=0))   # 세로에서 5 초과인 개수\n",
    "print(np.sum(a2 > 5, axis=1))   # 가로에서 5 초과인 개수\n",
    "print(np.any(a2 > 5, axis=0))\n",
    "print(np.any(a2 > 5, axis=1))\n",
    "print(np.all(a2 > 5, axis=0))\n",
    "print(np.all(a2 > 5, axis=1))"
   ]
  },
  {
   "cell_type": "code",
   "execution_count": 371,
   "id": "37c144c5",
   "metadata": {},
   "outputs": [
    {
     "name": "stdout",
     "output_type": "stream",
     "text": [
      "[1 2 3 4 5]\n",
      "[1 2 3 3 4]\n",
      "[ True  True  True False False]\n"
     ]
    }
   ],
   "source": [
    "# np.isclose()\n",
    "a1 = np.array([1,2,3,4,5])\n",
    "print(a1) \n",
    "b1 = np.array([1,2,3,3,4])\n",
    "print(b1)\n",
    "print(np.isclose(a1,b1))   # 가깝나요?"
   ]
  },
  {
   "cell_type": "code",
   "execution_count": 381,
   "id": "5643a35e",
   "metadata": {},
   "outputs": [
    {
     "name": "stdout",
     "output_type": "stream",
     "text": [
      "[ nan   2.  inf   4. -inf]\n",
      "[ True False False False False]\n",
      "[False False  True False  True]\n",
      "[False  True False  True False]\n"
     ]
    }
   ],
   "source": [
    "# np.nan,inf,ninf\n",
    "a1 = np.array([np.nan, 2, np.inf, 4, np.NINF])\n",
    "print(a1)\n",
    "print(np.isnan(a1))    # na 인거\n",
    "print(np.isinf(a1))    # 무한대인거 \n",
    "print(np.isfinite(a1)) # 무한대가 아닌거"
   ]
  },
  {
   "cell_type": "code",
   "execution_count": 387,
   "id": "92da2ae4",
   "metadata": {},
   "outputs": [
    {
     "name": "stdout",
     "output_type": "stream",
     "text": [
      "[[1 2 3]\n",
      " [4 5 6]\n",
      " [7 8 9]]\n",
      "1 [[False False False]\n",
      " [False False  True]\n",
      " [ True False False]]\n",
      "1 [6 7]\n",
      "2 [[ True  True  True]\n",
      " [ True  True  True]\n",
      " [ True  True  True]]\n",
      "2 [1 2 3 4 5 6 7 8 9]\n",
      "3 [[ True  True  True]\n",
      " [ True  True False]\n",
      " [False  True  True]]\n",
      "3 [1 2 3 4 5 8 9]\n",
      "4 [[ True  True  True]\n",
      " [ True  True False]\n",
      " [False False False]]\n",
      "4 [1 2 3 4 5]\n"
     ]
    }
   ],
   "source": [
    "# 불리언 연산자 (&, |, ^, ~)\n",
    "a2 = np.arange(1,10).reshape(3,3)\n",
    "print(a2)\n",
    "print(1 ,(a2 > 5) & (a2 < 8))\n",
    "print(1 ,a2[(a2 > 5) & (a2 < 8)]) # 불리언 인덱싱\n",
    "\n",
    "print(2 ,(a2 > 5) | (a2 < 8))\n",
    "print(2 ,a2[(a2 > 5) | (a2 < 8)])\n",
    "\n",
    "print(3 ,(a2 > 5) ^ (a2 < 8))     # 해당하는 엘리먼트 이외 값\n",
    "print(3 ,a2[(a2 > 5) ^ (a2 < 8)]) # [6 7]\n",
    "\n",
    "print(4 , ~ (a2 > 5))             # ~ not을 의미\n",
    "print(4 ,a2[~(a2 > 5)])"
   ]
  },
  {
   "cell_type": "code",
   "execution_count": 388,
   "id": "838b8220",
   "metadata": {},
   "outputs": [],
   "source": [
    "## 배열정렬"
   ]
  },
  {
   "cell_type": "code",
   "execution_count": 393,
   "id": "fd390baf",
   "metadata": {},
   "outputs": [
    {
     "name": "stdout",
     "output_type": "stream",
     "text": [
      "[1 2 3 5 7 9 1 6 1 6]\n",
      "[1 1 1 2 3 5 6 6 7 9]\n",
      "[1 2 3 5 7 9 1 6 1 6]\n",
      "[0 6 8 1 2 3 7 9 4 5]\n",
      "[1 2 3 5 7 9 1 6 1 6]\n",
      "None\n",
      "[1 1 1 2 3 5 6 6 7 9]\n"
     ]
    }
   ],
   "source": [
    "# np.sort()\n",
    "a1 = np.random.randint(1, 10, 10)\n",
    "print(a1)\n",
    "print(np.sort(a1))    \n",
    "print(a1)     \n",
    "print(np.argsort(a1)) # 정렬에 필요한 인덱싱 출력\n",
    "print(a1)             # 원본 유지\n",
    "print(a1.sort())\n",
    "print(a1)             # 원본 자체를 정렬"
   ]
  },
  {
   "cell_type": "code",
   "execution_count": 395,
   "id": "1dfee7e1",
   "metadata": {},
   "outputs": [
    {
     "name": "stdout",
     "output_type": "stream",
     "text": [
      "[[6 6 9]\n",
      " [7 2 3]\n",
      " [1 3 6]]\n",
      "[[1 2 3]\n",
      " [6 3 6]\n",
      " [7 6 9]]\n",
      "[[6 6 9]\n",
      " [2 3 7]\n",
      " [1 3 6]]\n"
     ]
    }
   ],
   "source": [
    "a2 = np.random.randint(1, 10, (3,3))\n",
    "print(a2)\n",
    "print(np.sort(a2, axis=0))\n",
    "print(np.sort(a2, axis=1))"
   ]
  },
  {
   "cell_type": "code",
   "execution_count": 397,
   "id": "c8bf3ed9",
   "metadata": {},
   "outputs": [
    {
     "name": "stdout",
     "output_type": "stream",
     "text": [
      "[4 6 3 1 3 6 1 8 4 7]\n",
      "[1 1 3 3 4 4 6 8 6 7]\n"
     ]
    }
   ],
   "source": [
    "# np.partition() 배열에서 k 개의 작은 값을 반환\n",
    "a1 = np.random.randint(1, 10, 10)\n",
    "print(a1)\n",
    "print(np.partition(a1, 3)) # 작은 값 세개를 앞에 위치시킴."
   ]
  },
  {
   "cell_type": "code",
   "execution_count": 407,
   "id": "0e43d644",
   "metadata": {},
   "outputs": [
    {
     "name": "stdout",
     "output_type": "stream",
     "text": [
      "[[3 4 2 3 7]\n",
      " [9 2 9 7 2]\n",
      " [1 7 9 1 4]\n",
      " [5 4 3 6 2]\n",
      " [9 7 2 6 4]]\n",
      "1 [[3 2 3 4 7]\n",
      " [7 2 2 9 9]\n",
      " [1 1 4 7 9]\n",
      " [2 3 4 5 6]\n",
      " [2 4 6 7 9]]\n",
      "2 [[1 4 2 1 2]\n",
      " [3 4 2 3 4]\n",
      " [5 2 3 6 2]\n",
      " [9 7 9 6 4]\n",
      " [9 7 9 7 7]]\n",
      "3 [[3 2 3 4 7]\n",
      " [7 2 2 9 9]\n",
      " [1 1 4 7 9]\n",
      " [2 3 4 5 6]\n",
      " [2 4 6 7 9]]\n"
     ]
    }
   ],
   "source": [
    "a2 = np.random.randint(1, 10, (5,5))\n",
    "print(a2)\n",
    "print(1 ,np.partition(a2, 3)) # 각 행의 작은 값 3개로 바꿔줌\n",
    "print(2 ,np.partition(a2, 3, axis=0))\n",
    "print(3 ,np.partition(a2, 3, axis=1))"
   ]
  },
  {
   "cell_type": "code",
   "execution_count": 408,
   "id": "8235cf96",
   "metadata": {},
   "outputs": [],
   "source": [
    "## 배열 입출력 필요시 영상참조\n",
    "#  https://www.youtube.com/watch?v=mirZPrWwvao&t=1992s"
   ]
  }
 ],
 "metadata": {
  "kernelspec": {
   "display_name": "Python 3",
   "language": "python",
   "name": "python3"
  },
  "language_info": {
   "codemirror_mode": {
    "name": "ipython",
    "version": 3
   },
   "file_extension": ".py",
   "mimetype": "text/x-python",
   "name": "python",
   "nbconvert_exporter": "python",
   "pygments_lexer": "ipython3",
   "version": "3.8.8"
  }
 },
 "nbformat": 4,
 "nbformat_minor": 5
}
