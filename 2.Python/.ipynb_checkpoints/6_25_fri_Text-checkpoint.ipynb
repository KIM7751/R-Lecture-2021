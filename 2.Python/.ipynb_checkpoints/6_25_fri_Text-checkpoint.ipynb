{
 "cells": [
  {
   "cell_type": "code",
   "execution_count": 1,
   "id": "df0216c9",
   "metadata": {},
   "outputs": [],
   "source": [
    "from sklearn.datasets import load_files"
   ]
  },
  {
   "cell_type": "code",
   "execution_count": 2,
   "id": "b1be6049",
   "metadata": {},
   "outputs": [],
   "source": [
    "# reviews_train = load_files(\"aclimdb/train\")"
   ]
  },
  {
   "cell_type": "code",
   "execution_count": 3,
   "id": "564654a8",
   "metadata": {},
   "outputs": [
    {
     "ename": "NameError",
     "evalue": "name 'reviews_train' is not defined",
     "output_type": "error",
     "traceback": [
      "\u001b[1;31m---------------------------------------------------------------------------\u001b[0m",
      "\u001b[1;31mNameError\u001b[0m                                 Traceback (most recent call last)",
      "\u001b[1;32m<ipython-input-3-cdb4c2671605>\u001b[0m in \u001b[0;36m<module>\u001b[1;34m\u001b[0m\n\u001b[1;32m----> 1\u001b[1;33m \u001b[0mtext_train\u001b[0m\u001b[1;33m,\u001b[0m \u001b[0my_train\u001b[0m \u001b[1;33m=\u001b[0m\u001b[0mreviews_train\u001b[0m\u001b[1;33m.\u001b[0m\u001b[0mdata\u001b[0m\u001b[1;33m,\u001b[0m \u001b[0mreviews_train\u001b[0m\u001b[1;33m.\u001b[0m\u001b[0mtarget\u001b[0m\u001b[1;33m\u001b[0m\u001b[1;33m\u001b[0m\u001b[0m\n\u001b[0m",
      "\u001b[1;31mNameError\u001b[0m: name 'reviews_train' is not defined"
     ]
    }
   ],
   "source": [
    "text_train, y_train =reviews_train.data, reviews_train.target"
   ]
  },
  {
   "cell_type": "code",
   "execution_count": null,
   "id": "33408c15",
   "metadata": {},
   "outputs": [],
   "source": [
    "y_train[0]"
   ]
  },
  {
   "cell_type": "code",
   "execution_count": null,
   "id": "dfc15c59",
   "metadata": {
    "scrolled": true
   },
   "outputs": [],
   "source": [
    "text_train[0]"
   ]
  },
  {
   "cell_type": "code",
   "execution_count": null,
   "id": "295093a3",
   "metadata": {},
   "outputs": [],
   "source": [
    "# 25000개의 리뷰\n",
    "len(text_train)"
   ]
  },
  {
   "cell_type": "code",
   "execution_count": null,
   "id": "8638b919",
   "metadata": {},
   "outputs": [],
   "source": [
    "# 자연어 처리시에 띄어쓰기 공백을 넣어 마침표가 없어 붙였을때 생기는 문제를 방지한다\n",
    "text_train = [ a_review.replace(b\"<br />\", b\" \") for a_review in text_train]"
   ]
  },
  {
   "cell_type": "code",
   "execution_count": null,
   "id": "69829540",
   "metadata": {},
   "outputs": [],
   "source": [
    "text_train[0]"
   ]
  },
  {
   "cell_type": "code",
   "execution_count": null,
   "id": "765bbb06",
   "metadata": {},
   "outputs": [],
   "source": [
    "import numpy as np\n",
    "np.bincount(y_train)"
   ]
  },
  {
   "cell_type": "code",
   "execution_count": null,
   "id": "2d9238d2",
   "metadata": {},
   "outputs": [],
   "source": [
    "reviews_test = load_files(\"aclImdb/test\")\n",
    "text_test, y_test = reviews_test.data, reviews_test.target"
   ]
  },
  {
   "cell_type": "code",
   "execution_count": null,
   "id": "4d0c8c71",
   "metadata": {},
   "outputs": [],
   "source": [
    "len(text_test)"
   ]
  },
  {
   "cell_type": "code",
   "execution_count": null,
   "id": "9839a582",
   "metadata": {},
   "outputs": [],
   "source": [
    "text_test = [ a_review.replace(b\"<br />\", b\" \") for a_review in text_test]"
   ]
  },
  {
   "cell_type": "code",
   "execution_count": null,
   "id": "1a98d47a",
   "metadata": {},
   "outputs": [],
   "source": [
    "# 샘플 데이터에 BOW(bag of word) 적용하기(예제)"
   ]
  },
  {
   "cell_type": "code",
   "execution_count": null,
   "id": "d6082b0f",
   "metadata": {},
   "outputs": [],
   "source": [
    "bards_words = [\"THE fool doth think he is wise,\",\n",
    "              \"but the wise man knows himself to be a fool\"]"
   ]
  },
  {
   "cell_type": "code",
   "execution_count": null,
   "id": "783f35ae",
   "metadata": {},
   "outputs": [],
   "source": [
    "from sklearn.feature_extraction.text import CountVectorizer"
   ]
  },
  {
   "cell_type": "code",
   "execution_count": null,
   "id": "17931551",
   "metadata": {},
   "outputs": [],
   "source": [
    "# 단어들을 고.유.한. 숫자들로 바꿔줌.\n",
    "vect = CountVectorizer()\n",
    "vect.fit(bards_words)"
   ]
  },
  {
   "cell_type": "code",
   "execution_count": null,
   "id": "b155534e",
   "metadata": {},
   "outputs": [],
   "source": [
    "len(vect.vocabulary_)"
   ]
  },
  {
   "cell_type": "code",
   "execution_count": null,
   "id": "45d9b105",
   "metadata": {},
   "outputs": [],
   "source": [
    "vect.vocabulary_"
   ]
  },
  {
   "cell_type": "code",
   "execution_count": null,
   "id": "07bcb773",
   "metadata": {},
   "outputs": [],
   "source": [
    "bag_of_words = vect.transform(bards_words)\n",
    "bag_of_words.toarray()\n",
    "# 위에서 라벨링을 한 순서대로 사용했으면 1, 사용하지 않았으면 0으로 표시\n",
    "# be / but / doth / fool / he / himself / is / knows / man / the / think / to / wise\n",
    "# 0 /  1  /   2  /   3  /  4 /    5    /  6 /   7   /  8  /  9  /  10   / 11 /  12  \n",
    "\n",
    "# THE(9) / fool(3) /  doth(2) / think(10) / he(4) / is(6) / wise(12)\n",
    "# 0011101001101   "
   ]
  },
  {
   "cell_type": "code",
   "execution_count": null,
   "id": "2c574c4a",
   "metadata": {},
   "outputs": [],
   "source": [
    "# 샘플 데이터에 BOW(bag of word) 적용하기(실전)"
   ]
  },
  {
   "cell_type": "code",
   "execution_count": null,
   "id": "ed5d5a0f",
   "metadata": {},
   "outputs": [],
   "source": [
    "vect = CountVectorizer().fit(text_train)\n",
    "X_train = vect.transform(text_train)\n",
    "X_train.toarray()"
   ]
  },
  {
   "cell_type": "code",
   "execution_count": null,
   "id": "8a4d83f4",
   "metadata": {},
   "outputs": [],
   "source": [
    "feature_names = vect.get_feature_names()\n",
    "len(feature_names)"
   ]
  },
  {
   "cell_type": "code",
   "execution_count": null,
   "id": "28d1cbf8",
   "metadata": {},
   "outputs": [],
   "source": [
    "# 교차 검증 점수\n",
    "from sklearn.model_selection import cross_val_score\n",
    "from sklearn.linear_model import LogisticRegression\n",
    "\n",
    "score = cross_val_score(\n",
    "    LogisticRegression(max_iter=1000), X_train, y_train, cv=5\n",
    ")\n",
    "score"
   ]
  },
  {
   "cell_type": "code",
   "execution_count": null,
   "id": "15a57dac",
   "metadata": {},
   "outputs": [],
   "source": [
    "X_test = vect.transform(text_test)"
   ]
  },
  {
   "cell_type": "code",
   "execution_count": null,
   "id": "7a6f59d1",
   "metadata": {},
   "outputs": [],
   "source": [
    "lr = LogisticRegression(max_iter=1000).fit(X_train, y_train)"
   ]
  },
  {
   "cell_type": "code",
   "execution_count": null,
   "id": "aed7753d",
   "metadata": {},
   "outputs": [],
   "source": [
    "y_pred = lr.predict(X_test[15500])"
   ]
  },
  {
   "cell_type": "code",
   "execution_count": null,
   "id": "481b207c",
   "metadata": {},
   "outputs": [],
   "source": [
    "y_pred[0]"
   ]
  },
  {
   "cell_type": "code",
   "execution_count": null,
   "id": "f37ab309",
   "metadata": {},
   "outputs": [],
   "source": [
    "y_test[15500]"
   ]
  },
  {
   "cell_type": "code",
   "execution_count": null,
   "id": "b18456a1",
   "metadata": {},
   "outputs": [],
   "source": [
    "text_test[15500]"
   ]
  }
 ],
 "metadata": {
  "kernelspec": {
   "display_name": "Python 3",
   "language": "python",
   "name": "python3"
  },
  "language_info": {
   "codemirror_mode": {
    "name": "ipython",
    "version": 3
   },
   "file_extension": ".py",
   "mimetype": "text/x-python",
   "name": "python",
   "nbconvert_exporter": "python",
   "pygments_lexer": "ipython3",
   "version": "3.8.8"
  }
 },
 "nbformat": 4,
 "nbformat_minor": 5
}
