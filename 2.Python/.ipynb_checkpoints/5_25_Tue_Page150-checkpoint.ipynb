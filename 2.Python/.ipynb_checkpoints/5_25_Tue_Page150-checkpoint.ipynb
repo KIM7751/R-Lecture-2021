{
 "cells": [
  {
   "cell_type": "code",
   "execution_count": 1,
   "id": "cbbbb39a",
   "metadata": {},
   "outputs": [
    {
     "name": "stdout",
     "output_type": "stream",
     "text": [
      "안녕하세요1\n",
      "안녕하세요2\n",
      "안녕하세요3\n",
      "안녕하세요4\n",
      "안녕하세요5\n"
     ]
    }
   ],
   "source": [
    "# 함수 \n",
    "# 반복되는 일을 한뭉치로 묶기위해서\n",
    "# 흐름을 일목 요연하게 파악이 가능하다.\n",
    "# def 데피니션 + 매개변수: 수행할 문장\n",
    "\n",
    "def hello_5():\n",
    "    print(\"안녕하세요1\")\n",
    "    print(\"안녕하세요2\")\n",
    "    print(\"안녕하세요3\")\n",
    "    print(\"안녕하세요4\")\n",
    "    print(\"안녕하세요5\")\n",
    "    \n",
    "hello_5()"
   ]
  },
  {
   "cell_type": "code",
   "execution_count": 2,
   "id": "3f03a01e",
   "metadata": {},
   "outputs": [
    {
     "name": "stdout",
     "output_type": "stream",
     "text": [
      "숫자 1:5\n",
      "숫자 2:6\n",
      "11\n"
     ]
    }
   ],
   "source": [
    "def add(a, b): # 두 개를 입력해야하는구나\n",
    "    c = a + b\n",
    "    return c\n",
    "\n",
    "num1 = int(input(\"숫자 1:\"))\n",
    "num2 = int(input(\"숫자 2:\"))\n",
    "result = add(num1, num2)       # num1 + num2 가 아닌 add를 쓰면서 수정사항이 있을때도 쉽게 변경 가능.\n",
    "print(result)"
   ]
  },
  {
   "cell_type": "code",
   "execution_count": 3,
   "id": "9a8673b7",
   "metadata": {},
   "outputs": [
    {
     "name": "stdout",
     "output_type": "stream",
     "text": [
      "hi\n",
      "hi\n",
      "None\n",
      "hi\n"
     ]
    }
   ],
   "source": [
    "def say_hi():\n",
    "    return \"hi\"\n",
    "print(say_hi())\n",
    "\n",
    "def say_hi_dont_care():\n",
    "    print(\"hi\")                  # print로 인해서 hi 출력\n",
    "print(say_hi_dont_care())        # return 값이 없어 none\n",
    "    \n",
    "def say_hi_dont_care2(a):        # retuen 값이 없어서 해당 사항과 같다면 print 사용 가능.\n",
    "    print(a)\n",
    "say_hi_dont_care2(\"hi\")"
   ]
  },
  {
   "cell_type": "code",
   "execution_count": 4,
   "id": "9419d5bd",
   "metadata": {},
   "outputs": [
    {
     "name": "stdout",
     "output_type": "stream",
     "text": [
      "hi\n",
      "None\n"
     ]
    }
   ],
   "source": [
    "def say_hi_dont_care2(a):\n",
    "    print(a)\n",
    "b = say_hi_dont_care2(\"hi\")\n",
    "print(b)                    # 결과값이 안나오는 구나 // 거짓이 아님! 거짓도 일종의 값임"
   ]
  },
  {
   "cell_type": "code",
   "execution_count": 5,
   "id": "6cdd513d",
   "metadata": {},
   "outputs": [
    {
     "name": "stdout",
     "output_type": "stream",
     "text": [
      "2\n",
      "-2\n",
      "2\n",
      "2\n"
     ]
    }
   ],
   "source": [
    "def sub2(a, b):              # 현대적인 언어에서는 순서에 의존하는 것이 아닌 명시하더라\n",
    "    return a - b\n",
    "print(sub2(4, 2))\n",
    "print(sub2(2, 4))\n",
    "print(sub2(a=4,b=2))\n",
    "print(sub2(b=2,a=4))"
   ]
  },
  {
   "cell_type": "code",
   "execution_count": 6,
   "id": "7c30694b",
   "metadata": {},
   "outputs": [
    {
     "name": "stdout",
     "output_type": "stream",
     "text": [
      "3\n",
      "10\n"
     ]
    }
   ],
   "source": [
    "# P157\n",
    "def add_many(*a): # \"*\"를 쓰면서 하나를 받아오는게 아닌 튜플 덩어리로 가져옴을 알 수 있다.\n",
    "    result=0\n",
    "    for item in a:\n",
    "        result+=item\n",
    "    return result\n",
    "print(add_many(1, 2))\n",
    "print(add_many(1,2,3,4))"
   ]
  },
  {
   "cell_type": "code",
   "execution_count": 7,
   "id": "6a5aac99",
   "metadata": {},
   "outputs": [
    {
     "name": "stdout",
     "output_type": "stream",
     "text": [
      "3\n",
      "24\n"
     ]
    }
   ],
   "source": [
    "def add_many(mode,*a): # \"*\"를 쓸 때 항상 뒤로 와야함. / 내부적으로 리스트처리가됨\n",
    "    if mode == \"sum\":\n",
    "        result=0\n",
    "        for item in a: result+=item\n",
    "    elif mode == \"mul\":\n",
    "        result=1\n",
    "        for item in a: result*=item\n",
    "    return result\n",
    "print(add_many(\"sum\",1,2))\n",
    "print(add_many(\"mul\",1,2,3,4))"
   ]
  },
  {
   "cell_type": "code",
   "execution_count": 8,
   "id": "07f6ca08",
   "metadata": {},
   "outputs": [
    {
     "name": "stdout",
     "output_type": "stream",
     "text": [
      "{'a': 1}\n"
     ]
    }
   ],
   "source": [
    "# '**' 별 두개는 언제 쓰는 걸까? / 딕셔너리 처리가됨.\n",
    "def print_kwa(**a):\n",
    "    print(a)\n",
    "print_kwa(a=1)"
   ]
  },
  {
   "cell_type": "code",
   "execution_count": 9,
   "id": "614941c5",
   "metadata": {},
   "outputs": [
    {
     "name": "stdout",
     "output_type": "stream",
     "text": [
      "3\n",
      "c:3,d:2\n"
     ]
    }
   ],
   "source": [
    "# 함수의 결괏값(return)은 여러개 가능하다.\n",
    "def add2(a, b):\n",
    "    return a+b\n",
    "c = add2(1,2)\n",
    "print(c)\n",
    "\n",
    "def add_and_mul(a,b):\n",
    "    return a+b, a*b\n",
    "c, d = add_and_mul(1, 2)        # 출력 변수 또한 맞춰 줘야함.\n",
    "print(\"c:\"+str(c)+\",d:\"+str(d))"
   ]
  },
  {
   "cell_type": "code",
   "execution_count": 10,
   "id": "dd621585",
   "metadata": {},
   "outputs": [
    {
     "name": "stdout",
     "output_type": "stream",
     "text": [
      "2 3 1 2\n",
      "2 3 4 2\n",
      "2 3 4 5\n"
     ]
    }
   ],
   "source": [
    "# 초기값 설정하기 \n",
    "def my_classify(a, b, c=1, d=2): # 초기 값을 설정할 때 \"*a\" 똑같이 맨 뒤에 써줘야함.\n",
    "    print(a, b, c, d)\n",
    "my_classify(2, 3)\n",
    "my_classify(2, 3, 4)\n",
    "my_classify(2, 3, 4, 5)"
   ]
  },
  {
   "cell_type": "code",
   "execution_count": 11,
   "id": "919a4211",
   "metadata": {},
   "outputs": [
    {
     "name": "stdout",
     "output_type": "stream",
     "text": [
      "1\n"
     ]
    }
   ],
   "source": [
    "# 함수 안에서 변수의 효력범위\n",
    "\n",
    "a = 1           # 위치가 메인에 속해있음(전역변수)\n",
    "def vartest(a): \n",
    "    a = a + 1   # 함수 안에 \"리턴\" 값을 안주니깐 함수 안에 a가 효력을 발휘하지 않고 소멸됨(vartest함수의 지역변수)\n",
    "vartest(a)\n",
    "print(a)"
   ]
  },
  {
   "cell_type": "code",
   "execution_count": 12,
   "id": "c781b991",
   "metadata": {},
   "outputs": [
    {
     "name": "stdout",
     "output_type": "stream",
     "text": [
      "2\n"
     ]
    }
   ],
   "source": [
    "a = 1          # 위치가 메인에 속해있음(전역변수)\n",
    "def vartest(a): \n",
    "    a = a + 1   # vartest함수의 (지역변수)\n",
    "    return a\n",
    "a = vartest(a)\n",
    "print(a)"
   ]
  },
  {
   "cell_type": "code",
   "execution_count": 13,
   "id": "fc4b58e4",
   "metadata": {},
   "outputs": [
    {
     "name": "stdout",
     "output_type": "stream",
     "text": [
      "2\n"
     ]
    }
   ],
   "source": [
    "a = 1           \n",
    "def vartest(): \n",
    "    global a  # 자 앞으로 만나는 a는 지역변수가 아니라 전역입니다. \n",
    "    a = a + 1 \n",
    "vartest()\n",
    "print(a)"
   ]
  },
  {
   "cell_type": "code",
   "execution_count": 14,
   "id": "4693fc80",
   "metadata": {},
   "outputs": [
    {
     "name": "stdout",
     "output_type": "stream",
     "text": [
      "7\n"
     ]
    }
   ],
   "source": [
    "# lambda 함수\n",
    "add_lam = lambda a, b: a + b # 입력값 : 출력값\n",
    "res = add_lam(3,4)\n",
    "print(res)"
   ]
  },
  {
   "cell_type": "code",
   "execution_count": 15,
   "id": "783a23ef",
   "metadata": {},
   "outputs": [
    {
     "name": "stdout",
     "output_type": "stream",
     "text": [
      "a b\n",
      "ab\n",
      "ab\n"
     ]
    }
   ],
   "source": [
    "# 사용자 입출력 \n",
    "print(\"a\", \"b\")\n",
    "print(\"a\" + \"b\")\n",
    "print(\"a\"   \"b\")"
   ]
  },
  {
   "cell_type": "code",
   "execution_count": 16,
   "id": "775b1a51",
   "metadata": {},
   "outputs": [
    {
     "name": "stdout",
     "output_type": "stream",
     "text": [
      "a b\n"
     ]
    }
   ],
   "source": [
    "print(\"a\", end=\" \") # 한 줄로 묶어서 볼때 사용\n",
    "print(\"b\")            "
   ]
  },
  {
   "cell_type": "code",
   "execution_count": 17,
   "id": "2b88330a",
   "metadata": {},
   "outputs": [
    {
     "name": "stdout",
     "output_type": "stream",
     "text": [
      "a/b/c\n"
     ]
    }
   ],
   "source": [
    "print(\"a\", \"b\", \"c\", sep=\"/\") # 지정한 표현으로 구분 하더라"
   ]
  },
  {
   "cell_type": "code",
   "execution_count": 18,
   "id": "65837011",
   "metadata": {},
   "outputs": [],
   "source": [
    "f = open(\"새파일.txt\", \"w\") # 쓰기모드\n",
    "f.close()"
   ]
  },
  {
   "cell_type": "code",
   "execution_count": 19,
   "id": "b6366fd9",
   "metadata": {},
   "outputs": [],
   "source": [
    "f = open(\"c:/workspace/r/2.Python/테스트폴더/새파일.txt\", \"w\") # c:를 적어주면서 절대경로로 설정함\n",
    "f.write(\"안녕~!\")\n",
    "f.close() # 열고 닫고 잘 처리해야"
   ]
  },
  {
   "cell_type": "code",
   "execution_count": 20,
   "id": "2d18e95a",
   "metadata": {},
   "outputs": [
    {
     "name": "stdout",
     "output_type": "stream",
     "text": [
      "안녕~!\n"
     ]
    }
   ],
   "source": [
    "f = open(\"c:/workspace/r/2.Python/테스트폴더/새파일.txt\", \"r\") # 읽기모드 \n",
    "line1 = f.readline()\n",
    "print(line1)\n",
    "f.close() # 열고 닫고 잘 처리해야"
   ]
  },
  {
   "cell_type": "code",
   "execution_count": 24,
   "id": "8702e327",
   "metadata": {},
   "outputs": [
    {
     "name": "stdout",
     "output_type": "stream",
     "text": [
      "zzzzzzzzzzzzzzz\n",
      "\n",
      "xxxxxxxxxxxx\n",
      "\n",
      "ssssssssssss\n",
      "\n",
      "dddddddddddd\n"
     ]
    }
   ],
   "source": [
    "# 몇줄인지 모를때 읽기\n",
    "f = open(\"c:/workspace/r/2.Python/테스트폴더/새파일.txt\", \"r\")\n",
    "while True:\n",
    "    line1 = f.readline()\n",
    "    if not line1: break\n",
    "    print(line1)\n",
    "f.close() # 열고 닫고 잘 처리해야"
   ]
  },
  {
   "cell_type": "code",
   "execution_count": 27,
   "id": "41d5c665",
   "metadata": {},
   "outputs": [],
   "source": []
  }
 ],
 "metadata": {
  "kernelspec": {
   "display_name": "Python 3",
   "language": "python",
   "name": "python3"
  },
  "language_info": {
   "codemirror_mode": {
    "name": "ipython",
    "version": 3
   },
   "file_extension": ".py",
   "mimetype": "text/x-python",
   "name": "python",
   "nbconvert_exporter": "python",
   "pygments_lexer": "ipython3",
   "version": "3.8.8"
  }
 },
 "nbformat": 4,
 "nbformat_minor": 5
}
