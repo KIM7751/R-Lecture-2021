{
 "cells": [
  {
   "cell_type": "code",
   "execution_count": 2,
   "id": "c675776d",
   "metadata": {},
   "outputs": [],
   "source": [
    "import numpy as np\n",
    "import matplotlib.pyplot as plt\n",
    "plt.style.use(['seaborn-whitegrid'])"
   ]
  },
  {
   "cell_type": "code",
   "execution_count": 3,
   "id": "1e292680",
   "metadata": {},
   "outputs": [],
   "source": [
    "# API 사용 예제"
   ]
  },
  {
   "cell_type": "code",
   "execution_count": 7,
   "id": "81c5166f",
   "metadata": {},
   "outputs": [
    {
     "data": {
      "image/png": "[encoded data removed]",
      "text/plain": [
       "<Figure size 432x288 with 1 Axes>"
      ]
     },
     "metadata": {},
     "output_type": "display_data"
    }
   ],
   "source": [
    "x = 10 * np.random.rand(50)\n",
    "y = 2 * x + np.random.rand(50)\n",
    "plt.scatter(x,y)\n",
    "plt.show()"
   ]
  },
  {
   "cell_type": "code",
   "execution_count": 11,
   "id": "cc94b832",
   "metadata": {},
   "outputs": [],
   "source": [
    "# 1. Scikit-Learn으로부터 적절한 estimator 클래스를 임포트해서 모델의 클래스 선택\n",
    "from sklearn.linear_model import LinearRegression \n",
    "# linear_model 모듈에서 LinearRegression 클래스를 가져온 것"
   ]
  },
  {
   "cell_type": "code",
   "execution_count": 20,
   "id": "34285b05",
   "metadata": {},
   "outputs": [],
   "source": [
    "# 2. 클래스를 원하는 값으로 인스턴스화해서 모델의 하이퍼파라미터 선택\n",
    "model = LinearRegression(fit_intercept=True)\n",
    "# fit_intercept=True 라는 하이퍼파라미터 지정(상수)"
   ]
  },
  {
   "cell_type": "code",
   "execution_count": 30,
   "id": "b6fd9b75",
   "metadata": {},
   "outputs": [
    {
     "name": "stdout",
     "output_type": "stream",
     "text": [
      "(50,)\n",
      "(50, 1)\n"
     ]
    },
    {
     "data": {
      "text/plain": [
       "array([[4.0918541 ],\n",
       "       [6.15442731],\n",
       "       [4.29273828],\n",
       "       [7.17937067],\n",
       "       [6.78639336],\n",
       "       [6.61272347],\n",
       "       [3.72120916],\n",
       "       [4.50215168],\n",
       "       [3.51323718],\n",
       "       [3.24928182],\n",
       "       [4.66809743],\n",
       "       [7.16971551],\n",
       "       [8.37628339],\n",
       "       [0.56743962],\n",
       "       [9.68902406],\n",
       "       [0.81554429],\n",
       "       [2.63230492],\n",
       "       [3.4555438 ],\n",
       "       [0.93807612],\n",
       "       [7.86302918],\n",
       "       [5.69398155],\n",
       "       [9.95253633],\n",
       "       [9.78029111],\n",
       "       [6.62210317],\n",
       "       [2.29403136],\n",
       "       [1.81264042],\n",
       "       [1.80409636],\n",
       "       [4.58952166],\n",
       "       [1.87219378],\n",
       "       [5.71843855],\n",
       "       [5.46844206],\n",
       "       [6.58096282],\n",
       "       [9.74514407],\n",
       "       [4.93054396],\n",
       "       [1.58600326],\n",
       "       [5.47105482],\n",
       "       [8.7850658 ],\n",
       "       [7.26181192],\n",
       "       [2.53932116],\n",
       "       [6.50145549],\n",
       "       [7.83605951],\n",
       "       [7.90367062],\n",
       "       [7.94287131],\n",
       "       [3.02472546],\n",
       "       [8.40792767],\n",
       "       [3.80964083],\n",
       "       [0.98616259],\n",
       "       [8.13573204],\n",
       "       [0.65870445],\n",
       "       [0.9830816 ]])"
      ]
     },
     "execution_count": 30,
     "metadata": {},
     "output_type": "execute_result"
    }
   ],
   "source": [
    "# 3. 데이터를 특징 배열과 대상 벡터로 배치\n",
    "print(x.shape)  # 기존의 x는 이러한 형태를 가지고 있다.\n",
    "X = x[:, np.newaxis] # 축을 하나 추가 시켜 2차원 배열로 만듦(차원을 늘림)\n",
    "print(X.shape)\n",
    "X"
   ]
  },
  {
   "cell_type": "code",
   "execution_count": 32,
   "id": "79614972",
   "metadata": {},
   "outputs": [
    {
     "data": {
      "text/plain": [
       "LinearRegression()"
      ]
     },
     "execution_count": 32,
     "metadata": {},
     "output_type": "execute_result"
    }
   ],
   "source": [
    "# 4. 모델 인스턴스의 fit() 메서드를 호출해 모델을 데이터에 적합\n",
    "model.fit(X, y)"
   ]
  },
  {
   "cell_type": "code",
   "execution_count": 34,
   "id": "5e48dc30",
   "metadata": {},
   "outputs": [
    {
     "data": {
      "text/plain": [
       "array([1.99410307])"
      ]
     },
     "execution_count": 34,
     "metadata": {},
     "output_type": "execute_result"
    }
   ],
   "source": [
    "model.coef_"
   ]
  },
  {
   "cell_type": "code",
   "execution_count": 36,
   "id": "6448b4c3",
   "metadata": {},
   "outputs": [
    {
     "data": {
      "text/plain": [
       "0.5150201811253918"
      ]
     },
     "execution_count": 36,
     "metadata": {},
     "output_type": "execute_result"
    }
   ],
   "source": [
    "model.intercept_"
   ]
  },
  {
   "cell_type": "code",
   "execution_count": 45,
   "id": "6b7b410c",
   "metadata": {
    "scrolled": true
   },
   "outputs": [
    {
     "name": "stdout",
     "output_type": "stream",
     "text": [
      "[-1.         -0.75510204 -0.51020408 -0.26530612 -0.02040816  0.2244898\n",
      "  0.46938776  0.71428571  0.95918367  1.20408163  1.44897959  1.69387755\n",
      "  1.93877551  2.18367347  2.42857143  2.67346939  2.91836735  3.16326531\n",
      "  3.40816327  3.65306122  3.89795918  4.14285714  4.3877551   4.63265306\n",
      "  4.87755102  5.12244898  5.36734694  5.6122449   5.85714286  6.10204082\n",
      "  6.34693878  6.59183673  6.83673469  7.08163265  7.32653061  7.57142857\n",
      "  7.81632653  8.06122449  8.30612245  8.55102041  8.79591837  9.04081633\n",
      "  9.28571429  9.53061224  9.7755102  10.02040816 10.26530612 10.51020408\n",
      " 10.75510204 11.        ]\n"
     ]
    }
   ],
   "source": [
    "# 5. 모델을 새 데이터에 대해서 적용\n",
    "xfit = np.linspace(-1, 11) # -1 ~ 11 까지의 기본값(50개)만큼 1차원 배열 생성 \n",
    "print(xfit)  # 새 데이터         \n",
    "Xfit = xfit[:, np.newaxis]  # 2차원 배열로 확대 \n",
    "yfit = model.predict(Xfit)  # 새로운 데이터 적용으로 예측"
   ]
  },
  {
   "cell_type": "code",
   "execution_count": 49,
   "id": "f9cdd2cc",
   "metadata": {},
   "outputs": [
    {
     "data": {
      "image/png": "[encoded data removed]",
      "text/plain": [
       "<Figure size 432x288 with 1 Axes>"
      ]
     },
     "metadata": {},
     "output_type": "display_data"
    }
   ],
   "source": [
    "plt.scatter(x,y)\n",
    "plt.plot(xfit, yfit, '--r'); # ; = plt.show()\n",
    "# 빨간선 예측 값"
   ]
  },
  {
   "cell_type": "code",
   "execution_count": null,
   "id": "9050f8e9",
   "metadata": {},
   "outputs": [],
   "source": []
  }
 ],
 "metadata": {
  "kernelspec": {
   "display_name": "Python 3",
   "language": "python",
   "name": "python3"
  },
  "language_info": {
   "codemirror_mode": {
    "name": "ipython",
    "version": 3
   },
   "file_extension": ".py",
   "mimetype": "text/x-python",
   "name": "python",
   "nbconvert_exporter": "python",
   "pygments_lexer": "ipython3",
   "version": "3.8.8"
  }
 },
 "nbformat": 4,
 "nbformat_minor": 5
}
