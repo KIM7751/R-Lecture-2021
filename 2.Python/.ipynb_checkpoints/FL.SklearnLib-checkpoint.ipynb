{
 "cells": [
  {
   "cell_type": "code",
   "execution_count": 1,
   "id": "c675776d",
   "metadata": {},
   "outputs": [],
   "source": [
    "import numpy as np\n",
    "import matplotlib.pyplot as plt\n",
    "plt.style.use(['seaborn-whitegrid'])"
   ]
  },
  {
   "cell_type": "code",
   "execution_count": 2,
   "id": "1e292680",
   "metadata": {},
   "outputs": [],
   "source": [
    "# API 사용 예제"
   ]
  },
  {
   "cell_type": "code",
   "execution_count": 3,
   "id": "81c5166f",
   "metadata": {},
   "outputs": [
    {
     "data": {
      "image/png": "[encoded data removed]",
      "text/plain": [
       "<Figure size 432x288 with 1 Axes>"
      ]
     },
     "metadata": {},
     "output_type": "display_data"
    }
   ],
   "source": [
    "x = 10 * np.random.rand(50)\n",
    "y = 2 * x + np.random.rand(50)\n",
    "plt.scatter(x,y)\n",
    "plt.show()"
   ]
  },
  {
   "cell_type": "code",
   "execution_count": 4,
   "id": "cc94b832",
   "metadata": {},
   "outputs": [],
   "source": [
    "# 1. Scikit-Learn으로부터 적절한 estimator 클래스를 임포트해서 모델의 클래스 선택\n",
    "from sklearn.linear_model import LinearRegression \n",
    "# linear_model 모듈에서 LinearRegression 클래스를 가져온 것"
   ]
  },
  {
   "cell_type": "code",
   "execution_count": 5,
   "id": "34285b05",
   "metadata": {},
   "outputs": [],
   "source": [
    "# 2. 클래스를 원하는 값으로 인스턴스화해서 모델의 하이퍼파라미터 선택\n",
    "model = LinearRegression(fit_intercept=True)\n",
    "# fit_intercept=True 라는 하이퍼파라미터 지정(상수)"
   ]
  },
  {
   "cell_type": "code",
   "execution_count": 6,
   "id": "b6fd9b75",
   "metadata": {},
   "outputs": [
    {
     "name": "stdout",
     "output_type": "stream",
     "text": [
      "(50,)\n",
      "(50, 1)\n"
     ]
    },
    {
     "data": {
      "text/plain": [
       "array([[6.47526182],\n",
       "       [9.04329179],\n",
       "       [4.70975153],\n",
       "       [8.17251582],\n",
       "       [6.59261485],\n",
       "       [3.21390163],\n",
       "       [0.53672496],\n",
       "       [8.43272949],\n",
       "       [4.50713726],\n",
       "       [1.86311812],\n",
       "       [0.77140875],\n",
       "       [3.93580036],\n",
       "       [7.04976638],\n",
       "       [8.4208505 ],\n",
       "       [7.22173693],\n",
       "       [5.5813196 ],\n",
       "       [5.70562396],\n",
       "       [0.79414978],\n",
       "       [1.18940271],\n",
       "       [8.61068189],\n",
       "       [4.19044753],\n",
       "       [9.48237441],\n",
       "       [2.61578796],\n",
       "       [7.47686615],\n",
       "       [7.76453411],\n",
       "       [9.41035695],\n",
       "       [0.90536793],\n",
       "       [4.46025345],\n",
       "       [8.48796082],\n",
       "       [9.68167454],\n",
       "       [9.17624686],\n",
       "       [9.82425008],\n",
       "       [6.42958818],\n",
       "       [7.90686486],\n",
       "       [3.3049338 ],\n",
       "       [9.72817217],\n",
       "       [4.42849835],\n",
       "       [9.98165856],\n",
       "       [9.61942428],\n",
       "       [4.58353028],\n",
       "       [8.1397684 ],\n",
       "       [9.89944132],\n",
       "       [7.24309684],\n",
       "       [0.12100685],\n",
       "       [9.29031956],\n",
       "       [7.54791051],\n",
       "       [4.70729221],\n",
       "       [5.44983161],\n",
       "       [5.65458691],\n",
       "       [8.12649332]])"
      ]
     },
     "execution_count": 6,
     "metadata": {},
     "output_type": "execute_result"
    }
   ],
   "source": [
    "# 3. 데이터를 특징 배열과 대상 벡터로 배치\n",
    "print(x.shape)  # 기존의 x는 이러한 형태를 가지고 있다.\n",
    "X = x[:, np.newaxis] # 축을 하나 추가 시켜 2차원 배열로 만듦(차원을 늘림)\n",
    "print(X.shape)\n",
    "X"
   ]
  },
  {
   "cell_type": "code",
   "execution_count": 7,
   "id": "79614972",
   "metadata": {},
   "outputs": [
    {
     "data": {
      "text/plain": [
       "LinearRegression()"
      ]
     },
     "execution_count": 7,
     "metadata": {},
     "output_type": "execute_result"
    }
   ],
   "source": [
    "# 4. 모델 인스턴스의 fit() 메서드를 호출해 모델을 데이터에 적합\n",
    "model.fit(X, y)"
   ]
  },
  {
   "cell_type": "code",
   "execution_count": 8,
   "id": "5e48dc30",
   "metadata": {},
   "outputs": [
    {
     "data": {
      "text/plain": [
       "array([1.98310858])"
      ]
     },
     "execution_count": 8,
     "metadata": {},
     "output_type": "execute_result"
    }
   ],
   "source": [
    "model.coef_"
   ]
  },
  {
   "cell_type": "code",
   "execution_count": 9,
   "id": "6448b4c3",
   "metadata": {},
   "outputs": [
    {
     "data": {
      "text/plain": [
       "0.5925158830268202"
      ]
     },
     "execution_count": 9,
     "metadata": {},
     "output_type": "execute_result"
    }
   ],
   "source": [
    "model.intercept_"
   ]
  },
  {
   "cell_type": "code",
   "execution_count": 10,
   "id": "6b7b410c",
   "metadata": {
    "scrolled": true
   },
   "outputs": [
    {
     "name": "stdout",
     "output_type": "stream",
     "text": [
      "[-1.         -0.75510204 -0.51020408 -0.26530612 -0.02040816  0.2244898\n",
      "  0.46938776  0.71428571  0.95918367  1.20408163  1.44897959  1.69387755\n",
      "  1.93877551  2.18367347  2.42857143  2.67346939  2.91836735  3.16326531\n",
      "  3.40816327  3.65306122  3.89795918  4.14285714  4.3877551   4.63265306\n",
      "  4.87755102  5.12244898  5.36734694  5.6122449   5.85714286  6.10204082\n",
      "  6.34693878  6.59183673  6.83673469  7.08163265  7.32653061  7.57142857\n",
      "  7.81632653  8.06122449  8.30612245  8.55102041  8.79591837  9.04081633\n",
      "  9.28571429  9.53061224  9.7755102  10.02040816 10.26530612 10.51020408\n",
      " 10.75510204 11.        ]\n"
     ]
    }
   ],
   "source": [
    "# 5. 모델을 새 데이터에 대해서 적용\n",
    "xfit = np.linspace(-1, 11) # -1 ~ 11 까지의 기본값(50개)만큼 1차원 배열 생성 \n",
    "print(xfit)  # 새 데이터         \n",
    "Xfit = xfit[:, np.newaxis]  # 2차원 배열로 확대 \n",
    "yfit = model.predict(Xfit)  # 새로운 데이터 적용으로 예측"
   ]
  },
  {
   "cell_type": "code",
   "execution_count": 11,
   "id": "f9cdd2cc",
   "metadata": {},
   "outputs": [
    {
     "data": {
      "image/png": "[encoded data removed]",
      "text/plain": [
       "<Figure size 432x288 with 1 Axes>"
      ]
     },
     "metadata": {},
     "output_type": "display_data"
    }
   ],
   "source": [
    "plt.scatter(x,y)\n",
    "plt.plot(xfit, yfit, '--r'); # ; = plt.show()\n",
    "# 빨간선 예측 값"
   ]
  },
  {
   "cell_type": "code",
   "execution_count": 12,
   "id": "9050f8e9",
   "metadata": {},
   "outputs": [],
   "source": [
    "# 사이킷런 데이터 세트 불러오기\n",
    "from sklearn.datasets import load_diabetes # 당뇨"
   ]
  },
  {
   "cell_type": "code",
   "execution_count": 13,
   "id": "2fc80b24",
   "metadata": {},
   "outputs": [
    {
     "name": "stdout",
     "output_type": "stream",
     "text": [
      "dict_keys(['data', 'target', 'frame', 'DESCR', 'feature_names', 'data_filename', 'target_filename'])\n"
     ]
    }
   ],
   "source": [
    "diabetes = load_diabetes()\n",
    "print(diabetes.keys()) # 예제 데이터셋은 딕셔너리화 되어있음. "
   ]
  },
  {
   "cell_type": "code",
   "execution_count": 14,
   "id": "f37ba381",
   "metadata": {},
   "outputs": [
    {
     "name": "stdout",
     "output_type": "stream",
     "text": [
      "[[ 0.03807591  0.05068012  0.06169621 ... -0.00259226  0.01990842\n",
      "  -0.01764613]\n",
      " [-0.00188202 -0.04464164 -0.05147406 ... -0.03949338 -0.06832974\n",
      "  -0.09220405]\n",
      " [ 0.08529891  0.05068012  0.04445121 ... -0.00259226  0.00286377\n",
      "  -0.02593034]\n",
      " ...\n",
      " [ 0.04170844  0.05068012 -0.01590626 ... -0.01107952 -0.04687948\n",
      "   0.01549073]\n",
      " [-0.04547248 -0.04464164  0.03906215 ...  0.02655962  0.04452837\n",
      "  -0.02593034]\n",
      " [-0.04547248 -0.04464164 -0.0730303  ... -0.03949338 -0.00421986\n",
      "   0.00306441]]\n"
     ]
    }
   ],
   "source": [
    "print(diabetes.data) # 변수들에 데이터가 포함되어있음"
   ]
  },
  {
   "cell_type": "code",
   "execution_count": 15,
   "id": "2736a244",
   "metadata": {},
   "outputs": [
    {
     "name": "stdout",
     "output_type": "stream",
     "text": [
      "[151.  75. 141. 206. 135.  97. 138.  63. 110. 310. 101.  69. 179. 185.\n",
      " 118. 171. 166. 144.  97. 168.  68.  49.  68. 245. 184. 202. 137.  85.\n",
      " 131. 283. 129.  59. 341.  87.  65. 102. 265. 276. 252.  90. 100.  55.\n",
      "  61.  92. 259.  53. 190. 142.  75. 142. 155. 225.  59. 104. 182. 128.\n",
      "  52.  37. 170. 170.  61. 144.  52. 128.  71. 163. 150.  97. 160. 178.\n",
      "  48. 270. 202. 111.  85.  42. 170. 200. 252. 113. 143.  51.  52. 210.\n",
      "  65. 141.  55. 134.  42. 111.  98. 164.  48.  96.  90. 162. 150. 279.\n",
      "  92.  83. 128. 102. 302. 198.  95.  53. 134. 144. 232.  81. 104.  59.\n",
      " 246. 297. 258. 229. 275. 281. 179. 200. 200. 173. 180.  84. 121. 161.\n",
      "  99. 109. 115. 268. 274. 158. 107.  83. 103. 272.  85. 280. 336. 281.\n",
      " 118. 317. 235.  60. 174. 259. 178. 128.  96. 126. 288.  88. 292.  71.\n",
      " 197. 186.  25.  84.  96. 195.  53. 217. 172. 131. 214.  59.  70. 220.\n",
      " 268. 152.  47.  74. 295. 101. 151. 127. 237. 225.  81. 151. 107.  64.\n",
      " 138. 185. 265. 101. 137. 143. 141.  79. 292. 178.  91. 116.  86. 122.\n",
      "  72. 129. 142.  90. 158.  39. 196. 222. 277.  99. 196. 202. 155.  77.\n",
      " 191.  70.  73.  49.  65. 263. 248. 296. 214. 185.  78.  93. 252. 150.\n",
      "  77. 208.  77. 108. 160.  53. 220. 154. 259.  90. 246. 124.  67.  72.\n",
      " 257. 262. 275. 177.  71.  47. 187. 125.  78.  51. 258. 215. 303. 243.\n",
      "  91. 150. 310. 153. 346.  63.  89.  50.  39. 103. 308. 116. 145.  74.\n",
      "  45. 115. 264.  87. 202. 127. 182. 241.  66.  94. 283.  64. 102. 200.\n",
      " 265.  94. 230. 181. 156. 233.  60. 219.  80.  68. 332. 248.  84. 200.\n",
      "  55.  85.  89.  31. 129.  83. 275.  65. 198. 236. 253. 124.  44. 172.\n",
      " 114. 142. 109. 180. 144. 163. 147.  97. 220. 190. 109. 191. 122. 230.\n",
      " 242. 248. 249. 192. 131. 237.  78. 135. 244. 199. 270. 164.  72.  96.\n",
      " 306.  91. 214.  95. 216. 263. 178. 113. 200. 139. 139.  88. 148.  88.\n",
      " 243.  71.  77. 109. 272.  60.  54. 221.  90. 311. 281. 182. 321.  58.\n",
      " 262. 206. 233. 242. 123. 167.  63. 197.  71. 168. 140. 217. 121. 235.\n",
      " 245.  40.  52. 104. 132.  88.  69. 219.  72. 201. 110.  51. 277.  63.\n",
      " 118.  69. 273. 258.  43. 198. 242. 232. 175.  93. 168. 275. 293. 281.\n",
      "  72. 140. 189. 181. 209. 136. 261. 113. 131. 174. 257.  55.  84.  42.\n",
      " 146. 212. 233.  91. 111. 152. 120.  67. 310.  94. 183.  66. 173.  72.\n",
      "  49.  64.  48. 178. 104. 132. 220.  57.]\n"
     ]
    }
   ],
   "source": [
    "print(diabetes.target) # 레이블을 알 수 있음\n",
    "# 타겟은 사과 -> 1 배 -> 2 이런식으로 표현했다고 인식해보자"
   ]
  },
  {
   "cell_type": "code",
   "execution_count": 16,
   "id": "14178690",
   "metadata": {
    "scrolled": false
   },
   "outputs": [
    {
     "name": "stdout",
     "output_type": "stream",
     "text": [
      ".. _diabetes_dataset:\n",
      "\n",
      "Diabetes dataset\n",
      "----------------\n",
      "\n",
      "Ten baseline variables, age, sex, body mass index, average blood\n",
      "pressure, and six blood serum measurements were obtained for each of n =\n",
      "442 diabetes patients, as well as the response of interest, a\n",
      "quantitative measure of disease progression one year after baseline.\n",
      "\n",
      "**Data Set Characteristics:**\n",
      "\n",
      "  :Number of Instances: 442\n",
      "\n",
      "  :Number of Attributes: First 10 columns are numeric predictive values\n",
      "\n",
      "  :Target: Column 11 is a quantitative measure of disease progression one year after baseline\n",
      "\n",
      "  :Attribute Information:\n",
      "      - age     age in years\n",
      "      - sex\n",
      "      - bmi     body mass index\n",
      "      - bp      average blood pressure\n",
      "      - s1      tc, T-Cells (a type of white blood cells)\n",
      "      - s2      ldl, low-density lipoproteins\n",
      "      - s3      hdl, high-density lipoproteins\n",
      "      - s4      tch, thyroid stimulating hormone\n",
      "      - s5      ltg, lamotrigine\n",
      "      - s6      glu, blood sugar level\n",
      "\n",
      "Note: Each of these 10 feature variables have been mean centered and scaled by the standard deviation times `n_samples` (i.e. the sum of squares of each column totals 1).\n",
      "\n",
      "Source URL:\n",
      "https://www4.stat.ncsu.edu/~boos/var.select/diabetes.html\n",
      "\n",
      "For more information see:\n",
      "Bradley Efron, Trevor Hastie, Iain Johnstone and Robert Tibshirani (2004) \"Least Angle Regression,\" Annals of Statistics (with discussion), 407-499.\n",
      "(https://web.stanford.edu/~hastie/Papers/LARS/LeastAngle_2002.pdf)\n"
     ]
    }
   ],
   "source": [
    "print(diabetes.DESCR) # 자세한 정보, 출처 제공"
   ]
  },
  {
   "cell_type": "code",
   "execution_count": 17,
   "id": "cef6ae1f",
   "metadata": {},
   "outputs": [
    {
     "name": "stdout",
     "output_type": "stream",
     "text": [
      "['age', 'sex', 'bmi', 'bp', 's1', 's2', 's3', 's4', 's5', 's6']\n"
     ]
    }
   ],
   "source": [
    "print(diabetes.feature_names) # 변수 이름 표시(독립변수)"
   ]
  },
  {
   "cell_type": "code",
   "execution_count": 18,
   "id": "682faec1",
   "metadata": {},
   "outputs": [
    {
     "name": "stdout",
     "output_type": "stream",
     "text": [
      "C:\\ProgramData\\Anaconda3\\lib\\site-packages\\sklearn\\datasets\\data\\diabetes_data.csv.gz\n",
      "C:\\ProgramData\\Anaconda3\\lib\\site-packages\\sklearn\\datasets\\data\\diabetes_target.csv.gz\n"
     ]
    }
   ],
   "source": [
    "print(diabetes.data_filename)\n",
    "print(diabetes.target_filename) # 경로 위치 파악 가능"
   ]
  },
  {
   "cell_type": "code",
   "execution_count": 19,
   "id": "22e3ded1",
   "metadata": {},
   "outputs": [],
   "source": [
    "## model_selection 모듈\n",
    "# 학습용 데이터와 테스트 데이터로 분리\n",
    "# 교차 검증 분할 및 평가\n",
    "# Estimator의 하이퍼파라미터 튜닝을 위한 다양한 함수와 클래스 제공"
   ]
  },
  {
   "cell_type": "code",
   "execution_count": 20,
   "id": "1d4d2155",
   "metadata": {},
   "outputs": [],
   "source": [
    "# train_test_split() 학습/테스트 데이터 세트 분리"
   ]
  },
  {
   "cell_type": "code",
   "execution_count": 21,
   "id": "6a8d8d43",
   "metadata": {},
   "outputs": [],
   "source": [
    "from sklearn.linear_model import LinearRegression\n",
    "from sklearn.model_selection import train_test_split\n",
    "from sklearn.datasets import load_diabetes\n",
    "\n",
    "diabetes = load_diabetes()\n",
    "X_train, X_test, y_train, y_test = train_test_split(diabetes.data, diabetes.target, test_size=0.3)\n",
    "# 총 4개로 split 됨\n",
    "# X(여러개의 feature들을 하나로 나타냄, 매트릭스 2차원 대문자) 독립변수\n",
    "# y(타겟 즉, 레이블은 벡터 1차원이므로 소문자로 표현)          종속변수\n",
    "# test_size 최대 1(100%)\n",
    "# 비율은 유지 되지만 섞이는 값들은 달라짐"
   ]
  },
  {
   "cell_type": "code",
   "execution_count": 22,
   "id": "9445f8fc",
   "metadata": {},
   "outputs": [
    {
     "name": "stdout",
     "output_type": "stream",
     "text": [
      "(309, 10)\n",
      "(309,)\n",
      "(133, 10)\n",
      "(133,)\n"
     ]
    }
   ],
   "source": [
    "print(X_train.shape)\n",
    "print(y_train.shape)\n",
    "print(X_test.shape)\n",
    "print(y_test.shape)"
   ]
  },
  {
   "cell_type": "code",
   "execution_count": 23,
   "id": "f788c222",
   "metadata": {},
   "outputs": [
    {
     "name": "stdout",
     "output_type": "stream",
     "text": [
      "학습 데이터 점수: 0.48484136611793693\n",
      "평가 데이터 점수: 0.5781343969790147\n"
     ]
    }
   ],
   "source": [
    "model = LinearRegression()\n",
    "model.fit(X_train, y_train) # 학습용\n",
    "\n",
    "# 모델 점수 평가(1에 가까워야 하는데 한참 모자람)\n",
    "print(\"학습 데이터 점수: {}\".format(model.score(X_train,y_train)))\n",
    "print(\"평가 데이터 점수: {}\".format(model.score(X_test,y_test)))"
   ]
  },
  {
   "cell_type": "code",
   "execution_count": 24,
   "id": "d1e73efc",
   "metadata": {},
   "outputs": [
    {
     "data": {
      "image/png": "[encoded data removed]",
      "text/plain": [
       "<Figure size 576x288 with 1 Axes>"
      ]
     },
     "metadata": {},
     "output_type": "display_data"
    }
   ],
   "source": [
    "predicted = model.predict(X_test)\n",
    "expected = y_test\n",
    "plt.figure(figsize=(8, 4))\n",
    "plt.scatter(expected, predicted); \n",
    "plt.plot([30, 350], [30, 350], '--r');\n",
    "plt.tight_layout() # 여백에 관련된 파라미터 조절\n",
    "# 빨간선에 가까울수록 잘 맞춘거지만 넓게 분산되어있음\n",
    "# 잘 맞추기 위해서는 1. 모델을 다른 것 이용 2. 데이터 전처리"
   ]
  },
  {
   "cell_type": "code",
   "execution_count": 25,
   "id": "4d539c79",
   "metadata": {
    "scrolled": true
   },
   "outputs": [],
   "source": [
    "# cross_val_score() 교차검증"
   ]
  },
  {
   "cell_type": "code",
   "execution_count": 26,
   "id": "da90d3ae",
   "metadata": {},
   "outputs": [],
   "source": [
    "from sklearn.model_selection import cross_val_score, cross_validate"
   ]
  },
  {
   "cell_type": "code",
   "execution_count": 27,
   "id": "c2dfbaf4",
   "metadata": {},
   "outputs": [],
   "source": [
    "scores = cross_val_score(model, diabetes.data, diabetes.target, cv=5)\n",
    "# cv = 교차검증을 위해 몇 개로 나눌건지 선택"
   ]
  },
  {
   "cell_type": "code",
   "execution_count": 28,
   "id": "1c99304f",
   "metadata": {
    "scrolled": true
   },
   "outputs": [
    {
     "name": "stdout",
     "output_type": "stream",
     "text": [
      "교차 검증 정확도: [0.42955643 0.52259828 0.4826784  0.42650827 0.55024923]\n",
      "교차 검증 정확도: 0.4823181221114939 +/- 0.04926619776563216\n"
     ]
    }
   ],
   "source": [
    "print(\"교차 검증 정확도: {}\".format(scores))\n",
    "print(\"교차 검증 정확도: {} +/- {}\".format(np.mean(scores),np.std(scores)))\n",
    "# mean 산술평균 / std 표준편차"
   ]
  },
  {
   "cell_type": "code",
   "execution_count": 29,
   "id": "a782c2bf",
   "metadata": {},
   "outputs": [],
   "source": [
    "# 모형 최적화 : 머신 러닝 모형이 완성된 후에는 최적화 과정을 통해 예측 성능을 향상시킨다.\n",
    "# GridSearchCV() 교차 검증과 최적 하이퍼파라미터 찾기\n",
    "# 훈련단계에서 학습한 파라미터에 영향을 받아서 최상의 파라미터를 찾는 일은 매우 어려움"
   ]
  },
  {
   "cell_type": "code",
   "execution_count": 30,
   "id": "6a9d96d3",
   "metadata": {},
   "outputs": [],
   "source": [
    "# GridSearchCV()\n",
    "# grid_scores_\n",
    "# param_grid 의 모든 파리미터 조합에 대한 성능 결과. 각각의 원소는 다음 요소로 이루어진 튜플이다.\n",
    "# parameters: 사용된 파라미터\n",
    "# mean_validation_score: 교차 검증(cross-validation) 결과의 평균값\n",
    "# cv_validation_scores: 모든 교차 검증(cross-validation) 결과\n",
    "# best_score_ 최고 점수\n",
    "# best_params_ 최고 점수를 낸 파라미터\n",
    "# best_estimator_ 최고 점수를 낸 파라미터를 가진 모형"
   ]
  },
  {
   "cell_type": "code",
   "execution_count": 31,
   "id": "6e59f2e8",
   "metadata": {},
   "outputs": [],
   "source": [
    "from sklearn.model_selection import GridSearchCV\n",
    "from sklearn.linear_model import Ridge\n",
    "import pandas as pd"
   ]
  },
  {
   "cell_type": "code",
   "execution_count": 32,
   "id": "c879c61b",
   "metadata": {},
   "outputs": [
    {
     "name": "stdout",
     "output_type": "stream",
     "text": [
      "최적 점수: 0.46332405415175926\n",
      "최적 파라미터: {'alpha': 0.1}\n",
      "Ridge(alpha=0.1)\n"
     ]
    },
    {
     "data": {
      "text/html": [
       "<div>\n",
       "<style scoped>\n",
       "    .dataframe tbody tr th:only-of-type {\n",
       "        vertical-align: middle;\n",
       "    }\n",
       "\n",
       "    .dataframe tbody tr th {\n",
       "        vertical-align: top;\n",
       "    }\n",
       "\n",
       "    .dataframe thead th {\n",
       "        text-align: right;\n",
       "    }\n",
       "</style>\n",
       "<table border=\"1\" class=\"dataframe\">\n",
       "  <thead>\n",
       "    <tr style=\"text-align: right;\">\n",
       "      <th></th>\n",
       "      <th>mean_fit_time</th>\n",
       "      <th>std_fit_time</th>\n",
       "      <th>mean_score_time</th>\n",
       "      <th>std_score_time</th>\n",
       "      <th>param_alpha</th>\n",
       "      <th>params</th>\n",
       "      <th>split0_test_score</th>\n",
       "      <th>split1_test_score</th>\n",
       "      <th>split2_test_score</th>\n",
       "      <th>split3_test_score</th>\n",
       "      <th>split4_test_score</th>\n",
       "      <th>split5_test_score</th>\n",
       "      <th>split6_test_score</th>\n",
       "      <th>split7_test_score</th>\n",
       "      <th>split8_test_score</th>\n",
       "      <th>split9_test_score</th>\n",
       "      <th>mean_test_score</th>\n",
       "      <th>std_test_score</th>\n",
       "      <th>rank_test_score</th>\n",
       "    </tr>\n",
       "  </thead>\n",
       "  <tbody>\n",
       "    <tr>\n",
       "      <th>0</th>\n",
       "      <td>0.002495</td>\n",
       "      <td>0.003225</td>\n",
       "      <td>0.000599</td>\n",
       "      <td>0.000489</td>\n",
       "      <td>0.001</td>\n",
       "      <td>{'alpha': 0.001}</td>\n",
       "      <td>0.554415</td>\n",
       "      <td>0.233686</td>\n",
       "      <td>0.356799</td>\n",
       "      <td>0.620259</td>\n",
       "      <td>0.267033</td>\n",
       "      <td>0.619397</td>\n",
       "      <td>0.419907</td>\n",
       "      <td>0.433019</td>\n",
       "      <td>0.433431</td>\n",
       "      <td>0.684984</td>\n",
       "      <td>0.462293</td>\n",
       "      <td>0.145848</td>\n",
       "      <td>3</td>\n",
       "    </tr>\n",
       "    <tr>\n",
       "      <th>1</th>\n",
       "      <td>0.001099</td>\n",
       "      <td>0.000298</td>\n",
       "      <td>0.000100</td>\n",
       "      <td>0.000300</td>\n",
       "      <td>0.01</td>\n",
       "      <td>{'alpha': 0.01}</td>\n",
       "      <td>0.546297</td>\n",
       "      <td>0.244132</td>\n",
       "      <td>0.368901</td>\n",
       "      <td>0.613732</td>\n",
       "      <td>0.271717</td>\n",
       "      <td>0.623089</td>\n",
       "      <td>0.426074</td>\n",
       "      <td>0.424759</td>\n",
       "      <td>0.429484</td>\n",
       "      <td>0.680912</td>\n",
       "      <td>0.462910</td>\n",
       "      <td>0.141446</td>\n",
       "      <td>2</td>\n",
       "    </tr>\n",
       "    <tr>\n",
       "      <th>2</th>\n",
       "      <td>0.001096</td>\n",
       "      <td>0.000299</td>\n",
       "      <td>0.000199</td>\n",
       "      <td>0.000399</td>\n",
       "      <td>0.1</td>\n",
       "      <td>{'alpha': 0.1}</td>\n",
       "      <td>0.526550</td>\n",
       "      <td>0.244987</td>\n",
       "      <td>0.383530</td>\n",
       "      <td>0.606594</td>\n",
       "      <td>0.286094</td>\n",
       "      <td>0.618033</td>\n",
       "      <td>0.431230</td>\n",
       "      <td>0.441788</td>\n",
       "      <td>0.431968</td>\n",
       "      <td>0.662466</td>\n",
       "      <td>0.463324</td>\n",
       "      <td>0.132681</td>\n",
       "      <td>1</td>\n",
       "    </tr>\n",
       "    <tr>\n",
       "      <th>3</th>\n",
       "      <td>0.001196</td>\n",
       "      <td>0.000397</td>\n",
       "      <td>0.000499</td>\n",
       "      <td>0.000499</td>\n",
       "      <td>1</td>\n",
       "      <td>{'alpha': 1}</td>\n",
       "      <td>0.421593</td>\n",
       "      <td>0.168442</td>\n",
       "      <td>0.358004</td>\n",
       "      <td>0.512608</td>\n",
       "      <td>0.284928</td>\n",
       "      <td>0.514264</td>\n",
       "      <td>0.388246</td>\n",
       "      <td>0.484448</td>\n",
       "      <td>0.396502</td>\n",
       "      <td>0.525132</td>\n",
       "      <td>0.405417</td>\n",
       "      <td>0.108385</td>\n",
       "      <td>4</td>\n",
       "    </tr>\n",
       "    <tr>\n",
       "      <th>4</th>\n",
       "      <td>0.000998</td>\n",
       "      <td>0.000448</td>\n",
       "      <td>0.000499</td>\n",
       "      <td>0.000499</td>\n",
       "      <td>10</td>\n",
       "      <td>{'alpha': 10}</td>\n",
       "      <td>0.159386</td>\n",
       "      <td>-0.081177</td>\n",
       "      <td>0.152190</td>\n",
       "      <td>0.165690</td>\n",
       "      <td>0.119349</td>\n",
       "      <td>0.186933</td>\n",
       "      <td>0.158147</td>\n",
       "      <td>0.203748</td>\n",
       "      <td>0.153627</td>\n",
       "      <td>0.189440</td>\n",
       "      <td>0.140733</td>\n",
       "      <td>0.077298</td>\n",
       "      <td>5</td>\n",
       "    </tr>\n",
       "    <tr>\n",
       "      <th>5</th>\n",
       "      <td>0.000798</td>\n",
       "      <td>0.000399</td>\n",
       "      <td>0.000599</td>\n",
       "      <td>0.000489</td>\n",
       "      <td>100</td>\n",
       "      <td>{'alpha': 100}</td>\n",
       "      <td>0.012468</td>\n",
       "      <td>-0.234480</td>\n",
       "      <td>0.013522</td>\n",
       "      <td>-0.012820</td>\n",
       "      <td>0.004838</td>\n",
       "      <td>0.022647</td>\n",
       "      <td>0.022028</td>\n",
       "      <td>-0.009908</td>\n",
       "      <td>0.015589</td>\n",
       "      <td>0.026427</td>\n",
       "      <td>-0.013969</td>\n",
       "      <td>0.074561</td>\n",
       "      <td>6</td>\n",
       "    </tr>\n",
       "    <tr>\n",
       "      <th>6</th>\n",
       "      <td>0.001297</td>\n",
       "      <td>0.000638</td>\n",
       "      <td>0.000796</td>\n",
       "      <td>0.000398</td>\n",
       "      <td>1000</td>\n",
       "      <td>{'alpha': 1000}</td>\n",
       "      <td>-0.009602</td>\n",
       "      <td>-0.258118</td>\n",
       "      <td>-0.007849</td>\n",
       "      <td>-0.038479</td>\n",
       "      <td>-0.012933</td>\n",
       "      <td>-0.000932</td>\n",
       "      <td>0.001768</td>\n",
       "      <td>-0.042679</td>\n",
       "      <td>-0.004652</td>\n",
       "      <td>0.002744</td>\n",
       "      <td>-0.037073</td>\n",
       "      <td>0.075191</td>\n",
       "      <td>7</td>\n",
       "    </tr>\n",
       "  </tbody>\n",
       "</table>\n",
       "</div>"
      ],
      "text/plain": [
       "   mean_fit_time  std_fit_time  mean_score_time  std_score_time param_alpha  \\\n",
       "0       0.002495      0.003225         0.000599        0.000489       0.001   \n",
       "1       0.001099      0.000298         0.000100        0.000300        0.01   \n",
       "2       0.001096      0.000299         0.000199        0.000399         0.1   \n",
       "3       0.001196      0.000397         0.000499        0.000499           1   \n",
       "4       0.000998      0.000448         0.000499        0.000499          10   \n",
       "5       0.000798      0.000399         0.000599        0.000489         100   \n",
       "6       0.001297      0.000638         0.000796        0.000398        1000   \n",
       "\n",
       "             params  split0_test_score  split1_test_score  split2_test_score  \\\n",
       "0  {'alpha': 0.001}           0.554415           0.233686           0.356799   \n",
       "1   {'alpha': 0.01}           0.546297           0.244132           0.368901   \n",
       "2    {'alpha': 0.1}           0.526550           0.244987           0.383530   \n",
       "3      {'alpha': 1}           0.421593           0.168442           0.358004   \n",
       "4     {'alpha': 10}           0.159386          -0.081177           0.152190   \n",
       "5    {'alpha': 100}           0.012468          -0.234480           0.013522   \n",
       "6   {'alpha': 1000}          -0.009602          -0.258118          -0.007849   \n",
       "\n",
       "   split3_test_score  split4_test_score  split5_test_score  split6_test_score  \\\n",
       "0           0.620259           0.267033           0.619397           0.419907   \n",
       "1           0.613732           0.271717           0.623089           0.426074   \n",
       "2           0.606594           0.286094           0.618033           0.431230   \n",
       "3           0.512608           0.284928           0.514264           0.388246   \n",
       "4           0.165690           0.119349           0.186933           0.158147   \n",
       "5          -0.012820           0.004838           0.022647           0.022028   \n",
       "6          -0.038479          -0.012933          -0.000932           0.001768   \n",
       "\n",
       "   split7_test_score  split8_test_score  split9_test_score  mean_test_score  \\\n",
       "0           0.433019           0.433431           0.684984         0.462293   \n",
       "1           0.424759           0.429484           0.680912         0.462910   \n",
       "2           0.441788           0.431968           0.662466         0.463324   \n",
       "3           0.484448           0.396502           0.525132         0.405417   \n",
       "4           0.203748           0.153627           0.189440         0.140733   \n",
       "5          -0.009908           0.015589           0.026427        -0.013969   \n",
       "6          -0.042679          -0.004652           0.002744        -0.037073   \n",
       "\n",
       "   std_test_score  rank_test_score  \n",
       "0        0.145848                3  \n",
       "1        0.141446                2  \n",
       "2        0.132681                1  \n",
       "3        0.108385                4  \n",
       "4        0.077298                5  \n",
       "5        0.074561                6  \n",
       "6        0.075191                7  "
      ]
     },
     "execution_count": 32,
     "metadata": {},
     "output_type": "execute_result"
    }
   ],
   "source": [
    "alpha =[0.001, 0.01, 0.1, 1, 10, 100, 1000]\n",
    "param_grid = dict(alpha=alpha)\n",
    "\n",
    "gs = GridSearchCV(estimator=Ridge(), param_grid=param_grid, cv=10)\n",
    "result = gs.fit(diabetes.data, diabetes.target)\n",
    "\n",
    "print(\"최적 점수: {}\".format(result.best_score_))\n",
    "print(\"최적 파라미터: {}\".format(result.best_params_))\n",
    "print(gs.best_estimator_)\n",
    "pd.DataFrame(result.cv_results_)"
   ]
  },
  {
   "cell_type": "code",
   "execution_count": 33,
   "id": "6d08a24b",
   "metadata": {},
   "outputs": [
    {
     "data": {
      "text/plain": [
       "{'alpha': [0.001, 0.01, 0.1, 1, 10, 100, 1000]}"
      ]
     },
     "execution_count": 33,
     "metadata": {},
     "output_type": "execute_result"
    }
   ],
   "source": [
    "param_grid"
   ]
  },
  {
   "cell_type": "code",
   "execution_count": 34,
   "id": "22537f03",
   "metadata": {},
   "outputs": [],
   "source": [
    "# multiprocessing을 이용한 GridSearchCV"
   ]
  },
  {
   "cell_type": "code",
   "execution_count": 35,
   "id": "6dd238eb",
   "metadata": {},
   "outputs": [
    {
     "data": {
      "text/plain": [
       "{'alpha': [0.001, 0.01, 0.1, 1, 10, 100, 1000]}"
      ]
     },
     "execution_count": 35,
     "metadata": {},
     "output_type": "execute_result"
    }
   ],
   "source": [
    "param_grid"
   ]
  },
  {
   "cell_type": "code",
   "execution_count": 36,
   "id": "7d86b267",
   "metadata": {
    "scrolled": true
   },
   "outputs": [
    {
     "name": "stdout",
     "output_type": "stream",
     "text": [
      "최적 점수: 0.9800000000000001\n",
      "최적 파라미터: {'C': 2.4, 'penalty': 'l2'}\n",
      "LogisticRegression(C=2.4)\n"
     ]
    },
    {
     "name": "stderr",
     "output_type": "stream",
     "text": [
      "C:\\ProgramData\\Anaconda3\\lib\\site-packages\\sklearn\\model_selection\\_search.py:918: UserWarning: One or more of the test scores are non-finite: [       nan 0.96666667        nan 0.97333333        nan 0.97333333\n",
      "        nan 0.97333333        nan 0.97333333        nan 0.98      ]\n",
      "  warnings.warn(\n",
      "C:\\ProgramData\\Anaconda3\\lib\\site-packages\\sklearn\\linear_model\\_logistic.py:763: ConvergenceWarning: lbfgs failed to converge (status=1):\n",
      "STOP: TOTAL NO. of ITERATIONS REACHED LIMIT.\n",
      "\n",
      "Increase the number of iterations (max_iter) or scale the data as shown in:\n",
      "    https://scikit-learn.org/stable/modules/preprocessing.html\n",
      "Please also refer to the documentation for alternative solver options:\n",
      "    https://scikit-learn.org/stable/modules/linear_model.html#logistic-regression\n",
      "  n_iter_i = _check_optimize_result(\n"
     ]
    },
    {
     "data": {
      "text/html": [
       "<div>\n",
       "<style scoped>\n",
       "    .dataframe tbody tr th:only-of-type {\n",
       "        vertical-align: middle;\n",
       "    }\n",
       "\n",
       "    .dataframe tbody tr th {\n",
       "        vertical-align: top;\n",
       "    }\n",
       "\n",
       "    .dataframe thead th {\n",
       "        text-align: right;\n",
       "    }\n",
       "</style>\n",
       "<table border=\"1\" class=\"dataframe\">\n",
       "  <thead>\n",
       "    <tr style=\"text-align: right;\">\n",
       "      <th></th>\n",
       "      <th>mean_fit_time</th>\n",
       "      <th>std_fit_time</th>\n",
       "      <th>mean_score_time</th>\n",
       "      <th>std_score_time</th>\n",
       "      <th>param_C</th>\n",
       "      <th>param_penalty</th>\n",
       "      <th>params</th>\n",
       "      <th>split0_test_score</th>\n",
       "      <th>split1_test_score</th>\n",
       "      <th>split2_test_score</th>\n",
       "      <th>split3_test_score</th>\n",
       "      <th>split4_test_score</th>\n",
       "      <th>split5_test_score</th>\n",
       "      <th>split6_test_score</th>\n",
       "      <th>split7_test_score</th>\n",
       "      <th>split8_test_score</th>\n",
       "      <th>split9_test_score</th>\n",
       "      <th>mean_test_score</th>\n",
       "      <th>std_test_score</th>\n",
       "      <th>rank_test_score</th>\n",
       "    </tr>\n",
       "  </thead>\n",
       "  <tbody>\n",
       "    <tr>\n",
       "      <th>0</th>\n",
       "      <td>0.000998</td>\n",
       "      <td>0.000773</td>\n",
       "      <td>0.000000</td>\n",
       "      <td>0.000000</td>\n",
       "      <td>0.5</td>\n",
       "      <td>l1</td>\n",
       "      <td>{'C': 0.5, 'penalty': 'l1'}</td>\n",
       "      <td>NaN</td>\n",
       "      <td>NaN</td>\n",
       "      <td>NaN</td>\n",
       "      <td>NaN</td>\n",
       "      <td>NaN</td>\n",
       "      <td>NaN</td>\n",
       "      <td>NaN</td>\n",
       "      <td>NaN</td>\n",
       "      <td>NaN</td>\n",
       "      <td>NaN</td>\n",
       "      <td>NaN</td>\n",
       "      <td>NaN</td>\n",
       "      <td>7</td>\n",
       "    </tr>\n",
       "    <tr>\n",
       "      <th>1</th>\n",
       "      <td>0.131500</td>\n",
       "      <td>0.024676</td>\n",
       "      <td>0.000797</td>\n",
       "      <td>0.000399</td>\n",
       "      <td>0.5</td>\n",
       "      <td>l2</td>\n",
       "      <td>{'C': 0.5, 'penalty': 'l2'}</td>\n",
       "      <td>1.0</td>\n",
       "      <td>0.933333</td>\n",
       "      <td>1.0</td>\n",
       "      <td>0.933333</td>\n",
       "      <td>0.933333</td>\n",
       "      <td>0.933333</td>\n",
       "      <td>0.933333</td>\n",
       "      <td>1.0</td>\n",
       "      <td>1.0</td>\n",
       "      <td>1.0</td>\n",
       "      <td>0.966667</td>\n",
       "      <td>0.033333</td>\n",
       "      <td>6</td>\n",
       "    </tr>\n",
       "    <tr>\n",
       "      <th>2</th>\n",
       "      <td>0.000597</td>\n",
       "      <td>0.000487</td>\n",
       "      <td>0.000000</td>\n",
       "      <td>0.000000</td>\n",
       "      <td>1.0</td>\n",
       "      <td>l1</td>\n",
       "      <td>{'C': 1.0, 'penalty': 'l1'}</td>\n",
       "      <td>NaN</td>\n",
       "      <td>NaN</td>\n",
       "      <td>NaN</td>\n",
       "      <td>NaN</td>\n",
       "      <td>NaN</td>\n",
       "      <td>NaN</td>\n",
       "      <td>NaN</td>\n",
       "      <td>NaN</td>\n",
       "      <td>NaN</td>\n",
       "      <td>NaN</td>\n",
       "      <td>NaN</td>\n",
       "      <td>NaN</td>\n",
       "      <td>8</td>\n",
       "    </tr>\n",
       "    <tr>\n",
       "      <th>3</th>\n",
       "      <td>0.085122</td>\n",
       "      <td>0.016229</td>\n",
       "      <td>0.000599</td>\n",
       "      <td>0.000489</td>\n",
       "      <td>1.0</td>\n",
       "      <td>l2</td>\n",
       "      <td>{'C': 1.0, 'penalty': 'l2'}</td>\n",
       "      <td>1.0</td>\n",
       "      <td>0.933333</td>\n",
       "      <td>1.0</td>\n",
       "      <td>1.000000</td>\n",
       "      <td>0.933333</td>\n",
       "      <td>0.933333</td>\n",
       "      <td>0.933333</td>\n",
       "      <td>1.0</td>\n",
       "      <td>1.0</td>\n",
       "      <td>1.0</td>\n",
       "      <td>0.973333</td>\n",
       "      <td>0.032660</td>\n",
       "      <td>2</td>\n",
       "    </tr>\n",
       "    <tr>\n",
       "      <th>4</th>\n",
       "      <td>0.000499</td>\n",
       "      <td>0.000669</td>\n",
       "      <td>0.000000</td>\n",
       "      <td>0.000000</td>\n",
       "      <td>1.5</td>\n",
       "      <td>l1</td>\n",
       "      <td>{'C': 1.5, 'penalty': 'l1'}</td>\n",
       "      <td>NaN</td>\n",
       "      <td>NaN</td>\n",
       "      <td>NaN</td>\n",
       "      <td>NaN</td>\n",
       "      <td>NaN</td>\n",
       "      <td>NaN</td>\n",
       "      <td>NaN</td>\n",
       "      <td>NaN</td>\n",
       "      <td>NaN</td>\n",
       "      <td>NaN</td>\n",
       "      <td>NaN</td>\n",
       "      <td>NaN</td>\n",
       "      <td>9</td>\n",
       "    </tr>\n",
       "    <tr>\n",
       "      <th>5</th>\n",
       "      <td>0.078459</td>\n",
       "      <td>0.007634</td>\n",
       "      <td>0.002394</td>\n",
       "      <td>0.003403</td>\n",
       "      <td>1.5</td>\n",
       "      <td>l2</td>\n",
       "      <td>{'C': 1.5, 'penalty': 'l2'}</td>\n",
       "      <td>1.0</td>\n",
       "      <td>0.933333</td>\n",
       "      <td>1.0</td>\n",
       "      <td>1.000000</td>\n",
       "      <td>0.933333</td>\n",
       "      <td>0.933333</td>\n",
       "      <td>0.933333</td>\n",
       "      <td>1.0</td>\n",
       "      <td>1.0</td>\n",
       "      <td>1.0</td>\n",
       "      <td>0.973333</td>\n",
       "      <td>0.032660</td>\n",
       "      <td>2</td>\n",
       "    </tr>\n",
       "    <tr>\n",
       "      <th>6</th>\n",
       "      <td>0.000598</td>\n",
       "      <td>0.000488</td>\n",
       "      <td>0.000000</td>\n",
       "      <td>0.000000</td>\n",
       "      <td>1.8</td>\n",
       "      <td>l1</td>\n",
       "      <td>{'C': 1.8, 'penalty': 'l1'}</td>\n",
       "      <td>NaN</td>\n",
       "      <td>NaN</td>\n",
       "      <td>NaN</td>\n",
       "      <td>NaN</td>\n",
       "      <td>NaN</td>\n",
       "      <td>NaN</td>\n",
       "      <td>NaN</td>\n",
       "      <td>NaN</td>\n",
       "      <td>NaN</td>\n",
       "      <td>NaN</td>\n",
       "      <td>NaN</td>\n",
       "      <td>NaN</td>\n",
       "      <td>10</td>\n",
       "    </tr>\n",
       "    <tr>\n",
       "      <th>7</th>\n",
       "      <td>0.080952</td>\n",
       "      <td>0.010514</td>\n",
       "      <td>0.000698</td>\n",
       "      <td>0.000457</td>\n",
       "      <td>1.8</td>\n",
       "      <td>l2</td>\n",
       "      <td>{'C': 1.8, 'penalty': 'l2'}</td>\n",
       "      <td>1.0</td>\n",
       "      <td>0.933333</td>\n",
       "      <td>1.0</td>\n",
       "      <td>1.000000</td>\n",
       "      <td>0.933333</td>\n",
       "      <td>0.933333</td>\n",
       "      <td>0.933333</td>\n",
       "      <td>1.0</td>\n",
       "      <td>1.0</td>\n",
       "      <td>1.0</td>\n",
       "      <td>0.973333</td>\n",
       "      <td>0.032660</td>\n",
       "      <td>2</td>\n",
       "    </tr>\n",
       "    <tr>\n",
       "      <th>8</th>\n",
       "      <td>0.000297</td>\n",
       "      <td>0.000454</td>\n",
       "      <td>0.000000</td>\n",
       "      <td>0.000000</td>\n",
       "      <td>2.0</td>\n",
       "      <td>l1</td>\n",
       "      <td>{'C': 2.0, 'penalty': 'l1'}</td>\n",
       "      <td>NaN</td>\n",
       "      <td>NaN</td>\n",
       "      <td>NaN</td>\n",
       "      <td>NaN</td>\n",
       "      <td>NaN</td>\n",
       "      <td>NaN</td>\n",
       "      <td>NaN</td>\n",
       "      <td>NaN</td>\n",
       "      <td>NaN</td>\n",
       "      <td>NaN</td>\n",
       "      <td>NaN</td>\n",
       "      <td>NaN</td>\n",
       "      <td>11</td>\n",
       "    </tr>\n",
       "    <tr>\n",
       "      <th>9</th>\n",
       "      <td>0.080616</td>\n",
       "      <td>0.010316</td>\n",
       "      <td>0.000798</td>\n",
       "      <td>0.000399</td>\n",
       "      <td>2.0</td>\n",
       "      <td>l2</td>\n",
       "      <td>{'C': 2.0, 'penalty': 'l2'}</td>\n",
       "      <td>1.0</td>\n",
       "      <td>0.933333</td>\n",
       "      <td>1.0</td>\n",
       "      <td>1.000000</td>\n",
       "      <td>0.933333</td>\n",
       "      <td>0.933333</td>\n",
       "      <td>0.933333</td>\n",
       "      <td>1.0</td>\n",
       "      <td>1.0</td>\n",
       "      <td>1.0</td>\n",
       "      <td>0.973333</td>\n",
       "      <td>0.032660</td>\n",
       "      <td>2</td>\n",
       "    </tr>\n",
       "    <tr>\n",
       "      <th>10</th>\n",
       "      <td>0.000498</td>\n",
       "      <td>0.000498</td>\n",
       "      <td>0.000000</td>\n",
       "      <td>0.000000</td>\n",
       "      <td>2.4</td>\n",
       "      <td>l1</td>\n",
       "      <td>{'C': 2.4, 'penalty': 'l1'}</td>\n",
       "      <td>NaN</td>\n",
       "      <td>NaN</td>\n",
       "      <td>NaN</td>\n",
       "      <td>NaN</td>\n",
       "      <td>NaN</td>\n",
       "      <td>NaN</td>\n",
       "      <td>NaN</td>\n",
       "      <td>NaN</td>\n",
       "      <td>NaN</td>\n",
       "      <td>NaN</td>\n",
       "      <td>NaN</td>\n",
       "      <td>NaN</td>\n",
       "      <td>12</td>\n",
       "    </tr>\n",
       "    <tr>\n",
       "      <th>11</th>\n",
       "      <td>0.065979</td>\n",
       "      <td>0.006556</td>\n",
       "      <td>0.000499</td>\n",
       "      <td>0.000499</td>\n",
       "      <td>2.4</td>\n",
       "      <td>l2</td>\n",
       "      <td>{'C': 2.4, 'penalty': 'l2'}</td>\n",
       "      <td>1.0</td>\n",
       "      <td>0.933333</td>\n",
       "      <td>1.0</td>\n",
       "      <td>1.000000</td>\n",
       "      <td>0.933333</td>\n",
       "      <td>1.000000</td>\n",
       "      <td>0.933333</td>\n",
       "      <td>1.0</td>\n",
       "      <td>1.0</td>\n",
       "      <td>1.0</td>\n",
       "      <td>0.980000</td>\n",
       "      <td>0.030551</td>\n",
       "      <td>1</td>\n",
       "    </tr>\n",
       "  </tbody>\n",
       "</table>\n",
       "</div>"
      ],
      "text/plain": [
       "    mean_fit_time  std_fit_time  mean_score_time  std_score_time param_C  \\\n",
       "0        0.000998      0.000773         0.000000        0.000000     0.5   \n",
       "1        0.131500      0.024676         0.000797        0.000399     0.5   \n",
       "2        0.000597      0.000487         0.000000        0.000000     1.0   \n",
       "3        0.085122      0.016229         0.000599        0.000489     1.0   \n",
       "4        0.000499      0.000669         0.000000        0.000000     1.5   \n",
       "5        0.078459      0.007634         0.002394        0.003403     1.5   \n",
       "6        0.000598      0.000488         0.000000        0.000000     1.8   \n",
       "7        0.080952      0.010514         0.000698        0.000457     1.8   \n",
       "8        0.000297      0.000454         0.000000        0.000000     2.0   \n",
       "9        0.080616      0.010316         0.000798        0.000399     2.0   \n",
       "10       0.000498      0.000498         0.000000        0.000000     2.4   \n",
       "11       0.065979      0.006556         0.000499        0.000499     2.4   \n",
       "\n",
       "   param_penalty                       params  split0_test_score  \\\n",
       "0             l1  {'C': 0.5, 'penalty': 'l1'}                NaN   \n",
       "1             l2  {'C': 0.5, 'penalty': 'l2'}                1.0   \n",
       "2             l1  {'C': 1.0, 'penalty': 'l1'}                NaN   \n",
       "3             l2  {'C': 1.0, 'penalty': 'l2'}                1.0   \n",
       "4             l1  {'C': 1.5, 'penalty': 'l1'}                NaN   \n",
       "5             l2  {'C': 1.5, 'penalty': 'l2'}                1.0   \n",
       "6             l1  {'C': 1.8, 'penalty': 'l1'}                NaN   \n",
       "7             l2  {'C': 1.8, 'penalty': 'l2'}                1.0   \n",
       "8             l1  {'C': 2.0, 'penalty': 'l1'}                NaN   \n",
       "9             l2  {'C': 2.0, 'penalty': 'l2'}                1.0   \n",
       "10            l1  {'C': 2.4, 'penalty': 'l1'}                NaN   \n",
       "11            l2  {'C': 2.4, 'penalty': 'l2'}                1.0   \n",
       "\n",
       "    split1_test_score  split2_test_score  split3_test_score  \\\n",
       "0                 NaN                NaN                NaN   \n",
       "1            0.933333                1.0           0.933333   \n",
       "2                 NaN                NaN                NaN   \n",
       "3            0.933333                1.0           1.000000   \n",
       "4                 NaN                NaN                NaN   \n",
       "5            0.933333                1.0           1.000000   \n",
       "6                 NaN                NaN                NaN   \n",
       "7            0.933333                1.0           1.000000   \n",
       "8                 NaN                NaN                NaN   \n",
       "9            0.933333                1.0           1.000000   \n",
       "10                NaN                NaN                NaN   \n",
       "11           0.933333                1.0           1.000000   \n",
       "\n",
       "    split4_test_score  split5_test_score  split6_test_score  \\\n",
       "0                 NaN                NaN                NaN   \n",
       "1            0.933333           0.933333           0.933333   \n",
       "2                 NaN                NaN                NaN   \n",
       "3            0.933333           0.933333           0.933333   \n",
       "4                 NaN                NaN                NaN   \n",
       "5            0.933333           0.933333           0.933333   \n",
       "6                 NaN                NaN                NaN   \n",
       "7            0.933333           0.933333           0.933333   \n",
       "8                 NaN                NaN                NaN   \n",
       "9            0.933333           0.933333           0.933333   \n",
       "10                NaN                NaN                NaN   \n",
       "11           0.933333           1.000000           0.933333   \n",
       "\n",
       "    split7_test_score  split8_test_score  split9_test_score  mean_test_score  \\\n",
       "0                 NaN                NaN                NaN              NaN   \n",
       "1                 1.0                1.0                1.0         0.966667   \n",
       "2                 NaN                NaN                NaN              NaN   \n",
       "3                 1.0                1.0                1.0         0.973333   \n",
       "4                 NaN                NaN                NaN              NaN   \n",
       "5                 1.0                1.0                1.0         0.973333   \n",
       "6                 NaN                NaN                NaN              NaN   \n",
       "7                 1.0                1.0                1.0         0.973333   \n",
       "8                 NaN                NaN                NaN              NaN   \n",
       "9                 1.0                1.0                1.0         0.973333   \n",
       "10                NaN                NaN                NaN              NaN   \n",
       "11                1.0                1.0                1.0         0.980000   \n",
       "\n",
       "    std_test_score  rank_test_score  \n",
       "0              NaN                7  \n",
       "1         0.033333                6  \n",
       "2              NaN                8  \n",
       "3         0.032660                2  \n",
       "4              NaN                9  \n",
       "5         0.032660                2  \n",
       "6              NaN               10  \n",
       "7         0.032660                2  \n",
       "8              NaN               11  \n",
       "9         0.032660                2  \n",
       "10             NaN               12  \n",
       "11        0.030551                1  "
      ]
     },
     "execution_count": 36,
     "metadata": {},
     "output_type": "execute_result"
    }
   ],
   "source": [
    "import multiprocessing\n",
    "from sklearn.datasets import load_iris              # 분류 데이터로 많이 활용\n",
    "from sklearn.linear_model import LogisticRegression # 분류에 많이 사용되는 모델 \n",
    "\n",
    "iris = load_iris()\n",
    "\n",
    "param_grid = [ {'penalty' : ['l1', 'l2'],\n",
    "                   'C' : [0.5, 1.0, 1.5, 1.8, 2.0, 2.4] } ]\n",
    "\n",
    "gs = GridSearchCV(estimator=LogisticRegression(), param_grid=param_grid,\n",
    "                 scoring = 'accuracy', cv= 10, n_jobs=multiprocessing.cpu_count())\n",
    "# cpu_count() cpu 개수만큼 job을 생성해서 넣어 모델 수행.\n",
    "\n",
    "result = gs.fit(iris.data, iris.target)\n",
    "\n",
    "print(\"최적 점수: {}\".format(result.best_score_))\n",
    "print(\"최적 파라미터: {}\".format(result.best_params_))\n",
    "print(gs.best_estimator_)\n",
    "pd.DataFrame(result.cv_results_)"
   ]
  },
  {
   "cell_type": "code",
   "execution_count": 37,
   "id": "d92b3c8d",
   "metadata": {},
   "outputs": [],
   "source": [
    "# preprocessing 데이터 전처리 모듈\n",
    "# 데이터의 특징 스케일링(feature scaling)을 위한 방법으로 표준화와 정규화 사용"
   ]
  },
  {
   "cell_type": "code",
   "execution_count": 38,
   "id": "bf0b17de",
   "metadata": {
    "scrolled": false
   },
   "outputs": [
    {
     "data": {
      "text/html": [
       "<div>\n",
       "<style scoped>\n",
       "    .dataframe tbody tr th:only-of-type {\n",
       "        vertical-align: middle;\n",
       "    }\n",
       "\n",
       "    .dataframe tbody tr th {\n",
       "        vertical-align: top;\n",
       "    }\n",
       "\n",
       "    .dataframe thead th {\n",
       "        text-align: right;\n",
       "    }\n",
       "</style>\n",
       "<table border=\"1\" class=\"dataframe\">\n",
       "  <thead>\n",
       "    <tr style=\"text-align: right;\">\n",
       "      <th></th>\n",
       "      <th>sepal length (cm)</th>\n",
       "      <th>sepal width (cm)</th>\n",
       "      <th>petal length (cm)</th>\n",
       "      <th>petal width (cm)</th>\n",
       "    </tr>\n",
       "  </thead>\n",
       "  <tbody>\n",
       "    <tr>\n",
       "      <th>count</th>\n",
       "      <td>150.000000</td>\n",
       "      <td>150.000000</td>\n",
       "      <td>150.000000</td>\n",
       "      <td>150.000000</td>\n",
       "    </tr>\n",
       "    <tr>\n",
       "      <th>mean</th>\n",
       "      <td>5.843333</td>\n",
       "      <td>3.057333</td>\n",
       "      <td>3.758000</td>\n",
       "      <td>1.199333</td>\n",
       "    </tr>\n",
       "    <tr>\n",
       "      <th>std</th>\n",
       "      <td>0.828066</td>\n",
       "      <td>0.435866</td>\n",
       "      <td>1.765298</td>\n",
       "      <td>0.762238</td>\n",
       "    </tr>\n",
       "    <tr>\n",
       "      <th>min</th>\n",
       "      <td>4.300000</td>\n",
       "      <td>2.000000</td>\n",
       "      <td>1.000000</td>\n",
       "      <td>0.100000</td>\n",
       "    </tr>\n",
       "    <tr>\n",
       "      <th>25%</th>\n",
       "      <td>5.100000</td>\n",
       "      <td>2.800000</td>\n",
       "      <td>1.600000</td>\n",
       "      <td>0.300000</td>\n",
       "    </tr>\n",
       "    <tr>\n",
       "      <th>50%</th>\n",
       "      <td>5.800000</td>\n",
       "      <td>3.000000</td>\n",
       "      <td>4.350000</td>\n",
       "      <td>1.300000</td>\n",
       "    </tr>\n",
       "    <tr>\n",
       "      <th>75%</th>\n",
       "      <td>6.400000</td>\n",
       "      <td>3.300000</td>\n",
       "      <td>5.100000</td>\n",
       "      <td>1.800000</td>\n",
       "    </tr>\n",
       "    <tr>\n",
       "      <th>max</th>\n",
       "      <td>7.900000</td>\n",
       "      <td>4.400000</td>\n",
       "      <td>6.900000</td>\n",
       "      <td>2.500000</td>\n",
       "    </tr>\n",
       "  </tbody>\n",
       "</table>\n",
       "</div>"
      ],
      "text/plain": [
       "       sepal length (cm)  sepal width (cm)  petal length (cm)  \\\n",
       "count         150.000000        150.000000         150.000000   \n",
       "mean            5.843333          3.057333           3.758000   \n",
       "std             0.828066          0.435866           1.765298   \n",
       "min             4.300000          2.000000           1.000000   \n",
       "25%             5.100000          2.800000           1.600000   \n",
       "50%             5.800000          3.000000           4.350000   \n",
       "75%             6.400000          3.300000           5.100000   \n",
       "max             7.900000          4.400000           6.900000   \n",
       "\n",
       "       petal width (cm)  \n",
       "count        150.000000  \n",
       "mean           1.199333  \n",
       "std            0.762238  \n",
       "min            0.100000  \n",
       "25%            0.300000  \n",
       "50%            1.300000  \n",
       "75%            1.800000  \n",
       "max            2.500000  "
      ]
     },
     "execution_count": 38,
     "metadata": {},
     "output_type": "execute_result"
    }
   ],
   "source": [
    "# StandardScaler 표준화 클래스\n",
    "iris = load_iris()\n",
    "iris_df = pd.DataFrame(data=iris.data, columns=iris.feature_names)\n",
    "iris_df.describe()"
   ]
  },
  {
   "cell_type": "code",
   "execution_count": 39,
   "id": "387ad5ab",
   "metadata": {
    "scrolled": false
   },
   "outputs": [
    {
     "data": {
      "text/html": [
       "<div>\n",
       "<style scoped>\n",
       "    .dataframe tbody tr th:only-of-type {\n",
       "        vertical-align: middle;\n",
       "    }\n",
       "\n",
       "    .dataframe tbody tr th {\n",
       "        vertical-align: top;\n",
       "    }\n",
       "\n",
       "    .dataframe thead th {\n",
       "        text-align: right;\n",
       "    }\n",
       "</style>\n",
       "<table border=\"1\" class=\"dataframe\">\n",
       "  <thead>\n",
       "    <tr style=\"text-align: right;\">\n",
       "      <th></th>\n",
       "      <th>sepal length (cm)</th>\n",
       "      <th>sepal width (cm)</th>\n",
       "      <th>petal length (cm)</th>\n",
       "      <th>petal width (cm)</th>\n",
       "    </tr>\n",
       "  </thead>\n",
       "  <tbody>\n",
       "    <tr>\n",
       "      <th>count</th>\n",
       "      <td>1.500000e+02</td>\n",
       "      <td>1.500000e+02</td>\n",
       "      <td>1.500000e+02</td>\n",
       "      <td>1.500000e+02</td>\n",
       "    </tr>\n",
       "    <tr>\n",
       "      <th>mean</th>\n",
       "      <td>-1.690315e-15</td>\n",
       "      <td>-1.842970e-15</td>\n",
       "      <td>-1.698641e-15</td>\n",
       "      <td>-1.409243e-15</td>\n",
       "    </tr>\n",
       "    <tr>\n",
       "      <th>std</th>\n",
       "      <td>1.003350e+00</td>\n",
       "      <td>1.003350e+00</td>\n",
       "      <td>1.003350e+00</td>\n",
       "      <td>1.003350e+00</td>\n",
       "    </tr>\n",
       "    <tr>\n",
       "      <th>min</th>\n",
       "      <td>-1.870024e+00</td>\n",
       "      <td>-2.433947e+00</td>\n",
       "      <td>-1.567576e+00</td>\n",
       "      <td>-1.447076e+00</td>\n",
       "    </tr>\n",
       "    <tr>\n",
       "      <th>25%</th>\n",
       "      <td>-9.006812e-01</td>\n",
       "      <td>-5.923730e-01</td>\n",
       "      <td>-1.226552e+00</td>\n",
       "      <td>-1.183812e+00</td>\n",
       "    </tr>\n",
       "    <tr>\n",
       "      <th>50%</th>\n",
       "      <td>-5.250608e-02</td>\n",
       "      <td>-1.319795e-01</td>\n",
       "      <td>3.364776e-01</td>\n",
       "      <td>1.325097e-01</td>\n",
       "    </tr>\n",
       "    <tr>\n",
       "      <th>75%</th>\n",
       "      <td>6.745011e-01</td>\n",
       "      <td>5.586108e-01</td>\n",
       "      <td>7.627583e-01</td>\n",
       "      <td>7.906707e-01</td>\n",
       "    </tr>\n",
       "    <tr>\n",
       "      <th>max</th>\n",
       "      <td>2.492019e+00</td>\n",
       "      <td>3.090775e+00</td>\n",
       "      <td>1.785832e+00</td>\n",
       "      <td>1.712096e+00</td>\n",
       "    </tr>\n",
       "  </tbody>\n",
       "</table>\n",
       "</div>"
      ],
      "text/plain": [
       "       sepal length (cm)  sepal width (cm)  petal length (cm)  \\\n",
       "count       1.500000e+02      1.500000e+02       1.500000e+02   \n",
       "mean       -1.690315e-15     -1.842970e-15      -1.698641e-15   \n",
       "std         1.003350e+00      1.003350e+00       1.003350e+00   \n",
       "min        -1.870024e+00     -2.433947e+00      -1.567576e+00   \n",
       "25%        -9.006812e-01     -5.923730e-01      -1.226552e+00   \n",
       "50%        -5.250608e-02     -1.319795e-01       3.364776e-01   \n",
       "75%         6.745011e-01      5.586108e-01       7.627583e-01   \n",
       "max         2.492019e+00      3.090775e+00       1.785832e+00   \n",
       "\n",
       "       petal width (cm)  \n",
       "count      1.500000e+02  \n",
       "mean      -1.409243e-15  \n",
       "std        1.003350e+00  \n",
       "min       -1.447076e+00  \n",
       "25%       -1.183812e+00  \n",
       "50%        1.325097e-01  \n",
       "75%        7.906707e-01  \n",
       "max        1.712096e+00  "
      ]
     },
     "execution_count": 39,
     "metadata": {},
     "output_type": "execute_result"
    }
   ],
   "source": [
    "from sklearn.preprocessing import StandardScaler\n",
    "\n",
    "scaler = StandardScaler()\n",
    "# .fit을 해서 표준화에 필요한 정보를 가져옴 -> 정보 스케일링 메서드 transform 사용\n",
    "iris_scaled = scaler.fit_transform(iris_df)\n",
    "# .fit_transform 리턴값이 np 값임 때문에 다시 df에 넣어야함\n",
    "iris_df_scaled = pd.DataFrame(data=iris_scaled, columns = iris.feature_names)\n",
    "iris_df_scaled.describe()"
   ]
  },
  {
   "cell_type": "code",
   "execution_count": 40,
   "id": "723a8604",
   "metadata": {},
   "outputs": [
    {
     "name": "stdout",
     "output_type": "stream",
     "text": [
      "훈련 데이터 점수 : 0.9714285714285714\n",
      "평가 데이터 점수 : 0.9777777777777777\n"
     ]
    }
   ],
   "source": [
    "X_train, X_test, y_train, y_test = train_test_split(iris_df_scaled, iris.target, test_size = 0.3)\n",
    "\n",
    "model = LogisticRegression()\n",
    "model.fit(X_train, y_train)\n",
    "print(\"훈련 데이터 점수 : {}\".format(model.score(X_train, y_train)))\n",
    "print(\"평가 데이터 점수 : {}\".format(model.score(X_test, y_test)))"
   ]
  },
  {
   "cell_type": "code",
   "execution_count": 41,
   "id": "5b9fa1db",
   "metadata": {
    "scrolled": true
   },
   "outputs": [
    {
     "data": {
      "text/html": [
       "<div>\n",
       "<style scoped>\n",
       "    .dataframe tbody tr th:only-of-type {\n",
       "        vertical-align: middle;\n",
       "    }\n",
       "\n",
       "    .dataframe tbody tr th {\n",
       "        vertical-align: top;\n",
       "    }\n",
       "\n",
       "    .dataframe thead th {\n",
       "        text-align: right;\n",
       "    }\n",
       "</style>\n",
       "<table border=\"1\" class=\"dataframe\">\n",
       "  <thead>\n",
       "    <tr style=\"text-align: right;\">\n",
       "      <th></th>\n",
       "      <th>sepal length (cm)</th>\n",
       "      <th>sepal width (cm)</th>\n",
       "      <th>petal length (cm)</th>\n",
       "      <th>petal width (cm)</th>\n",
       "    </tr>\n",
       "  </thead>\n",
       "  <tbody>\n",
       "    <tr>\n",
       "      <th>count</th>\n",
       "      <td>150.000000</td>\n",
       "      <td>150.000000</td>\n",
       "      <td>150.000000</td>\n",
       "      <td>150.000000</td>\n",
       "    </tr>\n",
       "    <tr>\n",
       "      <th>mean</th>\n",
       "      <td>0.428704</td>\n",
       "      <td>0.440556</td>\n",
       "      <td>0.467458</td>\n",
       "      <td>0.458056</td>\n",
       "    </tr>\n",
       "    <tr>\n",
       "      <th>std</th>\n",
       "      <td>0.230018</td>\n",
       "      <td>0.181611</td>\n",
       "      <td>0.299203</td>\n",
       "      <td>0.317599</td>\n",
       "    </tr>\n",
       "    <tr>\n",
       "      <th>min</th>\n",
       "      <td>0.000000</td>\n",
       "      <td>0.000000</td>\n",
       "      <td>0.000000</td>\n",
       "      <td>0.000000</td>\n",
       "    </tr>\n",
       "    <tr>\n",
       "      <th>25%</th>\n",
       "      <td>0.222222</td>\n",
       "      <td>0.333333</td>\n",
       "      <td>0.101695</td>\n",
       "      <td>0.083333</td>\n",
       "    </tr>\n",
       "    <tr>\n",
       "      <th>50%</th>\n",
       "      <td>0.416667</td>\n",
       "      <td>0.416667</td>\n",
       "      <td>0.567797</td>\n",
       "      <td>0.500000</td>\n",
       "    </tr>\n",
       "    <tr>\n",
       "      <th>75%</th>\n",
       "      <td>0.583333</td>\n",
       "      <td>0.541667</td>\n",
       "      <td>0.694915</td>\n",
       "      <td>0.708333</td>\n",
       "    </tr>\n",
       "    <tr>\n",
       "      <th>max</th>\n",
       "      <td>1.000000</td>\n",
       "      <td>1.000000</td>\n",
       "      <td>1.000000</td>\n",
       "      <td>1.000000</td>\n",
       "    </tr>\n",
       "  </tbody>\n",
       "</table>\n",
       "</div>"
      ],
      "text/plain": [
       "       sepal length (cm)  sepal width (cm)  petal length (cm)  \\\n",
       "count         150.000000        150.000000         150.000000   \n",
       "mean            0.428704          0.440556           0.467458   \n",
       "std             0.230018          0.181611           0.299203   \n",
       "min             0.000000          0.000000           0.000000   \n",
       "25%             0.222222          0.333333           0.101695   \n",
       "50%             0.416667          0.416667           0.567797   \n",
       "75%             0.583333          0.541667           0.694915   \n",
       "max             1.000000          1.000000           1.000000   \n",
       "\n",
       "       petal width (cm)  \n",
       "count        150.000000  \n",
       "mean           0.458056  \n",
       "std            0.317599  \n",
       "min            0.000000  \n",
       "25%            0.083333  \n",
       "50%            0.500000  \n",
       "75%            0.708333  \n",
       "max            1.000000  "
      ]
     },
     "execution_count": 41,
     "metadata": {},
     "output_type": "execute_result"
    }
   ],
   "source": [
    "# MinMaxScaler 정규화 클래스\n",
    "\n",
    "from sklearn.preprocessing import MinMaxScaler\n",
    "\n",
    "scaler = MinMaxScaler()\n",
    "iris_scaled = scaler.fit_transform(iris_df)\n",
    "iris_df_scaled = pd.DataFrame(data=iris_scaled, columns = iris.feature_names)\n",
    "iris_df_scaled.describe()\n",
    "# minmax로 진행하다보니 원 데이터에 음수가 없는점이 반영됨을 알 수 있음"
   ]
  },
  {
   "cell_type": "code",
   "execution_count": 42,
   "id": "340d4323",
   "metadata": {},
   "outputs": [
    {
     "name": "stdout",
     "output_type": "stream",
     "text": [
      "훈련 데이터 점수 : 0.9333333333333333\n",
      "평가 데이터 점수 : 0.9111111111111111\n"
     ]
    }
   ],
   "source": [
    "X_train, X_test, y_train, y_test = train_test_split(iris_df_scaled, iris.target,test_size = 0.3)\n",
    "model = LogisticRegression()\n",
    "model.fit(X_train, y_train)\n",
    "print(\"훈련 데이터 점수 : {}\".format(model.score(X_train, y_train)))\n",
    "print(\"평가 데이터 점수 : {}\".format(model.score(X_test, y_test)))"
   ]
  },
  {
   "cell_type": "code",
   "execution_count": 43,
   "id": "c4339276",
   "metadata": {},
   "outputs": [],
   "source": [
    "# 성능평가지표\n",
    "# 정확도(Accuracy) 전체 예측 데이터 건수 중 예측 결과가 동일한 데이터 건수로 계산\n",
    "# accuracy_score 함수 제공"
   ]
  },
  {
   "cell_type": "code",
   "execution_count": 44,
   "id": "8d00d3c4",
   "metadata": {},
   "outputs": [],
   "source": [
    "from sklearn.datasets import make_classification #  make_classification을 이용해 분류형 데이터 만들 수 있다.\n",
    "from sklearn.linear_model import LogisticRegression\n",
    "from sklearn.metrics import accuracy_score"
   ]
  },
  {
   "cell_type": "code",
   "execution_count": 45,
   "id": "641b0e60",
   "metadata": {},
   "outputs": [],
   "source": [
    "# 성능 평가를 위해 임의의 데이터 생성\n",
    "X, y = make_classification(n_samples=1000, n_features=2, n_informative=2,\n",
    "                          n_redundant=0, n_clusters_per_class=1)\n",
    "\n",
    "# n_sample 데이터 개수 / n_features 변수 개수 / n_informative 의미 있는 것?\n",
    "# n_redundant 노이즈 같은것 / n_clusters_per_class 클래스당 클러스터를 몇개 할 것인가"
   ]
  },
  {
   "cell_type": "code",
   "execution_count": 46,
   "id": "e45bf6ed",
   "metadata": {},
   "outputs": [],
   "source": [
    "X_train, X_test, y_train, y_test = train_test_split(X, y, test_size=0.3)"
   ]
  },
  {
   "cell_type": "code",
   "execution_count": 47,
   "id": "2edb965a",
   "metadata": {},
   "outputs": [],
   "source": [
    "model = LogisticRegression() # 파라미터 없이 설정"
   ]
  },
  {
   "cell_type": "code",
   "execution_count": 48,
   "id": "a1c6e849",
   "metadata": {},
   "outputs": [
    {
     "data": {
      "text/plain": [
       "LogisticRegression()"
      ]
     },
     "execution_count": 48,
     "metadata": {},
     "output_type": "execute_result"
    }
   ],
   "source": [
    "model.fit(X_train, y_train)"
   ]
  },
  {
   "cell_type": "code",
   "execution_count": 50,
   "id": "d4eac39e",
   "metadata": {},
   "outputs": [
    {
     "name": "stdout",
     "output_type": "stream",
     "text": [
      "훈련 데이터 점수 :0.9771428571428571\n",
      "평가 데이터 점수 :0.98\n",
      "정확도: 0.98\n"
     ]
    }
   ],
   "source": [
    "print('훈련 데이터 점수 :{}'.format(model.score(X_train, y_train)))\n",
    "print('평가 데이터 점수 :{}'.format(model.score(X_test, y_test)))\n",
    "\n",
    "# 정확도(Accuracy)는 맞춰보아야 하므로 평가 데이터를 통해 예측을 진행\n",
    "predict = model.predict(X_test) \n",
    "print(\"정확도: {}\".format(accuracy_score(y_test, predict))) \n",
    "\n",
    "# 데이터의 분포도가 균열하지 않아도 정확도가 높게 나올 수 있기 때문에 \n",
    "# 정확도만으로 판단한다는 정말 위험한 요소이다."
   ]
  },
  {
   "cell_type": "code",
   "execution_count": 51,
   "id": "769875c4",
   "metadata": {},
   "outputs": [],
   "source": [
    "# 오차행렬(Confusion Matrix\n",
    "# True Negative: 예측값을 Negative 값 0 예측 /실제값도 Negative 값 0\n",
    "# False Positive: 예측값을 Positive 값 1 예측 /실제값 Negative 값 0\n",
    "# False Negative: 예측값을 negative 값 0 예측 / 실제값 Positive 값 1\n",
    "# True Positive: 예측값을 Positive 값 1 예측 / 실제값 Positive 값 1"
   ]
  },
  {
   "cell_type": "code",
   "execution_count": 52,
   "id": "0b01f7d9",
   "metadata": {},
   "outputs": [],
   "source": [
    "from sklearn.metrics import confusion_matrix"
   ]
  },
  {
   "cell_type": "code",
   "execution_count": 55,
   "id": "f0c71a84",
   "metadata": {},
   "outputs": [
    {
     "name": "stdout",
     "output_type": "stream",
     "text": [
      "[[140   4]\n",
      " [  2 154]]\n"
     ]
    }
   ],
   "source": [
    "confmat = confusion_matrix(y_true = y_test, y_pred = predict)\n",
    "print(confmat)"
   ]
  },
  {
   "cell_type": "code",
   "execution_count": 60,
   "id": "86a1c415",
   "metadata": {},
   "outputs": [
    {
     "data": {
      "image/png": "[encoded data removed]",
      "text/plain": [
       "<Figure size 180x180 with 1 Axes>"
      ]
     },
     "metadata": {},
     "output_type": "display_data"
    }
   ],
   "source": [
    "# 시각화\n",
    "fig, ax = plt.subplots(figsize=(2.5,2.5))\n",
    "ax.matshow(confmat, cmap=plt.cm.Blues, alpha=0.3)\n",
    "for i in range(confmat.shape[0]):\n",
    "    for j in range(confmat.shape[1]):\n",
    "        ax.text(x=j, y=i, s=confmat[i, j], va='center', ha='center')\n",
    "        \n",
    "plt.xlabel('Predicted label')\n",
    "plt.ylabel('True label')\n",
    "plt.tight_layout();\n",
    "\n",
    "# 예측  실제\n",
    "# True negative = 140 / 예측 값 = 0 실제 값 = 0\n",
    "# True positive = 154 / 예측 값 = 1 실제 값 = 1\n",
    "# False negative = 2  / 예측 값 = 0 실제 값 = 1\n",
    "# False positive = 4  / 예측 값 = 1 실제 값 = 0   "
   ]
  },
  {
   "cell_type": "code",
   "execution_count": 61,
   "id": "3d9dde73",
   "metadata": {},
   "outputs": [],
   "source": [
    "# 정밀도(Precision)와 재현율(Recall)\n",
    "# 정밀도 = TP / (FP + TP) \n",
    "# 재현율 = TP / (FN + TP)\n",
    "# 정확도 = (TN + TP) / (TN + FP + FN + TP)\n",
    "# 오류율 = (FN + FP) / (TN + FP + FN + TP)"
   ]
  },
  {
   "cell_type": "code",
   "execution_count": 63,
   "id": "7108a8b3",
   "metadata": {},
   "outputs": [],
   "source": [
    "from sklearn.metrics import precision_score, recall_score\n",
    "\n",
    "precision = precision_score(y_test, predict)\n",
    "recall = recall_score(y_test, predict)"
   ]
  },
  {
   "cell_type": "code",
   "execution_count": 74,
   "id": "ae5733cd",
   "metadata": {},
   "outputs": [
    {
     "name": "stdout",
     "output_type": "stream",
     "text": [
      "정밀도: 0.9746835443037974\n",
      "재현율: 0.9871794871794872\n"
     ]
    }
   ],
   "source": [
    "print(\"정밀도: {}\".format(precision), \"재현율: {}\".format(recall), sep= \"\\n\")\n",
    "# 업무 특성에 따라 정밀도와 재현율에 중요도가 달라진다.\n",
    "# Positive 인데 Negative로 잘못 판단 문제 발생 심각 --> 재현율 중요 = 1종 오류\n",
    "# Negative 인데 Positive로 잘못 판단 문제 발생 심각 --> 정밀도 중요 = 2종 오류"
   ]
  },
  {
   "cell_type": "code",
   "execution_count": 75,
   "id": "c38ffca1",
   "metadata": {},
   "outputs": [],
   "source": [
    "# F1 score(F-measure)\n",
    "# 정밀도와 재현율을 결합한 지표\n",
    "# 정밀도와 재현율이 어느 한쪽으로 치우치지 않을 때 높은 값을 가짐\n",
    "# F1 = 2 * (Precision * Recall) / (Precision + Recall)"
   ]
  },
  {
   "cell_type": "code",
   "execution_count": 76,
   "id": "a5a53217",
   "metadata": {},
   "outputs": [],
   "source": [
    "from sklearn.metrics import f1_score"
   ]
  },
  {
   "cell_type": "code",
   "execution_count": 77,
   "id": "fb04cf9b",
   "metadata": {},
   "outputs": [],
   "source": [
    "f1 = f1_score(y_test, predict)"
   ]
  },
  {
   "cell_type": "code",
   "execution_count": 79,
   "id": "fcd5655f",
   "metadata": {
    "scrolled": true
   },
   "outputs": [
    {
     "name": "stdout",
     "output_type": "stream",
     "text": [
      "F1 Score: 0.980891719745223\n"
     ]
    }
   ],
   "source": [
    "print(\"F1 Score: {}\".format(f1))"
   ]
  },
  {
   "cell_type": "code",
   "execution_count": 80,
   "id": "01a6bb47",
   "metadata": {},
   "outputs": [],
   "source": [
    "# ROC 곡선과 AUC\n",
    "# ROC 곡선은 FPR(False Positive Rate)이 변할 때 TPR(True Positve Rate)이 어떻게 변하는지 나타내는 곡선\n",
    "# TPR(True Positive Rate): TP / (FN + TP), 재현율\n",
    "# TNR(True Negative Rate): TN / (FP + TN)\n",
    "# FPR(False Positive Rate): FP / (FP + TN), 1 - TNR\n",
    "\n",
    "# AUC(Area Under Curve)값은 ROC 곡선 밑에 면적을 구한 값(1이 가까울수록 좋은 값)"
   ]
  },
  {
   "cell_type": "code",
   "execution_count": 81,
   "id": "72419282",
   "metadata": {},
   "outputs": [],
   "source": [
    "from sklearn.metrics import roc_curve"
   ]
  },
  {
   "cell_type": "code",
   "execution_count": 89,
   "id": "83325ee9",
   "metadata": {},
   "outputs": [
    {
     "data": {
      "image/png": "[encoded data removed]",
      "text/plain": [
       "<Figure size 432x288 with 1 Axes>"
      ]
     },
     "metadata": {},
     "output_type": "display_data"
    }
   ],
   "source": [
    "pred_proba_class1 = model.predict_proba(X_test)[:, 1]\n",
    "fprs, tprs, threshold =roc_curve(y_test, pred_proba_class1)\n",
    "\n",
    "plt.plot(fprs, tprs, label = \"ROC\")\n",
    "plt.plot([0, 1],[0, 1], '--k', label='Random')\n",
    "start, end = plt.xlim()\n",
    "plt.xticks(np.round(np.arange(start, end, 0.1),2))\n",
    "plt.xlim(0, 1)\n",
    "plt.ylim(0, 1.5)\n",
    "plt.xlabel('FPR(1-TNR)')\n",
    "plt.ylabel('TPR(Recall)')\n",
    "plt.legend();\n",
    "\n",
    "# ROC 밑에 면적이 AUC가 됨\n",
    "# 점선에 가까울수록 성능이 안 좋다?"
   ]
  },
  {
   "cell_type": "code",
   "execution_count": 92,
   "id": "d49575ed",
   "metadata": {},
   "outputs": [],
   "source": [
    "from sklearn.metrics import roc_auc_score"
   ]
  },
  {
   "cell_type": "code",
   "execution_count": 93,
   "id": "07f82395",
   "metadata": {},
   "outputs": [
    {
     "name": "stdout",
     "output_type": "stream",
     "text": [
      "ROC, AUC Score: 0.9797008547008547\n"
     ]
    }
   ],
   "source": [
    "roc_auc = roc_auc_score(y_test, predict)\n",
    "\n",
    "print(\"ROC, AUC Score: {}\".format(roc_auc))"
   ]
  }
 ],
 "metadata": {
  "kernelspec": {
   "display_name": "Python 3",
   "language": "python",
   "name": "python3"
  },
  "language_info": {
   "codemirror_mode": {
    "name": "ipython",
    "version": 3
   },
   "file_extension": ".py",
   "mimetype": "text/x-python",
   "name": "python",
   "nbconvert_exporter": "python",
   "pygments_lexer": "ipython3",
   "version": "3.8.8"
  }
 },
 "nbformat": 4,
 "nbformat_minor": 5
}
