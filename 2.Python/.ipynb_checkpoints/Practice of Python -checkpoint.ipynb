{
 "cells": [
  {
   "cell_type": "code",
   "execution_count": 1,
   "id": "2197ce4f",
   "metadata": {},
   "outputs": [
    {
     "name": "stdout",
     "output_type": "stream",
     "text": [
      "2\n",
      "4\n"
     ]
    }
   ],
   "source": [
    "################# 숫자열 자료형\n",
    "# 연습문제\n",
    "print(14 % 3)  # 나머지 2\n",
    "print(14 // 3) #  몫 4"
   ]
  },
  {
   "cell_type": "code",
   "execution_count": 2,
   "id": "de6d0f41",
   "metadata": {},
   "outputs": [],
   "source": [
    "################ 문자열 자료형"
   ]
  },
  {
   "cell_type": "code",
   "execution_count": 3,
   "id": "f6aaecba",
   "metadata": {},
   "outputs": [],
   "source": [
    "# 숫자에 큰 따옴표가 붙으면 모두 문자열\n",
    "# |\" , |' 백슬래시 따옴푠는 문자열을 만드는 기호로 인식하지 않는다."
   ]
  },
  {
   "cell_type": "code",
   "execution_count": 4,
   "id": "60810ef0",
   "metadata": {},
   "outputs": [
    {
     "name": "stdout",
     "output_type": "stream",
     "text": [
      "          \n",
      "Life is too short \n",
      "You need python\n",
      "\n",
      "Life is too short \n",
      "You need python\n"
     ]
    }
   ],
   "source": [
    "lm = \"\"\"          \n",
    "Life is too short \n",
    "You need python\n",
    "\"\"\"\n",
    "print(lm) # 큰 따옴표 세개를 활용하면 줄 바꾸기를 해도 전체 문장을 문자열로 인식이 가능하다.\n",
    "\n",
    "lm2 = \"Life is too short \\nYou need python\"\n",
    "print(lm2) # 이스케이프 코드 \\n 을 사용해서도 줄 바꾸기가 가능하지만 가독성이 떨어진다\n"
   ]
  },
  {
   "cell_type": "code",
   "execution_count": 5,
   "id": "57924d1b",
   "metadata": {},
   "outputs": [],
   "source": [
    "# 문자열 연산"
   ]
  },
  {
   "cell_type": "code",
   "execution_count": 6,
   "id": "6cfb9755",
   "metadata": {},
   "outputs": [
    {
     "data": {
      "text/plain": [
       "'기영기영'"
      ]
     },
     "execution_count": 6,
     "metadata": {},
     "output_type": "execute_result"
    }
   ],
   "source": [
    "# 곱셈 * 해당 숫자만큼 문자 텍스트를 반복\n",
    "a = \"기영\" \n",
    "a*2 "
   ]
  },
  {
   "cell_type": "code",
   "execution_count": 7,
   "id": "a811bccc",
   "metadata": {},
   "outputs": [
    {
     "data": {
      "text/plain": [
       "2"
      ]
     },
     "execution_count": 7,
     "metadata": {},
     "output_type": "execute_result"
    }
   ],
   "source": [
    "# 길이 구하기\n",
    "len(a)"
   ]
  },
  {
   "cell_type": "code",
   "execution_count": 8,
   "id": "1a85b35e",
   "metadata": {},
   "outputs": [
    {
     "data": {
      "text/plain": [
       "15"
      ]
     },
     "execution_count": 8,
     "metadata": {},
     "output_type": "execute_result"
    }
   ],
   "source": [
    "# 연습문제\n",
    "len(\"You need python\")"
   ]
  },
  {
   "cell_type": "code",
   "execution_count": 9,
   "id": "c8e28a66",
   "metadata": {},
   "outputs": [],
   "source": [
    "################ 문자열 인덱싱과 슬라이싱"
   ]
  },
  {
   "cell_type": "code",
   "execution_count": 10,
   "id": "40a3acfb",
   "metadata": {},
   "outputs": [],
   "source": [
    "# 문자열의 인덱싱은 [0] 부터 시작한다 주의!!\n",
    "# 문자열의 인덱싱 [-1]은 거꾸로 세어 첫번째가 되는 문자로 [-0] =[0] 이니 주의!!"
   ]
  },
  {
   "cell_type": "code",
   "execution_count": 12,
   "id": "f390ac5c",
   "metadata": {},
   "outputs": [
    {
     "name": "stdout",
     "output_type": "stream",
     "text": [
      "lif\n",
      "life\n"
     ]
    }
   ],
   "source": [
    "# 문자열의 슬라이싱\n",
    "z = \"life is too short\"\n",
    "print(z[:3]) # 파이썬에 슬라이싱은 3에서 끊을게 라는 뜻으로\n",
    "print(z[:4]) # life 를 추출하고 싶다면 z[:4]가 되어여한다"
   ]
  },
  {
   "cell_type": "code",
   "execution_count": 14,
   "id": "b3d4cef4",
   "metadata": {},
   "outputs": [
    {
     "data": {
      "text/plain": [
       "'life is too short'"
      ]
     },
     "execution_count": 14,
     "metadata": {},
     "output_type": "execute_result"
    }
   ],
   "source": [
    "z[:] # 전체 슬라이싱을 의미한다."
   ]
  },
  {
   "cell_type": "code",
   "execution_count": 15,
   "id": "f8b0c072",
   "metadata": {},
   "outputs": [
    {
     "data": {
      "text/plain": [
       "'life'"
      ]
     },
     "execution_count": 15,
     "metadata": {},
     "output_type": "execute_result"
    }
   ],
   "source": [
    "z[:-13] # -13 값까지 자르며 -14 값부터 출력함을 알 수 있음."
   ]
  }
 ],
 "metadata": {
  "kernelspec": {
   "display_name": "Python 3",
   "language": "python",
   "name": "python3"
  },
  "language_info": {
   "codemirror_mode": {
    "name": "ipython",
    "version": 3
   },
   "file_extension": ".py",
   "mimetype": "text/x-python",
   "name": "python",
   "nbconvert_exporter": "python",
   "pygments_lexer": "ipython3",
   "version": "3.8.8"
  }
 },
 "nbformat": 4,
 "nbformat_minor": 5
}
