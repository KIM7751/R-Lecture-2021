{
 "cells": [
  {
   "cell_type": "code",
   "execution_count": 1,
   "id": "2197ce4f",
   "metadata": {},
   "outputs": [
    {
     "name": "stdout",
     "output_type": "stream",
     "text": [
      "2\n",
      "4\n"
     ]
    }
   ],
   "source": [
    "################# 숫자열 자료형\n",
    "# 연습문제\n",
    "print(14 % 3)  # 나머지 2\n",
    "print(14 // 3) #  몫 4"
   ]
  },
  {
   "cell_type": "code",
   "execution_count": 2,
   "id": "de6d0f41",
   "metadata": {},
   "outputs": [],
   "source": [
    "################ 문자열 자료형"
   ]
  },
  {
   "cell_type": "code",
   "execution_count": 3,
   "id": "f6aaecba",
   "metadata": {},
   "outputs": [],
   "source": [
    "# 숫자에 큰 따옴표가 붙으면 모두 문자열\n",
    "# |\" , |' 백슬래시 따옴푠는 문자열을 만드는 기호로 인식하지 않는다."
   ]
  },
  {
   "cell_type": "code",
   "execution_count": 4,
   "id": "60810ef0",
   "metadata": {},
   "outputs": [
    {
     "name": "stdout",
     "output_type": "stream",
     "text": [
      "          \n",
      "Life is too short \n",
      "You need python\n",
      "\n",
      "Life is too short \n",
      "You need python\n"
     ]
    }
   ],
   "source": [
    "lm = \"\"\"          \n",
    "Life is too short \n",
    "You need python\n",
    "\"\"\"\n",
    "print(lm) # 큰 따옴표 세개를 활용하면 줄 바꾸기를 해도 전체 문장을 문자열로 인식이 가능하다.\n",
    "\n",
    "lm2 = \"Life is too short \\nYou need python\"\n",
    "print(lm2) # 이스케이프 코드 \\n 을 사용해서도 줄 바꾸기가 가능하지만 가독성이 떨어진다\n"
   ]
  },
  {
   "cell_type": "code",
   "execution_count": 5,
   "id": "57924d1b",
   "metadata": {},
   "outputs": [],
   "source": [
    "# 문자열 연산"
   ]
  },
  {
   "cell_type": "code",
   "execution_count": 6,
   "id": "6cfb9755",
   "metadata": {},
   "outputs": [
    {
     "data": {
      "text/plain": [
       "'기영기영'"
      ]
     },
     "execution_count": 6,
     "metadata": {},
     "output_type": "execute_result"
    }
   ],
   "source": [
    "# 곱셈 * 해당 숫자만큼 문자 텍스트를 반복\n",
    "a = \"기영\" \n",
    "a*2 "
   ]
  },
  {
   "cell_type": "code",
   "execution_count": 7,
   "id": "a811bccc",
   "metadata": {},
   "outputs": [
    {
     "data": {
      "text/plain": [
       "2"
      ]
     },
     "execution_count": 7,
     "metadata": {},
     "output_type": "execute_result"
    }
   ],
   "source": [
    "# 길이 구하기\n",
    "len(a)"
   ]
  },
  {
   "cell_type": "code",
   "execution_count": 8,
   "id": "1a85b35e",
   "metadata": {},
   "outputs": [
    {
     "data": {
      "text/plain": [
       "15"
      ]
     },
     "execution_count": 8,
     "metadata": {},
     "output_type": "execute_result"
    }
   ],
   "source": [
    "# 연습문제\n",
    "len(\"You need python\")"
   ]
  },
  {
   "cell_type": "code",
   "execution_count": 9,
   "id": "c8e28a66",
   "metadata": {},
   "outputs": [],
   "source": [
    "################ 문자열 인덱싱과 슬라이싱"
   ]
  },
  {
   "cell_type": "code",
   "execution_count": 10,
   "id": "40a3acfb",
   "metadata": {},
   "outputs": [],
   "source": [
    "# 문자열의 인덱싱은 [0] 부터 시작한다 주의!!\n",
    "# 문자열의 인덱싱 [-1]은 거꾸로 세어 첫번째가 되는 문자로 [-0] =[0] 이니 주의!!"
   ]
  },
  {
   "cell_type": "code",
   "execution_count": 11,
   "id": "f390ac5c",
   "metadata": {},
   "outputs": [
    {
     "name": "stdout",
     "output_type": "stream",
     "text": [
      "lif\n",
      "life\n"
     ]
    }
   ],
   "source": [
    "# 문자열의 슬라이싱\n",
    "z = \"life is too short\"\n",
    "print(z[:3]) # 파이썬에 슬라이싱은 3에서 끊을게 라는 뜻으로\n",
    "print(z[:4]) # life 를 추출하고 싶다면 z[:4]가 되어여한다"
   ]
  },
  {
   "cell_type": "code",
   "execution_count": 12,
   "id": "b3d4cef4",
   "metadata": {},
   "outputs": [
    {
     "data": {
      "text/plain": [
       "'life is too short'"
      ]
     },
     "execution_count": 12,
     "metadata": {},
     "output_type": "execute_result"
    }
   ],
   "source": [
    "z[:] # 전체 슬라이싱을 의미한다."
   ]
  },
  {
   "cell_type": "code",
   "execution_count": 40,
   "id": "f8b0c072",
   "metadata": {},
   "outputs": [
    {
     "data": {
      "text/plain": [
       "'           wow '"
      ]
     },
     "execution_count": 40,
     "metadata": {},
     "output_type": "execute_result"
    }
   ],
   "source": [
    "z[:-13] # -13 값까지 자르며 -14 값부터 출력함을 알 수 있음."
   ]
  },
  {
   "cell_type": "code",
   "execution_count": null,
   "id": "da7a89db",
   "metadata": {},
   "outputs": [],
   "source": [
    "# 문자열 포매팅\n",
    "# 특정한 값을 바꿀때"
   ]
  },
  {
   "cell_type": "code",
   "execution_count": 20,
   "id": "2851c616",
   "metadata": {},
   "outputs": [
    {
     "name": "stdout",
     "output_type": "stream",
     "text": [
      "life is 2 short\n",
      "life os really short\n",
      "life is 2 short\n"
     ]
    }
   ],
   "source": [
    "number = 2\n",
    "\"life is too short\"\n",
    "print(\"life is %d short\" %2) # 숫자 대입해 바꾸기 %d\n",
    "print(\"life os %s short\" % \"really\") # 문자 대입해 바꾸기 %s\n",
    "print(\"life is %d short\" %number) # 숫자 값을 나타내는 변수로 바꾸기"
   ]
  },
  {
   "cell_type": "code",
   "execution_count": 23,
   "id": "896de52c",
   "metadata": {},
   "outputs": [
    {
     "name": "stdout",
     "output_type": "stream",
     "text": [
      "life is 2 short\n",
      "life is really short\n"
     ]
    }
   ],
   "source": [
    "# format 함수를 이용한 포매팅\n",
    "\"life is too short\"\n",
    "print(\"life is {0} short\" .format(2))\n",
    "print(\"life is {0} short\" .format(\"really\"))"
   ]
  },
  {
   "cell_type": "code",
   "execution_count": 28,
   "id": "7dbfe1f9",
   "metadata": {},
   "outputs": [
    {
     "data": {
      "text/plain": [
       "'!!!Python!!!'"
      ]
     },
     "execution_count": 28,
     "metadata": {},
     "output_type": "execute_result"
    }
   ],
   "source": [
    "# 연습문제 \n",
    "\"{0:!^12}\".format(\"Python\")"
   ]
  },
  {
   "cell_type": "code",
   "execution_count": 41,
   "id": "6e35dc54",
   "metadata": {},
   "outputs": [
    {
     "name": "stdout",
     "output_type": "stream",
     "text": [
      "3\n",
      "9\n",
      "9\n",
      "l,i,f,e, ,i,s, ,t,o,o, ,s,h,o,r,t\n",
      "wow              \n",
      "           wow\n",
      "wow\n",
      "           bowwow              \n",
      "['life', 'is', 'too', 'short']\n"
     ]
    }
   ],
   "source": [
    "# 문자열 관련 함수\n",
    "# .count\n",
    "a = \"life is too short\"\n",
    "print(a.count(\"o\")) # 해당 문장에 o의 개수를 알려줌\n",
    "\n",
    "# .find\n",
    "a = \"life is too short\"\n",
    "print(a.find(\"o\")) # 해당 문장에 o가 처음 나오는 순서를 출력\n",
    "\n",
    "# .index\n",
    "a = \"life is too short\"\n",
    "print(a.index(\"o\")) # 해당 문장에 o가 처음 나오는 순서를 출력 / find와 다른점은 존재하지 않는 문자를 찾으면 오류 발생.\n",
    "\n",
    "# .join\n",
    "a = \"life is too short\"\n",
    "print(\",\".join(a))  # 해당 문장에 \",\"를 넣음.\n",
    "\n",
    "# 공백지우기 l & r & strip\n",
    "z = \"           wow              \"\n",
    "print(z.lstrip())  # 좌 공백 제거\n",
    "print(z.rstrip())  # 우 공백 제거\n",
    "print(z.strip())   # 양쪽 공백 제거\n",
    "\n",
    "# 문자열 바꾸기 .replace\n",
    "print(z.replace(\"wow\" , \"bowwow\"))\n",
    "\n",
    "# 문자열 나누기 .split\n",
    "print(a.split()) # split 안에 인수가 없으면 공백을 기준으로 나눔"
   ]
  },
  {
   "cell_type": "code",
   "execution_count": 42,
   "id": "0ce52941",
   "metadata": {},
   "outputs": [],
   "source": [
    "################ 리스트 자료형"
   ]
  },
  {
   "cell_type": "code",
   "execution_count": 49,
   "id": "37e1ba2f",
   "metadata": {},
   "outputs": [
    {
     "name": "stdout",
     "output_type": "stream",
     "text": [
      "life\n",
      "life\n",
      "b\n",
      "b\n"
     ]
    }
   ],
   "source": [
    "# 삼중 리스트 인덱싱\n",
    "a = [1, 2, [\"a\", \"b\", [\"life\", \"is\"]]]\n",
    "# life 뽑아내기\n",
    "print(a[-1][-1][0])\n",
    "print(a[2][2][0])\n",
    "# b 뽑아내기\n",
    "print(a[-1][1])\n",
    "print(a[2][1])"
   ]
  },
  {
   "cell_type": "code",
   "execution_count": 51,
   "id": "e49868f3",
   "metadata": {},
   "outputs": [
    {
     "data": {
      "text/plain": [
       "[2, 3]"
      ]
     },
     "execution_count": 51,
     "metadata": {},
     "output_type": "execute_result"
    }
   ],
   "source": [
    "# 연습문제 리스트에서 2,3만 추출하라\n",
    "A = [1, 2, 3, 4, 5]\n",
    "A[1:3] "
   ]
  },
  {
   "cell_type": "code",
   "execution_count": 54,
   "id": "583932e3",
   "metadata": {},
   "outputs": [
    {
     "data": {
      "text/plain": [
       "'3Hi'"
      ]
     },
     "execution_count": 54,
     "metadata": {},
     "output_type": "execute_result"
    }
   ],
   "source": [
    "# 문자형으로 바꿔주는 string 함수\n",
    "a = [1, 2, 3]\n",
    "str(a[2]) + \"Hi\" # 문자형 + 문자형"
   ]
  },
  {
   "cell_type": "code",
   "execution_count": 58,
   "id": "acba3fdd",
   "metadata": {},
   "outputs": [
    {
     "data": {
      "text/plain": [
       "[1, 2, 3, 4]"
      ]
     },
     "execution_count": 58,
     "metadata": {},
     "output_type": "execute_result"
    }
   ],
   "source": [
    "# 리스트 요소 추가(뒤에 붙인다 / 하지만 위치 지정 X) .append\n",
    "a = [1,2,3]\n",
    "a. append(4)\n",
    "a"
   ]
  },
  {
   "cell_type": "code",
   "execution_count": 65,
   "id": "7d9cfe94",
   "metadata": {},
   "outputs": [
    {
     "name": "stdout",
     "output_type": "stream",
     "text": [
      "[1, 2, 3, 5, 6]\n",
      "[6, 5, 3, 2, 1]\n"
     ]
    }
   ],
   "source": [
    "# 리스트 정렬 .sort\n",
    "a = [5,6,3,1,2]\n",
    "a.sort()\n",
    "print(a)\n",
    "a.reverse()\n",
    "print(a)"
   ]
  },
  {
   "cell_type": "code",
   "execution_count": 67,
   "id": "6b1a846b",
   "metadata": {},
   "outputs": [
    {
     "data": {
      "text/plain": [
       "1"
      ]
     },
     "execution_count": 67,
     "metadata": {},
     "output_type": "execute_result"
    }
   ],
   "source": [
    "# 리스트 인덱스 .index\n",
    "a = [1,2,3]\n",
    "a.index(2) # 2라는 인수는 리스트[1]에 위치한다."
   ]
  },
  {
   "cell_type": "code",
   "execution_count": 69,
   "id": "7d16821e",
   "metadata": {},
   "outputs": [
    {
     "data": {
      "text/plain": [
       "[1, 2, 3, 10]"
      ]
     },
     "execution_count": 69,
     "metadata": {},
     "output_type": "execute_result"
    }
   ],
   "source": [
    "# 리스트에 요소 삽입 .insert\n",
    "a = [1,2,3]\n",
    "a.insert(3, 10) #insert(a = 위치, b = 들어갈 인수)\n",
    "a"
   ]
  }
 ],
 "metadata": {
  "kernelspec": {
   "display_name": "Python 3",
   "language": "python",
   "name": "python3"
  },
  "language_info": {
   "codemirror_mode": {
    "name": "ipython",
    "version": 3
   },
   "file_extension": ".py",
   "mimetype": "text/x-python",
   "name": "python",
   "nbconvert_exporter": "python",
   "pygments_lexer": "ipython3",
   "version": "3.8.8"
  }
 },
 "nbformat": 4,
 "nbformat_minor": 5
}
