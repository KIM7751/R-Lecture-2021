{
 "cells": [
  {
   "cell_type": "code",
   "execution_count": 1,
   "id": "c0bfa029",
   "metadata": {},
   "outputs": [
    {
     "name": "stdout",
     "output_type": "stream",
     "text": [
      "택시를\n",
      "타고\n",
      "가라\n"
     ]
    }
   ],
   "source": [
    "# 제어문 if\n",
    "# 들여쓰기 주의(언제나 같은 너비로 진행해야함)\n",
    "# {} 가 아닌 : 콜론을 사용함 주의!!\n",
    "money = True\n",
    "if money :\n",
    "    print(\"택시를\")\n",
    "    print(\"타고\")\n",
    "    print(\"가라\") "
   ]
  },
  {
   "cell_type": "code",
   "execution_count": 2,
   "id": "9d72c9e4",
   "metadata": {},
   "outputs": [
    {
     "name": "stdout",
     "output_type": "stream",
     "text": [
      "걸어 가라\n"
     ]
    }
   ],
   "source": [
    "# else는 if에 종속하지 않는다.\n",
    "money = 2000\n",
    "if money >= 3000 :\n",
    "    print(\"택시를 타고 가라\")\n",
    "else:\n",
    "    print(\"걸어 가라\")"
   ]
  },
  {
   "cell_type": "code",
   "execution_count": 3,
   "id": "1018b552",
   "metadata": {},
   "outputs": [
    {
     "name": "stdout",
     "output_type": "stream",
     "text": [
      "택시를 타고 가라\n"
     ]
    }
   ],
   "source": [
    "# or 은 둘중에서 하나가 참이면 전체가 참이됨.\n",
    "money = 2000\n",
    "card = True\n",
    "if money >= 3000 or card:\n",
    "    print(\"택시를 타고 가라\")\n",
    "else:\n",
    "    print(\"걸어 가라\")"
   ]
  },
  {
   "cell_type": "code",
   "execution_count": 4,
   "id": "7a8aca5c",
   "metadata": {},
   "outputs": [
    {
     "name": "stdout",
     "output_type": "stream",
     "text": [
      "택시 타고 가라\n"
     ]
    }
   ],
   "source": [
    "# in ~ 안에\n",
    "pocket = [\"paper\", \"cellphone\" , \"money\"]\n",
    "if \"money\" in pocket :\n",
    "    print(\"택시 타고 가라\")\n",
    "else :\n",
    "    print(\"걸어 가라\")"
   ]
  },
  {
   "cell_type": "code",
   "execution_count": 5,
   "id": "9e346d7b",
   "metadata": {},
   "outputs": [
    {
     "name": "stdout",
     "output_type": "stream",
     "text": [
      "걸어 가라\n"
     ]
    }
   ],
   "source": [
    "# 연습문제 \n",
    "pocket = [\"paper\", \"cellphone\" , \"money\"]\n",
    "if \"card\" not in pocket:\n",
    "    print(\"걸어 가라\")\n",
    "else:\n",
    "    print(\"버스 타고 가라\")"
   ]
  },
  {
   "cell_type": "code",
   "execution_count": 6,
   "id": "a99616d3",
   "metadata": {},
   "outputs": [],
   "source": [
    "# 조건문에서 아무 일도 하지 않게 설정하고 싶으면? pass\n",
    "pocket = [\"paper\", \"cellphone\" , \"money\"]\n",
    "if \"money\" in pocket:\n",
    "    pass\n",
    "else:\n",
    "    print(\"카드를 꺼내라\")"
   ]
  },
  {
   "cell_type": "code",
   "execution_count": 7,
   "id": "1194c496",
   "metadata": {},
   "outputs": [
    {
     "name": "stdout",
     "output_type": "stream",
     "text": [
      "택시를 타라\n"
     ]
    }
   ],
   "source": [
    "# elif 주머니에 돈이 있으면 택시를 타고 주머니에 돈은 없지만 카드가 있으면 택시를 타고, 돈도 없고 카드도 없으면 걸어가라\n",
    "\n",
    "pocket = [\"paper\", \"cellphone\"]\n",
    "card = True\n",
    "if \"money\" in pocket :\n",
    "    print(\"택시를 타라\")\n",
    "elif card :\n",
    "    print(\"택시를 타라\")\n",
    "else :\n",
    "    print(\"걸어가라\")"
   ]
  },
  {
   "cell_type": "code",
   "execution_count": 8,
   "id": "f2a00b42",
   "metadata": {},
   "outputs": [
    {
     "name": "stdout",
     "output_type": "stream",
     "text": [
      "success\n"
     ]
    }
   ],
   "source": [
    "# 조건부 표현식 \n",
    "\n",
    "# 기본형\n",
    "score = 77\n",
    "if score > 70:\n",
    "    message = \"success\"\n",
    "else :\n",
    "    message = \"failure\"\n",
    "print(message)\n",
    "\n",
    "# 조건부 표현형(가독성 유리 한 줄 표현 가능)\n",
    "message = \"success\" if score > 70 else \"failure\""
   ]
  },
  {
   "cell_type": "code",
   "execution_count": 9,
   "id": "2ae4a76a",
   "metadata": {},
   "outputs": [
    {
     "name": "stdout",
     "output_type": "stream",
     "text": [
      "\"Hello world 0\"\n",
      "\"Hello world 9\"\n",
      "\"Hello world 18\"\n",
      "\"Hello world 27\"\n",
      "\"Hello world 36\"\n",
      "\"Hello world 45\"\n",
      "\"Hello world 54\"\n",
      "\"Hello world 63\"\n",
      "\"Hello world 72\"\n",
      "\"Hello world 81\"\n"
     ]
    }
   ],
   "source": [
    "# 반복문 Loop\n",
    "\n",
    "# 1) 기본 문법: while True | False : 둘 중에 하나만 올 수 있고 F = 실행X / T = 무한 반복\n",
    "\n",
    "# 2) 반복 조건: 관습적인 변수 i , 몇 번을 반복했는지 i에 저장해서 원하는 반복 횟수만큼 / 실제로 반복됬는지 체크해서 반복 종료\n",
    "#    어떻게 반복을 멈출까? --> 원하는 만큼 T 값을 이용하고 F로 전환해 멈추면 되겠다.\n",
    "\n",
    "# 3) 활용 --> \"Hello world 0,9,18,27,36...81\" 10 개를 반복해보자\n",
    "\n",
    "i=0 # 반복문 관습적 변수인 i 초기값 설정\n",
    "\n",
    "while i<10 :    # i가 10보다 작을때 까지 반복할게(총 10번 : 0 ~ 9)\n",
    "    print('\"Hello world '+ str(i*9) +'\"') # 문자열과 숫자열의 합은 이뤄질 수 없으므로 숫자를 str() 처리해 문자열로 바꿔 더해주는 모습\n",
    "    i+=1       # i = i + 1\n"
   ]
  },
  {
   "cell_type": "code",
   "execution_count": 10,
   "id": "c00ecd06",
   "metadata": {},
   "outputs": [
    {
     "name": "stdout",
     "output_type": "stream",
     "text": [
      "1\n",
      "2\n",
      "4\n",
      "5\n",
      "7\n",
      "8\n",
      "10\n"
     ]
    }
   ],
   "source": [
    "# P136 연습문제\n",
    "i=0                  # 변수 초기값 설정\n",
    "while i<11:          # i의 범위는 1 ~ 10\n",
    "    if i%3 !=0:      # 단, i는 나눠서 나머지가 0이면 안돼\n",
    "        print(i)     # 뽑아줘\n",
    "    i+=1             # 변수 누적값 반복식\n",
    "    "
   ]
  },
  {
   "cell_type": "code",
   "execution_count": 11,
   "id": "ec048abd",
   "metadata": {},
   "outputs": [
    {
     "name": "stdout",
     "output_type": "stream",
     "text": [
      "['a', 'b', 'c', 'd']\n",
      "['a', 'b', 'c', 'd']\n",
      "['a', 'b', 'c', 'd']\n",
      "['a', 'b', 'c', 'd']\n",
      "hello\n",
      "hello\n",
      "hello\n",
      "hello\n"
     ]
    }
   ],
   "source": [
    "# for문 for □(컨테이너에 담겨있는 값들을 반복문이 실행 될때마다 꺼냄 / 앞에 있는 변수에다가 담아둠) in □(컨테이너여만 사용가능) \n",
    "\n",
    "members = [\"a\", \"b\", \"c\", \"d\"]\n",
    "for member in members :       \n",
    "    print(members)              # 원소가 4개이고 컨테이너를 4번 반복함\n",
    "for member in members :\n",
    "    print(\"hello\")              # 원소가 4개이므로 특정 문자를 4번 반복해 출력가능함. \n",
    "    "
   ]
  },
  {
   "cell_type": "code",
   "execution_count": 27,
   "id": "a8fa24c2",
   "metadata": {},
   "outputs": [
    {
     "name": "stdout",
     "output_type": "stream",
     "text": [
      "합격\n",
      "불합격\n",
      "합격\n",
      "불합격\n",
      "합격\n"
     ]
    }
   ],
   "source": [
    "# P 137 # for문 활용\n",
    "\n",
    "marks = [90, 25, 67, 45, 80]\n",
    "for score in marks:      # for문 활용\n",
    "    if score > 60:\n",
    "        print(\"합격\" )\n",
    "    else:\n",
    "        print(\"불합격\")"
   ]
  },
  {
   "cell_type": "code",
   "execution_count": 28,
   "id": "281de278",
   "metadata": {},
   "outputs": [
    {
     "name": "stdout",
     "output_type": "stream",
     "text": [
      "합격\n",
      "불합격\n",
      "합격\n",
      "불합격\n",
      "합격\n"
     ]
    }
   ],
   "source": [
    "# P 137 # while문 활용\n",
    "i = 0\n",
    "score = [90, 25, 67, 45, 80]\n",
    "while i < len(score) : \n",
    "    if score[i] > 60:\n",
    "        print(\"합격\")\n",
    "    else:\n",
    "        print(\"불합격\")\n",
    "    if i > 5 : break\n",
    "    i+=1"
   ]
  }
 ],
 "metadata": {
  "kernelspec": {
   "display_name": "Python 3",
   "language": "python",
   "name": "python3"
  },
  "language_info": {
   "codemirror_mode": {
    "name": "ipython",
    "version": 3
   },
   "file_extension": ".py",
   "mimetype": "text/x-python",
   "name": "python",
   "nbconvert_exporter": "python",
   "pygments_lexer": "ipython3",
   "version": "3.8.8"
  }
 },
 "nbformat": 4,
 "nbformat_minor": 5
}
