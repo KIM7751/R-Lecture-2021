{
 "cells": [
  {
   "cell_type": "code",
   "execution_count": 1,
   "id": "fd538448",
   "metadata": {},
   "outputs": [],
   "source": [
    "a = \"Life is ~~~\""
   ]
  },
  {
   "cell_type": "code",
   "execution_count": 2,
   "id": "0368529b",
   "metadata": {},
   "outputs": [],
   "source": [
    "a1 = a[0:4]          # 문자 슬라이싱 0~4 --> 4번째에서 짤라줘 / 공백 포함 / 자리의 시작은 0"
   ]
  },
  {
   "cell_type": "code",
   "execution_count": 3,
   "id": "66603238",
   "metadata": {},
   "outputs": [],
   "source": [
    "a2 = a[0:5]"
   ]
  },
  {
   "cell_type": "code",
   "execution_count": 4,
   "id": "2fa5a9a6",
   "metadata": {},
   "outputs": [
    {
     "name": "stdout",
     "output_type": "stream",
     "text": [
      "다르다\n"
     ]
    }
   ],
   "source": [
    "if a1 == a2:\n",
    "    print(\"같다\")\n",
    "else:\n",
    "    print(\"다르다\") # 조건문을 활용한 비교로는 다르다고 출력"
   ]
  },
  {
   "cell_type": "code",
   "execution_count": 5,
   "id": "e4476267",
   "metadata": {},
   "outputs": [
    {
     "name": "stdout",
     "output_type": "stream",
     "text": [
      "Life 4\n",
      "Life  5\n"
     ]
    }
   ],
   "source": [
    "print(a1, len(a1))\n",
    "print(a2, len(a2))          # 육안으로 보기엔 차이가 없음 // strip(양쪽) & lstrip(왼쪽) & rstrip(오른쪽) 공백 제거 함수"
   ]
  },
  {
   "cell_type": "code",
   "execution_count": 6,
   "id": "24ad995b",
   "metadata": {},
   "outputs": [],
   "source": [
    "words1 = \"딸기, 바나나, 수박\""
   ]
  },
  {
   "cell_type": "code",
   "execution_count": 7,
   "id": "fcaea883",
   "metadata": {},
   "outputs": [
    {
     "name": "stdout",
     "output_type": "stream",
     "text": [
      "바나나\n"
     ]
    }
   ],
   "source": [
    "bananaFromwords1 = words1[4:7]\n",
    "print(bananaFromwords1)"
   ]
  },
  {
   "cell_type": "code",
   "execution_count": 8,
   "id": "a151006c",
   "metadata": {},
   "outputs": [
    {
     "name": "stdout",
     "output_type": "stream",
     "text": [
      "바나나\n"
     ]
    }
   ],
   "source": [
    "\n",
    "wordToFind = \"바나나\"\n",
    "indexOfBanana = words1.find(wordToFind)       # 위치알려주기 함수 Find\n",
    "bananaFromwords1 = words1[indexOfBanana:indexOfBanana + len(wordToFind)]  # 내 코드 아님 이런건 어떻게 생각해?\n",
    "print(bananaFromwords1)\n",
    "\n"
   ]
  },
  {
   "cell_type": "code",
   "execution_count": 9,
   "id": "6ef7ee06",
   "metadata": {},
   "outputs": [
    {
     "name": "stdout",
     "output_type": "stream",
     "text": [
      "수박\n"
     ]
    }
   ],
   "source": [
    "# wmFromwords1 = words1[9:11]    맨 마지막을 출력하는 두가지 방법\n",
    "wmFromwords1 = words1[9:]  \n",
    "print(wmFromwords1)"
   ]
  },
  {
   "cell_type": "code",
   "execution_count": 10,
   "id": "e2a55737",
   "metadata": {},
   "outputs": [
    {
     "name": "stdout",
     "output_type": "stream",
     "text": [
      "딸기\n"
     ]
    }
   ],
   "source": [
    "sbwmFromwords1 = words1[:2]\n",
    "print(sbwmFromwords1)"
   ]
  },
  {
   "cell_type": "code",
   "execution_count": 11,
   "id": "f94f0414",
   "metadata": {},
   "outputs": [],
   "source": [
    "# 오타 바꾸기\n",
    "a = \"Pithon\""
   ]
  },
  {
   "cell_type": "code",
   "execution_count": 12,
   "id": "f2f9d82e",
   "metadata": {},
   "outputs": [
    {
     "data": {
      "text/plain": [
       "'i'"
      ]
     },
     "execution_count": 12,
     "metadata": {},
     "output_type": "execute_result"
    }
   ],
   "source": [
    "a[1]"
   ]
  },
  {
   "cell_type": "code",
   "execution_count": 13,
   "id": "6c3fc1c2",
   "metadata": {},
   "outputs": [
    {
     "ename": "TypeError",
     "evalue": "'str' object does not support item assignment",
     "output_type": "error",
     "traceback": [
      "\u001b[1;31m---------------------------------------------------------------------------\u001b[0m",
      "\u001b[1;31mTypeError\u001b[0m                                 Traceback (most recent call last)",
      "\u001b[1;32m<ipython-input-13-c175e190acb0>\u001b[0m in \u001b[0;36m<module>\u001b[1;34m\u001b[0m\n\u001b[1;32m----> 1\u001b[1;33m \u001b[0ma\u001b[0m\u001b[1;33m[\u001b[0m\u001b[1;36m1\u001b[0m\u001b[1;33m]\u001b[0m \u001b[1;33m=\u001b[0m \u001b[1;34m\"y\"\u001b[0m \u001b[1;31m# 오류가 떠버려\u001b[0m\u001b[1;33m\u001b[0m\u001b[1;33m\u001b[0m\u001b[0m\n\u001b[0m",
      "\u001b[1;31mTypeError\u001b[0m: 'str' object does not support item assignment"
     ]
    }
   ],
   "source": [
    "a[1] = \"y\" # 오류가 떠버려"
   ]
  },
  {
   "cell_type": "code",
   "execution_count": 14,
   "id": "ec35dc02",
   "metadata": {},
   "outputs": [],
   "source": [
    "a2 = a[:1] + \"y\" + a[2:] # 앞부분에 1 전이 정상이야 / 뒷부분에 2부터 정상이야"
   ]
  },
  {
   "cell_type": "code",
   "execution_count": 15,
   "id": "65d49d42",
   "metadata": {},
   "outputs": [
    {
     "name": "stdout",
     "output_type": "stream",
     "text": [
      "Python\n"
     ]
    }
   ],
   "source": [
    "a = a2\n",
    "print(a2)"
   ]
  },
  {
   "cell_type": "code",
   "execution_count": 16,
   "id": "ee2cc361",
   "metadata": {},
   "outputs": [
    {
     "name": "stdout",
     "output_type": "stream",
     "text": [
      "Name\tMajor\tHowManyPhone\n",
      "김기영\tIT\t2\n",
      "김개굴\tBT\t3\n"
     ]
    }
   ],
   "source": [
    "# 정렬\n",
    "name1 = \"김기영\" ; major1 = \"IT\" ;howManyPhone1 =2\n",
    "name2 = \"김개굴\" ; major2 = \"BT\" ;howManyPhone2 =3\n",
    "print(\"Name\" + \"\\t\"+ \"Major\" + \"\\t\" + \"HowManyPhone\")\n",
    "print(name1 + \"\\t\"+ major1 + \"\\t\" + str(howManyPhone1))\n",
    "print(name2 + \"\\t\"+ major2 + \"\\t\" + str(howManyPhone2)) # 숫자는 크기 비교 용이를 위해 오른쪽 정렬을 함 / 하지만 현재는 되어있지 않음."
   ]
  },
  {
   "cell_type": "code",
   "execution_count": 17,
   "id": "c4135f7e",
   "metadata": {},
   "outputs": [
    {
     "name": "stdout",
     "output_type": "stream",
     "text": [
      "%s120\n",
      "120\n",
      "       120\n",
      "  12000000\n"
     ]
    }
   ],
   "source": [
    "print(\"%s\" \"120\")\n",
    "print(\"%s\" % \"120\") # %가 중간에 들어가므로써 다르게 출력됨을 알 수 있다.\n",
    "print(\"%10s\" % \"120\") # 총 10칸을 잡아놓고 채우겠다\n",
    "print(\"%10s\" % \"12000000\")"
   ]
  },
  {
   "cell_type": "code",
   "execution_count": 18,
   "id": "030954ea",
   "metadata": {},
   "outputs": [
    {
     "name": "stdout",
     "output_type": "stream",
     "text": [
      "Name\tMajor\tHowManyPhone\n",
      "김기영\tIT\t         2\n",
      "김개굴\tBT\t         3\n"
     ]
    }
   ],
   "source": [
    "# 위의 예시 적용해보기\n",
    "name1 = \"김기영\" ; major1 = \"IT\" ;howManyPhone1 =2\n",
    "name2 = \"김개굴\" ; major2 = \"BT\" ;howManyPhone2 =3\n",
    "print(\"Name\" + \"\\t\"+ \"Major\" + \"\\t\" + \"HowManyPhone\")\n",
    "print(name1 + \"\\t\"+ major1 + \"\\t\" + \"%10s\" % str(howManyPhone1))\n",
    "print(name2 + \"\\t\"+ major2 + \"\\t\" + \"%10s\" % str(howManyPhone2)) "
   ]
  },
  {
   "cell_type": "code",
   "execution_count": 19,
   "id": "3dfbe202",
   "metadata": {},
   "outputs": [
    {
     "name": "stdout",
     "output_type": "stream",
     "text": [
      "120       \n",
      "120000    \n"
     ]
    }
   ],
   "source": [
    "print(\"%-10s\" % \"120\") # \"-\" 사용시 왼쪽에서 정렬\n",
    "print(\"%-10s\" % \"120000\")"
   ]
  },
  {
   "cell_type": "code",
   "execution_count": 20,
   "id": "426682d3",
   "metadata": {},
   "outputs": [
    {
     "name": "stdout",
     "output_type": "stream",
     "text": [
      "120.00\n",
      "120000.00\n"
     ]
    }
   ],
   "source": [
    "print(\"%0.2f\" % 120) # 소수점 뒤를 몇자리로 할래?\n",
    "print(\"%0.2f\" % 120000)"
   ]
  },
  {
   "cell_type": "code",
   "execution_count": 21,
   "id": "07337a79",
   "metadata": {},
   "outputs": [
    {
     "name": "stdout",
     "output_type": "stream",
     "text": [
      "    120.00\n",
      " 120000.00\n"
     ]
    }
   ],
   "source": [
    "print(\"%10.2f\" % 120) #  10칸을 놓고 소수점 뒤를 몇자리로 할래?\n",
    "print(\"%10.2f\" % 120000)"
   ]
  },
  {
   "cell_type": "code",
   "execution_count": 22,
   "id": "8751cae8",
   "metadata": {},
   "outputs": [
    {
     "data": {
      "text/plain": [
       "'~~~{0}~~~{1}~~~~~~'"
      ]
     },
     "execution_count": 22,
     "metadata": {},
     "output_type": "execute_result"
    }
   ],
   "source": [
    "# 포매팅\n",
    "\"~~~{0}~~~{1}~~~~~~\""
   ]
  },
  {
   "cell_type": "code",
   "execution_count": 44,
   "id": "bd451f95",
   "metadata": {},
   "outputs": [
    {
     "data": {
      "text/plain": [
       "'~~~기영~~~2~~~~~~'"
      ]
     },
     "execution_count": 44,
     "metadata": {},
     "output_type": "execute_result"
    }
   ],
   "source": [
    "\"~~~{0}~~~{1}~~~~~~\".format(\"기영\", 2)"
   ]
  },
  {
   "cell_type": "code",
   "execution_count": 24,
   "id": "9da01970",
   "metadata": {},
   "outputs": [
    {
     "data": {
      "text/plain": [
       "'~~~2~~~기영~~~~~~'"
      ]
     },
     "execution_count": 24,
     "metadata": {},
     "output_type": "execute_result"
    }
   ],
   "source": [
    "\"~~~{1}~~~{0}~~~~~~\".format(\"기영\", 2)"
   ]
  },
  {
   "cell_type": "code",
   "execution_count": 25,
   "id": "70e6843e",
   "metadata": {},
   "outputs": [
    {
     "data": {
      "text/plain": [
       "'~~~기영~~~~~~~~2~~~~2~~~'"
      ]
     },
     "execution_count": 25,
     "metadata": {},
     "output_type": "execute_result"
    }
   ],
   "source": [
    "\"~~~{name}~~~~~~~~{HowMany}~~~~{HowMany}~~~\".format(name = \"기영\", HowMany =2)"
   ]
  },
  {
   "cell_type": "code",
   "execution_count": 26,
   "id": "3a85b6fe",
   "metadata": {},
   "outputs": [
    {
     "data": {
      "text/plain": [
       "'120'"
      ]
     },
     "execution_count": 26,
     "metadata": {},
     "output_type": "execute_result"
    }
   ],
   "source": [
    "\"{0}\".format(\"120\")"
   ]
  },
  {
   "cell_type": "code",
   "execution_count": 27,
   "id": "41cc2d0a",
   "metadata": {},
   "outputs": [
    {
     "data": {
      "text/plain": [
       "'       120'"
      ]
     },
     "execution_count": 27,
     "metadata": {},
     "output_type": "execute_result"
    }
   ],
   "source": [
    "\"{0:>10}\".format(\"120\") # 우로 정렬"
   ]
  },
  {
   "cell_type": "code",
   "execution_count": 28,
   "id": "223117ab",
   "metadata": {},
   "outputs": [
    {
     "data": {
      "text/plain": [
       "'   120    '"
      ]
     },
     "execution_count": 28,
     "metadata": {},
     "output_type": "execute_result"
    }
   ],
   "source": [
    "\"{0:^10}\".format(\"120\") # 가운데 정렬"
   ]
  },
  {
   "cell_type": "code",
   "execution_count": 29,
   "id": "9f4a2075",
   "metadata": {},
   "outputs": [
    {
     "data": {
      "text/plain": [
       "'_______120'"
      ]
     },
     "execution_count": 29,
     "metadata": {},
     "output_type": "execute_result"
    }
   ],
   "source": [
    "\"{0:_>10}\".format(\"120\") "
   ]
  },
  {
   "cell_type": "code",
   "execution_count": 30,
   "id": "26a26f79",
   "metadata": {},
   "outputs": [
    {
     "data": {
      "text/plain": [
       "'나의 이름은 기영입니다. 나이는 120살 까지 살고 싶어요'"
      ]
     },
     "execution_count": 30,
     "metadata": {},
     "output_type": "execute_result"
    }
   ],
   "source": [
    "name = \"기영\"\n",
    "age = 120\n",
    "\"나의 이름은 {0}입니다. 나이는 {1}살 까지 살고 싶어요\".format(name, age)"
   ]
  },
  {
   "cell_type": "code",
   "execution_count": 32,
   "id": "31b91d25",
   "metadata": {},
   "outputs": [
    {
     "data": {
      "text/plain": [
       "'나의 이름은 기영입니다. 나이는 120살 까지 살고 싶어요'"
      ]
     },
     "execution_count": 32,
     "metadata": {},
     "output_type": "execute_result"
    }
   ],
   "source": [
    "f\"나의 이름은 {name}입니다. 나이는 {age}살 까지 살고 싶어요\".format(name, age)"
   ]
  },
  {
   "cell_type": "code",
   "execution_count": 34,
   "id": "61187c9b",
   "metadata": {},
   "outputs": [
    {
     "data": {
      "text/plain": [
       "3"
      ]
     },
     "execution_count": 34,
     "metadata": {},
     "output_type": "execute_result"
    }
   ],
   "source": [
    "len(\"바나나\")"
   ]
  },
  {
   "cell_type": "code",
   "execution_count": 36,
   "id": "5c4d3049",
   "metadata": {},
   "outputs": [
    {
     "data": {
      "text/plain": [
       "3"
      ]
     },
     "execution_count": 36,
     "metadata": {},
     "output_type": "execute_result"
    }
   ],
   "source": [
    "\"내가 가장 좋아하는 바나나는 크기가 큰 바나나 입니다. 왜냐면 작은 바나나는 같은 무게를 사도 껍질로 다 버려져요\". count(\"바나나\")\n",
    "# 바나나라는 단어가 세개\n",
    "# \".\" 어떤 개념속에 있는 세부사항을 말함"
   ]
  },
  {
   "cell_type": "code",
   "execution_count": 40,
   "id": "c60505e4",
   "metadata": {},
   "outputs": [
    {
     "data": {
      "text/plain": [
       "'a,b,c,d'"
      ]
     },
     "execution_count": 40,
     "metadata": {},
     "output_type": "execute_result"
    }
   ],
   "source": [
    "\",\".join(\"abcd\")"
   ]
  },
  {
   "cell_type": "code",
   "execution_count": 42,
   "id": "ae77517d",
   "metadata": {},
   "outputs": [
    {
     "data": {
      "text/plain": [
       "'abc,def,ghi'"
      ]
     },
     "execution_count": 42,
     "metadata": {},
     "output_type": "execute_result"
    }
   ],
   "source": [
    "\",\".join([\"abc\",\"def\",\"ghi\"]) # 빈도수가 높음"
   ]
  },
  {
   "cell_type": "code",
   "execution_count": 45,
   "id": "913b61df",
   "metadata": {},
   "outputs": [
    {
     "data": {
      "text/plain": [
       "'010-1234-5678'"
      ]
     },
     "execution_count": 45,
     "metadata": {},
     "output_type": "execute_result"
    }
   ],
   "source": [
    "# 숫자만으로 저장된 전화 번호를 DB에서 얻었다 010 1234 5768 이 번호를 - 연결하자\n",
    "#010-1234-5678\n",
    "\n",
    "\"-\".join([\"010\", \"1234\", \"5678\"])"
   ]
  },
  {
   "cell_type": "code",
   "execution_count": 47,
   "id": "481fa988",
   "metadata": {},
   "outputs": [
    {
     "name": "stdout",
     "output_type": "stream",
     "text": [
      "I love peach. Because peach is so sweet.\n"
     ]
    }
   ],
   "source": [
    "# 문자열 바꾸기(replace)\n",
    "a = \"I love apple. Because apple is so sweet.\"\n",
    "b = a.replace(\"apple\", \"peach\")\n",
    "print(b)"
   ]
  }
 ],
 "metadata": {
  "kernelspec": {
   "display_name": "Python 3",
   "language": "python",
   "name": "python3"
  },
  "language_info": {
   "codemirror_mode": {
    "name": "ipython",
    "version": 3
   },
   "file_extension": ".py",
   "mimetype": "text/x-python",
   "name": "python",
   "nbconvert_exporter": "python",
   "pygments_lexer": "ipython3",
   "version": "3.8.8"
  }
 },
 "nbformat": 4,
 "nbformat_minor": 5
}
