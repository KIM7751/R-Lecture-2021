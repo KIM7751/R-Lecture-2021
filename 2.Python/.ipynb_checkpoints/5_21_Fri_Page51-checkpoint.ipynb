{
 "cells": [
  {
   "cell_type": "code",
   "execution_count": 1,
   "id": "2d0de05d",
   "metadata": {},
   "outputs": [],
   "source": [
    "a = \"Life is ~~~\""
   ]
  },
  {
   "cell_type": "code",
   "execution_count": 2,
   "id": "6dee64dd",
   "metadata": {},
   "outputs": [],
   "source": [
    "a1 = a[0:4]          # 문자 슬라이싱 0~4 --> 4번째에서 짤라줘 / 공백 포함 / 자리의 시작은 0"
   ]
  },
  {
   "cell_type": "code",
   "execution_count": 3,
   "id": "544f6e17",
   "metadata": {},
   "outputs": [],
   "source": [
    "a2 = a[0:5]"
   ]
  },
  {
   "cell_type": "code",
   "execution_count": 4,
   "id": "5b29cace",
   "metadata": {},
   "outputs": [
    {
     "name": "stdout",
     "output_type": "stream",
     "text": [
      "다르다\n"
     ]
    }
   ],
   "source": [
    "if a1 == a2:\n",
    "    print(\"같다\")\n",
    "else:\n",
    "    print(\"다르다\") # 조건문을 활용한 비교로는 다르다고 출력"
   ]
  },
  {
   "cell_type": "code",
   "execution_count": 5,
   "id": "464c4a5c",
   "metadata": {},
   "outputs": [
    {
     "name": "stdout",
     "output_type": "stream",
     "text": [
      "Life 4\n",
      "Life  5\n"
     ]
    }
   ],
   "source": [
    "print(a1, len(a1))\n",
    "print(a2, len(a2))          # 육안으로 보기엔 차이가 없음 // strip(양쪽) & lstrip(왼쪽) & rstrip(오른쪽) 공백 제거 함수"
   ]
  },
  {
   "cell_type": "code",
   "execution_count": 6,
   "id": "a7bd9bc0",
   "metadata": {},
   "outputs": [],
   "source": [
    "words1 = \"딸기, 바나나, 수박\""
   ]
  },
  {
   "cell_type": "code",
   "execution_count": 7,
   "id": "c0e6927f",
   "metadata": {},
   "outputs": [
    {
     "name": "stdout",
     "output_type": "stream",
     "text": [
      "바나나\n"
     ]
    }
   ],
   "source": [
    "bananaFromwords1 = words1[4:7]\n",
    "print(bananaFromwords1)"
   ]
  },
  {
   "cell_type": "code",
   "execution_count": 8,
   "id": "8591948c",
   "metadata": {},
   "outputs": [
    {
     "name": "stdout",
     "output_type": "stream",
     "text": [
      "바나나\n"
     ]
    }
   ],
   "source": [
    "\n",
    "wordToFind = \"바나나\"\n",
    "indexOfBanana = words1.find(wordToFind)       # 위치알려주기 함수 Find\n",
    "bananaFromwords1 = words1[indexOfBanana:indexOfBanana + len(wordToFind)]  # 내 코드 아님 이런건 어떻게 생각해?\n",
    "print(bananaFromwords1)\n",
    "\n"
   ]
  },
  {
   "cell_type": "code",
   "execution_count": 9,
   "id": "cd08c4c3",
   "metadata": {},
   "outputs": [
    {
     "name": "stdout",
     "output_type": "stream",
     "text": [
      "수박\n"
     ]
    }
   ],
   "source": [
    "# wmFromwords1 = words1[9:11]    맨 마지막을 출력하는 두가지 방법\n",
    "wmFromwords1 = words1[9:]  \n",
    "print(wmFromwords1)"
   ]
  },
  {
   "cell_type": "code",
   "execution_count": 10,
   "id": "a15d9180",
   "metadata": {},
   "outputs": [
    {
     "name": "stdout",
     "output_type": "stream",
     "text": [
      "딸기\n"
     ]
    }
   ],
   "source": [
    "sbwmFromwords1 = words1[:2]\n",
    "print(sbwmFromwords1)"
   ]
  },
  {
   "cell_type": "code",
   "execution_count": 11,
   "id": "eb3c8f07",
   "metadata": {},
   "outputs": [],
   "source": [
    "# 오타 바꾸기\n",
    "a = \"Pithon\""
   ]
  },
  {
   "cell_type": "code",
   "execution_count": 12,
   "id": "e9a4dc96",
   "metadata": {},
   "outputs": [
    {
     "data": {
      "text/plain": [
       "'i'"
      ]
     },
     "execution_count": 12,
     "metadata": {},
     "output_type": "execute_result"
    }
   ],
   "source": [
    "a[1]"
   ]
  },
  {
   "cell_type": "code",
   "execution_count": 13,
   "id": "79c3df09",
   "metadata": {},
   "outputs": [],
   "source": [
    "# a[1] = \"y\" 오류가 떠버려"
   ]
  },
  {
   "cell_type": "code",
   "execution_count": 14,
   "id": "e0baf5ca",
   "metadata": {},
   "outputs": [],
   "source": [
    "a2 = a[:1] + \"y\" + a[2:] # 앞부분에 1 전이 정상이야 / 뒷부분에 2부터 정상이야"
   ]
  },
  {
   "cell_type": "code",
   "execution_count": 15,
   "id": "518abd73",
   "metadata": {},
   "outputs": [
    {
     "name": "stdout",
     "output_type": "stream",
     "text": [
      "Python\n"
     ]
    }
   ],
   "source": [
    "a = a2\n",
    "print(a2)"
   ]
  },
  {
   "cell_type": "code",
   "execution_count": 16,
   "id": "9e1bad69",
   "metadata": {},
   "outputs": [
    {
     "name": "stdout",
     "output_type": "stream",
     "text": [
      "Name\tMajor\tHowManyPhone\n",
      "김기영\tIT\t2\n",
      "김개굴\tBT\t3\n"
     ]
    }
   ],
   "source": [
    "# 정렬\n",
    "name1 = \"김기영\" ; major1 = \"IT\" ;howManyPhone1 =2\n",
    "name2 = \"김개굴\" ; major2 = \"BT\" ;howManyPhone2 =3\n",
    "print(\"Name\" + \"\\t\"+ \"Major\" + \"\\t\" + \"HowManyPhone\")\n",
    "print(name1 + \"\\t\"+ major1 + \"\\t\" + str(howManyPhone1))\n",
    "print(name2 + \"\\t\"+ major2 + \"\\t\" + str(howManyPhone2)) # 숫자는 크기 비교 용이를 위해 오른쪽 정렬을 함 / 하지만 현재는 되어있지 않음."
   ]
  },
  {
   "cell_type": "code",
   "execution_count": 17,
   "id": "5a1cf494",
   "metadata": {},
   "outputs": [
    {
     "name": "stdout",
     "output_type": "stream",
     "text": [
      "%s120\n",
      "120\n",
      "       120\n",
      "  12000000\n"
     ]
    }
   ],
   "source": [
    "print(\"%s\" \"120\")\n",
    "print(\"%s\" % \"120\") # %가 중간에 들어가므로써 다르게 출력됨을 알 수 있다.\n",
    "print(\"%10s\" % \"120\") # 총 10칸을 잡아놓고 채우겠다\n",
    "print(\"%10s\" % \"12000000\")"
   ]
  },
  {
   "cell_type": "code",
   "execution_count": 18,
   "id": "9701258c",
   "metadata": {},
   "outputs": [
    {
     "name": "stdout",
     "output_type": "stream",
     "text": [
      "Name\tMajor\tHowManyPhone\n",
      "김기영\tIT\t         2\n",
      "김개굴\tBT\t         3\n"
     ]
    }
   ],
   "source": [
    "# 위의 예시 적용해보기\n",
    "name1 = \"김기영\" ; major1 = \"IT\" ;howManyPhone1 =2\n",
    "name2 = \"김개굴\" ; major2 = \"BT\" ;howManyPhone2 =3\n",
    "print(\"Name\" + \"\\t\"+ \"Major\" + \"\\t\" + \"HowManyPhone\")\n",
    "print(name1 + \"\\t\"+ major1 + \"\\t\" + \"%10s\" % str(howManyPhone1))\n",
    "print(name2 + \"\\t\"+ major2 + \"\\t\" + \"%10s\" % str(howManyPhone2)) "
   ]
  },
  {
   "cell_type": "code",
   "execution_count": 19,
   "id": "0103ef37",
   "metadata": {},
   "outputs": [
    {
     "name": "stdout",
     "output_type": "stream",
     "text": [
      "120       \n",
      "120000    \n"
     ]
    }
   ],
   "source": [
    "print(\"%-10s\" % \"120\") # \"-\" 사용시 왼쪽에서 정렬\n",
    "print(\"%-10s\" % \"120000\")"
   ]
  },
  {
   "cell_type": "code",
   "execution_count": 20,
   "id": "4efd9cf5",
   "metadata": {},
   "outputs": [
    {
     "name": "stdout",
     "output_type": "stream",
     "text": [
      "120.00\n",
      "120000.00\n"
     ]
    }
   ],
   "source": [
    "print(\"%0.2f\" % 120) # 소수점 뒤를 몇자리로 할래?\n",
    "print(\"%0.2f\" % 120000)"
   ]
  },
  {
   "cell_type": "code",
   "execution_count": 21,
   "id": "0594bf25",
   "metadata": {},
   "outputs": [
    {
     "name": "stdout",
     "output_type": "stream",
     "text": [
      "    120.00\n",
      " 120000.00\n"
     ]
    }
   ],
   "source": [
    "print(\"%10.2f\" % 120) #  10칸을 놓고 소수점 뒤를 몇자리로 할래?\n",
    "print(\"%10.2f\" % 120000)"
   ]
  },
  {
   "cell_type": "code",
   "execution_count": 22,
   "id": "851354f9",
   "metadata": {},
   "outputs": [
    {
     "data": {
      "text/plain": [
       "'~~~{0}~~~{1}~~~~~~'"
      ]
     },
     "execution_count": 22,
     "metadata": {},
     "output_type": "execute_result"
    }
   ],
   "source": [
    "# 포매팅\n",
    "\"~~~{0}~~~{1}~~~~~~\""
   ]
  },
  {
   "cell_type": "code",
   "execution_count": 23,
   "id": "6e663601",
   "metadata": {},
   "outputs": [
    {
     "data": {
      "text/plain": [
       "'~~~기영~~~2~~~~~~'"
      ]
     },
     "execution_count": 23,
     "metadata": {},
     "output_type": "execute_result"
    }
   ],
   "source": [
    "\"~~~{0}~~~{1}~~~~~~\".format(\"기영\", 2)"
   ]
  },
  {
   "cell_type": "code",
   "execution_count": 24,
   "id": "cb4b630b",
   "metadata": {},
   "outputs": [
    {
     "data": {
      "text/plain": [
       "'~~~2~~~기영~~~~~~'"
      ]
     },
     "execution_count": 24,
     "metadata": {},
     "output_type": "execute_result"
    }
   ],
   "source": [
    "\"~~~{1}~~~{0}~~~~~~\".format(\"기영\", 2)"
   ]
  },
  {
   "cell_type": "code",
   "execution_count": 25,
   "id": "35706164",
   "metadata": {},
   "outputs": [
    {
     "data": {
      "text/plain": [
       "'~~~기영~~~~~~~~2~~~~2~~~'"
      ]
     },
     "execution_count": 25,
     "metadata": {},
     "output_type": "execute_result"
    }
   ],
   "source": [
    "\"~~~{name}~~~~~~~~{HowMany}~~~~{HowMany}~~~\".format(name = \"기영\", HowMany =2)"
   ]
  },
  {
   "cell_type": "code",
   "execution_count": 26,
   "id": "7b8b43ae",
   "metadata": {},
   "outputs": [
    {
     "data": {
      "text/plain": [
       "'120'"
      ]
     },
     "execution_count": 26,
     "metadata": {},
     "output_type": "execute_result"
    }
   ],
   "source": [
    "\"{0}\".format(\"120\")"
   ]
  },
  {
   "cell_type": "code",
   "execution_count": 27,
   "id": "acc8e554",
   "metadata": {},
   "outputs": [
    {
     "data": {
      "text/plain": [
       "'       120'"
      ]
     },
     "execution_count": 27,
     "metadata": {},
     "output_type": "execute_result"
    }
   ],
   "source": [
    "\"{0:>10}\".format(\"120\") # 우로 정렬"
   ]
  },
  {
   "cell_type": "code",
   "execution_count": 28,
   "id": "ca6611be",
   "metadata": {},
   "outputs": [
    {
     "data": {
      "text/plain": [
       "'   120    '"
      ]
     },
     "execution_count": 28,
     "metadata": {},
     "output_type": "execute_result"
    }
   ],
   "source": [
    "\"{0:^10}\".format(\"120\") # 가운데 정렬"
   ]
  },
  {
   "cell_type": "code",
   "execution_count": 29,
   "id": "b1fc7b01",
   "metadata": {},
   "outputs": [
    {
     "data": {
      "text/plain": [
       "'_______120'"
      ]
     },
     "execution_count": 29,
     "metadata": {},
     "output_type": "execute_result"
    }
   ],
   "source": [
    "\"{0:_>10}\".format(\"120\") "
   ]
  },
  {
   "cell_type": "code",
   "execution_count": 30,
   "id": "9ef2f7fa",
   "metadata": {},
   "outputs": [
    {
     "data": {
      "text/plain": [
       "'나의 이름은 기영입니다. 나이는 120살 까지 살고 싶어요'"
      ]
     },
     "execution_count": 30,
     "metadata": {},
     "output_type": "execute_result"
    }
   ],
   "source": [
    "name = \"기영\"\n",
    "age = 120\n",
    "\"나의 이름은 {0}입니다. 나이는 {1}살 까지 살고 싶어요\".format(name, age)"
   ]
  },
  {
   "cell_type": "code",
   "execution_count": 31,
   "id": "94067a6c",
   "metadata": {},
   "outputs": [
    {
     "data": {
      "text/plain": [
       "'나의 이름은 기영입니다. 나이는 120살 까지 살고 싶어요'"
      ]
     },
     "execution_count": 31,
     "metadata": {},
     "output_type": "execute_result"
    }
   ],
   "source": [
    "f\"나의 이름은 {name}입니다. 나이는 {age}살 까지 살고 싶어요\".format(name, age)"
   ]
  },
  {
   "cell_type": "code",
   "execution_count": 32,
   "id": "15ab20db",
   "metadata": {},
   "outputs": [
    {
     "data": {
      "text/plain": [
       "3"
      ]
     },
     "execution_count": 32,
     "metadata": {},
     "output_type": "execute_result"
    }
   ],
   "source": [
    "len(\"바나나\")"
   ]
  },
  {
   "cell_type": "code",
   "execution_count": 33,
   "id": "60f236c4",
   "metadata": {},
   "outputs": [
    {
     "data": {
      "text/plain": [
       "3"
      ]
     },
     "execution_count": 33,
     "metadata": {},
     "output_type": "execute_result"
    }
   ],
   "source": [
    "\"내가 가장 좋아하는 바나나는 크기가 큰 바나나 입니다. 왜냐면 작은 바나나는 같은 무게를 사도 껍질로 다 버려져요\". count(\"바나나\")\n",
    "# 바나나라는 단어가 세개\n",
    "# \".\" 어떤 개념속에 있는 세부사항을 말함"
   ]
  },
  {
   "cell_type": "code",
   "execution_count": 34,
   "id": "0f7cdaa9",
   "metadata": {},
   "outputs": [
    {
     "data": {
      "text/plain": [
       "'a,b,c,d'"
      ]
     },
     "execution_count": 34,
     "metadata": {},
     "output_type": "execute_result"
    }
   ],
   "source": [
    "\",\".join(\"abcd\")"
   ]
  },
  {
   "cell_type": "code",
   "execution_count": 35,
   "id": "ab634bdf",
   "metadata": {},
   "outputs": [
    {
     "data": {
      "text/plain": [
       "'abc,def,ghi'"
      ]
     },
     "execution_count": 35,
     "metadata": {},
     "output_type": "execute_result"
    }
   ],
   "source": [
    "\",\".join([\"abc\",\"def\",\"ghi\"]) # 빈도수가 높음"
   ]
  },
  {
   "cell_type": "code",
   "execution_count": 36,
   "id": "df35b559",
   "metadata": {},
   "outputs": [
    {
     "data": {
      "text/plain": [
       "'010-1234-5678'"
      ]
     },
     "execution_count": 36,
     "metadata": {},
     "output_type": "execute_result"
    }
   ],
   "source": [
    "# 숫자만으로 저장된 전화 번호를 DB에서 얻었다 010 1234 5768 이 번호를 - 연결하자\n",
    "#010-1234-5678\n",
    "\n",
    "\"-\".join([\"010\", \"1234\", \"5678\"]) # [] 리스트 "
   ]
  },
  {
   "cell_type": "code",
   "execution_count": 37,
   "id": "fc325ec4",
   "metadata": {},
   "outputs": [
    {
     "name": "stdout",
     "output_type": "stream",
     "text": [
      "I love peach. Because peach is so sweet.\n"
     ]
    }
   ],
   "source": [
    "# 문자열 바꾸기(replace)\n",
    "a = \"I love apple. Because apple is so sweet.\"\n",
    "b = a.replace(\"apple\", \"peach\")\n",
    "print(b)"
   ]
  },
  {
   "cell_type": "code",
   "execution_count": 38,
   "id": "f1dfb719",
   "metadata": {},
   "outputs": [
    {
     "name": "stdout",
     "output_type": "stream",
     "text": [
      "01012345678\n"
     ]
    }
   ],
   "source": [
    "# \"010-1234-5678\" --> \"01012345678\"\n",
    "a = \"010-1234-5678\"\n",
    "b = a.replace(\"-\",\"\")\n",
    "print(b)"
   ]
  },
  {
   "cell_type": "code",
   "execution_count": 39,
   "id": "d1d9dfcb",
   "metadata": {},
   "outputs": [
    {
     "name": "stdout",
     "output_type": "stream",
     "text": [
      "['life', 'is', 'good']\n"
     ]
    }
   ],
   "source": [
    "# 문자열 나누기\n",
    "a = \"life is good\"\n",
    "b = a.split()\n",
    "print(b)"
   ]
  },
  {
   "cell_type": "code",
   "execution_count": 41,
   "id": "dab659b5",
   "metadata": {},
   "outputs": [
    {
     "name": "stdout",
     "output_type": "stream",
     "text": [
      "식별번호: 010 , 국번 1234 , 개인번호 5678\n"
     ]
    }
   ],
   "source": [
    "# \"010-1234-5678\" --> [\"010\",\"1234\",\"5678\"] split() 의 기본값은 공백을 기준으로 나누니깐 \"-\"를 넣어주면 됨\n",
    "a = \"010-1234-5678\"\n",
    "b = a.split(\"-\")\n",
    "print(\"식별번호:\", b[0], \", 국번\", b[1], \", 개인번호\", b[2])"
   ]
  },
  {
   "cell_type": "code",
   "execution_count": 51,
   "id": "34fa4ecb",
   "metadata": {},
   "outputs": [
    {
     "name": "stdout",
     "output_type": "stream",
     "text": [
      "[]\n",
      "[1, 2, [3, 4]]\n",
      "3\n",
      "1\n",
      "[3, 4]\n",
      "[3, 4]\n",
      "4\n"
     ]
    }
   ],
   "source": [
    "a = [] # 빈 리스트는 먼저 만들어놓고 나중에 추가하기 위해 만드는 것\n",
    "print(a)\n",
    "e = [ 1, 2, [3,4]] # 2중 리스트\n",
    "print(e)\n",
    "print(len(e)) # 1, 2, [3,4]\n",
    "print(e[0])\n",
    "print(e[2])\n",
    "print(e[-1])   # 거꾸로 센 것 = 문자열 원리랑 같음.\n",
    "print(e[2][1]) # [3,4] 에서 첫 번째 "
   ]
  },
  {
   "cell_type": "code",
   "execution_count": 57,
   "id": "c71d32fe",
   "metadata": {},
   "outputs": [
    {
     "name": "stdout",
     "output_type": "stream",
     "text": [
      "c\n",
      "[1, 2, 4]\n"
     ]
    }
   ],
   "source": [
    "str1 = \"abc\"\n",
    "print(str1[2])\n",
    "# str1[2] = \"d\" 문자는 안됨.\n",
    "a = [1,2,3]\n",
    "a[2] = 4\n",
    "print(a)"
   ]
  },
  {
   "cell_type": "code",
   "execution_count": 60,
   "id": "b97dcd12",
   "metadata": {},
   "outputs": [
    {
     "name": "stdout",
     "output_type": "stream",
     "text": [
      "[1, 2, 3, 4]\n"
     ]
    }
   ],
   "source": [
    "# 리스트 정렬     \n",
    "a = [ 1, 3, 4, 2]\n",
    "a.sort()\n",
    "print(a)"
   ]
  },
  {
   "cell_type": "code",
   "execution_count": 64,
   "id": "0a9d6f35",
   "metadata": {},
   "outputs": [
    {
     "name": "stdout",
     "output_type": "stream",
     "text": [
      "[1, 2, 3, 4]\n",
      "[1, 3, 4, 2]\n"
     ]
    }
   ],
   "source": [
    "# 리스트 정렬 2    \n",
    "a = [ 1, 3, 4, 2]\n",
    "a2 = a[:]         # a의 복사본 원본a 손상없이 리스트 정렬\n",
    "a2.sort()\n",
    "print(a2)\n",
    "print(a)"
   ]
  },
  {
   "cell_type": "code",
   "execution_count": 66,
   "id": "1fb0636d",
   "metadata": {},
   "outputs": [
    {
     "name": "stdout",
     "output_type": "stream",
     "text": [
      "[1, 2, 3, 4]\n",
      "[1, 3, 4, 2]\n"
     ]
    }
   ],
   "source": [
    "# 리스트 정렬 3    \n",
    "a = [ 1, 3, 4, 2]\n",
    "a2 = sorted(a)    # 위보다 조금 더 명시적임 원본을 지키겠다!\n",
    "print(a2)\n",
    "print(a)"
   ]
  },
  {
   "cell_type": "code",
   "execution_count": 70,
   "id": "80fd8982",
   "metadata": {},
   "outputs": [
    {
     "name": "stdout",
     "output_type": "stream",
     "text": [
      "[4, 3, 2, 1]\n",
      "[4, 3, 2, 1]\n",
      "[1, 3, 4, 2]\n"
     ]
    }
   ],
   "source": [
    "# 뒤집어 정렬\n",
    "a = [ 1, 3, 4, 2]\n",
    "a.sort(reverse = True)\n",
    "print(a)\n",
    "\n",
    "a = [ 1, 3, 4, 2]\n",
    "a2 = sorted(a, reverse = True)    \n",
    "print(a2)\n",
    "print(a)"
   ]
  },
  {
   "cell_type": "code",
   "execution_count": 77,
   "id": "95902c48",
   "metadata": {},
   "outputs": [
    {
     "data": {
      "text/plain": [
       "3"
      ]
     },
     "execution_count": 77,
     "metadata": {},
     "output_type": "execute_result"
    }
   ],
   "source": [
    "a = [1, 2, 3]\n",
    "a[2]"
   ]
  },
  {
   "cell_type": "code",
   "execution_count": 78,
   "id": "4097de0b",
   "metadata": {},
   "outputs": [
    {
     "data": {
      "text/plain": [
       "[1, 2, 3]"
      ]
     },
     "execution_count": 78,
     "metadata": {},
     "output_type": "execute_result"
    }
   ],
   "source": [
    "a"
   ]
  },
  {
   "cell_type": "code",
   "execution_count": 79,
   "id": "95ea43bd",
   "metadata": {},
   "outputs": [
    {
     "data": {
      "text/plain": [
       "3"
      ]
     },
     "execution_count": 79,
     "metadata": {},
     "output_type": "execute_result"
    }
   ],
   "source": [
    "a.pop() # 별말 없으면 맨 뒤에서 빠지고 / 지정해주면 해당 원소가 제외됨"
   ]
  },
  {
   "cell_type": "code",
   "execution_count": 81,
   "id": "1d0f3bd3",
   "metadata": {},
   "outputs": [
    {
     "data": {
      "text/plain": [
       "[1, 2]"
      ]
     },
     "execution_count": 81,
     "metadata": {},
     "output_type": "execute_result"
    }
   ],
   "source": [
    "a"
   ]
  },
  {
   "cell_type": "code",
   "execution_count": 85,
   "id": "bbbb0bf0",
   "metadata": {},
   "outputs": [
    {
     "name": "stdout",
     "output_type": "stream",
     "text": [
      "[1, 2, 3, 4]\n",
      "[1, 2, 3, 4]\n"
     ]
    }
   ],
   "source": [
    "# 리스트 확장 / 더하기와 결과론적으로 동일하나 과정적인 측면에서는 다름.\n",
    "a1 = [1, 2]; a2 = [3, 4]\n",
    "new1 = a1+a2 ; print(new1)\n",
    "a1.extend(a2) ; print(a1)"
   ]
  },
  {
   "cell_type": "code",
   "execution_count": 100,
   "id": "5247c471",
   "metadata": {},
   "outputs": [],
   "source": [
    "# 딕셔너리\n",
    "my_dic1 = {}"
   ]
  },
  {
   "cell_type": "code",
   "execution_count": 101,
   "id": "e79e3995",
   "metadata": {},
   "outputs": [],
   "source": [
    "my_dic1[\"banana\"] = \"노랗고 달콤한 과일\""
   ]
  },
  {
   "cell_type": "code",
   "execution_count": 102,
   "id": "4dd2f816",
   "metadata": {},
   "outputs": [],
   "source": [
    "my_dic1[\"strawverry\"] = \"새콤 달콤 빨간 과일\""
   ]
  },
  {
   "cell_type": "code",
   "execution_count": 103,
   "id": "d839f01b",
   "metadata": {},
   "outputs": [
    {
     "data": {
      "text/plain": [
       "{'banana': '노랗고 달콤한 과일', 'strawverry': '새콤 달콤 빨간 과일'}"
      ]
     },
     "execution_count": 103,
     "metadata": {},
     "output_type": "execute_result"
    }
   ],
   "source": [
    "my_dic1"
   ]
  },
  {
   "cell_type": "code",
   "execution_count": 104,
   "id": "a04e3878",
   "metadata": {},
   "outputs": [],
   "source": [
    "# del my_dic1[0] 에러 딕셔너리는 리스트와 동일하게 인덱스를 주지 않는다.\n",
    "del my_dic1 [\"banana\"]"
   ]
  },
  {
   "cell_type": "code",
   "execution_count": 105,
   "id": "92539a8f",
   "metadata": {},
   "outputs": [
    {
     "data": {
      "text/plain": [
       "{'strawverry': '새콤 달콤 빨간 과일'}"
      ]
     },
     "execution_count": 105,
     "metadata": {},
     "output_type": "execute_result"
    }
   ],
   "source": [
    "my_dic1"
   ]
  },
  {
   "cell_type": "code",
   "execution_count": 107,
   "id": "f28b18d5",
   "metadata": {},
   "outputs": [
    {
     "data": {
      "text/plain": [
       "{'strawverry': '새콤 달콤 빨간 과일', 'banana': '노랗고 달콤한 과일'}"
      ]
     },
     "execution_count": 107,
     "metadata": {},
     "output_type": "execute_result"
    }
   ],
   "source": [
    "my_dic1[\"banana\"] = \"노랗고 달콤한 과일\"\n",
    "my_dic1"
   ]
  },
  {
   "cell_type": "code",
   "execution_count": 109,
   "id": "675cda47",
   "metadata": {},
   "outputs": [
    {
     "data": {
      "text/plain": [
       "dict_keys(['strawverry', 'banana'])"
      ]
     },
     "execution_count": 109,
     "metadata": {},
     "output_type": "execute_result"
    }
   ],
   "source": [
    "my_dic1.keys() # 나는 키를 이런거로 가지고 있어"
   ]
  },
  {
   "cell_type": "code",
   "execution_count": 112,
   "id": "02cb33c5",
   "metadata": {},
   "outputs": [
    {
     "data": {
      "text/plain": [
       "{'strawverry': '새콤 달콤 빨간 과일', 'banana': '노랗고 달콤한 과일2'}"
      ]
     },
     "execution_count": 112,
     "metadata": {},
     "output_type": "execute_result"
    }
   ],
   "source": [
    "my_dic1[\"banana\"] = \"노랗고 달콤한 과일2\" # 중복되는 녀석이 있을 경우 가장 최근 것을 업데이트 함. 기존의 것을 삭제 \n",
    "my_dic1"
   ]
  },
  {
   "cell_type": "code",
   "execution_count": 113,
   "id": "94d1b108",
   "metadata": {},
   "outputs": [],
   "source": [
    "# 불\n",
    "a = True\n",
    "b = False # 앞에는 항상 \"대문자\" 뒤에는 \"소문자\""
   ]
  },
  {
   "cell_type": "code",
   "execution_count": 124,
   "id": "b94ab543",
   "metadata": {},
   "outputs": [],
   "source": [
    "# page 109\n",
    "a = [ 1, 4, 3, 2]\n",
    "a2 = a[:]"
   ]
  },
  {
   "cell_type": "code",
   "execution_count": 125,
   "id": "586695a3",
   "metadata": {},
   "outputs": [
    {
     "ename": "NameError",
     "evalue": "name 'copy' is not defined",
     "output_type": "error",
     "traceback": [
      "\u001b[1;31m---------------------------------------------------------------------------\u001b[0m",
      "\u001b[1;31mNameError\u001b[0m                                 Traceback (most recent call last)",
      "\u001b[1;32m<ipython-input-125-915e0484032b>\u001b[0m in \u001b[0;36m<module>\u001b[1;34m\u001b[0m\n\u001b[0;32m      1\u001b[0m \u001b[0mb\u001b[0m \u001b[1;33m=\u001b[0m \u001b[1;33m[\u001b[0m\u001b[1;36m1\u001b[0m\u001b[1;33m,\u001b[0m \u001b[1;36m4\u001b[0m\u001b[1;33m,\u001b[0m \u001b[1;36m3\u001b[0m\u001b[1;33m,\u001b[0m\u001b[1;36m2\u001b[0m \u001b[1;33m]\u001b[0m\u001b[1;33m\u001b[0m\u001b[1;33m\u001b[0m\u001b[0m\n\u001b[1;32m----> 2\u001b[1;33m \u001b[0mb2\u001b[0m \u001b[1;33m=\u001b[0m \u001b[0mcopy\u001b[0m\u001b[1;33m(\u001b[0m\u001b[0mb\u001b[0m\u001b[1;33m)\u001b[0m\u001b[1;33m\u001b[0m\u001b[1;33m\u001b[0m\u001b[0m\n\u001b[0m",
      "\u001b[1;31mNameError\u001b[0m: name 'copy' is not defined"
     ]
    }
   ],
   "source": [
    "b = [ 1, 4, 3, 2]\n",
    "b2 = copy(b)"
   ]
  },
  {
   "cell_type": "code",
   "execution_count": 126,
   "id": "4253cdc2",
   "metadata": {},
   "outputs": [
    {
     "name": "stdout",
     "output_type": "stream",
     "text": [
      "참\n",
      "참\n"
     ]
    }
   ],
   "source": [
    "# if 문 \n",
    "\n",
    "if 3>1:\n",
    "    print(\"참\") # 들여쓰기는 종속에 관계다 / 콜론을 쓰면 끝난게 아니다를 표현 / 파이썬은 행을 바꾸면 작업이 마무리되는 특성이거든\n",
    "if 4<10:        \n",
    "    print(\"참\") \n",
    "    "
   ]
  },
  {
   "cell_type": "code",
   "execution_count": 128,
   "id": "19062f30",
   "metadata": {},
   "outputs": [
    {
     "name": "stdout",
     "output_type": "stream",
     "text": [
      "거짓\n"
     ]
    }
   ],
   "source": [
    "# if 문 \n",
    "\n",
    "if 3<1:\n",
    "    print(\"참\") # else는 if 값이 거짓일때 출력되는 함수\n",
    "else:        \n",
    "    print(\"거짓\") \n",
    "    "
   ]
  },
  {
   "cell_type": "code",
   "execution_count": 130,
   "id": "3eed304d",
   "metadata": {},
   "outputs": [
    {
     "name": "stdout",
     "output_type": "stream",
     "text": [
      "두 수가 같다\n"
     ]
    }
   ],
   "source": [
    "a = 2\n",
    "b = 2\n",
    "if a == b:\n",
    "    print(\"두 수가 같다\")"
   ]
  },
  {
   "cell_type": "code",
   "execution_count": 132,
   "id": "6fdbd19a",
   "metadata": {},
   "outputs": [
    {
     "name": "stdout",
     "output_type": "stream",
     "text": [
      "참\n"
     ]
    }
   ],
   "source": [
    "# if True or False:\n",
    "if True | False:    \n",
    "    print(\"참\")"
   ]
  },
  {
   "cell_type": "code",
   "execution_count": 134,
   "id": "82f4c31f",
   "metadata": {},
   "outputs": [
    {
     "data": {
      "text/plain": [
       "True"
      ]
     },
     "execution_count": 134,
     "metadata": {},
     "output_type": "execute_result"
    }
   ],
   "source": [
    "1 in [1,2,3]"
   ]
  },
  {
   "cell_type": "code",
   "execution_count": 135,
   "id": "9cd58a19",
   "metadata": {},
   "outputs": [
    {
     "data": {
      "text/plain": [
       "False"
      ]
     },
     "execution_count": 135,
     "metadata": {},
     "output_type": "execute_result"
    }
   ],
   "source": [
    "1 not in [1,2,3]"
   ]
  }
 ],
 "metadata": {
  "kernelspec": {
   "display_name": "Python 3",
   "language": "python",
   "name": "python3"
  },
  "language_info": {
   "codemirror_mode": {
    "name": "ipython",
    "version": 3
   },
   "file_extension": ".py",
   "mimetype": "text/x-python",
   "name": "python",
   "nbconvert_exporter": "python",
   "pygments_lexer": "ipython3",
   "version": "3.8.8"
  }
 },
 "nbformat": 4,
 "nbformat_minor": 5
}
