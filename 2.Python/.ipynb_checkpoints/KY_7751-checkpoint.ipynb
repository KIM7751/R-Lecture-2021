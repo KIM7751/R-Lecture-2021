{
 "cells": [
  {
   "cell_type": "code",
   "execution_count": 18,
   "id": "8afcbbfa",
   "metadata": {},
   "outputs": [
    {
     "name": "stdout",
     "output_type": "stream",
     "text": [
      "27\n",
      "1\n",
      "3\n",
      "1\n"
     ]
    }
   ],
   "source": [
    "\n",
    "a = 3\n",
    "\n",
    "b = 3\n",
    "\n",
    "print(a ** b)\n",
    "\n",
    "# 나눗셈 후 나머지를 반환하는 % 연산자\n",
    "\n",
    "print(7 % 3)\n",
    "\n",
    "\n",
    "print(3 % 7)\n",
    "\n",
    "# 나눗셈 후 몫을 반환하는 // 연산자\n",
    "\n",
    "print(7 // 4)                                # print() 각 결과 값을 따로 출력할 수 있게 도와줌.\n",
    "                                             # 만약 안쓰고 전체를 돌렸을 경우엔 마지막 커멘드 값만 출력함."
   ]
  },
  {
   "cell_type": "code",
   "execution_count": 19,
   "id": "3db5c6c7",
   "metadata": {},
   "outputs": [
    {
     "name": "stdout",
     "output_type": "stream",
     "text": [
      "출하 가능 박스:\t1개\n",
      "출하 후 재고:\t2개\n",
      "1 개\n",
      "2 개\n"
     ]
    }
   ],
   "source": [
    "# 재고 5\n",
    "# 3개마다 1박스 구성 가능\n",
    "# 출하 가능 박스 개수\n",
    "# 남은 재고 개수\n",
    "\n",
    "stock_current = 5\n",
    "package_size = 3\n",
    "box_available = stock_current // package_size\n",
    "# stock_current = stock_current - box_available * package_size\n",
    "stock_current = stock_current % package_size\n",
    "print (\"출하 가능 박스:\\t\" + str(box_available) + \"개\") # \\t 뜻은 표를 만들어 주겠다라는 뜻 \n",
    "print ( \"출하 후 재고:\\t\" + str(stock_current) +  \"개\") # str() 숫자를 문자형으로 바꿔 표현\n",
    "\n",
    "stock_current = 5\n",
    "package_size = 3\n",
    "\n",
    "# 출하 가능 박스 개수\n",
    "    \n",
    "print (stock_current // package_size, \"개\")\n",
    "\n",
    "\n",
    "# 남은 재고 개수\n",
    "\n",
    "print( stock_current % package_size, \"개\")"
   ]
  },
  {
   "cell_type": "code",
   "execution_count": 10,
   "id": "54059773",
   "metadata": {},
   "outputs": [
    {
     "name": "stdout",
     "output_type": "stream",
     "text": [
      "사과\n",
      "자두\n",
      "수박\n"
     ]
    }
   ],
   "source": [
    "print('사과')\n",
    "print(\"자두\")\n",
    "print(\"\"\"수박\"\"\") # 무슨 차이가 있을까?"
   ]
  },
  {
   "cell_type": "code",
   "execution_count": 11,
   "id": "595dc139",
   "metadata": {},
   "outputs": [
    {
     "name": "stdout",
     "output_type": "stream",
     "text": [
      "He said that \"I am so happy\".\n"
     ]
    }
   ],
   "source": [
    "# He said that \"I am so happy\"\n",
    "print('He said that \"I am so happy\".') # 아임 쏘 해피도 문자로 만들고 싶은데 이렇게 출력됨.\n",
    "                                       # 아임 쏘 해피를 감싸는 따옴표가 없음\n",
    "                                       # 작은 따옴표 앞뒤에 줘서 아임 쏘 해피에 큰 따옴표를 줘 구분함."
   ]
  },
  {
   "cell_type": "code",
   "execution_count": 13,
   "id": "3cd2289b",
   "metadata": {},
   "outputs": [
    {
     "name": "stdout",
     "output_type": "stream",
     "text": [
      "I am can be written as I'm\n"
     ]
    }
   ],
   "source": [
    "# I am can be written as I'm\n",
    "print(\"I am can be written as I'm\") # 작은 따옴표/ 큰 따옴표를 서로 피해가며 사용하면 됨"
   ]
  },
  {
   "cell_type": "code",
   "execution_count": 22,
   "id": "57c2d2e2",
   "metadata": {},
   "outputs": [
    {
     "name": "stdout",
     "output_type": "stream",
     "text": [
      "best\n",
      "music\n",
      "award\n",
      "\n"
     ]
    }
   ],
   "source": [
    "print(\"\"\"best\n",
    "music\n",
    "award\n",
    "\"\"\") # 각각에 따로 줘야할 수 있는 부분(\"\",\"\",\"\")을 세개를 연달아 주면서(\"\"\" \"\"\") 여러 텍스트를 한번에 출력 가능"
   ]
  },
  {
   "cell_type": "code",
   "execution_count": 24,
   "id": "45d6563d",
   "metadata": {},
   "outputs": [
    {
     "name": "stdout",
     "output_type": "stream",
     "text": [
      "best\n",
      "music\n",
      "award\n"
     ]
    }
   ],
   "source": [
    "print('best\\nmusic\\naward') # 같은 출력값을 가지지만 \\n 줄바꿈은 위 코딩과 비교해 가독성이 떨어짐"
   ]
  },
  {
   "cell_type": "code",
   "execution_count": 25,
   "id": "b5a6e8e9",
   "metadata": {},
   "outputs": [
    {
     "name": "stdout",
     "output_type": "stream",
     "text": [
      "a\\b\\c\\\n"
     ]
    }
   ],
   "source": [
    "print(\"a\\\\b\\\\c\\\\\") # a, \\b, \\c, \\를 표현함."
   ]
  },
  {
   "cell_type": "code",
   "execution_count": 26,
   "id": "174ea034",
   "metadata": {},
   "outputs": [
    {
     "name": "stdout",
     "output_type": "stream",
     "text": [
      "girl's generation\n"
     ]
    }
   ],
   "source": [
    "print(\"girl's generation\") "
   ]
  },
  {
   "cell_type": "code",
   "execution_count": 28,
   "id": "60bd1f11",
   "metadata": {},
   "outputs": [
    {
     "name": "stdout",
     "output_type": "stream",
     "text": [
      "girl's generation\n"
     ]
    }
   ],
   "source": [
    "print('girl\\'s generation') # 작은 따옴표를 그대로 표현할 때 사용"
   ]
  },
  {
   "cell_type": "code",
   "execution_count": 33,
   "id": "2b3c1341",
   "metadata": {},
   "outputs": [
    {
     "name": "stdout",
     "output_type": "stream",
     "text": [
      "안녕하세요. 김기영님 만나서 반갑습니다\n"
     ]
    }
   ],
   "source": [
    "greeting = \"안녕하세요. \"\n",
    "name = \"김기영\"\n",
    "greeting2 = \"님 만나서 반갑습니다\"\n",
    "sentence1 = greeting + name + greeting2\n",
    "print(sentence1)"
   ]
  },
  {
   "cell_type": "code",
   "execution_count": 35,
   "id": "92912cf2",
   "metadata": {},
   "outputs": [
    {
     "name": "stdout",
     "output_type": "stream",
     "text": [
      "안녕하세요. 김개굴님 만나서 반갑습니다\n"
     ]
    }
   ],
   "source": [
    "name = \"김개굴\"\n",
    "sentence1 = greeting + name + greeting2\n",
    "print(sentence1)"
   ]
  },
  {
   "cell_type": "code",
   "execution_count": 38,
   "id": "7a042ab6",
   "metadata": {},
   "outputs": [
    {
     "name": "stdout",
     "output_type": "stream",
     "text": [
      "안녕하세요. 김개굴님 만나서  정말 정말 정말 반갑습니다.\n"
     ]
    }
   ],
   "source": [
    "friendly = 3\n",
    "expression1 = \" 정말\"\n",
    "greeting2 = \"님 만나서 \"\n",
    "greeting3 = \" 반갑습니다.\"\n",
    "sentence1 = greeting + name + greeting2 + expression1 * friendly + greeting3\n",
    "print(sentence1)"
   ]
  }
 ],
 "metadata": {
  "kernelspec": {
   "display_name": "Python 3",
   "language": "python",
   "name": "python3"
  },
  "language_info": {
   "codemirror_mode": {
    "name": "ipython",
    "version": 3
   },
   "file_extension": ".py",
   "mimetype": "text/x-python",
   "name": "python",
   "nbconvert_exporter": "python",
   "pygments_lexer": "ipython3",
   "version": "3.8.8"
  }
 },
 "nbformat": 4,
 "nbformat_minor": 5
}
