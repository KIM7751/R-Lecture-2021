{
 "cells": [
  {
   "cell_type": "code",
   "execution_count": 18,
   "id": "8afcbbfa",
   "metadata": {},
   "outputs": [
    {
     "name": "stdout",
     "output_type": "stream",
     "text": [
      "27\n",
      "1\n",
      "3\n",
      "1\n"
     ]
    }
   ],
   "source": [
    "\n",
    "a = 3\n",
    "\n",
    "b = 3\n",
    "\n",
    "print(a ** b)\n",
    "\n",
    "# 나눗셈 후 나머지를 반환하는 % 연산자\n",
    "\n",
    "print(7 % 3)\n",
    "\n",
    "\n",
    "print(3 % 7)\n",
    "\n",
    "# 나눗셈 후 몫을 반환하는 // 연산자\n",
    "\n",
    "print(7 // 4)                                # print() 각 결과 값을 따로 출력할 수 있게 도와줌.\n",
    "                                             # 만약 안쓰고 전체를 돌렸을 경우엔 마지막 커멘드 값만 출력함."
   ]
  },
  {
   "cell_type": "code",
   "execution_count": 19,
   "id": "de267358",
   "metadata": {},
   "outputs": [
    {
     "name": "stdout",
     "output_type": "stream",
     "text": [
      "출하 가능 박스:\t1개\n",
      "출하 후 재고:\t2개\n",
      "1 개\n",
      "2 개\n"
     ]
    }
   ],
   "source": [
    "# 재고 5\n",
    "# 3개마다 1박스 구성 가능\n",
    "# 출하 가능 박스 개수\n",
    "# 남은 재고 개수\n",
    "\n",
    "stock_current = 5\n",
    "package_size = 3\n",
    "box_available = stock_current // package_size\n",
    "# stock_current = stock_current - box_available * package_size\n",
    "stock_current = stock_current % package_size\n",
    "print (\"출하 가능 박스:\\t\" + str(box_available) + \"개\") # \\t 뜻은 표를 만들어 주겠다라는 뜻 \n",
    "print ( \"출하 후 재고:\\t\" + str(stock_current) +  \"개\") # str() 숫자를 문자형으로 바꿔 표현\n",
    "\n",
    "stock_current = 5\n",
    "package_size = 3\n",
    "\n",
    "# 출하 가능 박스 개수\n",
    "    \n",
    "print (stock_current // package_size, \"개\")\n",
    "\n",
    "\n",
    "# 남은 재고 개수\n",
    "\n",
    "print( stock_current % package_size, \"개\")"
   ]
  },
  {
   "cell_type": "code",
   "execution_count": 10,
   "id": "7c1fe21b",
   "metadata": {},
   "outputs": [
    {
     "name": "stdout",
     "output_type": "stream",
     "text": [
      "사과\n",
      "자두\n",
      "수박\n"
     ]
    }
   ],
   "source": [
    "print('사과')\n",
    "print(\"자두\")\n",
    "print(\"\"\"수박\"\"\") # 무슨 차이가 있을까?"
   ]
  },
  {
   "cell_type": "code",
   "execution_count": 11,
   "id": "831bcc4e",
   "metadata": {},
   "outputs": [
    {
     "name": "stdout",
     "output_type": "stream",
     "text": [
      "He said that \"I am so happy\".\n"
     ]
    }
   ],
   "source": [
    "# He said that \"I am so happy\"\n",
    "print('He said that \"I am so happy\".') # 아임 쏘 해피도 문자로 만들고 싶은데 이렇게 출력됨.\n",
    "                                       # 아임 쏘 해피를 감싸는 따옴표가 없음\n",
    "                                       # 작은 따옴표 앞뒤에 줘서 아임 쏘 해피에 큰 따옴표를 줘 구분함."
   ]
  },
  {
   "cell_type": "code",
   "execution_count": 13,
   "id": "7d9f38cb",
   "metadata": {},
   "outputs": [
    {
     "name": "stdout",
     "output_type": "stream",
     "text": [
      "I am can be written as I'm\n"
     ]
    }
   ],
   "source": [
    "# I am can be written as I'm\n",
    "print(\"I am can be written as I'm\") # 작은 따옴표/ 큰 따옴표를 서로 피해가며 사용하면 됨"
   ]
  },
  {
   "cell_type": "code",
   "execution_count": 22,
   "id": "0d0c7e3f",
   "metadata": {},
   "outputs": [
    {
     "name": "stdout",
     "output_type": "stream",
     "text": [
      "best\n",
      "music\n",
      "award\n",
      "\n"
     ]
    }
   ],
   "source": [
    "print(\"\"\"best\n",
    "music\n",
    "award\n",
    "\"\"\") # 각각에 따로 줘야할 수 있는 부분(\"\",\"\",\"\")을 세개를 연달아 주면서(\"\"\" \"\"\") 여러 텍스트를 한번에 출력 가능"
   ]
  },
  {
   "cell_type": "code",
   "execution_count": null,
   "id": "9d42c8c4",
   "metadata": {},
   "outputs": [],
   "source": []
  },
  {
   "cell_type": "code",
   "execution_count": null,
   "id": "928398e2",
   "metadata": {},
   "outputs": [],
   "source": []
  },
  {
   "cell_type": "code",
   "execution_count": null,
   "id": "5d18914e",
   "metadata": {},
   "outputs": [],
   "source": []
  },
  {
   "cell_type": "code",
   "execution_count": null,
   "id": "bd159f92",
   "metadata": {},
   "outputs": [],
   "source": []
  }
 ],
 "metadata": {
  "kernelspec": {
   "display_name": "Python 3",
   "language": "python",
   "name": "python3"
  },
  "language_info": {
   "codemirror_mode": {
    "name": "ipython",
    "version": 3
   },
   "file_extension": ".py",
   "mimetype": "text/x-python",
   "name": "python",
   "nbconvert_exporter": "python",
   "pygments_lexer": "ipython3",
   "version": "3.8.8"
  }
 },
 "nbformat": 4,
 "nbformat_minor": 5
}
