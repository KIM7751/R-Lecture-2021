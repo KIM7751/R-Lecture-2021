{
 "cells": [
  {
   "cell_type": "code",
   "execution_count": 3,
   "id": "15e25a74",
   "metadata": {},
   "outputs": [],
   "source": [
    "import pandas as pd\n",
    "import numpy as np\n",
    "import matplotlib.pyplot as plt\n",
    "from sklearn.model_selection import train_test_split\n",
    "from sklearn.linear_model import LinearRegression\n",
    "from sklearn.linear_model import LogisticRegression\n",
    "from sklearn.svm import SVC\n",
    "from sklearn.preprocessing import StandardScaler, minmax_scale\n",
    "import multiprocessing \n",
    "from sklearn.model_selection import GridSearchCV"
   ]
  },
  {
   "cell_type": "code",
   "execution_count": 4,
   "id": "b518a55b",
   "metadata": {},
   "outputs": [],
   "source": [
    "# 데이터 불러오기\n",
    "names=['buying','maint','doors','persons','lug_boot','safety','class']\n",
    "data = pd.read_csv('car.data')"
   ]
  },
  {
   "cell_type": "code",
   "execution_count": 5,
   "id": "99dcefe8",
   "metadata": {},
   "outputs": [],
   "source": [
    "data.columns = names"
   ]
  },
  {
   "cell_type": "code",
   "execution_count": 42,
   "id": "e9b6bda6",
   "metadata": {},
   "outputs": [
    {
     "name": "stdout",
     "output_type": "stream",
     "text": [
      "<class 'pandas.core.frame.DataFrame'>\n",
      "RangeIndex: 1727 entries, 0 to 1726\n",
      "Data columns (total 7 columns):\n",
      " #   Column    Non-Null Count  Dtype \n",
      "---  ------    --------------  ----- \n",
      " 0   buying    1727 non-null   object\n",
      " 1   maint     1727 non-null   object\n",
      " 2   doors     1727 non-null   object\n",
      " 3   persons   1727 non-null   object\n",
      " 4   lug_boot  1727 non-null   object\n",
      " 5   safety    1727 non-null   object\n",
      " 6   class     1727 non-null   object\n",
      "dtypes: object(7)\n",
      "memory usage: 94.6+ KB\n"
     ]
    }
   ],
   "source": [
    "data.info()"
   ]
  },
  {
   "cell_type": "code",
   "execution_count": 55,
   "id": "ab5a44e9",
   "metadata": {},
   "outputs": [
    {
     "data": {
      "text/plain": [
       "unacc    1209\n",
       "acc       384\n",
       "good       69\n",
       "vgood      65\n",
       "Name: class, dtype: int64"
      ]
     },
     "execution_count": 55,
     "metadata": {},
     "output_type": "execute_result"
    }
   ],
   "source": [
    "data['class'].value_counts()"
   ]
  },
  {
   "cell_type": "code",
   "execution_count": 7,
   "id": "dfa9d2d9",
   "metadata": {},
   "outputs": [],
   "source": [
    "# 데이터 구분\n",
    "X_f = data.drop(['class'],axis =1)\n",
    "y_f = data['class']"
   ]
  },
  {
   "cell_type": "code",
   "execution_count": 8,
   "id": "14a00e74",
   "metadata": {
    "scrolled": true
   },
   "outputs": [
    {
     "data": {
      "text/plain": [
       "(1727, 6)"
      ]
     },
     "execution_count": 8,
     "metadata": {},
     "output_type": "execute_result"
    }
   ],
   "source": [
    "X_f.shape"
   ]
  },
  {
   "cell_type": "code",
   "execution_count": 9,
   "id": "60328510",
   "metadata": {},
   "outputs": [],
   "source": [
    "X_f_d = pd.get_dummies(X_f)"
   ]
  },
  {
   "cell_type": "code",
   "execution_count": 10,
   "id": "72215b57",
   "metadata": {},
   "outputs": [
    {
     "data": {
      "text/plain": [
       "(1727, 21)"
      ]
     },
     "execution_count": 10,
     "metadata": {},
     "output_type": "execute_result"
    }
   ],
   "source": [
    "X_f_d.shape"
   ]
  },
  {
   "cell_type": "code",
   "execution_count": 11,
   "id": "1fa50dcb",
   "metadata": {},
   "outputs": [
    {
     "data": {
      "text/plain": [
       "(1727,)"
      ]
     },
     "execution_count": 11,
     "metadata": {},
     "output_type": "execute_result"
    }
   ],
   "source": [
    "y_f.shape"
   ]
  },
  {
   "cell_type": "code",
   "execution_count": 12,
   "id": "e72fb92d",
   "metadata": {},
   "outputs": [],
   "source": [
    "# 종속변수 및 독립변수 지정\n",
    "X = X_f_d.values\n",
    "y = y_f.values"
   ]
  },
  {
   "cell_type": "code",
   "execution_count": 13,
   "id": "9786607a",
   "metadata": {},
   "outputs": [],
   "source": [
    "# 훈련, 평가 세트 분리\n",
    "X_train, X_test, y_train, y_test = train_test_split(X,y)"
   ]
  },
  {
   "cell_type": "code",
   "execution_count": 27,
   "id": "d31c0e0b",
   "metadata": {},
   "outputs": [],
   "source": [
    "# 로지스틱 회귀를 이용한 분류\n",
    "model = LogisticRegression(multi_class='auto', C = 1000, random_state=1, max_iter=1000)"
   ]
  },
  {
   "cell_type": "code",
   "execution_count": 28,
   "id": "44e79078",
   "metadata": {},
   "outputs": [
    {
     "name": "stderr",
     "output_type": "stream",
     "text": [
      "C:\\ProgramData\\Anaconda3\\lib\\site-packages\\sklearn\\linear_model\\_logistic.py:763: ConvergenceWarning: lbfgs failed to converge (status=1):\n",
      "STOP: TOTAL NO. of ITERATIONS REACHED LIMIT.\n",
      "\n",
      "Increase the number of iterations (max_iter) or scale the data as shown in:\n",
      "    https://scikit-learn.org/stable/modules/preprocessing.html\n",
      "Please also refer to the documentation for alternative solver options:\n",
      "    https://scikit-learn.org/stable/modules/linear_model.html#logistic-regression\n",
      "  n_iter_i = _check_optimize_result(\n"
     ]
    },
    {
     "data": {
      "text/plain": [
       "LogisticRegression(C=1000, max_iter=1000, random_state=1)"
      ]
     },
     "execution_count": 28,
     "metadata": {},
     "output_type": "execute_result"
    }
   ],
   "source": [
    "model.fit(X_train, y_train)"
   ]
  },
  {
   "cell_type": "code",
   "execution_count": 30,
   "id": "21aaeca1",
   "metadata": {
    "scrolled": true
   },
   "outputs": [
    {
     "name": "stdout",
     "output_type": "stream",
     "text": [
      "훈련 데이터 점수: 0.949034749034749\n",
      "평가 데이터 점수: 0.9351851851851852\n"
     ]
    }
   ],
   "source": [
    "print('훈련 데이터 점수: {}'.format(model.score(X_train, y_train)))\n",
    "print('평가 데이터 점수: {}'.format(model.score(X_test, y_test)))"
   ]
  },
  {
   "cell_type": "code",
   "execution_count": 31,
   "id": "62f29fed",
   "metadata": {},
   "outputs": [
    {
     "name": "stderr",
     "output_type": "stream",
     "text": [
      "C:\\ProgramData\\Anaconda3\\lib\\site-packages\\sklearn\\model_selection\\_search.py:918: UserWarning: One or more of the test scores are non-finite: [       nan 0.73420098        nan 0.81415517        nan 0.85109913\n",
      "        nan 0.85860609        nan 0.86904704        nan 0.87370905]\n",
      "  warnings.warn(\n",
      "C:\\ProgramData\\Anaconda3\\lib\\site-packages\\sklearn\\linear_model\\_logistic.py:763: ConvergenceWarning: lbfgs failed to converge (status=1):\n",
      "STOP: TOTAL NO. of ITERATIONS REACHED LIMIT.\n",
      "\n",
      "Increase the number of iterations (max_iter) or scale the data as shown in:\n",
      "    https://scikit-learn.org/stable/modules/preprocessing.html\n",
      "Please also refer to the documentation for alternative solver options:\n",
      "    https://scikit-learn.org/stable/modules/linear_model.html#logistic-regression\n",
      "  n_iter_i = _check_optimize_result(\n"
     ]
    },
    {
     "data": {
      "text/plain": [
       "GridSearchCV(cv=12, estimator=LogisticRegression(), n_jobs=12,\n",
       "             param_grid=[{'C': [0.01, 0.1, 1.0, 10, 100, 1000],\n",
       "                          'penalty': ['l1', 'l2']}],\n",
       "             scoring='accuracy')"
      ]
     },
     "execution_count": 31,
     "metadata": {},
     "output_type": "execute_result"
    }
   ],
   "source": [
    "param_grid = [{'penalty' : [\"l1\", \"l2\"],\n",
    "               'C' : [0.01,0.1,1.0,10,100,1000]}]\n",
    "              \n",
    "gs = GridSearchCV(estimator=LogisticRegression(), param_grid=param_grid,\n",
    "                 scoring='accuracy', cv=12, n_jobs=multiprocessing.cpu_count())\n",
    "gs.fit(X,y)"
   ]
  },
  {
   "cell_type": "code",
   "execution_count": 32,
   "id": "f7ceb14a",
   "metadata": {},
   "outputs": [
    {
     "data": {
      "text/plain": [
       "LogisticRegression(C=1000)"
      ]
     },
     "execution_count": 32,
     "metadata": {},
     "output_type": "execute_result"
    }
   ],
   "source": [
    "gs.best_estimator_"
   ]
  },
  {
   "cell_type": "code",
   "execution_count": null,
   "id": "dfd512dd",
   "metadata": {},
   "outputs": [],
   "source": [
    "# SVC를 이용한 분류"
   ]
  },
  {
   "cell_type": "code",
   "execution_count": 33,
   "id": "2fe29b09",
   "metadata": {},
   "outputs": [],
   "source": [
    "scaler = StandardScaler()\n",
    "X_train = scaler.fit_transform(X_train)\n",
    "X_test = scaler.transform(X_test)"
   ]
  },
  {
   "cell_type": "code",
   "execution_count": 34,
   "id": "06aa8158",
   "metadata": {},
   "outputs": [
    {
     "data": {
      "text/plain": [
       "SVC()"
      ]
     },
     "execution_count": 34,
     "metadata": {},
     "output_type": "execute_result"
    }
   ],
   "source": [
    "model = SVC()\n",
    "model.fit(X_train, y_train)"
   ]
  },
  {
   "cell_type": "code",
   "execution_count": 35,
   "id": "5ae3de90",
   "metadata": {},
   "outputs": [
    {
     "name": "stdout",
     "output_type": "stream",
     "text": [
      "훈련 데이터 점수 : 0.9915057915057915\n",
      "평가 데이터 점수 : 0.9745370370370371\n"
     ]
    }
   ],
   "source": [
    "print(\"훈련 데이터 점수 : {}\".format(model.score(X_train, y_train)))\n",
    "print(\"평가 데이터 점수 : {}\".format(model.score(X_test, y_test)))"
   ]
  },
  {
   "cell_type": "code",
   "execution_count": 36,
   "id": "daa6b76b",
   "metadata": {},
   "outputs": [
    {
     "name": "stdout",
     "output_type": "stream",
     "text": [
      "Fitting 5 folds for each of 3 candidates, totalling 15 fits\n"
     ]
    },
    {
     "name": "stderr",
     "output_type": "stream",
     "text": [
      "C:\\ProgramData\\Anaconda3\\lib\\site-packages\\sklearn\\model_selection\\_search.py:918: UserWarning: One or more of the test scores are non-finite: [0.76956019        nan 0.7474977 ]\n",
      "  warnings.warn(\n"
     ]
    },
    {
     "data": {
      "text/plain": [
       "GridSearchCV(cv=5,\n",
       "             estimator=Pipeline(steps=[('scaler', StandardScaler()),\n",
       "                                       ('model', SVC())]),\n",
       "             n_jobs=12,\n",
       "             param_grid=[{'model__kernel': ['rbf', 'polynomial', 'sigmoid']}],\n",
       "             verbose=True)"
      ]
     },
     "execution_count": 36,
     "metadata": {},
     "output_type": "execute_result"
    }
   ],
   "source": [
    "# GriGridSearchCV를 활용해 적합한 모델 kernel 찾기\n",
    "from sklearn.pipeline import make_pipeline, Pipeline\n",
    "pipe = Pipeline([('scaler', StandardScaler()),\n",
    "                 ('model', SVC(kernel='rbf'))])\n",
    "\n",
    "param_grid = [{'model__kernel' : ['rbf', 'polynomial', 'sigmoid']}]  ## 커널값을 비교해보자\n",
    "\n",
    "gs = GridSearchCV(\n",
    "    estimator=pipe,\n",
    "    param_grid=param_grid,\n",
    "    n_jobs=multiprocessing.cpu_count(),\n",
    "    cv =5,\n",
    "    verbose=True\n",
    ")\n",
    "\n",
    "gs.fit(X, y)"
   ]
  },
  {
   "cell_type": "code",
   "execution_count": 37,
   "id": "69479fa6",
   "metadata": {},
   "outputs": [
    {
     "data": {
      "text/plain": [
       "Pipeline(steps=[('scaler', StandardScaler()), ('model', SVC())])"
      ]
     },
     "execution_count": 37,
     "metadata": {},
     "output_type": "execute_result"
    }
   ],
   "source": [
    "gs.best_estimator_"
   ]
  },
  {
   "cell_type": "code",
   "execution_count": 38,
   "id": "0d9d89e6",
   "metadata": {},
   "outputs": [
    {
     "name": "stdout",
     "output_type": "stream",
     "text": [
      "Fitting 5 folds for each of 5 candidates, totalling 25 fits\n"
     ]
    },
    {
     "data": {
      "text/plain": [
       "GridSearchCV(cv=5,\n",
       "             estimator=Pipeline(steps=[('scaler', StandardScaler()),\n",
       "                                       ('model', SVC())]),\n",
       "             n_jobs=12,\n",
       "             param_grid=[{'model__gamma': ['scale', 'auto']},\n",
       "                         {'model__C': [1.0, 0.1, 0.01]}],\n",
       "             verbose=True)"
      ]
     },
     "execution_count": 38,
     "metadata": {},
     "output_type": "execute_result"
    }
   ],
   "source": [
    "# GriGridSearchCV를 활용해 나온 rbf를 활용해 최적의 파라미터 찾기\n",
    "pipe = Pipeline([('scaler', StandardScaler()),\n",
    "                 ('model', SVC(kernel='rbf'))])\n",
    "\n",
    "param_grid = [{'model__gamma' : ['scale', 'auto']},\n",
    "              {'model__C' : [1.0, 0.1, 0.01]}] \n",
    "\n",
    "gs = GridSearchCV(\n",
    "    estimator=pipe,\n",
    "    param_grid=param_grid,\n",
    "    n_jobs=multiprocessing.cpu_count(),\n",
    "    cv =5,\n",
    "    verbose=True\n",
    ")\n",
    "\n",
    "gs.fit(X, y)"
   ]
  },
  {
   "cell_type": "code",
   "execution_count": 39,
   "id": "f7e1a4de",
   "metadata": {},
   "outputs": [
    {
     "data": {
      "text/plain": [
       "Pipeline(steps=[('scaler', StandardScaler()), ('model', SVC())])"
      ]
     },
     "execution_count": 39,
     "metadata": {},
     "output_type": "execute_result"
    }
   ],
   "source": [
    "gs.best_estimator_"
   ]
  }
 ],
 "metadata": {
  "kernelspec": {
   "display_name": "Python 3",
   "language": "python",
   "name": "python3"
  },
  "language_info": {
   "codemirror_mode": {
    "name": "ipython",
    "version": 3
   },
   "file_extension": ".py",
   "mimetype": "text/x-python",
   "name": "python",
   "nbconvert_exporter": "python",
   "pygments_lexer": "ipython3",
   "version": "3.8.8"
  }
 },
 "nbformat": 4,
 "nbformat_minor": 5
}
