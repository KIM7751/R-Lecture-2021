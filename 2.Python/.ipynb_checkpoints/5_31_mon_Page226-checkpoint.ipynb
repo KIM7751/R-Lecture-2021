{
 "cells": [
  {
   "cell_type": "code",
   "execution_count": 7,
   "id": "36f6d6d9",
   "metadata": {},
   "outputs": [
    {
     "name": "stdout",
     "output_type": "stream",
     "text": [
      "mean 0    2.5\n",
      "dtype: float64\n",
      "median 0    2.5\n",
      "dtype: float64\n"
     ]
    }
   ],
   "source": [
    "# mean 과 median\n",
    "import pandas as pd\n",
    "data =  [1, 2, 3, 4]\n",
    "df1 = pd.DataFrame(data)\n",
    "print(\"mean\",df1.mean())\n",
    "print(\"median\",df1.median())"
   ]
  },
  {
   "cell_type": "code",
   "execution_count": 9,
   "id": "54b930ce",
   "metadata": {},
   "outputs": [
    {
     "name": "stdout",
     "output_type": "stream",
     "text": [
      "mean 0    12.0\n",
      "dtype: float64\n",
      "median 0    3.0\n",
      "dtype: float64\n"
     ]
    }
   ],
   "source": [
    "import pandas as pd\n",
    "data =  [1, 2, 3, 4, 50] # 끝에 숫자 하나만 극단적으로 벌려봤다. 평균 12, 중간값 3 위 숫자들을 잘 대표하는 값은 중간값임/ 평균의 함정!\n",
    "df1 = pd.DataFrame(data) # 단 median은 50이라는 값을 잘 반영하지 않음.\n",
    "print(\"mean\",df1.mean())\n",
    "print(\"median\",df1.median())"
   ]
  },
  {
   "cell_type": "code",
   "execution_count": 14,
   "id": "3836686c",
   "metadata": {},
   "outputs": [
    {
     "data": {
      "text/plain": [
       "[<matplotlib.lines.Line2D at 0x26f07423310>]"
      ]
     },
     "execution_count": 14,
     "metadata": {},
     "output_type": "execute_result"
    },
    {
     "data": {
      "image/png": "[encoded data removed]",
      "text/plain": [
       "<Figure size 360x360 with 1 Axes>"
      ]
     },
     "metadata": {
      "needs_background": "light"
     },
     "output_type": "display_data"
    }
   ],
   "source": [
    "# 공분산 E(XY) - E(X)*E(Y) / 차이 / 분산 E(X**2) - E(X**2) 현업에서의 대부분은 많이 사용\n",
    "import matplotlib.pyplot as plt\n",
    "plt.figure(figsize = (5,5))        # 좌우 비율 맞춰 줍시다.\n",
    "x = [8, 3, 6, 6, 9, 4, 3, 9, 3, 4]\n",
    "y = [6, 2, 4, 6, 10, 5, 1, 8, 4, 5]\n",
    "plt.plot(x, y, \"o\")                 # 비례관계가 있어보임 "
   ]
  },
  {
   "cell_type": "code",
   "execution_count": 18,
   "id": "a6ced556",
   "metadata": {},
   "outputs": [
    {
     "data": {
      "text/plain": [
       "array([[6.05555556, 5.61111111],\n",
       "       [5.61111111, 6.98888889]])"
      ]
     },
     "execution_count": 18,
     "metadata": {},
     "output_type": "execute_result"
    }
   ],
   "source": [
    "import numpy as np\n",
    "np.cov(x, y)"
   ]
  },
  {
   "cell_type": "code",
   "execution_count": 23,
   "id": "9603c55d",
   "metadata": {},
   "outputs": [
    {
     "data": {
      "text/plain": [
       "5.61111111111111"
      ]
     },
     "execution_count": 23,
     "metadata": {},
     "output_type": "execute_result"
    }
   ],
   "source": [
    "covar = np.cov(x,y)[0,1]\n",
    "covar"
   ]
  },
  {
   "cell_type": "code",
   "execution_count": 26,
   "id": "0a6c69ca",
   "metadata": {},
   "outputs": [
    {
     "data": {
      "text/plain": [
       "array([[9.16666667, 9.16666667],\n",
       "       [9.16666667, 9.16666667]])"
      ]
     },
     "execution_count": 26,
     "metadata": {},
     "output_type": "execute_result"
    },
    {
     "data": {
      "image/png": "[encoded data removed]",
      "text/plain": [
       "<Figure size 360x360 with 1 Axes>"
      ]
     },
     "metadata": {
      "needs_background": "light"
     },
     "output_type": "display_data"
    }
   ],
   "source": [
    "plt.figure(figsize = (5,5))       \n",
    "x = range(10)\n",
    "y = range(10)                # 상관관계가 뚜렷하다.\n",
    "plt.plot(x, y, \"o\")  \n",
    "np.cov(x, y)"
   ]
  },
  {
   "cell_type": "code",
   "execution_count": 30,
   "id": "6e836dfb",
   "metadata": {},
   "outputs": [
    {
     "data": {
      "text/plain": [
       "0.0014731754528156161"
      ]
     },
     "execution_count": 30,
     "metadata": {},
     "output_type": "execute_result"
    },
    {
     "data": {
      "image/png": "[encoded data removed]",
      "text/plain": [
       "<Figure size 360x360 with 1 Axes>"
      ]
     },
     "metadata": {
      "needs_background": "light"
     },
     "output_type": "display_data"
    }
   ],
   "source": [
    "plt.figure(figsize = (5,5))       \n",
    "x = np.random.random(20)\n",
    "y = np.random.random(20)  \n",
    "plt.plot(x, y, \"o\")      \n",
    "np.cov(x, y)\n",
    "covar = np.cov(x,y)[0,1]   # --> 상관관계 여부를 쉽게 알 수 있는 함수이다. 0에 가까울수록 상관관계가 없다.\n",
    "covar                      # 공분산값이 형편 없음."
   ]
  },
  {
   "cell_type": "code",
   "execution_count": 31,
   "id": "e2e35d6b",
   "metadata": {},
   "outputs": [],
   "source": [
    "import pandas_datareader.data as web"
   ]
  }
 ],
 "metadata": {
  "kernelspec": {
   "display_name": "Python 3",
   "language": "python",
   "name": "python3"
  },
  "language_info": {
   "codemirror_mode": {
    "name": "ipython",
    "version": 3
   },
   "file_extension": ".py",
   "mimetype": "text/x-python",
   "name": "python",
   "nbconvert_exporter": "python",
   "pygments_lexer": "ipython3",
   "version": "3.8.8"
  }
 },
 "nbformat": 4,
 "nbformat_minor": 5
}
