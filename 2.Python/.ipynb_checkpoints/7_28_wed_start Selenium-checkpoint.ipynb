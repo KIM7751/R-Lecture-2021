{
 "cells": [
  {
   "cell_type": "markdown",
   "id": "3663e28a",
   "metadata": {},
   "source": [
    "# Selenium\n",
    "- 크롬이 아닌 크로미움 드라이버를 사용할 것\n",
    "- 크롬은 사용자 편의 기능과 확장 기능등이 있음\n",
    "- 크로미움은 웹 브라우저 본연의 기능만을 가지고 있음\n",
    "- 브라우저를 조작, 컨트롤, 명령 할 수 있는 라이브러리"
   ]
  },
  {
   "cell_type": "markdown",
   "id": "4fdcd8b8",
   "metadata": {},
   "source": [
    "## Selenium 및 웹 드라이버 설치"
   ]
  },
  {
   "cell_type": "code",
   "execution_count": 25,
   "id": "79c22369",
   "metadata": {
    "scrolled": true
   },
   "outputs": [
    {
     "name": "stdout",
     "output_type": "stream",
     "text": [
      "Requirement already satisfied: Selenium in c:\\programdata\\anaconda3\\lib\\site-packages (3.141.0)\n",
      "Requirement already satisfied: urllib3 in c:\\programdata\\anaconda3\\lib\\site-packages (from Selenium) (1.26.4)\n"
     ]
    }
   ],
   "source": [
    "!pip install Selenium\n",
    "import sys"
   ]
  },
  {
   "cell_type": "markdown",
   "id": "5519f4b0",
   "metadata": {},
   "source": [
    "## 웹 드라이버 설정"
   ]
  },
  {
   "cell_type": "code",
   "execution_count": 30,
   "id": "04d27cf2",
   "metadata": {},
   "outputs": [],
   "source": [
    "from selenium import webdriver"
   ]
  },
  {
   "cell_type": "code",
   "execution_count": 31,
   "id": "e77b40de",
   "metadata": {},
   "outputs": [],
   "source": [
    "chrome_optinons = webdriver.ChromeOptions()\n",
    "chrome_optinons.add_argument('--headless')\n",
    "chrome_optinons.add_argument('--no-sandbox')\n",
    "chrome_optinons.add_argument('--disable-dev-shm-usage')"
   ]
  },
  {
   "cell_type": "markdown",
   "id": "3e19977b",
   "metadata": {},
   "source": [
    "## 웹 드라이버 객체 생성\n",
    "- 객체 생성시에 'chromedriver.exe'를 주피터 노트북 생성 경로와 일치 시켜야함"
   ]
  },
  {
   "cell_type": "code",
   "execution_count": 32,
   "id": "019ff2b0",
   "metadata": {},
   "outputs": [],
   "source": [
    "wd = webdriver.Chrome('chromedriver', options=chrome_optinons)"
   ]
  },
  {
   "cell_type": "markdown",
   "id": "3fe525f0",
   "metadata": {},
   "source": [
    "## Selenium 실행"
   ]
  },
  {
   "cell_type": "code",
   "execution_count": 34,
   "id": "e7bda961",
   "metadata": {},
   "outputs": [],
   "source": [
    "wd.get('http://suanlab.com/')"
   ]
  },
  {
   "cell_type": "code",
   "execution_count": 38,
   "id": "b56b72ef",
   "metadata": {
    "scrolled": true
   },
   "outputs": [
    {
     "data": {
      "text/plain": [
       "True"
      ]
     },
     "execution_count": 38,
     "metadata": {},
     "output_type": "execute_result"
    }
   ],
   "source": [
    "wd.get_screenshot_as_file('suanlab.png')"
   ]
  },
  {
   "cell_type": "markdown",
   "id": "6f7e799c",
   "metadata": {},
   "source": [
    "- 여러개를 불러오므로 'elements'로 설정\n",
    "- 반복문 설정\n",
    "- label로 받아오는데 출력을 할 때 현재 label은 web drive에 객체 값임\n",
    "- .text를 붙여 실질적인 텍스트 값 출력 가능\n",
    "- _by ~"
   ]
  },
  {
   "cell_type": "code",
   "execution_count": 41,
   "id": "26606307",
   "metadata": {
    "scrolled": false
   },
   "outputs": [
    {
     "name": "stdout",
     "output_type": "stream",
     "text": [
      "[2020-04-14] \"메타버스 시대가 오고 있다\"\n",
      "[2020-01-20] \"바이러스 연구부터 뷰티·배달 AI 결합한 비즈니스...\"\n",
      "[2020-10-07] \"이력서 작성·레시피 제공 다양하게 활용되는 GPT3\"\n",
      "[2020-05-20] \"인공지능의 보안 위협\"\n",
      "[2020-03-04] \"데이터 경제 시대\"\n",
      "[2019-12-25] \"마이데이터 시대의 도래 데이터 주권과 새로운 가치\"\n",
      "[2019-09-04] \"농업으로 들어간 인공지능\"\n",
      "[2019-08-07] \"AI시대 지배할 것인가 지배당하며 살 것인가\"\n"
     ]
    }
   ],
   "source": [
    "for label in wd.find_elements_by_tag_name('label'):\n",
    "    print(label.text)"
   ]
  },
  {
   "cell_type": "markdown",
   "id": "3676d97c",
   "metadata": {},
   "source": [
    "- 자주 쓰이는 용도로 css_selector를 볼 수 있음\n",
    "- 상위 'label'에서 copy -> copy select를 통해서 css_selector를 가져옴\n",
    "- 복사해 온 css_selector를 입력 시켜줌\n",
    "- 주의 할 점은 첫 번째에 해당하는 label만 선택해서 \n",
    "- #wrapper > section > div > div > div:nth-child(1) > div > div:nth-child(1) > label\n",
    "- #wrapper > section > div > div > div > div > div > label\n",
    "- 특정 부분을 선택하는 \":nth-child(1)\" 지워줌"
   ]
  },
  {
   "cell_type": "code",
   "execution_count": 44,
   "id": "9f770ef3",
   "metadata": {},
   "outputs": [
    {
     "name": "stdout",
     "output_type": "stream",
     "text": [
      "[2020-04-14] \"메타버스 시대가 오고 있다\"\n",
      "[2020-01-20] \"바이러스 연구부터 뷰티·배달 AI 결합한 비즈니스...\"\n",
      "[2020-10-07] \"이력서 작성·레시피 제공 다양하게 활용되는 GPT3\"\n",
      "[2020-05-20] \"인공지능의 보안 위협\"\n",
      "[2020-03-04] \"데이터 경제 시대\"\n",
      "[2019-12-25] \"마이데이터 시대의 도래 데이터 주권과 새로운 가치\"\n",
      "[2019-09-04] \"농업으로 들어간 인공지능\"\n",
      "[2019-08-07] \"AI시대 지배할 것인가 지배당하며 살 것인가\"\n"
     ]
    }
   ],
   "source": [
    "for label in wd.find_elements_by_css_selector('#wrapper > section > div > div > div > div > div > label'):\n",
    "    print(label.text)"
   ]
  },
  {
   "cell_type": "markdown",
   "id": "cf4ba573",
   "metadata": {},
   "source": [
    "- xpath 이용\n",
    "- 상위 'label'에서 copy -> copy xpath를 통해서 xpath를 가져옴\n",
    "- 첫 번째 지정 요소 제외"
   ]
  },
  {
   "cell_type": "code",
   "execution_count": 46,
   "id": "a7a48931",
   "metadata": {},
   "outputs": [
    {
     "name": "stdout",
     "output_type": "stream",
     "text": [
      "[2020-04-14] \"메타버스 시대가 오고 있다\"\n",
      "[2020-01-20] \"바이러스 연구부터 뷰티·배달 AI 결합한 비즈니스...\"\n",
      "[2020-10-07] \"이력서 작성·레시피 제공 다양하게 활용되는 GPT3\"\n",
      "[2020-05-20] \"인공지능의 보안 위협\"\n",
      "[2020-03-04] \"데이터 경제 시대\"\n",
      "[2019-12-25] \"마이데이터 시대의 도래 데이터 주권과 새로운 가치\"\n",
      "[2019-09-04] \"농업으로 들어간 인공지능\"\n",
      "[2019-08-07] \"AI시대 지배할 것인가 지배당하며 살 것인가\"\n"
     ]
    }
   ],
   "source": [
    "for label in wd.find_elements_by_xpath('//*[@id=\"wrapper\"]/section/div/div/div/div/div/label'):\n",
    "    print(label.text)"
   ]
  },
  {
   "cell_type": "markdown",
   "id": "1d8261b7",
   "metadata": {},
   "source": [
    "- class\n",
    "- 두 번 반복됨을 확인 가능 -> 클래스명이 중복되어 있기 때문\n",
    "- css_selector로 미리 지정을 해둔 뒤 진행하면 중복 없이 출력 가능"
   ]
  },
  {
   "cell_type": "code",
   "execution_count": 53,
   "id": "92d67cb0",
   "metadata": {},
   "outputs": [
    {
     "name": "stdout",
     "output_type": "stream",
     "text": [
      "[2020-04-14] \"메타버스 시대가 오고 있다\"\n",
      "[2020-01-20] \"바이러스 연구부터 뷰티·배달 AI 결합한 비즈니스...\"\n",
      "[2020-10-07] \"이력서 작성·레시피 제공 다양하게 활용되는 GPT3\"\n",
      "[2020-05-20] \"인공지능의 보안 위협\"\n",
      "[2020-03-04] \"데이터 경제 시대\"\n",
      "[2019-12-25] \"마이데이터 시대의 도래 데이터 주권과 새로운 가치\"\n",
      "[2019-09-04] \"농업으로 들어간 인공지능\"\n",
      "[2019-08-07] \"AI시대 지배할 것인가 지배당하며 살 것인가\"\n"
     ]
    }
   ],
   "source": [
    "toggle_class = wd.find_element_by_css_selector('#wrapper > section > div > div > div > div')\n",
    "for label in toggle_class.find_elements_by_class_name('toggle'):\n",
    "    print(label.text)\n",
    "    \n",
    "# for label in wd.find_elements_by_class_name('toggle'):\n",
    "#     print(label.text)"
   ]
  },
  {
   "cell_type": "markdown",
   "id": "5bdd33bf",
   "metadata": {},
   "source": [
    "- by_~ 상위 버전"
   ]
  },
  {
   "cell_type": "code",
   "execution_count": 55,
   "id": "f1d98f6a",
   "metadata": {},
   "outputs": [],
   "source": [
    "from selenium.webdriver.common.by import By"
   ]
  },
  {
   "cell_type": "code",
   "execution_count": 56,
   "id": "32db7a73",
   "metadata": {
    "scrolled": true
   },
   "outputs": [
    {
     "name": "stdout",
     "output_type": "stream",
     "text": [
      "[2020-04-14] \"메타버스 시대가 오고 있다\"\n",
      "[2020-01-20] \"바이러스 연구부터 뷰티·배달 AI 결합한 비즈니스...\"\n",
      "[2020-10-07] \"이력서 작성·레시피 제공 다양하게 활용되는 GPT3\"\n",
      "[2020-05-20] \"인공지능의 보안 위협\"\n",
      "[2020-03-04] \"데이터 경제 시대\"\n",
      "[2019-12-25] \"마이데이터 시대의 도래 데이터 주권과 새로운 가치\"\n",
      "[2019-09-04] \"농업으로 들어간 인공지능\"\n",
      "[2019-08-07] \"AI시대 지배할 것인가 지배당하며 살 것인가\"\n"
     ]
    }
   ],
   "source": [
    "for label in wd.find_elements(By.TAG_NAME,'label'):\n",
    "    print(label.text)"
   ]
  },
  {
   "cell_type": "code",
   "execution_count": 57,
   "id": "ed53c9de",
   "metadata": {
    "scrolled": true
   },
   "outputs": [
    {
     "name": "stdout",
     "output_type": "stream",
     "text": [
      "[2020-04-14] \"메타버스 시대가 오고 있다\"\n",
      "[2020-01-20] \"바이러스 연구부터 뷰티·배달 AI 결합한 비즈니스...\"\n",
      "[2020-10-07] \"이력서 작성·레시피 제공 다양하게 활용되는 GPT3\"\n",
      "[2020-05-20] \"인공지능의 보안 위협\"\n",
      "[2020-03-04] \"데이터 경제 시대\"\n",
      "[2019-12-25] \"마이데이터 시대의 도래 데이터 주권과 새로운 가치\"\n",
      "[2019-09-04] \"농업으로 들어간 인공지능\"\n",
      "[2019-08-07] \"AI시대 지배할 것인가 지배당하며 살 것인가\"\n"
     ]
    }
   ],
   "source": [
    "for label in wd.find_elements(By.CSS_SELECTOR,'#wrapper > section > div > div > div > div > div > label'):\n",
    "    print(label.text)"
   ]
  },
  {
   "cell_type": "markdown",
   "id": "44b35ed3",
   "metadata": {},
   "source": [
    "- 네이버 뉴스 스크래핑 해보기\n",
    "- 재밌다"
   ]
  },
  {
   "cell_type": "code",
   "execution_count": 58,
   "id": "5287eed2",
   "metadata": {},
   "outputs": [],
   "source": [
    "wd.get('https://news.naver.com/main/list.nhn?mode=LPOD&mid=sec&sid1=001&sid2=140&oid=001&isYeonhapFlash=Y')"
   ]
  },
  {
   "cell_type": "code",
   "execution_count": 60,
   "id": "51eaba3b",
   "metadata": {},
   "outputs": [
    {
     "name": "stdout",
     "output_type": "stream",
     "text": [
      "황선우, 자유형 100ｍ 아시아신기록 및 4위로 결승 진출연합뉴스2021.07.28 100+\n",
      "자유형 100ｍ 아시아신기록 황선우 \"전혀 예상치 못했어요\"연합뉴스2021.07.28 50+\n",
      "세계 1위 남자 사브르, 단체전 첫판서 이집트 격파…독일과 4강연합뉴스2021.07.28 10+\n",
      "배드민턴 혼합복식 서승재-채유정, 8강서 중국에 패배연합뉴스2021.07.28\n",
      "정영식, 세계 1위 판전둥 벽에 막혀 8강 탈락연합뉴스2021.07.28 30+\n"
     ]
    }
   ],
   "source": [
    "ul = wd.find_element_by_css_selector('#main_content > div.list_body.newsflash_body > div > dl > dd > ul')\n",
    "for li in ul.find_elements_by_tag_name('li'):\n",
    "    print(li.text)"
   ]
  },
  {
   "cell_type": "code",
   "execution_count": 61,
   "id": "84632b63",
   "metadata": {
    "scrolled": true
   },
   "outputs": [
    {
     "name": "stdout",
     "output_type": "stream",
     "text": [
      "황선우, 자유형 100ｍ 아시아신기록 및 4위로 결승 진출연합뉴스2021.07.28 100+\n",
      "자유형 100ｍ 아시아신기록 황선우 \"전혀 예상치 못했어요\"연합뉴스2021.07.28 50+\n",
      "세계 1위 남자 사브르, 단체전 첫판서 이집트 격파…독일과 4강연합뉴스2021.07.28 10+\n",
      "배드민턴 혼합복식 서승재-채유정, 8강서 중국에 패배연합뉴스2021.07.28\n",
      "정영식, 세계 1위 판전둥 벽에 막혀 8강 탈락연합뉴스2021.07.28 30+\n"
     ]
    }
   ],
   "source": [
    "for ul in wd.find_elements_by_css_selector('#main_content > div.list_body.newsflash_body > div > dl > dd > ul'):\n",
    "    print(ul.text)"
   ]
  },
  {
   "cell_type": "code",
   "execution_count": 63,
   "id": "84c4a5a6",
   "metadata": {},
   "outputs": [
    {
     "name": "stdout",
     "output_type": "stream",
     "text": [
      "황선우, 자유형 100ｍ 아시아신기록 및 4위로 결승 진출연합뉴스2021.07.28 100+\n",
      "자유형 100ｍ 아시아신기록 황선우 \"전혀 예상치 못했어요\"연합뉴스2021.07.28 50+\n",
      "세계 1위 남자 사브르, 단체전 첫판서 이집트 격파…독일과 4강연합뉴스2021.07.28 10+\n",
      "배드민턴 혼합복식 서승재-채유정, 8강서 중국에 패배연합뉴스2021.07.28\n",
      "정영식, 세계 1위 판전둥 벽에 막혀 8강 탈락연합뉴스2021.07.28 30+\n"
     ]
    }
   ],
   "source": [
    "for ul in wd.find_elements_by_xpath('//*[@id=\"main_content\"]/div[2]/div/dl/dd/ul'):\n",
    "    print(ul.text)"
   ]
  }
 ],
 "metadata": {
  "kernelspec": {
   "display_name": "Python 3",
   "language": "python",
   "name": "python3"
  },
  "language_info": {
   "codemirror_mode": {
    "name": "ipython",
    "version": 3
   },
   "file_extension": ".py",
   "mimetype": "text/x-python",
   "name": "python",
   "nbconvert_exporter": "python",
   "pygments_lexer": "ipython3",
   "version": "3.8.8"
  }
 },
 "nbformat": 4,
 "nbformat_minor": 5
}
