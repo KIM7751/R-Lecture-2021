{
 "cells": [
  {
   "cell_type": "markdown",
   "id": "93362b62",
   "metadata": {},
   "source": [
    "# Selenium 활용해 네이버 웹툰 스크래핑 하기\n",
    "- 탭으로 운영이 되고 있음\n",
    "- 클릭해서 바뀌는 부분을 가져오는 경우 beautysoup를 이용하기는 어려움"
   ]
  },
  {
   "cell_type": "code",
   "execution_count": 45,
   "id": "c613c2b0",
   "metadata": {},
   "outputs": [],
   "source": [
    "from selenium import webdriver\n",
    "chrome_options = webdriver.ChromeOptions()\n",
    "chrome_options.add_argument('--headless')\n",
    "chrome_options.add_argument('--no-sandbox')\n",
    "chrome_options.add_argument('--disable-dev-shm-usage')"
   ]
  },
  {
   "cell_type": "code",
   "execution_count": 46,
   "id": "e53b6a29",
   "metadata": {},
   "outputs": [],
   "source": [
    "wd = webdriver.Chrome('chromedriver', options=chrome_options )"
   ]
  },
  {
   "cell_type": "code",
   "execution_count": 47,
   "id": "ccef558c",
   "metadata": {},
   "outputs": [],
   "source": [
    "wd.get('https://comic.naver.com/index')"
   ]
  },
  {
   "cell_type": "code",
   "execution_count": 48,
   "id": "e5988462",
   "metadata": {
    "scrolled": true
   },
   "outputs": [
    {
     "name": "stdout",
     "output_type": "stream",
     "text": [
      "컷툰\n",
      "조조코믹스\n",
      "중독연구소\n",
      "히어로메이커\n",
      "결혼생활 그림일기\n",
      "내일\n",
      "AI가 세상을 지배한다면\n",
      "한지붕 새가족\n",
      "아빠는 N살\n",
      "골드 크로이츠 마법학교\n",
      "내 계절에 있어줘\n",
      "어둠의 일상툰\n",
      "기후위기인간\n",
      "꽃샘바람\n",
      "백일몽화원\n",
      "언젠가 몇 번이라도\n",
      "대표님은 나 아니면 안돼요\n",
      "대표님의 독점적 사랑\n",
      "판타지 여동생!\n",
      "아도나이\n",
      "사상최강[독점]\n",
      "마황의 귀환\n"
     ]
    }
   ],
   "source": [
    "for title in wd.find_elements_by_class_name('title'):\n",
    "    print(title.text)"
   ]
  },
  {
   "cell_type": "markdown",
   "id": "3fe99392",
   "metadata": {},
   "source": [
    "- 탭 부분을 누를 때 마다 따로 url이 있는 것이 아닌 최신화가 진행됨을 볼 수 있음\n",
    "- 탭 하나 하나를 스크래핑 하기에는 selenium이 적합"
   ]
  },
  {
   "cell_type": "code",
   "execution_count": 49,
   "id": "62b0a5f9",
   "metadata": {},
   "outputs": [],
   "source": [
    "genre_ul = wd.find_element_by_class_name('tab_gr')"
   ]
  },
  {
   "cell_type": "markdown",
   "id": "d85e563a",
   "metadata": {},
   "source": [
    "- 탭을 누르는 시간이 너무 빨라서 오류가 남\n",
    "- time 이용"
   ]
  },
  {
   "cell_type": "code",
   "execution_count": 50,
   "id": "48a00e30",
   "metadata": {},
   "outputs": [],
   "source": [
    "import time"
   ]
  },
  {
   "cell_type": "code",
   "execution_count": 52,
   "id": "7801522c",
   "metadata": {},
   "outputs": [
    {
     "name": "stdout",
     "output_type": "stream",
     "text": [
      "[ 에피소드 ]\n",
      "\t 모죠의 일지 - 모죠\n",
      "\t 수상한 비밀상담부 - 149\n",
      "\t 범이올시다! - 해\n",
      "\t 닥터앤닥터 육아일기 - 닥터베르\n",
      "\t 언덕 위의 제임스 - 쿠당탕\n",
      "\t 노곤하개 - 홍끼\n",
      "[ 옴니버스 ]\n",
      "\t 조조코믹스 - 이동건\n",
      "\t 중독연구소 - 김택기\n",
      "\t 히어로메이커 - 빤쓰\n",
      "\t 결혼생활 그림일기 - 은꼼지\n",
      "\t 내일 - 라마\n",
      "\t AI가 세상을 지배한다면 - POGO / HOOPA\n",
      "[ 스토리 ]\n",
      "\t 이츠마인 - 럭스\n",
      "\t 판타지 여동생! - 유누\n",
      "\t 일렉시드 - 손제호 / 제나\n",
      "\t 귀곡의 문 - 삼촌\n",
      "\t 고삼무쌍 - B급달궁 / 하마\n",
      "\t 아도나이 - 주동근\n",
      "[ 일상 ]\n",
      "\t 범이올시다! - 해\n",
      "\t 닥터앤닥터 육아일기 - 닥터베르\n",
      "\t 노곤하개 - 홍끼\n",
      "\t 윌유메리미 - 마인드C\n",
      "\t 지원이들 - 구리\n",
      "\t 수영만화일기 - 해오\n",
      "[ 개그 ]\n",
      "\t 모죠의 일지 - 모죠\n",
      "\t 언덕 위의 제임스 - 쿠당탕\n",
      "\t 나쁜사람 - 둠스\n",
      "\t 블랙홀과 3만원 - 김규삼 / 혜원\n",
      "\t 관종교장 - 좌승훈\n",
      "\t 오늘의 순정망화 - 손하기\n",
      "[ 판타지 ]\n",
      "\t 판타지 여동생! - 유누\n",
      "\t 천도 - 진작\n",
      "\t 해귀 - 알파A\n",
      "\t 사상최강 - 황규영 / 이단아\n",
      "\t 럭키언럭키 - 가천가\n",
      "\t 수요웹툰의 나강림 - 이경민 / 송준혁\n",
      "[ 액션 ]\n",
      "\t 일렉시드 - 손제호 / 제나\n",
      "\t 고삼무쌍 - B급달궁 / 하마\n",
      "\t 헬퍼 2 : 킬베로스 - 삭\n",
      "\t 튜토리얼 탑의 고인물 - 방구석김씨 / 루비\n",
      "\t 급식아빠 - 김재한\n",
      "\t 블랙 위도우 - 마크 웨이드 / 크리스 샘니\n",
      "[ 드라마 ]\n",
      "\t 귀곡의 문 - 삼촌\n",
      "\t 연놈 - 상하\n",
      "\t 얼굴천재 - 지에이\n",
      "\t 구주 - 준치 / 조9\n",
      "\t 시효완성 - 삼바, 미스터리 / 담\n",
      "\t 여주실격! - 기맹기\n",
      "[ 순정 ]\n",
      "\t 원수를 사랑하라 - 정윤 / 태건\n",
      "\t 뱀은 꽃을 먹는가 - 소나음\n",
      "\t 신선비 - 이서현\n",
      "\t 반귀 - 세정\n",
      "\t 오징어도 사랑이 되나요? - 젤리피쉬 / 문댄스\n",
      "\t 내 룸메이트는 마네킹 - 서이\n",
      "[ 감성 ]\n",
      "\t 연우의 순정 - 이솔\n",
      "\t 숲속의 담 - 다홍\n",
      "\t 드로잉 레시피 - 꼬모소이\n",
      "\t 안녕 나의 모모로 - 켄타\n",
      "\t 미스테리오소 - 송일곤 / 이제\n",
      "\t 우리는 요정! - 억수씨\n",
      "[ 스릴러 ]\n",
      "\t 이츠마인 - 럭스\n",
      "\t 수상한 비밀상담부 - 149\n",
      "\t 아도나이 - 주동근\n",
      "\t 기억흔적 - 브라보 장\n",
      "\t 방탈출 - 십박\n",
      "\t 악인 - 광탄토 / 마두르\n",
      "[ 시대극 ]\n",
      "\t 화산귀환 - 비가 / LICO\n",
      "\t 칼부림 - 고일권\n",
      "\t 삼국지톡 - 무적핑크 / 이리\n",
      "\t 사막에 핀 달 - 선지\n",
      "\t 몽홀 - 장태산\n",
      "\t 봉이 김선달 - 양우석,정하용 / 제피가루\n",
      "[ 스포츠 ]\n",
      "\t 빌드업 - 911\n",
      "\t 빅맨 - 하하영\n",
      "\t 윈드브레이커 - 조용석\n",
      "\t 군주 - 박산하\n",
      "\t 탑코너 - 윤성 / 라군\n",
      "\t 인피니티 - 2오\n"
     ]
    }
   ],
   "source": [
    "genre_list = genre_ul.find_elements_by_tag_name('a')\n",
    "\n",
    "for genre in genre_list:\n",
    "    genre.click()\n",
    "    time.sleep(1)\n",
    "    print(\"[\",genre.text,\"]\")\n",
    "    \n",
    "    genre_rec_list = wd.find_elements_by_class_name('genreRecomInfo2')\n",
    "    for genre_rec in genre_rec_list:\n",
    "        title_class = genre_rec.find_element_by_class_name('title')\n",
    "        title = title_class.find_element_by_tag_name('a').text\n",
    "        user = genre_rec.find_element_by_class_name('user').text\n",
    "        print(\"\\t\", title, \"-\", user)"
   ]
  },
  {
   "cell_type": "markdown",
   "id": "53ad408e",
   "metadata": {},
   "source": [
    "## 다음 웹툰 스크래핑 해보기"
   ]
  },
  {
   "cell_type": "code",
   "execution_count": 53,
   "id": "8a9decf2",
   "metadata": {},
   "outputs": [],
   "source": [
    "wd.get('http://webtoon.daum.net/#day=sun&tab=day')"
   ]
  },
  {
   "cell_type": "markdown",
   "id": "15b62db7",
   "metadata": {},
   "source": [
    "### 웹툰 일요일탭 웹툰 이름 추출하기"
   ]
  },
  {
   "cell_type": "code",
   "execution_count": 54,
   "id": "a7d9a22f",
   "metadata": {},
   "outputs": [
    {
     "name": "stdout",
     "output_type": "stream",
     "text": [
      "이상징후\n",
      "성인백의조각\n",
      "남의 사랑 이야기\n",
      "그 아해\n",
      "내 친구는 선녀보살\n",
      "남궁세가 소공자\n",
      "나 홀로 버그로 꿀빠는 플레이어\n",
      "씨방것들\n",
      "내일도 출근!\n",
      "대마법사의 딸\n",
      "슬프게도 이게 내 인생\n",
      "취향저격 그녀\n",
      "성인이토록 보통의\n",
      "퀴퀴한 일기\n",
      "주간소년열애사\n"
     ]
    }
   ],
   "source": [
    "for title in wd.find_elements_by_class_name('tit_wt'):\n",
    "    print(title.text)"
   ]
  },
  {
   "cell_type": "markdown",
   "id": "c63daec7",
   "metadata": {},
   "source": [
    "### 요일 탭 스크래핑"
   ]
  },
  {
   "cell_type": "code",
   "execution_count": 55,
   "id": "135fb2c7",
   "metadata": {},
   "outputs": [],
   "source": [
    "day_ul = wd.find_element_by_class_name('list_tab')"
   ]
  },
  {
   "cell_type": "code",
   "execution_count": 56,
   "id": "9f614265",
   "metadata": {},
   "outputs": [
    {
     "name": "stdout",
     "output_type": "stream",
     "text": [
      "[ 월 ]\n",
      "[ 화 ]\n",
      "[ 수 ]\n",
      "[ 목 ]\n",
      "[ 금 ]\n",
      "[ 토 ]\n",
      "[ 일 ]\n"
     ]
    }
   ],
   "source": [
    "day_list = day_ul.find_elements_by_tag_name('a')\n",
    "\n",
    "for day in day_list:\n",
    "    day.click()\n",
    "    # time.sleep(1)\n",
    "    print(\"[\", day.text, \"]\")"
   ]
  },
  {
   "cell_type": "code",
   "execution_count": 79,
   "id": "7134002c",
   "metadata": {
    "scrolled": false
   },
   "outputs": [
    {
     "name": "stdout",
     "output_type": "stream",
     "text": [
      "[ 월 ]\n",
      "\t 성인기숙사(死)\n",
      "\t 액괴\n",
      "\t 사랑하면 디져~트\n",
      "\t 그 책에 마음을 주지 마세요\n",
      "\t 학사재생\n",
      "\t 환율이 바뀌었나요?\n",
      "\t 봄날의 팔광\n",
      "\t 뱀파이어님의 대리식사\n",
      "\t 현세이의 보이는 라디오\n",
      "\t 강호표사\n",
      "\t 사귄 건 아닌데\n",
      "\t 쓰레기 머학생\n",
      "\t 아싸가 알아버렸다\n",
      "\t 바니와 오빠들\n",
      "\t 흑우\n",
      "\t 타원을 그리는 법\n",
      "\t 이대로 멈출 순 없다\n",
      "\t 그라티아\n",
      "\t 집행자여\n",
      "\t 일단 질러! 질렐루야\n",
      "\t 유부녀의 탄생\n",
      "\t 오무라이스 잼잼\n",
      "[ 화 ]\n",
      "\t 악한 기사\n",
      "\t 해피하우스\n",
      "\t 환상의 아이들\n",
      "\t 기프트\n",
      "\t 골드핸즈\n",
      "\t 개목걸이\n",
      "\t 대선비쇼에 어서오세요!\n",
      "\t 사랑하는 존재\n",
      "\t 비밀 사이\n",
      "\t 아싸클럽\n",
      "\t 뱀파이어 신드롬\n",
      "\t 화폐개혁\n",
      "\t 그녀의 앵무새\n",
      "\t 닥터 파인의 하루\n",
      "\t 성인단두 (斷頭)\n",
      "\t 신성한, 이혼\n",
      "\t 우리집이거든요!\n",
      "\t 아비무쌍\n",
      "\t 지옥사원\n",
      "\t 딩스뚱스\n",
      "[ 수 ]\n",
      "\t 천광명월\n",
      "\t 21’ LCK 서머 : Summer is Coming\n",
      "\t 소쩍이 운다\n",
      "\t 성인구원\n",
      "\t 방구석 여포\n",
      "\t 사랑하는 가족에게\n",
      "\t 수린당 -비늘 고치는 집-\n",
      "\t 미드나잇 블루\n",
      "\t 악녀의 탄생\n",
      "\t 저승사자 온라인\n",
      "\t 유부녀 킬러\n",
      "\t CELL\n",
      "\t 아버지의 복수는 끝이 없어라\n",
      "\t 노력의 卍(만)\n",
      "\t 죽어도! 치우\n",
      "\t 금수친구들\n",
      "\t 말하지 말까\n",
      "\t 하나하나둘\n",
      "\t 키스해주세요\n",
      "\t 우리가 사랑하는 방법\n",
      "\t 후크\n",
      "\t 쌍갑포차\n",
      "\t 블랙 베히모스\n",
      "[ 목 ]\n",
      "\t 관존 이강진\n",
      "\t 침묵의 정원\n",
      "\t 쑥\n",
      "\t 나를 지켜줘\n",
      "\t 백로식당\n",
      "\t 성인러브 스트리밍\n",
      "\t 함께 춤을\n",
      "\t 록산\n",
      "\t 논현동 장사꾼\n",
      "\t 중고거래\n",
      "\t 성인살어리랏다\n",
      "\t 스타의 학교생활\n",
      "\t 신의 태궁\n",
      "\t 재벌과의 인터뷰\n",
      "\t 샬롯에게는 다섯 명의 제자가 있다\n",
      "\t 저기요 손님\n",
      "\t 블랙윈터\n",
      "\t 프레너미\n",
      "\t 도깨비언덕에 왜 왔니?\n",
      "\t 뽀짜툰\n",
      "[ 금 ]\n",
      "\t 불합격인간\n",
      "\t 21’ LCK 서머 : Summer is Coming\n",
      "\t 플러스 마이너스 제로\n",
      "\t 신락도\n",
      "\t 날씨의 요정\n",
      "\t 성인크레센도\n",
      "\t 체벌교사\n",
      "\t 전생에 나라를 구한 자\n",
      "\t 지금은 연애를 쉽니다\n",
      "\t 우리가 헤어진 사이에\n",
      "\t 파륜아이\n",
      "\t 불러줘 내 이름만\n",
      "\t 성인미완결\n",
      "\t 열무와 알타리\n",
      "\t 닭은 의외로 위대하다\n",
      "\t 성인남남\n",
      "\t 너에게 투 혼(魂)!\n",
      "\t 나만 아는 사랑\n",
      "\t 키몽의 호구로운 생활\n",
      "\t 바리공주\n",
      "\t 성인헤븐 투 헬\n",
      "\t 소녀신선\n",
      "\t 퀴퀴한 일기\n",
      "[ 토 ]\n",
      "\t 백작가의 불청객들\n",
      "\t 감방에서 남자주인공을 만났습니다\n",
      "\t 성인쥐덫\n",
      "\t 선택은 하나\n",
      "\t 정의는 죽지 않는다\n",
      "\t 구슬의 주인\n",
      "\t 허약선생\n",
      "\t 우리반 숙경이\n",
      "\t 후궁공략\n",
      "\t 흔한 환생녀의 사정\n",
      "\t 오늘은 꼭 고백할 거야!\n",
      "\t 어린 (물고기 비늘)\n",
      "\t 너에게 가는 거리 2091km\n",
      "\t 이세계 전담반\n",
      "\t 너를 기다리는 날\n",
      "\t 순정 히포크라테스\n",
      "\t 할매\n",
      "\t 풍검\n",
      "\t 별똥별이 떨어지는 그 곳에서 기다려\n",
      "\t 주말 도미 시식회\n",
      "\t 성인이토록 보통의\n",
      "\t 반지하셋방\n",
      "\t 멀리서 보면 푸른 봄\n",
      "\t 천연 天緣\n",
      "[ 일 ]\n",
      "\t 이상징후\n",
      "\t 성인백의조각\n",
      "\t 남의 사랑 이야기\n",
      "\t 그 아해\n",
      "\t 내 친구는 선녀보살\n",
      "\t 남궁세가 소공자\n",
      "\t 나 홀로 버그로 꿀빠는 플레이어\n",
      "\t 씨방것들\n",
      "\t 내일도 출근!\n",
      "\t 대마법사의 딸\n",
      "\t 슬프게도 이게 내 인생\n",
      "\t 취향저격 그녀\n",
      "\t 성인이토록 보통의\n",
      "\t 퀴퀴한 일기\n",
      "\t 주간소년열애사\n"
     ]
    }
   ],
   "source": [
    "for day in day_list:\n",
    "    day.click()\n",
    "    print(\"[\", day.text, \"]\")\n",
    "    \n",
    "    title_list = wd.find_elements_by_class_name('tit_wt')\n",
    "    for title in title_list :       \n",
    "        print(\"\\t\", title.text)"
   ]
  },
  {
   "cell_type": "code",
   "execution_count": null,
   "id": "33910300",
   "metadata": {},
   "outputs": [],
   "source": []
  }
 ],
 "metadata": {
  "kernelspec": {
   "display_name": "Python 3",
   "language": "python",
   "name": "python3"
  },
  "language_info": {
   "codemirror_mode": {
    "name": "ipython",
    "version": 3
   },
   "file_extension": ".py",
   "mimetype": "text/x-python",
   "name": "python",
   "nbconvert_exporter": "python",
   "pygments_lexer": "ipython3",
   "version": "3.8.8"
  }
 },
 "nbformat": 4,
 "nbformat_minor": 5
}
